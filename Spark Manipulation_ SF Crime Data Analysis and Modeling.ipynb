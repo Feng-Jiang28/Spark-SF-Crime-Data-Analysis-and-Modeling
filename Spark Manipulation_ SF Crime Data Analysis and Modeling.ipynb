{
 "cells": [
  {
   "cell_type": "markdown",
   "metadata": {
    "application/vnd.databricks.v1+cell": {
     "cellMetadata": {},
     "inputWidgets": {},
     "nuid": "677e627b-c213-411a-abab-01cdc28ef438",
     "showTitle": false,
     "title": ""
    }
   },
   "source": [
    "# Spark Manipulation: SF Crime Data Analysis and Modeling"
   ]
  },
  {
   "cell_type": "markdown",
   "metadata": {
    "application/vnd.databricks.v1+cell": {
     "cellMetadata": {},
     "inputWidgets": {},
     "nuid": "ee5e8d1f-5d60-4eac-990b-e258f416d3fc",
     "showTitle": false,
     "title": ""
    }
   },
   "source": [
    "## Part 1: Import Package and Generate Spark Dataframe Object"
   ]
  },
  {
   "cell_type": "markdown",
   "metadata": {
    "application/vnd.databricks.v1+cell": {
     "cellMetadata": {},
     "inputWidgets": {},
     "nuid": "ce53e7e7-efb5-4798-be34-988872ee7769",
     "showTitle": false,
     "title": ""
    }
   },
   "source": [
    "### 1.1 Import Package"
   ]
  },
  {
   "cell_type": "code",
   "execution_count": 0,
   "metadata": {
    "application/vnd.databricks.v1+cell": {
     "cellMetadata": {},
     "inputWidgets": {},
     "nuid": "f0313ff7-e01d-4c79-b57a-ff2c3a7dacf3",
     "showTitle": false,
     "title": ""
    }
   },
   "outputs": [],
   "source": [
    "from csv import reader\n",
    "from pyspark.sql import Row \n",
    "from pyspark.sql import SparkSession\n",
    "from pyspark.sql.types import *\n",
    "import pandas as pd\n",
    "import numpy as np\n",
    "import seaborn as sb\n",
    "import matplotlib.pyplot as plt\n",
    "import warnings\n",
    "\n",
    "import os\n",
    "os.environ[\"PYSPARK_PYTHON\"] = \"python3\""
   ]
  },
  {
   "cell_type": "code",
   "execution_count": 0,
   "metadata": {
    "application/vnd.databricks.v1+cell": {
     "cellMetadata": {},
     "inputWidgets": {},
     "nuid": "402796a3-8bf6-42d1-88ac-f35f5fcb505b",
     "showTitle": false,
     "title": ""
    }
   },
   "outputs": [
    {
     "data": {
      "text/html": [
       "<style scoped>\n",
       "  .table-result-container {\n",
       "    max-height: 300px;\n",
       "    overflow: auto;\n",
       "  }\n",
       "  table, th, td {\n",
       "    border: 1px solid black;\n",
       "    border-collapse: collapse;\n",
       "  }\n",
       "  th, td {\n",
       "    padding: 5px;\n",
       "  }\n",
       "  th {\n",
       "    text-align: left;\n",
       "  }\n",
       "</style><div class='table-result-container'><table class='table-result'><thead style='background-color: white'><tr><th>path</th><th>name</th><th>size</th><th>modificationTime</th></tr></thead><tbody><tr><td>dbfs:/laioffer/spark_hw1/data/sf_03_18.csv</td><td>sf_03_18.csv</td><td>550945238</td><td>1675130352000</td></tr></tbody></table></div>"
      ]
     },
     "metadata": {
      "application/vnd.databricks.v1+output": {
       "addedWidgets": {},
       "aggData": [],
       "aggError": "",
       "aggOverflow": false,
       "aggSchema": [],
       "aggSeriesLimitReached": false,
       "aggType": "",
       "arguments": {},
       "columnCustomDisplayInfos": {},
       "data": [
        [
         "dbfs:/laioffer/spark_hw1/data/sf_03_18.csv",
         "sf_03_18.csv",
         550945238,
         1675130352000
        ]
       ],
       "datasetInfos": [],
       "dbfsResultPath": null,
       "isJsonSchema": true,
       "metadata": {},
       "overflow": false,
       "plotOptions": {
        "customPlotOptions": {},
        "displayType": "table",
        "pivotAggregation": null,
        "pivotColumns": null,
        "xColumns": null,
        "yColumns": null
       },
       "removedWidgets": [],
       "schema": [
        {
         "metadata": "{}",
         "name": "path",
         "type": "\"string\""
        },
        {
         "metadata": "{}",
         "name": "name",
         "type": "\"string\""
        },
        {
         "metadata": "{}",
         "name": "size",
         "type": "\"long\""
        },
        {
         "metadata": "{}",
         "name": "modificationTime",
         "type": "\"long\""
        }
       ],
       "type": "table"
      }
     },
     "output_type": "display_data"
    }
   ],
   "source": [
    "# Import data from SF goverment official website\n",
    "import urllib.request\n",
    "urllib.request.urlretrieve(\"https://data.sfgov.org/api/views/tmnf-yvry/rows.csv?accessType=DOWNLOAD\", \"/tmp/myxxxx.csv\") \n",
    "dbutils.fs.mv(\"file:/tmp/myxxxx.csv\", \"dbfs:/laioffer/spark_hw1/data/sf_03_18.csv\") \n",
    "display(dbutils.fs.ls(\"dbfs:/laioffer/spark_hw1/data/\"))"
   ]
  },
  {
   "cell_type": "code",
   "execution_count": 0,
   "metadata": {
    "application/vnd.databricks.v1+cell": {
     "cellMetadata": {},
     "inputWidgets": {},
     "nuid": "1106c4f4-c545-4c3c-8efd-c8cfc577488a",
     "showTitle": false,
     "title": ""
    }
   },
   "outputs": [],
   "source": [
    "data_path = \"dbfs:/laioffer/spark_hw1/data/sf_03_18.csv\"\n",
    "# use this file name later"
   ]
  },
  {
   "cell_type": "markdown",
   "metadata": {
    "application/vnd.databricks.v1+cell": {
     "cellMetadata": {},
     "inputWidgets": {},
     "nuid": "99a61e21-dd95-4db2-85ca-b07c89595192",
     "showTitle": false,
     "title": ""
    }
   },
   "source": [
    "### 1.2 Generate Spark Object"
   ]
  },
  {
   "cell_type": "code",
   "execution_count": 0,
   "metadata": {
    "application/vnd.databricks.v1+cell": {
     "cellMetadata": {},
     "inputWidgets": {},
     "nuid": "09d0e71c-272b-487c-b7cf-7bdb61fcf5eb",
     "showTitle": false,
     "title": "Get Spark dataframe and SQL"
    }
   },
   "outputs": [
    {
     "data": {
      "text/html": [
       "<div>\n",
       "<style scoped>\n",
       "    .dataframe tbody tr th:only-of-type {\n",
       "        vertical-align: middle;\n",
       "    }\n",
       "\n",
       "    .dataframe tbody tr th {\n",
       "        vertical-align: top;\n",
       "    }\n",
       "\n",
       "    .dataframe thead th {\n",
       "        text-align: right;\n",
       "    }\n",
       "</style>\n",
       "<table border=\"1\" class=\"dataframe\">\n",
       "  <thead>\n",
       "    <tr style=\"text-align: right;\">\n",
       "      <th></th>\n",
       "      <th>PdId</th>\n",
       "      <th>IncidntNum</th>\n",
       "      <th>Incident Code</th>\n",
       "      <th>Category</th>\n",
       "      <th>Descript</th>\n",
       "      <th>DayOfWeek</th>\n",
       "      <th>Date</th>\n",
       "      <th>Time</th>\n",
       "      <th>PdDistrict</th>\n",
       "      <th>Resolution</th>\n",
       "      <th>...</th>\n",
       "      <th>Fix It Zones as of 2017-11-06  2 2</th>\n",
       "      <th>DELETE - HSOC Zones 2 2</th>\n",
       "      <th>Fix It Zones as of 2018-02-07 2 2</th>\n",
       "      <th>CBD, BID and GBD Boundaries as of 2017 2 2</th>\n",
       "      <th>Areas of Vulnerability, 2016 2 2</th>\n",
       "      <th>Central Market/Tenderloin Boundary 2 2</th>\n",
       "      <th>Central Market/Tenderloin Boundary Polygon - Updated 2 2</th>\n",
       "      <th>HSOC Zones as of 2018-06-05 2 2</th>\n",
       "      <th>OWED Public Spaces 2 2</th>\n",
       "      <th>Neighborhoods 2</th>\n",
       "    </tr>\n",
       "  </thead>\n",
       "  <tbody>\n",
       "    <tr>\n",
       "      <th>0</th>\n",
       "      <td>4133422003074</td>\n",
       "      <td>041334220</td>\n",
       "      <td>03074</td>\n",
       "      <td>ROBBERY</td>\n",
       "      <td>ROBBERY, BODILY FORCE</td>\n",
       "      <td>Monday</td>\n",
       "      <td>11/22/2004</td>\n",
       "      <td>17:50</td>\n",
       "      <td>INGLESIDE</td>\n",
       "      <td>NONE</td>\n",
       "      <td>...</td>\n",
       "      <td>None</td>\n",
       "      <td>None</td>\n",
       "      <td>None</td>\n",
       "      <td>None</td>\n",
       "      <td>None</td>\n",
       "      <td>None</td>\n",
       "      <td>None</td>\n",
       "      <td>None</td>\n",
       "      <td>None</td>\n",
       "      <td>None</td>\n",
       "    </tr>\n",
       "    <tr>\n",
       "      <th>1</th>\n",
       "      <td>5118535807021</td>\n",
       "      <td>051185358</td>\n",
       "      <td>07021</td>\n",
       "      <td>VEHICLE THEFT</td>\n",
       "      <td>STOLEN AUTOMOBILE</td>\n",
       "      <td>Tuesday</td>\n",
       "      <td>10/18/2005</td>\n",
       "      <td>20:00</td>\n",
       "      <td>PARK</td>\n",
       "      <td>NONE</td>\n",
       "      <td>...</td>\n",
       "      <td>None</td>\n",
       "      <td>None</td>\n",
       "      <td>None</td>\n",
       "      <td>None</td>\n",
       "      <td>None</td>\n",
       "      <td>None</td>\n",
       "      <td>None</td>\n",
       "      <td>None</td>\n",
       "      <td>None</td>\n",
       "      <td>None</td>\n",
       "    </tr>\n",
       "    <tr>\n",
       "      <th>2</th>\n",
       "      <td>4018830907021</td>\n",
       "      <td>040188309</td>\n",
       "      <td>07021</td>\n",
       "      <td>VEHICLE THEFT</td>\n",
       "      <td>STOLEN AUTOMOBILE</td>\n",
       "      <td>Sunday</td>\n",
       "      <td>02/15/2004</td>\n",
       "      <td>02:00</td>\n",
       "      <td>SOUTHERN</td>\n",
       "      <td>NONE</td>\n",
       "      <td>...</td>\n",
       "      <td>None</td>\n",
       "      <td>None</td>\n",
       "      <td>None</td>\n",
       "      <td>None</td>\n",
       "      <td>None</td>\n",
       "      <td>None</td>\n",
       "      <td>None</td>\n",
       "      <td>None</td>\n",
       "      <td>None</td>\n",
       "      <td>None</td>\n",
       "    </tr>\n",
       "    <tr>\n",
       "      <th>3</th>\n",
       "      <td>11014543126030</td>\n",
       "      <td>110145431</td>\n",
       "      <td>26030</td>\n",
       "      <td>ARSON</td>\n",
       "      <td>ARSON</td>\n",
       "      <td>Friday</td>\n",
       "      <td>02/18/2011</td>\n",
       "      <td>05:27</td>\n",
       "      <td>INGLESIDE</td>\n",
       "      <td>NONE</td>\n",
       "      <td>...</td>\n",
       "      <td>None</td>\n",
       "      <td>None</td>\n",
       "      <td>None</td>\n",
       "      <td>None</td>\n",
       "      <td>1</td>\n",
       "      <td>None</td>\n",
       "      <td>None</td>\n",
       "      <td>None</td>\n",
       "      <td>None</td>\n",
       "      <td>94</td>\n",
       "    </tr>\n",
       "    <tr>\n",
       "      <th>4</th>\n",
       "      <td>10108108004134</td>\n",
       "      <td>101081080</td>\n",
       "      <td>04134</td>\n",
       "      <td>ASSAULT</td>\n",
       "      <td>BATTERY</td>\n",
       "      <td>Sunday</td>\n",
       "      <td>11/21/2010</td>\n",
       "      <td>17:00</td>\n",
       "      <td>SOUTHERN</td>\n",
       "      <td>NONE</td>\n",
       "      <td>...</td>\n",
       "      <td>None</td>\n",
       "      <td>None</td>\n",
       "      <td>None</td>\n",
       "      <td>None</td>\n",
       "      <td>2</td>\n",
       "      <td>None</td>\n",
       "      <td>None</td>\n",
       "      <td>None</td>\n",
       "      <td>None</td>\n",
       "      <td>32</td>\n",
       "    </tr>\n",
       "  </tbody>\n",
       "</table>\n",
       "<p>5 rows × 35 columns</p>\n",
       "</div>"
      ]
     },
     "metadata": {
      "application/vnd.databricks.v1+output": {
       "addedWidgets": {},
       "arguments": {},
       "data": "<div>\n<style scoped>\n    .dataframe tbody tr th:only-of-type {\n        vertical-align: middle;\n    }\n\n    .dataframe tbody tr th {\n        vertical-align: top;\n    }\n\n    .dataframe thead th {\n        text-align: right;\n    }\n</style>\n<table border=\"1\" class=\"dataframe\">\n  <thead>\n    <tr style=\"text-align: right;\">\n      <th></th>\n      <th>PdId</th>\n      <th>IncidntNum</th>\n      <th>Incident Code</th>\n      <th>Category</th>\n      <th>Descript</th>\n      <th>DayOfWeek</th>\n      <th>Date</th>\n      <th>Time</th>\n      <th>PdDistrict</th>\n      <th>Resolution</th>\n      <th>...</th>\n      <th>Fix It Zones as of 2017-11-06  2 2</th>\n      <th>DELETE - HSOC Zones 2 2</th>\n      <th>Fix It Zones as of 2018-02-07 2 2</th>\n      <th>CBD, BID and GBD Boundaries as of 2017 2 2</th>\n      <th>Areas of Vulnerability, 2016 2 2</th>\n      <th>Central Market/Tenderloin Boundary 2 2</th>\n      <th>Central Market/Tenderloin Boundary Polygon - Updated 2 2</th>\n      <th>HSOC Zones as of 2018-06-05 2 2</th>\n      <th>OWED Public Spaces 2 2</th>\n      <th>Neighborhoods 2</th>\n    </tr>\n  </thead>\n  <tbody>\n    <tr>\n      <th>0</th>\n      <td>4133422003074</td>\n      <td>041334220</td>\n      <td>03074</td>\n      <td>ROBBERY</td>\n      <td>ROBBERY, BODILY FORCE</td>\n      <td>Monday</td>\n      <td>11/22/2004</td>\n      <td>17:50</td>\n      <td>INGLESIDE</td>\n      <td>NONE</td>\n      <td>...</td>\n      <td>None</td>\n      <td>None</td>\n      <td>None</td>\n      <td>None</td>\n      <td>None</td>\n      <td>None</td>\n      <td>None</td>\n      <td>None</td>\n      <td>None</td>\n      <td>None</td>\n    </tr>\n    <tr>\n      <th>1</th>\n      <td>5118535807021</td>\n      <td>051185358</td>\n      <td>07021</td>\n      <td>VEHICLE THEFT</td>\n      <td>STOLEN AUTOMOBILE</td>\n      <td>Tuesday</td>\n      <td>10/18/2005</td>\n      <td>20:00</td>\n      <td>PARK</td>\n      <td>NONE</td>\n      <td>...</td>\n      <td>None</td>\n      <td>None</td>\n      <td>None</td>\n      <td>None</td>\n      <td>None</td>\n      <td>None</td>\n      <td>None</td>\n      <td>None</td>\n      <td>None</td>\n      <td>None</td>\n    </tr>\n    <tr>\n      <th>2</th>\n      <td>4018830907021</td>\n      <td>040188309</td>\n      <td>07021</td>\n      <td>VEHICLE THEFT</td>\n      <td>STOLEN AUTOMOBILE</td>\n      <td>Sunday</td>\n      <td>02/15/2004</td>\n      <td>02:00</td>\n      <td>SOUTHERN</td>\n      <td>NONE</td>\n      <td>...</td>\n      <td>None</td>\n      <td>None</td>\n      <td>None</td>\n      <td>None</td>\n      <td>None</td>\n      <td>None</td>\n      <td>None</td>\n      <td>None</td>\n      <td>None</td>\n      <td>None</td>\n    </tr>\n    <tr>\n      <th>3</th>\n      <td>11014543126030</td>\n      <td>110145431</td>\n      <td>26030</td>\n      <td>ARSON</td>\n      <td>ARSON</td>\n      <td>Friday</td>\n      <td>02/18/2011</td>\n      <td>05:27</td>\n      <td>INGLESIDE</td>\n      <td>NONE</td>\n      <td>...</td>\n      <td>None</td>\n      <td>None</td>\n      <td>None</td>\n      <td>None</td>\n      <td>1</td>\n      <td>None</td>\n      <td>None</td>\n      <td>None</td>\n      <td>None</td>\n      <td>94</td>\n    </tr>\n    <tr>\n      <th>4</th>\n      <td>10108108004134</td>\n      <td>101081080</td>\n      <td>04134</td>\n      <td>ASSAULT</td>\n      <td>BATTERY</td>\n      <td>Sunday</td>\n      <td>11/21/2010</td>\n      <td>17:00</td>\n      <td>SOUTHERN</td>\n      <td>NONE</td>\n      <td>...</td>\n      <td>None</td>\n      <td>None</td>\n      <td>None</td>\n      <td>None</td>\n      <td>2</td>\n      <td>None</td>\n      <td>None</td>\n      <td>None</td>\n      <td>None</td>\n      <td>32</td>\n    </tr>\n  </tbody>\n</table>\n<p>5 rows × 35 columns</p>\n</div>",
       "datasetInfos": [],
       "metadata": {},
       "removedWidgets": [],
       "textData": null,
       "type": "htmlSandbox"
      }
     },
     "output_type": "display_data"
    }
   ],
   "source": [
    "from pyspark.sql import SparkSession\n",
    "\n",
    "# Generate Spark Object from CSV\n",
    "spark = SparkSession \\\n",
    "    .builder \\\n",
    "    .appName(\"crime analysis\") \\\n",
    "    .config(\"spark.some.config.option\", \"some-value\") \\\n",
    "    .getOrCreate()\n",
    "\n",
    "df_opt1 = spark.read.format(\"csv\").option(\"header\", \"true\").load(data_path)\n",
    "df_opt1.createOrReplaceTempView(\"sf_crime\")  \n",
    "\n",
    "df_opt1_pd = df_opt1.limit(5)\n",
    "df_opt1_pd = df_opt1_pd.toPandas()\n",
    "df_opt1_pd.head(10)\n",
    "# display(df_opt1)"
   ]
  },
  {
   "cell_type": "markdown",
   "metadata": {
    "application/vnd.databricks.v1+cell": {
     "cellMetadata": {},
     "inputWidgets": {},
     "nuid": "0c7cb870-40ef-4bf8-8f26-e397e3edcea1",
     "showTitle": false,
     "title": ""
    }
   },
   "source": [
    "### 1.3 Basic Data Cleaning"
   ]
  },
  {
   "cell_type": "code",
   "execution_count": 0,
   "metadata": {
    "application/vnd.databricks.v1+cell": {
     "cellMetadata": {},
     "inputWidgets": {},
     "nuid": "4092ab41-ddd9-4c18-ba82-06f81a07486d",
     "showTitle": false,
     "title": ""
    }
   },
   "outputs": [
    {
     "data": {
      "text/html": [
       "<div>\n",
       "<style scoped>\n",
       "    .dataframe tbody tr th:only-of-type {\n",
       "        vertical-align: middle;\n",
       "    }\n",
       "\n",
       "    .dataframe tbody tr th {\n",
       "        vertical-align: top;\n",
       "    }\n",
       "\n",
       "    .dataframe thead th {\n",
       "        text-align: right;\n",
       "    }\n",
       "</style>\n",
       "<table border=\"1\" class=\"dataframe\">\n",
       "  <thead>\n",
       "    <tr style=\"text-align: right;\">\n",
       "      <th></th>\n",
       "      <th>PdId</th>\n",
       "      <th>IncidntNum</th>\n",
       "      <th>Incident Code</th>\n",
       "      <th>Category</th>\n",
       "      <th>Descript</th>\n",
       "      <th>DayOfWeek</th>\n",
       "      <th>Date</th>\n",
       "      <th>Time</th>\n",
       "      <th>PdDistrict</th>\n",
       "      <th>Resolution</th>\n",
       "      <th>...</th>\n",
       "      <th>Fix It Zones as of 2018-02-07 2 2</th>\n",
       "      <th>CBD, BID and GBD Boundaries as of 2017 2 2</th>\n",
       "      <th>Areas of Vulnerability, 2016 2 2</th>\n",
       "      <th>Central Market/Tenderloin Boundary 2 2</th>\n",
       "      <th>Central Market/Tenderloin Boundary Polygon - Updated 2 2</th>\n",
       "      <th>HSOC Zones as of 2018-06-05 2 2</th>\n",
       "      <th>OWED Public Spaces 2 2</th>\n",
       "      <th>Neighborhoods 2</th>\n",
       "      <th>Month</th>\n",
       "      <th>Year</th>\n",
       "    </tr>\n",
       "  </thead>\n",
       "  <tbody>\n",
       "    <tr>\n",
       "      <th>0</th>\n",
       "      <td>4133422003074</td>\n",
       "      <td>041334220</td>\n",
       "      <td>03074</td>\n",
       "      <td>ROBBERY</td>\n",
       "      <td>ROBBERY, BODILY FORCE</td>\n",
       "      <td>Monday</td>\n",
       "      <td>2004-11-22</td>\n",
       "      <td>17:50</td>\n",
       "      <td>INGLESIDE</td>\n",
       "      <td>NONE</td>\n",
       "      <td>...</td>\n",
       "      <td>None</td>\n",
       "      <td>None</td>\n",
       "      <td>None</td>\n",
       "      <td>None</td>\n",
       "      <td>None</td>\n",
       "      <td>None</td>\n",
       "      <td>None</td>\n",
       "      <td>None</td>\n",
       "      <td>11</td>\n",
       "      <td>2004</td>\n",
       "    </tr>\n",
       "    <tr>\n",
       "      <th>1</th>\n",
       "      <td>5118535807021</td>\n",
       "      <td>051185358</td>\n",
       "      <td>07021</td>\n",
       "      <td>VEHICLE THEFT</td>\n",
       "      <td>STOLEN AUTOMOBILE</td>\n",
       "      <td>Tuesday</td>\n",
       "      <td>2005-10-18</td>\n",
       "      <td>20:00</td>\n",
       "      <td>PARK</td>\n",
       "      <td>NONE</td>\n",
       "      <td>...</td>\n",
       "      <td>None</td>\n",
       "      <td>None</td>\n",
       "      <td>None</td>\n",
       "      <td>None</td>\n",
       "      <td>None</td>\n",
       "      <td>None</td>\n",
       "      <td>None</td>\n",
       "      <td>None</td>\n",
       "      <td>10</td>\n",
       "      <td>2005</td>\n",
       "    </tr>\n",
       "    <tr>\n",
       "      <th>2</th>\n",
       "      <td>4018830907021</td>\n",
       "      <td>040188309</td>\n",
       "      <td>07021</td>\n",
       "      <td>VEHICLE THEFT</td>\n",
       "      <td>STOLEN AUTOMOBILE</td>\n",
       "      <td>Sunday</td>\n",
       "      <td>2004-02-15</td>\n",
       "      <td>02:00</td>\n",
       "      <td>SOUTHERN</td>\n",
       "      <td>NONE</td>\n",
       "      <td>...</td>\n",
       "      <td>None</td>\n",
       "      <td>None</td>\n",
       "      <td>None</td>\n",
       "      <td>None</td>\n",
       "      <td>None</td>\n",
       "      <td>None</td>\n",
       "      <td>None</td>\n",
       "      <td>None</td>\n",
       "      <td>2</td>\n",
       "      <td>2004</td>\n",
       "    </tr>\n",
       "    <tr>\n",
       "      <th>3</th>\n",
       "      <td>11014543126030</td>\n",
       "      <td>110145431</td>\n",
       "      <td>26030</td>\n",
       "      <td>ARSON</td>\n",
       "      <td>ARSON</td>\n",
       "      <td>Friday</td>\n",
       "      <td>2011-02-18</td>\n",
       "      <td>05:27</td>\n",
       "      <td>INGLESIDE</td>\n",
       "      <td>NONE</td>\n",
       "      <td>...</td>\n",
       "      <td>None</td>\n",
       "      <td>None</td>\n",
       "      <td>1</td>\n",
       "      <td>None</td>\n",
       "      <td>None</td>\n",
       "      <td>None</td>\n",
       "      <td>None</td>\n",
       "      <td>94</td>\n",
       "      <td>2</td>\n",
       "      <td>2011</td>\n",
       "    </tr>\n",
       "    <tr>\n",
       "      <th>4</th>\n",
       "      <td>10108108004134</td>\n",
       "      <td>101081080</td>\n",
       "      <td>04134</td>\n",
       "      <td>ASSAULT</td>\n",
       "      <td>BATTERY</td>\n",
       "      <td>Sunday</td>\n",
       "      <td>2010-11-21</td>\n",
       "      <td>17:00</td>\n",
       "      <td>SOUTHERN</td>\n",
       "      <td>NONE</td>\n",
       "      <td>...</td>\n",
       "      <td>None</td>\n",
       "      <td>None</td>\n",
       "      <td>2</td>\n",
       "      <td>None</td>\n",
       "      <td>None</td>\n",
       "      <td>None</td>\n",
       "      <td>None</td>\n",
       "      <td>32</td>\n",
       "      <td>11</td>\n",
       "      <td>2010</td>\n",
       "    </tr>\n",
       "  </tbody>\n",
       "</table>\n",
       "<p>5 rows × 37 columns</p>\n",
       "</div>"
      ]
     },
     "metadata": {
      "application/vnd.databricks.v1+output": {
       "addedWidgets": {},
       "arguments": {},
       "data": "<div>\n<style scoped>\n    .dataframe tbody tr th:only-of-type {\n        vertical-align: middle;\n    }\n\n    .dataframe tbody tr th {\n        vertical-align: top;\n    }\n\n    .dataframe thead th {\n        text-align: right;\n    }\n</style>\n<table border=\"1\" class=\"dataframe\">\n  <thead>\n    <tr style=\"text-align: right;\">\n      <th></th>\n      <th>PdId</th>\n      <th>IncidntNum</th>\n      <th>Incident Code</th>\n      <th>Category</th>\n      <th>Descript</th>\n      <th>DayOfWeek</th>\n      <th>Date</th>\n      <th>Time</th>\n      <th>PdDistrict</th>\n      <th>Resolution</th>\n      <th>...</th>\n      <th>Fix It Zones as of 2018-02-07 2 2</th>\n      <th>CBD, BID and GBD Boundaries as of 2017 2 2</th>\n      <th>Areas of Vulnerability, 2016 2 2</th>\n      <th>Central Market/Tenderloin Boundary 2 2</th>\n      <th>Central Market/Tenderloin Boundary Polygon - Updated 2 2</th>\n      <th>HSOC Zones as of 2018-06-05 2 2</th>\n      <th>OWED Public Spaces 2 2</th>\n      <th>Neighborhoods 2</th>\n      <th>Month</th>\n      <th>Year</th>\n    </tr>\n  </thead>\n  <tbody>\n    <tr>\n      <th>0</th>\n      <td>4133422003074</td>\n      <td>041334220</td>\n      <td>03074</td>\n      <td>ROBBERY</td>\n      <td>ROBBERY, BODILY FORCE</td>\n      <td>Monday</td>\n      <td>2004-11-22</td>\n      <td>17:50</td>\n      <td>INGLESIDE</td>\n      <td>NONE</td>\n      <td>...</td>\n      <td>None</td>\n      <td>None</td>\n      <td>None</td>\n      <td>None</td>\n      <td>None</td>\n      <td>None</td>\n      <td>None</td>\n      <td>None</td>\n      <td>11</td>\n      <td>2004</td>\n    </tr>\n    <tr>\n      <th>1</th>\n      <td>5118535807021</td>\n      <td>051185358</td>\n      <td>07021</td>\n      <td>VEHICLE THEFT</td>\n      <td>STOLEN AUTOMOBILE</td>\n      <td>Tuesday</td>\n      <td>2005-10-18</td>\n      <td>20:00</td>\n      <td>PARK</td>\n      <td>NONE</td>\n      <td>...</td>\n      <td>None</td>\n      <td>None</td>\n      <td>None</td>\n      <td>None</td>\n      <td>None</td>\n      <td>None</td>\n      <td>None</td>\n      <td>None</td>\n      <td>10</td>\n      <td>2005</td>\n    </tr>\n    <tr>\n      <th>2</th>\n      <td>4018830907021</td>\n      <td>040188309</td>\n      <td>07021</td>\n      <td>VEHICLE THEFT</td>\n      <td>STOLEN AUTOMOBILE</td>\n      <td>Sunday</td>\n      <td>2004-02-15</td>\n      <td>02:00</td>\n      <td>SOUTHERN</td>\n      <td>NONE</td>\n      <td>...</td>\n      <td>None</td>\n      <td>None</td>\n      <td>None</td>\n      <td>None</td>\n      <td>None</td>\n      <td>None</td>\n      <td>None</td>\n      <td>None</td>\n      <td>2</td>\n      <td>2004</td>\n    </tr>\n    <tr>\n      <th>3</th>\n      <td>11014543126030</td>\n      <td>110145431</td>\n      <td>26030</td>\n      <td>ARSON</td>\n      <td>ARSON</td>\n      <td>Friday</td>\n      <td>2011-02-18</td>\n      <td>05:27</td>\n      <td>INGLESIDE</td>\n      <td>NONE</td>\n      <td>...</td>\n      <td>None</td>\n      <td>None</td>\n      <td>1</td>\n      <td>None</td>\n      <td>None</td>\n      <td>None</td>\n      <td>None</td>\n      <td>94</td>\n      <td>2</td>\n      <td>2011</td>\n    </tr>\n    <tr>\n      <th>4</th>\n      <td>10108108004134</td>\n      <td>101081080</td>\n      <td>04134</td>\n      <td>ASSAULT</td>\n      <td>BATTERY</td>\n      <td>Sunday</td>\n      <td>2010-11-21</td>\n      <td>17:00</td>\n      <td>SOUTHERN</td>\n      <td>NONE</td>\n      <td>...</td>\n      <td>None</td>\n      <td>None</td>\n      <td>2</td>\n      <td>None</td>\n      <td>None</td>\n      <td>None</td>\n      <td>None</td>\n      <td>32</td>\n      <td>11</td>\n      <td>2010</td>\n    </tr>\n  </tbody>\n</table>\n<p>5 rows × 37 columns</p>\n</div>",
       "datasetInfos": [],
       "metadata": {},
       "removedWidgets": [],
       "textData": null,
       "type": "htmlSandbox"
      }
     },
     "output_type": "display_data"
    }
   ],
   "source": [
    "from pyspark.sql.functions import *\n",
    "##change datetype from string to Date/Month/Year\n",
    "\n",
    "df_opt1 = df_opt1.withColumn(\"Date\", to_date(col(\"Date\"), \"MM/dd/yyyy\")) \n",
    "df_opt1 = df_opt1.withColumn(\"Month\", month(df_opt1['Date'])) \n",
    "df_opt1 = df_opt1.withColumn(\"Year\", year(df_opt1['Date'])) \n",
    "\n",
    "\n",
    "df_opt1.createOrReplaceTempView(\"sf_crime\")\n",
    "\n",
    "\n",
    "df_opt1_pd = df_opt1.limit(5)\n",
    "df_opt1_pd = df_opt1_pd.toPandas()\n",
    "df_opt1_pd.head(10)\n",
    "#display(df_opt1)\n"
   ]
  },
  {
   "cell_type": "markdown",
   "metadata": {
    "application/vnd.databricks.v1+cell": {
     "cellMetadata": {},
     "inputWidgets": {},
     "nuid": "047ed752-5be0-4fd7-9d40-7358dfbe9342",
     "showTitle": false,
     "title": ""
    }
   },
   "source": [
    "## Part 2: Online Analytical Processing and Problems Solving"
   ]
  },
  {
   "cell_type": "markdown",
   "metadata": {
    "application/vnd.databricks.v1+cell": {
     "cellMetadata": {},
     "inputWidgets": {},
     "nuid": "5aa13af3-5912-4ac3-93e3-bba33d81df0b",
     "showTitle": false,
     "title": ""
    }
   },
   "source": [
    "### Q1 What are the counts of numbers of crimes for different category?"
   ]
  },
  {
   "cell_type": "code",
   "execution_count": 0,
   "metadata": {
    "application/vnd.databricks.v1+cell": {
     "cellMetadata": {},
     "inputWidgets": {},
     "nuid": "02eb4bb7-410e-4e34-9978-de58d2c99101",
     "showTitle": true,
     "title": "1.1 Spark dataframe based solution"
    }
   },
   "outputs": [
    {
     "data": {
      "text/plain": [
       "Out[80]: [Text(0, 0, 'LARCENY/THEFT'),\n",
       " Text(1, 0, 'OTHER OFFENSES'),\n",
       " Text(2, 0, 'NON-CRIMINAL'),\n",
       " Text(3, 0, 'ASSAULT'),\n",
       " Text(4, 0, 'VEHICLE THEFT'),\n",
       " Text(5, 0, 'DRUG/NARCOTIC'),\n",
       " Text(6, 0, 'VANDALISM'),\n",
       " Text(7, 0, 'WARRANTS'),\n",
       " Text(8, 0, 'BURGLARY'),\n",
       " Text(9, 0, 'SUSPICIOUS OCC'),\n",
       " Text(10, 0, 'ROBBERY'),\n",
       " Text(11, 0, 'MISSING PERSON'),\n",
       " Text(12, 0, 'FRAUD'),\n",
       " Text(13, 0, 'FORGERY/COUNTERFEITING'),\n",
       " Text(14, 0, 'SECONDARY CODES')]"
      ]
     },
     "metadata": {
      "application/vnd.databricks.v1+output": {
       "addedWidgets": {},
       "arguments": {},
       "data": "Out[80]: [Text(0, 0, 'LARCENY/THEFT'),\n Text(1, 0, 'OTHER OFFENSES'),\n Text(2, 0, 'NON-CRIMINAL'),\n Text(3, 0, 'ASSAULT'),\n Text(4, 0, 'VEHICLE THEFT'),\n Text(5, 0, 'DRUG/NARCOTIC'),\n Text(6, 0, 'VANDALISM'),\n Text(7, 0, 'WARRANTS'),\n Text(8, 0, 'BURGLARY'),\n Text(9, 0, 'SUSPICIOUS OCC'),\n Text(10, 0, 'ROBBERY'),\n Text(11, 0, 'MISSING PERSON'),\n Text(12, 0, 'FRAUD'),\n Text(13, 0, 'FORGERY/COUNTERFEITING'),\n Text(14, 0, 'SECONDARY CODES')]",
       "datasetInfos": [],
       "metadata": {},
       "name": null,
       "removedWidgets": [],
       "type": "ansi"
      }
     },
     "output_type": "display_data"
    },
    {
     "data": {
      "image/png": "[encoded data removed]"
     },
     "metadata": {
      "application/vnd.databricks.v1+output": {
       "addedWidgets": {},
       "arguments": {},
       "data": "data:image/png;base64,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\n",
       "datasetInfos": [],
       "metadata": {},
       "removedWidgets": [],
       "type": "image"
      }
     },
     "output_type": "display_data"
    }
   ],
   "source": [
    "q1_result = df_opt1.groupBy('category').count().orderBy('count', ascending=False)\n",
    "\n",
    "q1_result_pd = q1_result.limit(15).toPandas()\n",
    "\n",
    "q1_result_chart = sns.barplot(x='category', y = 'count', palette = 'BuGn_r', data = q1_result_pd)\n",
    "q1_result_chart.set_xticklabels(q1_result_chart.get_xticklabels(), rotation=45, horizontalalignment='right')\n",
    "#display(q1_result_pd)"
   ]
  },
  {
   "cell_type": "code",
   "execution_count": 0,
   "metadata": {
    "application/vnd.databricks.v1+cell": {
     "cellMetadata": {},
     "inputWidgets": {},
     "nuid": "5e0ac6f9-4e47-4a1c-9e8b-a3918609eef4",
     "showTitle": true,
     "title": "1.2 Spark SQL based solution"
    }
   },
   "outputs": [
    {
     "data": {
      "text/plain": [
       "Out[82]: <AxesSubplot:xlabel='category', ylabel='Count'>"
      ]
     },
     "metadata": {
      "application/vnd.databricks.v1+output": {
       "addedWidgets": {},
       "arguments": {},
       "data": "Out[82]: <AxesSubplot:xlabel='category', ylabel='Count'>",
       "datasetInfos": [],
       "metadata": {},
       "name": null,
       "removedWidgets": [],
       "type": "ansi"
      }
     },
     "output_type": "display_data"
    },
    {
     "data": {
      "image/png": "[encoded data removed]"
     },
     "metadata": {
      "application/vnd.databricks.v1+output": {
       "addedWidgets": {},
       "arguments": {},
       "data": "data:image/png;base64,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\n",
       "datasetInfos": [],
       "metadata": {},
       "removedWidgets": [],
       "type": "image"
      }
     },
     "output_type": "display_data"
    }
   ],
   "source": [
    "crimeCategory = spark.sql(\"SELECT  category, COUNT(*) AS Count FROM sf_crime GROUP BY category ORDER BY Count DESC\")\n",
    "\n",
    "crimeCategory_pd = crimeCategory.limit(10).toPandas()\n",
    "crimeCategory_chart = sns.barplot(x='category', y = 'Count', palette = 'BuGn_r', data = crimeCategory_pd)\n",
    "crimeCategory_chart.set_xticklabels(crimeCategory_chart.get_xticklabels(), rotation=45, horizontalalignment='right')\n",
    "crimeCategory_chart"
   ]
  },
  {
   "cell_type": "code",
   "execution_count": 0,
   "metadata": {
    "application/vnd.databricks.v1+cell": {
     "cellMetadata": {},
     "inputWidgets": {},
     "nuid": "a3f05b8c-1943-4828-8919-a1e350213ed8",
     "showTitle": true,
     "title": "1.3 Visualize Results"
    }
   },
   "outputs": [
    {
     "data": {
      "text/plain": [
       "Out[50]: [Text(0, 0, 'LARCENY/THEFT'),\n",
       " Text(1, 0, 'OTHER OFFENSES'),\n",
       " Text(2, 0, 'NON-CRIMINAL'),\n",
       " Text(3, 0, 'ASSAULT'),\n",
       " Text(4, 0, 'VEHICLE THEFT'),\n",
       " Text(5, 0, 'DRUG/NARCOTIC'),\n",
       " Text(6, 0, 'VANDALISM'),\n",
       " Text(7, 0, 'WARRANTS'),\n",
       " Text(8, 0, 'BURGLARY'),\n",
       " Text(9, 0, 'SUSPICIOUS OCC'),\n",
       " Text(10, 0, 'ROBBERY'),\n",
       " Text(11, 0, 'MISSING PERSON'),\n",
       " Text(12, 0, 'FRAUD'),\n",
       " Text(13, 0, 'FORGERY/COUNTERFEITING'),\n",
       " Text(14, 0, 'SECONDARY CODES'),\n",
       " Text(15, 0, 'WEAPON LAWS'),\n",
       " Text(16, 0, 'TRESPASS'),\n",
       " Text(17, 0, 'PROSTITUTION'),\n",
       " Text(18, 0, 'STOLEN PROPERTY'),\n",
       " Text(19, 0, 'DISORDERLY CONDUCT'),\n",
       " Text(20, 0, 'DRUNKENNESS'),\n",
       " Text(21, 0, 'SEX OFFENSES, FORCIBLE'),\n",
       " Text(22, 0, 'RECOVERED VEHICLE'),\n",
       " Text(23, 0, 'DRIVING UNDER THE INFLUENCE'),\n",
       " Text(24, 0, 'KIDNAPPING'),\n",
       " Text(25, 0, 'ARSON'),\n",
       " Text(26, 0, 'EMBEZZLEMENT'),\n",
       " Text(27, 0, 'LIQUOR LAWS'),\n",
       " Text(28, 0, 'LOITERING'),\n",
       " Text(29, 0, 'SUICIDE'),\n",
       " Text(30, 0, 'BAD CHECKS'),\n",
       " Text(31, 0, 'BRIBERY'),\n",
       " Text(32, 0, 'EXTORTION'),\n",
       " Text(33, 0, 'GAMBLING'),\n",
       " Text(34, 0, 'PORNOGRAPHY/OBSCENE MAT'),\n",
       " Text(35, 0, 'SEX OFFENSES, NON FORCIBLE'),\n",
       " Text(36, 0, 'TREA')]"
      ]
     },
     "metadata": {
      "application/vnd.databricks.v1+output": {
       "addedWidgets": {},
       "arguments": {},
       "data": "Out[50]: [Text(0, 0, 'LARCENY/THEFT'),\n Text(1, 0, 'OTHER OFFENSES'),\n Text(2, 0, 'NON-CRIMINAL'),\n Text(3, 0, 'ASSAULT'),\n Text(4, 0, 'VEHICLE THEFT'),\n Text(5, 0, 'DRUG/NARCOTIC'),\n Text(6, 0, 'VANDALISM'),\n Text(7, 0, 'WARRANTS'),\n Text(8, 0, 'BURGLARY'),\n Text(9, 0, 'SUSPICIOUS OCC'),\n Text(10, 0, 'ROBBERY'),\n Text(11, 0, 'MISSING PERSON'),\n Text(12, 0, 'FRAUD'),\n Text(13, 0, 'FORGERY/COUNTERFEITING'),\n Text(14, 0, 'SECONDARY CODES'),\n Text(15, 0, 'WEAPON LAWS'),\n Text(16, 0, 'TRESPASS'),\n Text(17, 0, 'PROSTITUTION'),\n Text(18, 0, 'STOLEN PROPERTY'),\n Text(19, 0, 'DISORDERLY CONDUCT'),\n Text(20, 0, 'DRUNKENNESS'),\n Text(21, 0, 'SEX OFFENSES, FORCIBLE'),\n Text(22, 0, 'RECOVERED VEHICLE'),\n Text(23, 0, 'DRIVING UNDER THE INFLUENCE'),\n Text(24, 0, 'KIDNAPPING'),\n Text(25, 0, 'ARSON'),\n Text(26, 0, 'EMBEZZLEMENT'),\n Text(27, 0, 'LIQUOR LAWS'),\n Text(28, 0, 'LOITERING'),\n Text(29, 0, 'SUICIDE'),\n Text(30, 0, 'BAD CHECKS'),\n Text(31, 0, 'BRIBERY'),\n Text(32, 0, 'EXTORTION'),\n Text(33, 0, 'GAMBLING'),\n Text(34, 0, 'PORNOGRAPHY/OBSCENE MAT'),\n Text(35, 0, 'SEX OFFENSES, NON FORCIBLE'),\n Text(36, 0, 'TREA')]",
       "datasetInfos": [],
       "metadata": {},
       "name": null,
       "removedWidgets": [],
       "type": "ansi"
      }
     },
     "output_type": "display_data"
    },
    {
     "data": {
      "image/png": "[encoded data removed]"
     },
     "metadata": {
      "application/vnd.databricks.v1+output": {
       "addedWidgets": {},
       "arguments": {},
       "data": "data:image/png;base64,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\n",
       "datasetInfos": [],
       "metadata": {},
       "removedWidgets": [],
       "type": "image"
      }
     },
     "output_type": "display_data"
    }
   ],
   "source": [
    "# important hints: \n",
    "## first step: spark df or sql to compute the statisitc result \n",
    "## second step: export your result to a pandas dataframe. \n",
    "\n",
    "import seaborn as sns\n",
    "fig_dims = (20,6)\n",
    "fig = plt.subplots(figsize=fig_dims)\n",
    "crimes_pd_df = crimeCategory.toPandas() \n",
    "chart = sns.barplot(x = 'category', y = 'Count', palette= 'BuGn_r',data = crimes_pd_df )\n",
    "chart.set_xticklabels(chart.get_xticklabels(), rotation=45, horizontalalignment='right')"
   ]
  },
  {
   "cell_type": "markdown",
   "metadata": {
    "application/vnd.databricks.v1+cell": {
     "cellMetadata": {},
     "inputWidgets": {},
     "nuid": "f89e8a68-53c8-48df-b0a3-2a1e4baf972a",
     "showTitle": true,
     "title": "1.4 Q1 Insight"
    }
   },
   "source": [
    "The top 3 categories with the highest number of counts are Larceny/theft, Other offenses, Non-Criminal.\n",
    "\n",
    "Gambling, pornography/obscene mat and trea are the three crime types with the least number of crime counts."
   ]
  },
  {
   "cell_type": "markdown",
   "metadata": {
    "application/vnd.databricks.v1+cell": {
     "cellMetadata": {},
     "inputWidgets": {},
     "nuid": "64136c47-7da2-455a-b1d9-4cd2b8177461",
     "showTitle": false,
     "title": ""
    }
   },
   "source": [
    "### Q2 Counts the number of crimes for different district, and visualize your results"
   ]
  },
  {
   "cell_type": "code",
   "execution_count": 0,
   "metadata": {
    "application/vnd.databricks.v1+cell": {
     "cellMetadata": {},
     "inputWidgets": {},
     "nuid": "44e01263-98e8-4549-8511-dbb96e2f9ccb",
     "showTitle": true,
     "title": "2.1 Spark SQL based solution"
    }
   },
   "outputs": [
    {
     "data": {
      "text/html": [
       "<style scoped>\n",
       "  .table-result-container {\n",
       "    max-height: 300px;\n",
       "    overflow: auto;\n",
       "  }\n",
       "  table, th, td {\n",
       "    border: 1px solid black;\n",
       "    border-collapse: collapse;\n",
       "  }\n",
       "  th, td {\n",
       "    padding: 5px;\n",
       "  }\n",
       "  th {\n",
       "    text-align: left;\n",
       "  }\n",
       "</style><div class='table-result-container'><table class='table-result'><thead style='background-color: white'><tr><th>PdDistrict</th><th>Counts</th></tr></thead><tbody><tr><td>SOUTHERN</td><td>390692</td></tr><tr><td>MISSION</td><td>288985</td></tr><tr><td>NORTHERN</td><td>266435</td></tr><tr><td>CENTRAL</td><td>221923</td></tr><tr><td>BAYVIEW</td><td>205480</td></tr><tr><td>TENDERLOIN</td><td>186954</td></tr><tr><td>INGLESIDE</td><td>181092</td></tr><tr><td>TARAVAL</td><td>155461</td></tr><tr><td>PARK</td><td>119698</td></tr><tr><td>RICHMOND</td><td>112804</td></tr><tr><td>NA</td><td>1</td></tr></tbody></table></div>"
      ]
     },
     "metadata": {
      "application/vnd.databricks.v1+output": {
       "addedWidgets": {},
       "aggData": [],
       "aggError": "",
       "aggOverflow": false,
       "aggSchema": [],
       "aggSeriesLimitReached": false,
       "aggType": "",
       "arguments": {},
       "columnCustomDisplayInfos": {},
       "data": [
        [
         "SOUTHERN",
         390692
        ],
        [
         "MISSION",
         288985
        ],
        [
         "NORTHERN",
         266435
        ],
        [
         "CENTRAL",
         221923
        ],
        [
         "BAYVIEW",
         205480
        ],
        [
         "TENDERLOIN",
         186954
        ],
        [
         "INGLESIDE",
         181092
        ],
        [
         "TARAVAL",
         155461
        ],
        [
         "PARK",
         119698
        ],
        [
         "RICHMOND",
         112804
        ],
        [
         "NA",
         1
        ]
       ],
       "datasetInfos": [],
       "dbfsResultPath": null,
       "isJsonSchema": true,
       "metadata": {},
       "overflow": false,
       "plotOptions": {
        "customPlotOptions": {
         "__migrate__": [
          {
           "key": "status",
           "value": "complete"
          },
          {
           "key": "origDisplayType",
           "value": "plotlyBar"
          }
         ],
         "plotlyBar": [
          {
           "key": "grouped",
           "value": true
          },
          {
           "key": "stacked",
           "value": false
          },
          {
           "key": "100_stacked",
           "value": false
          }
         ]
        },
        "displayType": "table",
        "pivotAggregation": null,
        "pivotColumns": null,
        "xColumns": null,
        "yColumns": null
       },
       "removedWidgets": [],
       "schema": [
        {
         "metadata": "{}",
         "name": "PdDistrict",
         "type": "\"string\""
        },
        {
         "metadata": "{}",
         "name": "Counts",
         "type": "\"long\""
        }
       ],
       "type": "table"
      }
     },
     "output_type": "display_data"
    },
    {
     "data": {
      "text/plain": [
       "Output can only be rendered in Databricks"
      ]
     },
     "metadata": {
      "application/vnd.databricks.v1.subcommand+json": {
       "bindings": {},
       "collapsed": false,
       "command": "# SQL Way\ncrimedistrict=spark.sql(\"select PdDistrict, count(*) as Counts from sf_crime group by PdDistrict order by Counts Desc\")\ndisplay(crimedistrict)\n\ncrimedistrict_pd = crimedistrict.limit(10).toPandas()\ncrimedistrict_chart = sns.barplot(x='category', y = 'Count', palette = 'BuGn_r', data = crimedistrict_pd)\ncrimedistrict_chart.set_xticklabels(crimedistrict_chart.get_xticklabels(), rotation=45, horizontalalignment='right')\ncrimeCategory_chart",
       "commandTitle": "Bar chart",
       "commandType": "auto",
       "commandVersion": 0,
       "commentThread": [],
       "commentsVisible": false,
       "contentSha256Hex": null,
       "customPlotOptions": {},
       "datasetPreviewNameToCmdIdMap": {},
       "diffDeletes": [],
       "diffInserts": [],
       "displayType": "plotlyBar",
       "error": null,
       "errorSummary": null,
       "errorTraceType": null,
       "finishTime": 0,
       "globalVars": {},
       "guid": "81d00fd4-ae0e-4fb3-9a98-e022e33c699a",
       "height": "387",
       "hideCommandCode": false,
       "hideCommandResult": false,
       "iPythonMetadata": null,
       "inputWidgets": {},
       "isLockedInExamMode": false,
       "latestUser": "a user",
       "latestUserId": null,
       "listResultMetadata": null,
       "metadata": {},
       "nuid": "c8bf54a1-304a-4d64-9cf7-d38745298ddd",
       "origId": 4373915032349140,
       "parentHierarchy": [
        "2bdb33d2-d167-465f-95e5-5577df332415"
       ],
       "pivotAggregation": null,
       "pivotColumns": null,
       "position": 1,
       "resultDbfsErrorMessage": null,
       "resultDbfsStatus": "INLINED_IN_TREE",
       "results": null,
       "showCommandTitle": false,
       "startTime": 0,
       "state": "input",
       "streamStates": {},
       "subcommandOptions": null,
       "submitTime": 0,
       "subtype": "tableResultSubCmd.visualization",
       "tableResultIndex": 0,
       "useConsistentColors": false,
       "version": "CommandV1",
       "width": "1125",
       "workflows": [],
       "xColumns": null,
       "yColumns": null
      }
     },
     "output_type": "display_data"
    },
    {
     "data": {
      "text/plain": [
       "Out[86]: <AxesSubplot:xlabel='category', ylabel='Count'>"
      ]
     },
     "metadata": {
      "application/vnd.databricks.v1+output": {
       "addedWidgets": {},
       "arguments": {},
       "data": "Out[86]: <AxesSubplot:xlabel='category', ylabel='Count'>",
       "datasetInfos": [],
       "metadata": {},
       "name": null,
       "removedWidgets": [],
       "type": "ansi"
      }
     },
     "output_type": "display_data"
    },
    {
     "data": {
      "image/png": "[encoded data removed]"
     },
     "metadata": {
      "application/vnd.databricks.v1+output": {
       "addedWidgets": {},
       "arguments": {},
       "data": "data:image/png;base64,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\n",
       "datasetInfos": [],
       "metadata": {},
       "removedWidgets": [],
       "type": "image"
      }
     },
     "output_type": "display_data"
    }
   ],
   "source": [
    "# SQL Way\n",
    "crimedistrict=spark.sql(\"select PdDistrict, count(*) as Counts from sf_crime group by PdDistrict order by Counts Desc\")\n",
    "\n",
    "crimedistrict_pd = crimedistrict.limit(10).toPandas()\n",
    "crimedistrict_chart = sns.barplot(x='PdDistrict', y = 'Counts', palette = 'BuGn_r', data = crimedistrict_pd)\n",
    "crimedistrict_chart.set_xticklabels(crimedistrict_chart.get_xticklabels(), rotation=45, horizontalalignment='right')\n",
    "crimeCategory_chart"
   ]
  },
  {
   "cell_type": "code",
   "execution_count": 0,
   "metadata": {
    "application/vnd.databricks.v1+cell": {
     "cellMetadata": {},
     "inputWidgets": {},
     "nuid": "c150af43-f360-4fde-b479-2c1d0efd517c",
     "showTitle": true,
     "title": "2.1 Spark Dataframe based solution"
    }
   },
   "outputs": [
    {
     "data": {
      "text/plain": [
       "Out[91]: <AxesSubplot:xlabel='category', ylabel='Count'>"
      ]
     },
     "metadata": {
      "application/vnd.databricks.v1+output": {
       "addedWidgets": {},
       "arguments": {},
       "data": "Out[91]: <AxesSubplot:xlabel='category', ylabel='Count'>",
       "datasetInfos": [],
       "metadata": {},
       "name": null,
       "removedWidgets": [],
       "type": "ansi"
      }
     },
     "output_type": "display_data"
    },
    {
     "data": {
      "image/png": "[encoded data removed]"
     },
     "metadata": {
      "application/vnd.databricks.v1+output": {
       "addedWidgets": {},
       "arguments": {},
       "data": "data:image/png;base64,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\n",
       "datasetInfos": [],
       "metadata": {},
       "removedWidgets": [],
       "type": "image"
      }
     },
     "output_type": "display_data"
    }
   ],
   "source": [
    "# DF way\n",
    "crimedistrict=df_opt1.groupBy('PdDistrict').count().orderBy('Count',ascending=False)\n",
    "\n",
    "crimedistrict_pd = crimedistrict.limit(10).toPandas()\n",
    "crimedistrict_chart = sns.barplot(x='PdDistrict', y = 'count', palette = 'BuGn_r', data = crimedistrict_pd)\n",
    "crimedistrict_chart.set_xticklabels(crimedistrict_chart.get_xticklabels(), rotation=45, horizontalalignment='right')\n",
    "crimeCategory_chart"
   ]
  },
  {
   "cell_type": "markdown",
   "metadata": {
    "application/vnd.databricks.v1+cell": {
     "cellMetadata": {},
     "inputWidgets": {},
     "nuid": "23ced4fd-67f2-4816-b72b-3e908aef27a9",
     "showTitle": false,
     "title": ""
    }
   },
   "source": [
    "### Q3 Count the number of crimes each \"Sunday\" at \"SF downtown\"\n",
    "\n",
    "SF downtown is defiend  via the range of spatial location. For example, you can use a rectangle to define the SF downtown, or you can define a cicle with center as well. Thus, you need to write your own UDF function to filter data which are located inside certain spatial range."
   ]
  },
  {
   "cell_type": "code",
   "execution_count": 0,
   "metadata": {
    "application/vnd.databricks.v1+cell": {
     "cellMetadata": {},
     "inputWidgets": {},
     "nuid": "24c90c69-e2ef-47a2-9919-f99f21bffd66",
     "showTitle": true,
     "title": "3.1 Spark SQL based solution"
    }
   },
   "outputs": [
    {
     "data": {
      "text/html": [
       "<style scoped>\n",
       "  .table-result-container {\n",
       "    max-height: 300px;\n",
       "    overflow: auto;\n",
       "  }\n",
       "  table, th, td {\n",
       "    border: 1px solid black;\n",
       "    border-collapse: collapse;\n",
       "  }\n",
       "  th, td {\n",
       "    padding: 5px;\n",
       "  }\n",
       "  th {\n",
       "    text-align: left;\n",
       "  }\n",
       "</style><div class='table-result-container'><table class='table-result'><thead style='background-color: white'><tr><th>Date</th><th>Counts</th></tr></thead><tbody><tr><td>2003-01-05</td><td>13</td></tr><tr><td>2003-01-12</td><td>20</td></tr><tr><td>2003-01-19</td><td>17</td></tr><tr><td>2003-01-26</td><td>13</td></tr><tr><td>2003-02-02</td><td>14</td></tr><tr><td>2003-02-09</td><td>22</td></tr><tr><td>2003-02-16</td><td>12</td></tr><tr><td>2003-02-23</td><td>14</td></tr><tr><td>2003-03-02</td><td>16</td></tr><tr><td>2003-03-09</td><td>8</td></tr><tr><td>2003-03-16</td><td>18</td></tr><tr><td>2003-03-23</td><td>9</td></tr><tr><td>2003-03-30</td><td>20</td></tr><tr><td>2003-04-06</td><td>8</td></tr><tr><td>2003-04-13</td><td>13</td></tr><tr><td>2003-04-20</td><td>13</td></tr><tr><td>2003-04-27</td><td>5</td></tr><tr><td>2003-05-04</td><td>9</td></tr><tr><td>2003-05-11</td><td>5</td></tr><tr><td>2003-05-18</td><td>16</td></tr><tr><td>2003-05-25</td><td>10</td></tr><tr><td>2003-06-01</td><td>11</td></tr><tr><td>2003-06-08</td><td>25</td></tr><tr><td>2003-06-15</td><td>6</td></tr><tr><td>2003-06-22</td><td>6</td></tr><tr><td>2003-06-29</td><td>16</td></tr><tr><td>2003-07-06</td><td>10</td></tr><tr><td>2003-07-13</td><td>17</td></tr><tr><td>2003-07-20</td><td>17</td></tr><tr><td>2003-07-27</td><td>8</td></tr><tr><td>2003-08-03</td><td>6</td></tr><tr><td>2003-08-10</td><td>5</td></tr><tr><td>2003-08-17</td><td>11</td></tr><tr><td>2003-08-24</td><td>10</td></tr><tr><td>2003-08-31</td><td>8</td></tr><tr><td>2003-09-07</td><td>13</td></tr><tr><td>2003-09-14</td><td>10</td></tr><tr><td>2003-09-21</td><td>10</td></tr><tr><td>2003-09-28</td><td>7</td></tr><tr><td>2003-10-05</td><td>14</td></tr><tr><td>2003-10-12</td><td>13</td></tr><tr><td>2003-10-19</td><td>11</td></tr><tr><td>2003-10-26</td><td>16</td></tr><tr><td>2003-11-02</td><td>17</td></tr><tr><td>2003-11-09</td><td>16</td></tr><tr><td>2003-11-16</td><td>10</td></tr><tr><td>2003-11-23</td><td>14</td></tr><tr><td>2003-11-30</td><td>6</td></tr><tr><td>2003-12-07</td><td>4</td></tr><tr><td>2003-12-14</td><td>10</td></tr><tr><td>2003-12-21</td><td>12</td></tr><tr><td>2003-12-28</td><td>11</td></tr><tr><td>2004-01-04</td><td>14</td></tr><tr><td>2004-01-11</td><td>15</td></tr><tr><td>2004-01-18</td><td>6</td></tr><tr><td>2004-01-25</td><td>22</td></tr><tr><td>2004-02-01</td><td>16</td></tr><tr><td>2004-02-08</td><td>20</td></tr><tr><td>2004-02-15</td><td>11</td></tr><tr><td>2004-02-22</td><td>18</td></tr><tr><td>2004-02-29</td><td>11</td></tr><tr><td>2004-03-07</td><td>16</td></tr><tr><td>2004-03-14</td><td>8</td></tr><tr><td>2004-03-21</td><td>8</td></tr><tr><td>2004-03-28</td><td>12</td></tr><tr><td>2004-04-04</td><td>13</td></tr><tr><td>2004-04-11</td><td>15</td></tr><tr><td>2004-04-18</td><td>10</td></tr><tr><td>2004-04-25</td><td>11</td></tr><tr><td>2004-05-02</td><td>12</td></tr><tr><td>2004-05-09</td><td>16</td></tr><tr><td>2004-05-16</td><td>22</td></tr><tr><td>2004-05-23</td><td>5</td></tr><tr><td>2004-05-30</td><td>15</td></tr><tr><td>2004-06-06</td><td>16</td></tr><tr><td>2004-06-13</td><td>10</td></tr><tr><td>2004-06-20</td><td>10</td></tr><tr><td>2004-06-27</td><td>11</td></tr><tr><td>2004-07-04</td><td>10</td></tr><tr><td>2004-07-11</td><td>11</td></tr><tr><td>2004-07-18</td><td>18</td></tr><tr><td>2004-07-25</td><td>11</td></tr><tr><td>2004-08-01</td><td>16</td></tr><tr><td>2004-08-08</td><td>13</td></tr><tr><td>2004-08-15</td><td>8</td></tr><tr><td>2004-08-22</td><td>12</td></tr><tr><td>2004-08-29</td><td>22</td></tr><tr><td>2004-09-05</td><td>15</td></tr><tr><td>2004-09-12</td><td>9</td></tr><tr><td>2004-09-19</td><td>21</td></tr><tr><td>2004-09-26</td><td>14</td></tr><tr><td>2004-10-03</td><td>13</td></tr><tr><td>2004-10-10</td><td>18</td></tr><tr><td>2004-10-17</td><td>15</td></tr><tr><td>2004-10-24</td><td>19</td></tr><tr><td>2004-10-31</td><td>31</td></tr><tr><td>2004-11-07</td><td>14</td></tr><tr><td>2004-11-14</td><td>18</td></tr><tr><td>2004-11-21</td><td>10</td></tr><tr><td>2004-11-28</td><td>8</td></tr><tr><td>2004-12-05</td><td>9</td></tr><tr><td>2004-12-12</td><td>10</td></tr><tr><td>2004-12-19</td><td>12</td></tr><tr><td>2004-12-26</td><td>7</td></tr><tr><td>2005-01-02</td><td>8</td></tr><tr><td>2005-01-09</td><td>16</td></tr><tr><td>2005-01-16</td><td>8</td></tr><tr><td>2005-01-23</td><td>10</td></tr><tr><td>2005-01-30</td><td>10</td></tr><tr><td>2005-02-06</td><td>10</td></tr><tr><td>2005-02-13</td><td>7</td></tr><tr><td>2005-02-20</td><td>14</td></tr><tr><td>2005-02-27</td><td>10</td></tr><tr><td>2005-03-06</td><td>14</td></tr><tr><td>2005-03-13</td><td>13</td></tr><tr><td>2005-03-20</td><td>8</td></tr><tr><td>2005-03-27</td><td>6</td></tr><tr><td>2005-04-03</td><td>18</td></tr><tr><td>2005-04-10</td><td>16</td></tr><tr><td>2005-04-17</td><td>4</td></tr><tr><td>2005-04-24</td><td>11</td></tr><tr><td>2005-05-01</td><td>11</td></tr><tr><td>2005-05-08</td><td>12</td></tr><tr><td>2005-05-15</td><td>7</td></tr><tr><td>2005-05-22</td><td>6</td></tr><tr><td>2005-05-29</td><td>10</td></tr><tr><td>2005-06-05</td><td>9</td></tr><tr><td>2005-06-12</td><td>10</td></tr><tr><td>2005-06-19</td><td>12</td></tr><tr><td>2005-06-26</td><td>18</td></tr><tr><td>2005-07-03</td><td>12</td></tr><tr><td>2005-07-10</td><td>14</td></tr><tr><td>2005-07-17</td><td>9</td></tr><tr><td>2005-07-24</td><td>13</td></tr><tr><td>2005-07-31</td><td>10</td></tr><tr><td>2005-08-07</td><td>10</td></tr><tr><td>2005-08-14</td><td>3</td></tr><tr><td>2005-08-21</td><td>11</td></tr><tr><td>2005-08-28</td><td>13</td></tr><tr><td>2005-09-04</td><td>9</td></tr><tr><td>2005-09-11</td><td>8</td></tr><tr><td>2005-09-18</td><td>5</td></tr><tr><td>2005-09-25</td><td>19</td></tr><tr><td>2005-10-02</td><td>16</td></tr><tr><td>2005-10-09</td><td>25</td></tr><tr><td>2005-10-16</td><td>7</td></tr><tr><td>2005-10-23</td><td>9</td></tr><tr><td>2005-10-30</td><td>9</td></tr><tr><td>2005-11-06</td><td>8</td></tr><tr><td>2005-11-13</td><td>11</td></tr><tr><td>2005-11-20</td><td>16</td></tr><tr><td>2005-11-27</td><td>13</td></tr><tr><td>2005-12-04</td><td>16</td></tr><tr><td>2005-12-11</td><td>6</td></tr><tr><td>2005-12-18</td><td>7</td></tr><tr><td>2005-12-25</td><td>15</td></tr><tr><td>2006-01-01</td><td>20</td></tr><tr><td>2006-01-08</td><td>14</td></tr><tr><td>2006-01-15</td><td>4</td></tr><tr><td>2006-01-22</td><td>11</td></tr><tr><td>2006-01-29</td><td>13</td></tr><tr><td>2006-02-05</td><td>11</td></tr><tr><td>2006-02-12</td><td>11</td></tr><tr><td>2006-02-19</td><td>20</td></tr><tr><td>2006-02-26</td><td>9</td></tr><tr><td>2006-03-05</td><td>7</td></tr><tr><td>2006-03-12</td><td>6</td></tr><tr><td>2006-03-19</td><td>13</td></tr><tr><td>2006-03-26</td><td>10</td></tr><tr><td>2006-04-02</td><td>16</td></tr><tr><td>2006-04-09</td><td>14</td></tr><tr><td>2006-04-16</td><td>7</td></tr><tr><td>2006-04-23</td><td>12</td></tr><tr><td>2006-04-30</td><td>12</td></tr><tr><td>2006-05-07</td><td>7</td></tr><tr><td>2006-05-14</td><td>14</td></tr><tr><td>2006-05-21</td><td>18</td></tr><tr><td>2006-05-28</td><td>13</td></tr><tr><td>2006-06-04</td><td>9</td></tr><tr><td>2006-06-11</td><td>9</td></tr><tr><td>2006-06-18</td><td>10</td></tr><tr><td>2006-06-25</td><td>18</td></tr><tr><td>2006-07-02</td><td>20</td></tr><tr><td>2006-07-09</td><td>12</td></tr><tr><td>2006-07-16</td><td>22</td></tr><tr><td>2006-07-23</td><td>15</td></tr><tr><td>2006-07-30</td><td>26</td></tr><tr><td>2006-08-06</td><td>6</td></tr><tr><td>2006-08-13</td><td>21</td></tr><tr><td>2006-08-20</td><td>16</td></tr><tr><td>2006-08-27</td><td>16</td></tr><tr><td>2006-09-03</td><td>8</td></tr><tr><td>2006-09-10</td><td>12</td></tr><tr><td>2006-09-17</td><td>7</td></tr><tr><td>2006-09-24</td><td>6</td></tr><tr><td>2006-10-01</td><td>19</td></tr><tr><td>2006-10-08</td><td>10</td></tr><tr><td>2006-10-15</td><td>8</td></tr><tr><td>2006-10-22</td><td>12</td></tr><tr><td>2006-10-29</td><td>9</td></tr><tr><td>2006-11-05</td><td>14</td></tr><tr><td>2006-11-12</td><td>16</td></tr><tr><td>2006-11-19</td><td>12</td></tr><tr><td>2006-11-26</td><td>9</td></tr><tr><td>2006-12-03</td><td>21</td></tr><tr><td>2006-12-10</td><td>14</td></tr><tr><td>2006-12-17</td><td>9</td></tr><tr><td>2006-12-24</td><td>5</td></tr><tr><td>2006-12-31</td><td>11</td></tr><tr><td>2007-01-07</td><td>19</td></tr><tr><td>2007-01-14</td><td>6</td></tr><tr><td>2007-01-21</td><td>7</td></tr><tr><td>2007-01-28</td><td>12</td></tr><tr><td>2007-02-04</td><td>6</td></tr><tr><td>2007-02-11</td><td>13</td></tr><tr><td>2007-02-18</td><td>16</td></tr><tr><td>2007-02-25</td><td>8</td></tr><tr><td>2007-03-04</td><td>6</td></tr><tr><td>2007-03-11</td><td>15</td></tr><tr><td>2007-03-18</td><td>5</td></tr><tr><td>2007-03-25</td><td>17</td></tr><tr><td>2007-04-01</td><td>18</td></tr><tr><td>2007-04-08</td><td>13</td></tr><tr><td>2007-04-15</td><td>13</td></tr><tr><td>2007-04-22</td><td>12</td></tr><tr><td>2007-04-29</td><td>18</td></tr><tr><td>2007-05-06</td><td>3</td></tr><tr><td>2007-05-13</td><td>5</td></tr><tr><td>2007-05-20</td><td>11</td></tr><tr><td>2007-05-27</td><td>12</td></tr><tr><td>2007-06-03</td><td>7</td></tr><tr><td>2007-06-10</td><td>12</td></tr><tr><td>2007-06-17</td><td>18</td></tr><tr><td>2007-06-24</td><td>28</td></tr><tr><td>2007-07-01</td><td>15</td></tr><tr><td>2007-07-08</td><td>12</td></tr><tr><td>2007-07-15</td><td>9</td></tr><tr><td>2007-07-22</td><td>8</td></tr><tr><td>2007-07-29</td><td>8</td></tr><tr><td>2007-08-05</td><td>8</td></tr><tr><td>2007-08-12</td><td>18</td></tr><tr><td>2007-08-19</td><td>8</td></tr><tr><td>2007-08-26</td><td>14</td></tr><tr><td>2007-09-02</td><td>9</td></tr><tr><td>2007-09-09</td><td>23</td></tr><tr><td>2007-09-16</td><td>16</td></tr><tr><td>2007-09-23</td><td>1</td></tr><tr><td>2007-09-30</td><td>7</td></tr><tr><td>2007-10-07</td><td>14</td></tr><tr><td>2007-10-14</td><td>11</td></tr><tr><td>2007-10-21</td><td>8</td></tr><tr><td>2007-10-28</td><td>18</td></tr><tr><td>2007-11-04</td><td>12</td></tr><tr><td>2007-11-11</td><td>14</td></tr><tr><td>2007-11-18</td><td>16</td></tr><tr><td>2007-11-25</td><td>11</td></tr><tr><td>2007-12-02</td><td>8</td></tr><tr><td>2007-12-09</td><td>11</td></tr><tr><td>2007-12-23</td><td>5</td></tr><tr><td>2007-12-30</td><td>12</td></tr><tr><td>2008-01-06</td><td>7</td></tr><tr><td>2008-01-13</td><td>10</td></tr><tr><td>2008-01-20</td><td>19</td></tr><tr><td>2008-01-27</td><td>6</td></tr><tr><td>2008-02-03</td><td>12</td></tr><tr><td>2008-02-10</td><td>9</td></tr><tr><td>2008-02-17</td><td>7</td></tr><tr><td>2008-02-24</td><td>8</td></tr><tr><td>2008-03-02</td><td>8</td></tr><tr><td>2008-03-09</td><td>10</td></tr><tr><td>2008-03-16</td><td>14</td></tr><tr><td>2008-03-23</td><td>16</td></tr><tr><td>2008-03-30</td><td>7</td></tr><tr><td>2008-04-06</td><td>8</td></tr><tr><td>2008-04-13</td><td>11</td></tr><tr><td>2008-04-20</td><td>14</td></tr><tr><td>2008-04-27</td><td>8</td></tr><tr><td>2008-05-04</td><td>19</td></tr><tr><td>2008-05-11</td><td>9</td></tr><tr><td>2008-05-18</td><td>10</td></tr><tr><td>2008-05-25</td><td>10</td></tr><tr><td>2008-06-01</td><td>23</td></tr><tr><td>2008-06-08</td><td>13</td></tr><tr><td>2008-06-15</td><td>20</td></tr><tr><td>2008-06-22</td><td>5</td></tr><tr><td>2008-06-29</td><td>13</td></tr><tr><td>2008-07-06</td><td>9</td></tr><tr><td>2008-07-13</td><td>14</td></tr><tr><td>2008-07-20</td><td>7</td></tr><tr><td>2008-07-27</td><td>2</td></tr><tr><td>2008-08-03</td><td>9</td></tr><tr><td>2008-08-10</td><td>20</td></tr><tr><td>2008-08-17</td><td>9</td></tr><tr><td>2008-08-24</td><td>14</td></tr><tr><td>2008-08-31</td><td>11</td></tr><tr><td>2008-09-07</td><td>19</td></tr><tr><td>2008-09-14</td><td>10</td></tr><tr><td>2008-09-21</td><td>11</td></tr><tr><td>2008-09-28</td><td>16</td></tr><tr><td>2008-10-05</td><td>12</td></tr><tr><td>2008-10-12</td><td>5</td></tr><tr><td>2008-10-19</td><td>19</td></tr><tr><td>2008-10-26</td><td>11</td></tr><tr><td>2008-11-02</td><td>14</td></tr><tr><td>2008-11-09</td><td>10</td></tr><tr><td>2008-11-16</td><td>11</td></tr><tr><td>2008-11-23</td><td>17</td></tr><tr><td>2008-11-30</td><td>9</td></tr><tr><td>2008-12-07</td><td>11</td></tr><tr><td>2008-12-14</td><td>4</td></tr><tr><td>2008-12-21</td><td>8</td></tr><tr><td>2008-12-28</td><td>13</td></tr><tr><td>2009-01-04</td><td>10</td></tr><tr><td>2009-01-11</td><td>17</td></tr><tr><td>2009-01-18</td><td>15</td></tr><tr><td>2009-01-25</td><td>19</td></tr><tr><td>2009-02-01</td><td>11</td></tr><tr><td>2009-02-08</td><td>7</td></tr><tr><td>2009-02-15</td><td>19</td></tr><tr><td>2009-02-22</td><td>11</td></tr><tr><td>2009-03-01</td><td>18</td></tr><tr><td>2009-03-08</td><td>10</td></tr><tr><td>2009-03-15</td><td>15</td></tr><tr><td>2009-03-22</td><td>8</td></tr><tr><td>2009-03-29</td><td>21</td></tr><tr><td>2009-04-05</td><td>7</td></tr><tr><td>2009-04-12</td><td>15</td></tr><tr><td>2009-04-19</td><td>20</td></tr><tr><td>2009-04-26</td><td>17</td></tr><tr><td>2009-05-03</td><td>14</td></tr><tr><td>2009-05-10</td><td>9</td></tr><tr><td>2009-05-17</td><td>13</td></tr><tr><td>2009-05-24</td><td>14</td></tr><tr><td>2009-05-31</td><td>11</td></tr><tr><td>2009-06-07</td><td>14</td></tr><tr><td>2009-06-14</td><td>10</td></tr><tr><td>2009-06-21</td><td>13</td></tr><tr><td>2009-06-28</td><td>10</td></tr><tr><td>2009-07-05</td><td>6</td></tr><tr><td>2009-07-12</td><td>7</td></tr><tr><td>2009-07-19</td><td>15</td></tr><tr><td>2009-07-26</td><td>10</td></tr><tr><td>2009-08-02</td><td>6</td></tr><tr><td>2009-08-09</td><td>6</td></tr><tr><td>2009-08-16</td><td>12</td></tr><tr><td>2009-08-23</td><td>12</td></tr><tr><td>2009-08-30</td><td>12</td></tr><tr><td>2009-09-06</td><td>14</td></tr><tr><td>2009-09-13</td><td>11</td></tr><tr><td>2009-09-20</td><td>16</td></tr><tr><td>2009-09-27</td><td>14</td></tr><tr><td>2009-10-04</td><td>17</td></tr><tr><td>2009-10-11</td><td>19</td></tr><tr><td>2009-10-18</td><td>11</td></tr><tr><td>2009-10-25</td><td>12</td></tr><tr><td>2009-11-01</td><td>9</td></tr><tr><td>2009-11-08</td><td>14</td></tr><tr><td>2009-11-15</td><td>11</td></tr><tr><td>2009-11-22</td><td>7</td></tr><tr><td>2009-11-29</td><td>8</td></tr><tr><td>2009-12-06</td><td>20</td></tr><tr><td>2009-12-13</td><td>7</td></tr><tr><td>2009-12-20</td><td>14</td></tr><tr><td>2009-12-27</td><td>14</td></tr><tr><td>2010-01-03</td><td>16</td></tr><tr><td>2010-01-10</td><td>11</td></tr><tr><td>2010-01-17</td><td>19</td></tr><tr><td>2010-01-24</td><td>15</td></tr><tr><td>2010-01-31</td><td>12</td></tr><tr><td>2010-02-07</td><td>9</td></tr><tr><td>2010-02-14</td><td>9</td></tr><tr><td>2010-02-21</td><td>15</td></tr><tr><td>2010-02-28</td><td>13</td></tr><tr><td>2010-03-07</td><td>15</td></tr><tr><td>2010-03-14</td><td>21</td></tr><tr><td>2010-03-21</td><td>13</td></tr><tr><td>2010-03-28</td><td>10</td></tr><tr><td>2010-04-04</td><td>5</td></tr><tr><td>2010-04-11</td><td>7</td></tr><tr><td>2010-04-18</td><td>17</td></tr><tr><td>2010-04-25</td><td>11</td></tr><tr><td>2010-05-02</td><td>11</td></tr><tr><td>2010-05-09</td><td>11</td></tr><tr><td>2010-05-16</td><td>15</td></tr><tr><td>2010-05-23</td><td>13</td></tr><tr><td>2010-05-30</td><td>11</td></tr><tr><td>2010-06-06</td><td>14</td></tr><tr><td>2010-06-13</td><td>10</td></tr><tr><td>2010-06-20</td><td>11</td></tr><tr><td>2010-06-27</td><td>19</td></tr><tr><td>2010-07-04</td><td>9</td></tr><tr><td>2010-07-11</td><td>5</td></tr><tr><td>2010-07-18</td><td>6</td></tr><tr><td>2010-07-25</td><td>8</td></tr><tr><td>2010-08-01</td><td>18</td></tr><tr><td>2010-08-08</td><td>13</td></tr><tr><td>2010-08-15</td><td>18</td></tr><tr><td>2010-08-22</td><td>5</td></tr><tr><td>2010-08-29</td><td>16</td></tr><tr><td>2010-09-05</td><td>12</td></tr><tr><td>2010-09-12</td><td>4</td></tr><tr><td>2010-09-19</td><td>11</td></tr><tr><td>2010-09-26</td><td>11</td></tr><tr><td>2010-10-03</td><td>14</td></tr><tr><td>2010-10-10</td><td>15</td></tr><tr><td>2010-10-17</td><td>14</td></tr><tr><td>2010-10-24</td><td>11</td></tr><tr><td>2010-10-31</td><td>17</td></tr><tr><td>2010-11-07</td><td>14</td></tr><tr><td>2010-11-14</td><td>3</td></tr><tr><td>2010-11-21</td><td>15</td></tr><tr><td>2010-11-28</td><td>8</td></tr><tr><td>2010-12-05</td><td>23</td></tr><tr><td>2010-12-12</td><td>13</td></tr><tr><td>2010-12-19</td><td>8</td></tr><tr><td>2010-12-26</td><td>6</td></tr><tr><td>2011-01-02</td><td>7</td></tr><tr><td>2011-01-09</td><td>16</td></tr><tr><td>2011-01-16</td><td>12</td></tr><tr><td>2011-01-23</td><td>18</td></tr><tr><td>2011-01-30</td><td>10</td></tr><tr><td>2011-02-06</td><td>6</td></tr><tr><td>2011-02-13</td><td>11</td></tr><tr><td>2011-02-20</td><td>11</td></tr><tr><td>2011-02-27</td><td>6</td></tr><tr><td>2011-03-06</td><td>5</td></tr><tr><td>2011-03-13</td><td>17</td></tr><tr><td>2011-03-20</td><td>6</td></tr><tr><td>2011-03-27</td><td>4</td></tr><tr><td>2011-04-03</td><td>10</td></tr><tr><td>2011-04-10</td><td>7</td></tr><tr><td>2011-04-17</td><td>12</td></tr><tr><td>2011-04-24</td><td>15</td></tr><tr><td>2011-05-01</td><td>7</td></tr><tr><td>2011-05-08</td><td>9</td></tr><tr><td>2011-05-15</td><td>17</td></tr><tr><td>2011-05-22</td><td>17</td></tr><tr><td>2011-05-29</td><td>13</td></tr><tr><td>2011-06-05</td><td>17</td></tr><tr><td>2011-06-12</td><td>11</td></tr><tr><td>2011-06-19</td><td>14</td></tr><tr><td>2011-06-26</td><td>22</td></tr><tr><td>2011-07-03</td><td>10</td></tr><tr><td>2011-07-10</td><td>7</td></tr><tr><td>2011-07-17</td><td>12</td></tr><tr><td>2011-07-24</td><td>17</td></tr><tr><td>2011-07-31</td><td>10</td></tr><tr><td>2011-08-07</td><td>7</td></tr><tr><td>2011-08-14</td><td>15</td></tr><tr><td>2011-08-21</td><td>4</td></tr><tr><td>2011-08-28</td><td>13</td></tr><tr><td>2011-09-04</td><td>13</td></tr><tr><td>2011-09-11</td><td>9</td></tr><tr><td>2011-09-18</td><td>9</td></tr><tr><td>2011-09-25</td><td>11</td></tr><tr><td>2011-10-02</td><td>10</td></tr><tr><td>2011-10-09</td><td>8</td></tr><tr><td>2011-10-16</td><td>10</td></tr><tr><td>2011-10-23</td><td>13</td></tr><tr><td>2011-10-30</td><td>16</td></tr><tr><td>2011-11-06</td><td>15</td></tr><tr><td>2011-11-13</td><td>8</td></tr><tr><td>2011-11-20</td><td>11</td></tr><tr><td>2011-11-27</td><td>24</td></tr><tr><td>2011-12-04</td><td>22</td></tr><tr><td>2011-12-11</td><td>7</td></tr><tr><td>2011-12-18</td><td>18</td></tr><tr><td>2011-12-25</td><td>2</td></tr><tr><td>2012-01-01</td><td>13</td></tr><tr><td>2012-01-08</td><td>15</td></tr><tr><td>2012-01-15</td><td>5</td></tr><tr><td>2012-01-22</td><td>12</td></tr><tr><td>2012-01-29</td><td>15</td></tr><tr><td>2012-02-05</td><td>13</td></tr><tr><td>2012-02-12</td><td>20</td></tr><tr><td>2012-02-19</td><td>5</td></tr><tr><td>2012-02-26</td><td>16</td></tr><tr><td>2012-03-04</td><td>15</td></tr><tr><td>2012-03-11</td><td>23</td></tr><tr><td>2012-03-18</td><td>15</td></tr><tr><td>2012-03-25</td><td>12</td></tr><tr><td>2012-04-01</td><td>14</td></tr><tr><td>2012-04-08</td><td>12</td></tr><tr><td>2012-04-15</td><td>14</td></tr><tr><td>2012-04-22</td><td>13</td></tr><tr><td>2012-04-29</td><td>22</td></tr><tr><td>2012-05-06</td><td>17</td></tr><tr><td>2012-05-13</td><td>13</td></tr><tr><td>2012-05-20</td><td>22</td></tr><tr><td>2012-05-27</td><td>16</td></tr><tr><td>2012-06-03</td><td>13</td></tr><tr><td>2012-06-10</td><td>16</td></tr><tr><td>2012-06-17</td><td>15</td></tr><tr><td>2012-06-24</td><td>32</td></tr><tr><td>2012-07-01</td><td>14</td></tr><tr><td>2012-07-08</td><td>17</td></tr><tr><td>2012-07-15</td><td>14</td></tr><tr><td>2012-07-22</td><td>11</td></tr><tr><td>2012-07-29</td><td>10</td></tr><tr><td>2012-08-05</td><td>16</td></tr><tr><td>2012-08-12</td><td>15</td></tr><tr><td>2012-08-19</td><td>10</td></tr><tr><td>2012-08-26</td><td>12</td></tr><tr><td>2012-09-02</td><td>18</td></tr><tr><td>2012-09-09</td><td>14</td></tr><tr><td>2012-09-16</td><td>16</td></tr><tr><td>2012-09-23</td><td>26</td></tr><tr><td>2012-09-30</td><td>22</td></tr><tr><td>2012-10-07</td><td>13</td></tr><tr><td>2012-10-14</td><td>19</td></tr><tr><td>2012-10-21</td><td>12</td></tr><tr><td>2012-10-28</td><td>33</td></tr><tr><td>2012-11-04</td><td>13</td></tr><tr><td>2012-11-11</td><td>11</td></tr><tr><td>2012-11-18</td><td>11</td></tr><tr><td>2012-11-25</td><td>17</td></tr><tr><td>2012-12-02</td><td>18</td></tr><tr><td>2012-12-09</td><td>8</td></tr><tr><td>2012-12-16</td><td>11</td></tr><tr><td>2012-12-23</td><td>21</td></tr><tr><td>2012-12-30</td><td>20</td></tr><tr><td>2013-01-06</td><td>9</td></tr><tr><td>2013-01-13</td><td>12</td></tr><tr><td>2013-01-20</td><td>9</td></tr><tr><td>2013-01-27</td><td>12</td></tr><tr><td>2013-02-03</td><td>14</td></tr><tr><td>2013-02-10</td><td>14</td></tr><tr><td>2013-02-17</td><td>15</td></tr><tr><td>2013-02-24</td><td>16</td></tr><tr><td>2013-03-03</td><td>11</td></tr><tr><td>2013-03-10</td><td>24</td></tr><tr><td>2013-03-17</td><td>17</td></tr><tr><td>2013-03-24</td><td>25</td></tr><tr><td>2013-03-31</td><td>17</td></tr><tr><td>2013-04-07</td><td>24</td></tr><tr><td>2013-04-14</td><td>14</td></tr><tr><td>2013-04-21</td><td>14</td></tr><tr><td>2013-04-28</td><td>21</td></tr><tr><td>2013-05-05</td><td>18</td></tr><tr><td>2013-05-12</td><td>14</td></tr><tr><td>2013-05-19</td><td>14</td></tr><tr><td>2013-05-26</td><td>21</td></tr><tr><td>2013-06-02</td><td>16</td></tr><tr><td>2013-06-09</td><td>13</td></tr><tr><td>2013-06-16</td><td>14</td></tr><tr><td>2013-06-23</td><td>20</td></tr><tr><td>2013-06-30</td><td>54</td></tr><tr><td>2013-07-07</td><td>25</td></tr><tr><td>2013-07-14</td><td>29</td></tr><tr><td>2013-07-21</td><td>9</td></tr><tr><td>2013-07-28</td><td>20</td></tr><tr><td>2013-08-04</td><td>23</td></tr><tr><td>2013-08-11</td><td>19</td></tr><tr><td>2013-08-18</td><td>26</td></tr><tr><td>2013-08-25</td><td>20</td></tr><tr><td>2013-09-01</td><td>25</td></tr><tr><td>2013-09-08</td><td>18</td></tr><tr><td>2013-09-15</td><td>15</td></tr><tr><td>2013-09-22</td><td>17</td></tr><tr><td>2013-09-29</td><td>18</td></tr><tr><td>2013-10-06</td><td>18</td></tr><tr><td>2013-10-13</td><td>21</td></tr><tr><td>2013-10-20</td><td>10</td></tr><tr><td>2013-10-27</td><td>11</td></tr><tr><td>2013-11-03</td><td>7</td></tr><tr><td>2013-11-10</td><td>11</td></tr><tr><td>2013-11-17</td><td>19</td></tr><tr><td>2013-11-24</td><td>12</td></tr><tr><td>2013-12-01</td><td>16</td></tr><tr><td>2013-12-08</td><td>12</td></tr><tr><td>2013-12-15</td><td>19</td></tr><tr><td>2013-12-22</td><td>14</td></tr><tr><td>2013-12-29</td><td>21</td></tr><tr><td>2014-01-05</td><td>20</td></tr><tr><td>2014-01-12</td><td>16</td></tr><tr><td>2014-01-19</td><td>17</td></tr><tr><td>2014-01-26</td><td>24</td></tr><tr><td>2014-02-02</td><td>5</td></tr><tr><td>2014-02-09</td><td>14</td></tr><tr><td>2014-02-16</td><td>5</td></tr><tr><td>2014-02-23</td><td>9</td></tr><tr><td>2014-03-02</td><td>10</td></tr><tr><td>2014-03-09</td><td>18</td></tr><tr><td>2014-03-16</td><td>10</td></tr><tr><td>2014-03-23</td><td>13</td></tr><tr><td>2014-03-30</td><td>7</td></tr><tr><td>2014-04-06</td><td>26</td></tr><tr><td>2014-04-13</td><td>16</td></tr><tr><td>2014-04-20</td><td>20</td></tr><tr><td>2014-04-27</td><td>20</td></tr><tr><td>2014-05-04</td><td>19</td></tr><tr><td>2014-05-11</td><td>18</td></tr><tr><td>2014-05-18</td><td>18</td></tr><tr><td>2014-05-25</td><td>22</td></tr><tr><td>2014-06-01</td><td>19</td></tr><tr><td>2014-06-08</td><td>12</td></tr><tr><td>2014-06-15</td><td>11</td></tr><tr><td>2014-06-22</td><td>15</td></tr><tr><td>2014-06-29</td><td>19</td></tr><tr><td>2014-07-06</td><td>11</td></tr><tr><td>2014-07-13</td><td>19</td></tr><tr><td>2014-07-20</td><td>5</td></tr><tr><td>2014-07-27</td><td>12</td></tr><tr><td>2014-08-03</td><td>10</td></tr><tr><td>2014-08-10</td><td>22</td></tr><tr><td>2014-08-17</td><td>12</td></tr><tr><td>2014-08-24</td><td>4</td></tr><tr><td>2014-08-31</td><td>17</td></tr><tr><td>2014-09-07</td><td>9</td></tr><tr><td>2014-09-14</td><td>11</td></tr><tr><td>2014-09-21</td><td>7</td></tr><tr><td>2014-09-28</td><td>6</td></tr><tr><td>2014-10-05</td><td>15</td></tr><tr><td>2014-10-12</td><td>18</td></tr><tr><td>2014-10-19</td><td>15</td></tr><tr><td>2014-10-26</td><td>13</td></tr><tr><td>2014-11-02</td><td>8</td></tr><tr><td>2014-11-09</td><td>9</td></tr><tr><td>2014-11-16</td><td>11</td></tr><tr><td>2014-11-23</td><td>21</td></tr><tr><td>2014-11-30</td><td>9</td></tr><tr><td>2014-12-07</td><td>19</td></tr><tr><td>2014-12-14</td><td>13</td></tr><tr><td>2014-12-21</td><td>12</td></tr><tr><td>2014-12-28</td><td>22</td></tr><tr><td>2015-01-04</td><td>11</td></tr><tr><td>2015-01-11</td><td>8</td></tr><tr><td>2015-01-18</td><td>10</td></tr><tr><td>2015-01-25</td><td>7</td></tr><tr><td>2015-02-01</td><td>15</td></tr><tr><td>2015-02-08</td><td>11</td></tr><tr><td>2015-02-15</td><td>17</td></tr><tr><td>2015-02-22</td><td>14</td></tr><tr><td>2015-03-01</td><td>22</td></tr><tr><td>2015-03-08</td><td>8</td></tr><tr><td>2015-03-15</td><td>13</td></tr><tr><td>2015-03-22</td><td>18</td></tr><tr><td>2015-03-29</td><td>12</td></tr><tr><td>2015-04-05</td><td>13</td></tr><tr><td>2015-04-12</td><td>14</td></tr><tr><td>2015-04-19</td><td>9</td></tr><tr><td>2015-04-26</td><td>15</td></tr><tr><td>2015-05-03</td><td>12</td></tr><tr><td>2015-05-10</td><td>21</td></tr><tr><td>2015-05-17</td><td>9</td></tr><tr><td>2015-05-24</td><td>19</td></tr><tr><td>2015-05-31</td><td>13</td></tr><tr><td>2015-06-07</td><td>19</td></tr><tr><td>2015-06-14</td><td>13</td></tr><tr><td>2015-06-21</td><td>15</td></tr><tr><td>2015-06-28</td><td>22</td></tr><tr><td>2015-07-05</td><td>20</td></tr><tr><td>2015-07-12</td><td>15</td></tr><tr><td>2015-07-19</td><td>6</td></tr><tr><td>2015-07-26</td><td>17</td></tr><tr><td>2015-08-02</td><td>13</td></tr><tr><td>2015-08-09</td><td>8</td></tr><tr><td>2015-08-16</td><td>14</td></tr><tr><td>2015-08-23</td><td>13</td></tr><tr><td>2015-08-30</td><td>14</td></tr><tr><td>2015-09-06</td><td>16</td></tr><tr><td>2015-09-13</td><td>6</td></tr><tr><td>2015-09-20</td><td>23</td></tr><tr><td>2015-09-27</td><td>10</td></tr><tr><td>2015-10-04</td><td>7</td></tr><tr><td>2015-10-11</td><td>12</td></tr><tr><td>2015-10-18</td><td>20</td></tr><tr><td>2015-10-25</td><td>18</td></tr><tr><td>2015-11-01</td><td>17</td></tr><tr><td>2015-11-08</td><td>14</td></tr><tr><td>2015-11-15</td><td>9</td></tr><tr><td>2015-11-22</td><td>14</td></tr><tr><td>2015-11-29</td><td>13</td></tr><tr><td>2015-12-06</td><td>23</td></tr><tr><td>2015-12-13</td><td>9</td></tr><tr><td>2015-12-20</td><td>8</td></tr><tr><td>2015-12-27</td><td>8</td></tr><tr><td>2016-01-03</td><td>9</td></tr><tr><td>2016-01-10</td><td>11</td></tr><tr><td>2016-01-17</td><td>24</td></tr><tr><td>2016-01-24</td><td>8</td></tr><tr><td>2016-01-31</td><td>19</td></tr><tr><td>2016-02-07</td><td>27</td></tr><tr><td>2016-02-14</td><td>17</td></tr><tr><td>2016-02-21</td><td>23</td></tr><tr><td>2016-02-28</td><td>9</td></tr><tr><td>2016-03-06</td><td>9</td></tr><tr><td>2016-03-13</td><td>6</td></tr><tr><td>2016-03-20</td><td>14</td></tr><tr><td>2016-03-27</td><td>23</td></tr><tr><td>2016-04-03</td><td>20</td></tr><tr><td>2016-04-10</td><td>17</td></tr><tr><td>2016-04-17</td><td>15</td></tr><tr><td>2016-04-24</td><td>12</td></tr><tr><td>2016-05-01</td><td>9</td></tr><tr><td>2016-05-08</td><td>10</td></tr><tr><td>2016-05-15</td><td>11</td></tr><tr><td>2016-05-22</td><td>10</td></tr><tr><td>2016-05-29</td><td>13</td></tr><tr><td>2016-06-05</td><td>12</td></tr><tr><td>2016-06-12</td><td>17</td></tr><tr><td>2016-06-19</td><td>18</td></tr><tr><td>2016-06-26</td><td>15</td></tr><tr><td>2016-07-03</td><td>17</td></tr><tr><td>2016-07-10</td><td>9</td></tr><tr><td>2016-07-17</td><td>14</td></tr><tr><td>2016-07-24</td><td>17</td></tr><tr><td>2016-07-31</td><td>14</td></tr><tr><td>2016-08-07</td><td>13</td></tr><tr><td>2016-08-14</td><td>19</td></tr><tr><td>2016-08-21</td><td>18</td></tr><tr><td>2016-08-28</td><td>23</td></tr><tr><td>2016-09-04</td><td>14</td></tr><tr><td>2016-09-11</td><td>29</td></tr><tr><td>2016-09-18</td><td>18</td></tr><tr><td>2016-09-25</td><td>20</td></tr><tr><td>2016-10-02</td><td>17</td></tr><tr><td>2016-10-09</td><td>23</td></tr><tr><td>2016-10-16</td><td>13</td></tr><tr><td>2016-10-23</td><td>13</td></tr><tr><td>2016-10-30</td><td>13</td></tr><tr><td>2016-11-06</td><td>13</td></tr><tr><td>2016-11-13</td><td>9</td></tr><tr><td>2016-11-20</td><td>15</td></tr><tr><td>2016-11-27</td><td>13</td></tr><tr><td>2016-12-04</td><td>24</td></tr><tr><td>2016-12-11</td><td>35</td></tr><tr><td>2016-12-18</td><td>16</td></tr><tr><td>2016-12-25</td><td>8</td></tr><tr><td>2017-01-01</td><td>30</td></tr><tr><td>2017-01-08</td><td>9</td></tr><tr><td>2017-01-15</td><td>28</td></tr><tr><td>2017-01-22</td><td>9</td></tr><tr><td>2017-01-29</td><td>15</td></tr><tr><td>2017-02-05</td><td>17</td></tr><tr><td>2017-02-12</td><td>11</td></tr><tr><td>2017-02-19</td><td>24</td></tr><tr><td>2017-02-26</td><td>19</td></tr><tr><td>2017-03-05</td><td>17</td></tr><tr><td>2017-03-12</td><td>15</td></tr><tr><td>2017-03-19</td><td>11</td></tr><tr><td>2017-03-26</td><td>19</td></tr><tr><td>2017-04-02</td><td>17</td></tr><tr><td>2017-04-09</td><td>9</td></tr><tr><td>2017-04-16</td><td>23</td></tr><tr><td>2017-04-23</td><td>12</td></tr><tr><td>2017-04-30</td><td>12</td></tr><tr><td>2017-05-07</td><td>18</td></tr><tr><td>2017-05-14</td><td>21</td></tr><tr><td>2017-05-21</td><td>15</td></tr><tr><td>2017-05-28</td><td>16</td></tr><tr><td>2017-06-04</td><td>16</td></tr><tr><td>2017-06-11</td><td>13</td></tr><tr><td>2017-06-18</td><td>9</td></tr><tr><td>2017-06-25</td><td>31</td></tr><tr><td>2017-07-02</td><td>14</td></tr><tr><td>2017-07-09</td><td>17</td></tr><tr><td>2017-07-16</td><td>20</td></tr><tr><td>2017-07-23</td><td>18</td></tr><tr><td>2017-07-30</td><td>18</td></tr><tr><td>2017-08-06</td><td>20</td></tr><tr><td>2017-08-13</td><td>12</td></tr><tr><td>2017-08-20</td><td>16</td></tr><tr><td>2017-08-27</td><td>16</td></tr><tr><td>2017-09-03</td><td>20</td></tr><tr><td>2017-09-10</td><td>22</td></tr><tr><td>2017-09-17</td><td>22</td></tr><tr><td>2017-09-24</td><td>14</td></tr><tr><td>2017-10-01</td><td>15</td></tr><tr><td>2017-10-08</td><td>9</td></tr><tr><td>2017-10-15</td><td>12</td></tr><tr><td>2017-10-22</td><td>13</td></tr><tr><td>2017-10-29</td><td>17</td></tr><tr><td>2017-11-05</td><td>21</td></tr><tr><td>2017-11-12</td><td>7</td></tr><tr><td>2017-11-19</td><td>24</td></tr><tr><td>2017-11-26</td><td>13</td></tr><tr><td>2017-12-03</td><td>9</td></tr><tr><td>2017-12-10</td><td>28</td></tr><tr><td>2017-12-17</td><td>20</td></tr><tr><td>2017-12-24</td><td>17</td></tr><tr><td>2017-12-31</td><td>20</td></tr><tr><td>2018-01-07</td><td>15</td></tr><tr><td>2018-01-14</td><td>10</td></tr><tr><td>2018-01-21</td><td>19</td></tr><tr><td>2018-01-28</td><td>13</td></tr><tr><td>2018-02-04</td><td>12</td></tr><tr><td>2018-02-11</td><td>15</td></tr><tr><td>2018-02-18</td><td>8</td></tr><tr><td>2018-02-25</td><td>15</td></tr><tr><td>2018-03-04</td><td>22</td></tr><tr><td>2018-03-11</td><td>13</td></tr><tr><td>2018-03-18</td><td>17</td></tr><tr><td>2018-03-25</td><td>14</td></tr><tr><td>2018-04-01</td><td>9</td></tr><tr><td>2018-04-08</td><td>23</td></tr><tr><td>2018-04-15</td><td>12</td></tr><tr><td>2018-04-22</td><td>22</td></tr><tr><td>2018-04-29</td><td>16</td></tr><tr><td>2018-05-06</td><td>17</td></tr><tr><td>2018-05-13</td><td>7</td></tr></tbody></table></div>"
      ]
     },
     "metadata": {
      "application/vnd.databricks.v1+output": {
       "addedWidgets": {},
       "aggData": [],
       "aggError": "",
       "aggOverflow": false,
       "aggSchema": [],
       "aggSeriesLimitReached": false,
       "aggType": "",
       "arguments": {},
       "columnCustomDisplayInfos": {},
       "data": [
        [
         "2003-01-05",
         13
        ],
        [
         "2003-01-12",
         20
        ],
        [
         "2003-01-19",
         17
        ],
        [
         "2003-01-26",
         13
        ],
        [
         "2003-02-02",
         14
        ],
        [
         "2003-02-09",
         22
        ],
        [
         "2003-02-16",
         12
        ],
        [
         "2003-02-23",
         14
        ],
        [
         "2003-03-02",
         16
        ],
        [
         "2003-03-09",
         8
        ],
        [
         "2003-03-16",
         18
        ],
        [
         "2003-03-23",
         9
        ],
        [
         "2003-03-30",
         20
        ],
        [
         "2003-04-06",
         8
        ],
        [
         "2003-04-13",
         13
        ],
        [
         "2003-04-20",
         13
        ],
        [
         "2003-04-27",
         5
        ],
        [
         "2003-05-04",
         9
        ],
        [
         "2003-05-11",
         5
        ],
        [
         "2003-05-18",
         16
        ],
        [
         "2003-05-25",
         10
        ],
        [
         "2003-06-01",
         11
        ],
        [
         "2003-06-08",
         25
        ],
        [
         "2003-06-15",
         6
        ],
        [
         "2003-06-22",
         6
        ],
        [
         "2003-06-29",
         16
        ],
        [
         "2003-07-06",
         10
        ],
        [
         "2003-07-13",
         17
        ],
        [
         "2003-07-20",
         17
        ],
        [
         "2003-07-27",
         8
        ],
        [
         "2003-08-03",
         6
        ],
        [
         "2003-08-10",
         5
        ],
        [
         "2003-08-17",
         11
        ],
        [
         "2003-08-24",
         10
        ],
        [
         "2003-08-31",
         8
        ],
        [
         "2003-09-07",
         13
        ],
        [
         "2003-09-14",
         10
        ],
        [
         "2003-09-21",
         10
        ],
        [
         "2003-09-28",
         7
        ],
        [
         "2003-10-05",
         14
        ],
        [
         "2003-10-12",
         13
        ],
        [
         "2003-10-19",
         11
        ],
        [
         "2003-10-26",
         16
        ],
        [
         "2003-11-02",
         17
        ],
        [
         "2003-11-09",
         16
        ],
        [
         "2003-11-16",
         10
        ],
        [
         "2003-11-23",
         14
        ],
        [
         "2003-11-30",
         6
        ],
        [
         "2003-12-07",
         4
        ],
        [
         "2003-12-14",
         10
        ],
        [
         "2003-12-21",
         12
        ],
        [
         "2003-12-28",
         11
        ],
        [
         "2004-01-04",
         14
        ],
        [
         "2004-01-11",
         15
        ],
        [
         "2004-01-18",
         6
        ],
        [
         "2004-01-25",
         22
        ],
        [
         "2004-02-01",
         16
        ],
        [
         "2004-02-08",
         20
        ],
        [
         "2004-02-15",
         11
        ],
        [
         "2004-02-22",
         18
        ],
        [
         "2004-02-29",
         11
        ],
        [
         "2004-03-07",
         16
        ],
        [
         "2004-03-14",
         8
        ],
        [
         "2004-03-21",
         8
        ],
        [
         "2004-03-28",
         12
        ],
        [
         "2004-04-04",
         13
        ],
        [
         "2004-04-11",
         15
        ],
        [
         "2004-04-18",
         10
        ],
        [
         "2004-04-25",
         11
        ],
        [
         "2004-05-02",
         12
        ],
        [
         "2004-05-09",
         16
        ],
        [
         "2004-05-16",
         22
        ],
        [
         "2004-05-23",
         5
        ],
        [
         "2004-05-30",
         15
        ],
        [
         "2004-06-06",
         16
        ],
        [
         "2004-06-13",
         10
        ],
        [
         "2004-06-20",
         10
        ],
        [
         "2004-06-27",
         11
        ],
        [
         "2004-07-04",
         10
        ],
        [
         "2004-07-11",
         11
        ],
        [
         "2004-07-18",
         18
        ],
        [
         "2004-07-25",
         11
        ],
        [
         "2004-08-01",
         16
        ],
        [
         "2004-08-08",
         13
        ],
        [
         "2004-08-15",
         8
        ],
        [
         "2004-08-22",
         12
        ],
        [
         "2004-08-29",
         22
        ],
        [
         "2004-09-05",
         15
        ],
        [
         "2004-09-12",
         9
        ],
        [
         "2004-09-19",
         21
        ],
        [
         "2004-09-26",
         14
        ],
        [
         "2004-10-03",
         13
        ],
        [
         "2004-10-10",
         18
        ],
        [
         "2004-10-17",
         15
        ],
        [
         "2004-10-24",
         19
        ],
        [
         "2004-10-31",
         31
        ],
        [
         "2004-11-07",
         14
        ],
        [
         "2004-11-14",
         18
        ],
        [
         "2004-11-21",
         10
        ],
        [
         "2004-11-28",
         8
        ],
        [
         "2004-12-05",
         9
        ],
        [
         "2004-12-12",
         10
        ],
        [
         "2004-12-19",
         12
        ],
        [
         "2004-12-26",
         7
        ],
        [
         "2005-01-02",
         8
        ],
        [
         "2005-01-09",
         16
        ],
        [
         "2005-01-16",
         8
        ],
        [
         "2005-01-23",
         10
        ],
        [
         "2005-01-30",
         10
        ],
        [
         "2005-02-06",
         10
        ],
        [
         "2005-02-13",
         7
        ],
        [
         "2005-02-20",
         14
        ],
        [
         "2005-02-27",
         10
        ],
        [
         "2005-03-06",
         14
        ],
        [
         "2005-03-13",
         13
        ],
        [
         "2005-03-20",
         8
        ],
        [
         "2005-03-27",
         6
        ],
        [
         "2005-04-03",
         18
        ],
        [
         "2005-04-10",
         16
        ],
        [
         "2005-04-17",
         4
        ],
        [
         "2005-04-24",
         11
        ],
        [
         "2005-05-01",
         11
        ],
        [
         "2005-05-08",
         12
        ],
        [
         "2005-05-15",
         7
        ],
        [
         "2005-05-22",
         6
        ],
        [
         "2005-05-29",
         10
        ],
        [
         "2005-06-05",
         9
        ],
        [
         "2005-06-12",
         10
        ],
        [
         "2005-06-19",
         12
        ],
        [
         "2005-06-26",
         18
        ],
        [
         "2005-07-03",
         12
        ],
        [
         "2005-07-10",
         14
        ],
        [
         "2005-07-17",
         9
        ],
        [
         "2005-07-24",
         13
        ],
        [
         "2005-07-31",
         10
        ],
        [
         "2005-08-07",
         10
        ],
        [
         "2005-08-14",
         3
        ],
        [
         "2005-08-21",
         11
        ],
        [
         "2005-08-28",
         13
        ],
        [
         "2005-09-04",
         9
        ],
        [
         "2005-09-11",
         8
        ],
        [
         "2005-09-18",
         5
        ],
        [
         "2005-09-25",
         19
        ],
        [
         "2005-10-02",
         16
        ],
        [
         "2005-10-09",
         25
        ],
        [
         "2005-10-16",
         7
        ],
        [
         "2005-10-23",
         9
        ],
        [
         "2005-10-30",
         9
        ],
        [
         "2005-11-06",
         8
        ],
        [
         "2005-11-13",
         11
        ],
        [
         "2005-11-20",
         16
        ],
        [
         "2005-11-27",
         13
        ],
        [
         "2005-12-04",
         16
        ],
        [
         "2005-12-11",
         6
        ],
        [
         "2005-12-18",
         7
        ],
        [
         "2005-12-25",
         15
        ],
        [
         "2006-01-01",
         20
        ],
        [
         "2006-01-08",
         14
        ],
        [
         "2006-01-15",
         4
        ],
        [
         "2006-01-22",
         11
        ],
        [
         "2006-01-29",
         13
        ],
        [
         "2006-02-05",
         11
        ],
        [
         "2006-02-12",
         11
        ],
        [
         "2006-02-19",
         20
        ],
        [
         "2006-02-26",
         9
        ],
        [
         "2006-03-05",
         7
        ],
        [
         "2006-03-12",
         6
        ],
        [
         "2006-03-19",
         13
        ],
        [
         "2006-03-26",
         10
        ],
        [
         "2006-04-02",
         16
        ],
        [
         "2006-04-09",
         14
        ],
        [
         "2006-04-16",
         7
        ],
        [
         "2006-04-23",
         12
        ],
        [
         "2006-04-30",
         12
        ],
        [
         "2006-05-07",
         7
        ],
        [
         "2006-05-14",
         14
        ],
        [
         "2006-05-21",
         18
        ],
        [
         "2006-05-28",
         13
        ],
        [
         "2006-06-04",
         9
        ],
        [
         "2006-06-11",
         9
        ],
        [
         "2006-06-18",
         10
        ],
        [
         "2006-06-25",
         18
        ],
        [
         "2006-07-02",
         20
        ],
        [
         "2006-07-09",
         12
        ],
        [
         "2006-07-16",
         22
        ],
        [
         "2006-07-23",
         15
        ],
        [
         "2006-07-30",
         26
        ],
        [
         "2006-08-06",
         6
        ],
        [
         "2006-08-13",
         21
        ],
        [
         "2006-08-20",
         16
        ],
        [
         "2006-08-27",
         16
        ],
        [
         "2006-09-03",
         8
        ],
        [
         "2006-09-10",
         12
        ],
        [
         "2006-09-17",
         7
        ],
        [
         "2006-09-24",
         6
        ],
        [
         "2006-10-01",
         19
        ],
        [
         "2006-10-08",
         10
        ],
        [
         "2006-10-15",
         8
        ],
        [
         "2006-10-22",
         12
        ],
        [
         "2006-10-29",
         9
        ],
        [
         "2006-11-05",
         14
        ],
        [
         "2006-11-12",
         16
        ],
        [
         "2006-11-19",
         12
        ],
        [
         "2006-11-26",
         9
        ],
        [
         "2006-12-03",
         21
        ],
        [
         "2006-12-10",
         14
        ],
        [
         "2006-12-17",
         9
        ],
        [
         "2006-12-24",
         5
        ],
        [
         "2006-12-31",
         11
        ],
        [
         "2007-01-07",
         19
        ],
        [
         "2007-01-14",
         6
        ],
        [
         "2007-01-21",
         7
        ],
        [
         "2007-01-28",
         12
        ],
        [
         "2007-02-04",
         6
        ],
        [
         "2007-02-11",
         13
        ],
        [
         "2007-02-18",
         16
        ],
        [
         "2007-02-25",
         8
        ],
        [
         "2007-03-04",
         6
        ],
        [
         "2007-03-11",
         15
        ],
        [
         "2007-03-18",
         5
        ],
        [
         "2007-03-25",
         17
        ],
        [
         "2007-04-01",
         18
        ],
        [
         "2007-04-08",
         13
        ],
        [
         "2007-04-15",
         13
        ],
        [
         "2007-04-22",
         12
        ],
        [
         "2007-04-29",
         18
        ],
        [
         "2007-05-06",
         3
        ],
        [
         "2007-05-13",
         5
        ],
        [
         "2007-05-20",
         11
        ],
        [
         "2007-05-27",
         12
        ],
        [
         "2007-06-03",
         7
        ],
        [
         "2007-06-10",
         12
        ],
        [
         "2007-06-17",
         18
        ],
        [
         "2007-06-24",
         28
        ],
        [
         "2007-07-01",
         15
        ],
        [
         "2007-07-08",
         12
        ],
        [
         "2007-07-15",
         9
        ],
        [
         "2007-07-22",
         8
        ],
        [
         "2007-07-29",
         8
        ],
        [
         "2007-08-05",
         8
        ],
        [
         "2007-08-12",
         18
        ],
        [
         "2007-08-19",
         8
        ],
        [
         "2007-08-26",
         14
        ],
        [
         "2007-09-02",
         9
        ],
        [
         "2007-09-09",
         23
        ],
        [
         "2007-09-16",
         16
        ],
        [
         "2007-09-23",
         1
        ],
        [
         "2007-09-30",
         7
        ],
        [
         "2007-10-07",
         14
        ],
        [
         "2007-10-14",
         11
        ],
        [
         "2007-10-21",
         8
        ],
        [
         "2007-10-28",
         18
        ],
        [
         "2007-11-04",
         12
        ],
        [
         "2007-11-11",
         14
        ],
        [
         "2007-11-18",
         16
        ],
        [
         "2007-11-25",
         11
        ],
        [
         "2007-12-02",
         8
        ],
        [
         "2007-12-09",
         11
        ],
        [
         "2007-12-23",
         5
        ],
        [
         "2007-12-30",
         12
        ],
        [
         "2008-01-06",
         7
        ],
        [
         "2008-01-13",
         10
        ],
        [
         "2008-01-20",
         19
        ],
        [
         "2008-01-27",
         6
        ],
        [
         "2008-02-03",
         12
        ],
        [
         "2008-02-10",
         9
        ],
        [
         "2008-02-17",
         7
        ],
        [
         "2008-02-24",
         8
        ],
        [
         "2008-03-02",
         8
        ],
        [
         "2008-03-09",
         10
        ],
        [
         "2008-03-16",
         14
        ],
        [
         "2008-03-23",
         16
        ],
        [
         "2008-03-30",
         7
        ],
        [
         "2008-04-06",
         8
        ],
        [
         "2008-04-13",
         11
        ],
        [
         "2008-04-20",
         14
        ],
        [
         "2008-04-27",
         8
        ],
        [
         "2008-05-04",
         19
        ],
        [
         "2008-05-11",
         9
        ],
        [
         "2008-05-18",
         10
        ],
        [
         "2008-05-25",
         10
        ],
        [
         "2008-06-01",
         23
        ],
        [
         "2008-06-08",
         13
        ],
        [
         "2008-06-15",
         20
        ],
        [
         "2008-06-22",
         5
        ],
        [
         "2008-06-29",
         13
        ],
        [
         "2008-07-06",
         9
        ],
        [
         "2008-07-13",
         14
        ],
        [
         "2008-07-20",
         7
        ],
        [
         "2008-07-27",
         2
        ],
        [
         "2008-08-03",
         9
        ],
        [
         "2008-08-10",
         20
        ],
        [
         "2008-08-17",
         9
        ],
        [
         "2008-08-24",
         14
        ],
        [
         "2008-08-31",
         11
        ],
        [
         "2008-09-07",
         19
        ],
        [
         "2008-09-14",
         10
        ],
        [
         "2008-09-21",
         11
        ],
        [
         "2008-09-28",
         16
        ],
        [
         "2008-10-05",
         12
        ],
        [
         "2008-10-12",
         5
        ],
        [
         "2008-10-19",
         19
        ],
        [
         "2008-10-26",
         11
        ],
        [
         "2008-11-02",
         14
        ],
        [
         "2008-11-09",
         10
        ],
        [
         "2008-11-16",
         11
        ],
        [
         "2008-11-23",
         17
        ],
        [
         "2008-11-30",
         9
        ],
        [
         "2008-12-07",
         11
        ],
        [
         "2008-12-14",
         4
        ],
        [
         "2008-12-21",
         8
        ],
        [
         "2008-12-28",
         13
        ],
        [
         "2009-01-04",
         10
        ],
        [
         "2009-01-11",
         17
        ],
        [
         "2009-01-18",
         15
        ],
        [
         "2009-01-25",
         19
        ],
        [
         "2009-02-01",
         11
        ],
        [
         "2009-02-08",
         7
        ],
        [
         "2009-02-15",
         19
        ],
        [
         "2009-02-22",
         11
        ],
        [
         "2009-03-01",
         18
        ],
        [
         "2009-03-08",
         10
        ],
        [
         "2009-03-15",
         15
        ],
        [
         "2009-03-22",
         8
        ],
        [
         "2009-03-29",
         21
        ],
        [
         "2009-04-05",
         7
        ],
        [
         "2009-04-12",
         15
        ],
        [
         "2009-04-19",
         20
        ],
        [
         "2009-04-26",
         17
        ],
        [
         "2009-05-03",
         14
        ],
        [
         "2009-05-10",
         9
        ],
        [
         "2009-05-17",
         13
        ],
        [
         "2009-05-24",
         14
        ],
        [
         "2009-05-31",
         11
        ],
        [
         "2009-06-07",
         14
        ],
        [
         "2009-06-14",
         10
        ],
        [
         "2009-06-21",
         13
        ],
        [
         "2009-06-28",
         10
        ],
        [
         "2009-07-05",
         6
        ],
        [
         "2009-07-12",
         7
        ],
        [
         "2009-07-19",
         15
        ],
        [
         "2009-07-26",
         10
        ],
        [
         "2009-08-02",
         6
        ],
        [
         "2009-08-09",
         6
        ],
        [
         "2009-08-16",
         12
        ],
        [
         "2009-08-23",
         12
        ],
        [
         "2009-08-30",
         12
        ],
        [
         "2009-09-06",
         14
        ],
        [
         "2009-09-13",
         11
        ],
        [
         "2009-09-20",
         16
        ],
        [
         "2009-09-27",
         14
        ],
        [
         "2009-10-04",
         17
        ],
        [
         "2009-10-11",
         19
        ],
        [
         "2009-10-18",
         11
        ],
        [
         "2009-10-25",
         12
        ],
        [
         "2009-11-01",
         9
        ],
        [
         "2009-11-08",
         14
        ],
        [
         "2009-11-15",
         11
        ],
        [
         "2009-11-22",
         7
        ],
        [
         "2009-11-29",
         8
        ],
        [
         "2009-12-06",
         20
        ],
        [
         "2009-12-13",
         7
        ],
        [
         "2009-12-20",
         14
        ],
        [
         "2009-12-27",
         14
        ],
        [
         "2010-01-03",
         16
        ],
        [
         "2010-01-10",
         11
        ],
        [
         "2010-01-17",
         19
        ],
        [
         "2010-01-24",
         15
        ],
        [
         "2010-01-31",
         12
        ],
        [
         "2010-02-07",
         9
        ],
        [
         "2010-02-14",
         9
        ],
        [
         "2010-02-21",
         15
        ],
        [
         "2010-02-28",
         13
        ],
        [
         "2010-03-07",
         15
        ],
        [
         "2010-03-14",
         21
        ],
        [
         "2010-03-21",
         13
        ],
        [
         "2010-03-28",
         10
        ],
        [
         "2010-04-04",
         5
        ],
        [
         "2010-04-11",
         7
        ],
        [
         "2010-04-18",
         17
        ],
        [
         "2010-04-25",
         11
        ],
        [
         "2010-05-02",
         11
        ],
        [
         "2010-05-09",
         11
        ],
        [
         "2010-05-16",
         15
        ],
        [
         "2010-05-23",
         13
        ],
        [
         "2010-05-30",
         11
        ],
        [
         "2010-06-06",
         14
        ],
        [
         "2010-06-13",
         10
        ],
        [
         "2010-06-20",
         11
        ],
        [
         "2010-06-27",
         19
        ],
        [
         "2010-07-04",
         9
        ],
        [
         "2010-07-11",
         5
        ],
        [
         "2010-07-18",
         6
        ],
        [
         "2010-07-25",
         8
        ],
        [
         "2010-08-01",
         18
        ],
        [
         "2010-08-08",
         13
        ],
        [
         "2010-08-15",
         18
        ],
        [
         "2010-08-22",
         5
        ],
        [
         "2010-08-29",
         16
        ],
        [
         "2010-09-05",
         12
        ],
        [
         "2010-09-12",
         4
        ],
        [
         "2010-09-19",
         11
        ],
        [
         "2010-09-26",
         11
        ],
        [
         "2010-10-03",
         14
        ],
        [
         "2010-10-10",
         15
        ],
        [
         "2010-10-17",
         14
        ],
        [
         "2010-10-24",
         11
        ],
        [
         "2010-10-31",
         17
        ],
        [
         "2010-11-07",
         14
        ],
        [
         "2010-11-14",
         3
        ],
        [
         "2010-11-21",
         15
        ],
        [
         "2010-11-28",
         8
        ],
        [
         "2010-12-05",
         23
        ],
        [
         "2010-12-12",
         13
        ],
        [
         "2010-12-19",
         8
        ],
        [
         "2010-12-26",
         6
        ],
        [
         "2011-01-02",
         7
        ],
        [
         "2011-01-09",
         16
        ],
        [
         "2011-01-16",
         12
        ],
        [
         "2011-01-23",
         18
        ],
        [
         "2011-01-30",
         10
        ],
        [
         "2011-02-06",
         6
        ],
        [
         "2011-02-13",
         11
        ],
        [
         "2011-02-20",
         11
        ],
        [
         "2011-02-27",
         6
        ],
        [
         "2011-03-06",
         5
        ],
        [
         "2011-03-13",
         17
        ],
        [
         "2011-03-20",
         6
        ],
        [
         "2011-03-27",
         4
        ],
        [
         "2011-04-03",
         10
        ],
        [
         "2011-04-10",
         7
        ],
        [
         "2011-04-17",
         12
        ],
        [
         "2011-04-24",
         15
        ],
        [
         "2011-05-01",
         7
        ],
        [
         "2011-05-08",
         9
        ],
        [
         "2011-05-15",
         17
        ],
        [
         "2011-05-22",
         17
        ],
        [
         "2011-05-29",
         13
        ],
        [
         "2011-06-05",
         17
        ],
        [
         "2011-06-12",
         11
        ],
        [
         "2011-06-19",
         14
        ],
        [
         "2011-06-26",
         22
        ],
        [
         "2011-07-03",
         10
        ],
        [
         "2011-07-10",
         7
        ],
        [
         "2011-07-17",
         12
        ],
        [
         "2011-07-24",
         17
        ],
        [
         "2011-07-31",
         10
        ],
        [
         "2011-08-07",
         7
        ],
        [
         "2011-08-14",
         15
        ],
        [
         "2011-08-21",
         4
        ],
        [
         "2011-08-28",
         13
        ],
        [
         "2011-09-04",
         13
        ],
        [
         "2011-09-11",
         9
        ],
        [
         "2011-09-18",
         9
        ],
        [
         "2011-09-25",
         11
        ],
        [
         "2011-10-02",
         10
        ],
        [
         "2011-10-09",
         8
        ],
        [
         "2011-10-16",
         10
        ],
        [
         "2011-10-23",
         13
        ],
        [
         "2011-10-30",
         16
        ],
        [
         "2011-11-06",
         15
        ],
        [
         "2011-11-13",
         8
        ],
        [
         "2011-11-20",
         11
        ],
        [
         "2011-11-27",
         24
        ],
        [
         "2011-12-04",
         22
        ],
        [
         "2011-12-11",
         7
        ],
        [
         "2011-12-18",
         18
        ],
        [
         "2011-12-25",
         2
        ],
        [
         "2012-01-01",
         13
        ],
        [
         "2012-01-08",
         15
        ],
        [
         "2012-01-15",
         5
        ],
        [
         "2012-01-22",
         12
        ],
        [
         "2012-01-29",
         15
        ],
        [
         "2012-02-05",
         13
        ],
        [
         "2012-02-12",
         20
        ],
        [
         "2012-02-19",
         5
        ],
        [
         "2012-02-26",
         16
        ],
        [
         "2012-03-04",
         15
        ],
        [
         "2012-03-11",
         23
        ],
        [
         "2012-03-18",
         15
        ],
        [
         "2012-03-25",
         12
        ],
        [
         "2012-04-01",
         14
        ],
        [
         "2012-04-08",
         12
        ],
        [
         "2012-04-15",
         14
        ],
        [
         "2012-04-22",
         13
        ],
        [
         "2012-04-29",
         22
        ],
        [
         "2012-05-06",
         17
        ],
        [
         "2012-05-13",
         13
        ],
        [
         "2012-05-20",
         22
        ],
        [
         "2012-05-27",
         16
        ],
        [
         "2012-06-03",
         13
        ],
        [
         "2012-06-10",
         16
        ],
        [
         "2012-06-17",
         15
        ],
        [
         "2012-06-24",
         32
        ],
        [
         "2012-07-01",
         14
        ],
        [
         "2012-07-08",
         17
        ],
        [
         "2012-07-15",
         14
        ],
        [
         "2012-07-22",
         11
        ],
        [
         "2012-07-29",
         10
        ],
        [
         "2012-08-05",
         16
        ],
        [
         "2012-08-12",
         15
        ],
        [
         "2012-08-19",
         10
        ],
        [
         "2012-08-26",
         12
        ],
        [
         "2012-09-02",
         18
        ],
        [
         "2012-09-09",
         14
        ],
        [
         "2012-09-16",
         16
        ],
        [
         "2012-09-23",
         26
        ],
        [
         "2012-09-30",
         22
        ],
        [
         "2012-10-07",
         13
        ],
        [
         "2012-10-14",
         19
        ],
        [
         "2012-10-21",
         12
        ],
        [
         "2012-10-28",
         33
        ],
        [
         "2012-11-04",
         13
        ],
        [
         "2012-11-11",
         11
        ],
        [
         "2012-11-18",
         11
        ],
        [
         "2012-11-25",
         17
        ],
        [
         "2012-12-02",
         18
        ],
        [
         "2012-12-09",
         8
        ],
        [
         "2012-12-16",
         11
        ],
        [
         "2012-12-23",
         21
        ],
        [
         "2012-12-30",
         20
        ],
        [
         "2013-01-06",
         9
        ],
        [
         "2013-01-13",
         12
        ],
        [
         "2013-01-20",
         9
        ],
        [
         "2013-01-27",
         12
        ],
        [
         "2013-02-03",
         14
        ],
        [
         "2013-02-10",
         14
        ],
        [
         "2013-02-17",
         15
        ],
        [
         "2013-02-24",
         16
        ],
        [
         "2013-03-03",
         11
        ],
        [
         "2013-03-10",
         24
        ],
        [
         "2013-03-17",
         17
        ],
        [
         "2013-03-24",
         25
        ],
        [
         "2013-03-31",
         17
        ],
        [
         "2013-04-07",
         24
        ],
        [
         "2013-04-14",
         14
        ],
        [
         "2013-04-21",
         14
        ],
        [
         "2013-04-28",
         21
        ],
        [
         "2013-05-05",
         18
        ],
        [
         "2013-05-12",
         14
        ],
        [
         "2013-05-19",
         14
        ],
        [
         "2013-05-26",
         21
        ],
        [
         "2013-06-02",
         16
        ],
        [
         "2013-06-09",
         13
        ],
        [
         "2013-06-16",
         14
        ],
        [
         "2013-06-23",
         20
        ],
        [
         "2013-06-30",
         54
        ],
        [
         "2013-07-07",
         25
        ],
        [
         "2013-07-14",
         29
        ],
        [
         "2013-07-21",
         9
        ],
        [
         "2013-07-28",
         20
        ],
        [
         "2013-08-04",
         23
        ],
        [
         "2013-08-11",
         19
        ],
        [
         "2013-08-18",
         26
        ],
        [
         "2013-08-25",
         20
        ],
        [
         "2013-09-01",
         25
        ],
        [
         "2013-09-08",
         18
        ],
        [
         "2013-09-15",
         15
        ],
        [
         "2013-09-22",
         17
        ],
        [
         "2013-09-29",
         18
        ],
        [
         "2013-10-06",
         18
        ],
        [
         "2013-10-13",
         21
        ],
        [
         "2013-10-20",
         10
        ],
        [
         "2013-10-27",
         11
        ],
        [
         "2013-11-03",
         7
        ],
        [
         "2013-11-10",
         11
        ],
        [
         "2013-11-17",
         19
        ],
        [
         "2013-11-24",
         12
        ],
        [
         "2013-12-01",
         16
        ],
        [
         "2013-12-08",
         12
        ],
        [
         "2013-12-15",
         19
        ],
        [
         "2013-12-22",
         14
        ],
        [
         "2013-12-29",
         21
        ],
        [
         "2014-01-05",
         20
        ],
        [
         "2014-01-12",
         16
        ],
        [
         "2014-01-19",
         17
        ],
        [
         "2014-01-26",
         24
        ],
        [
         "2014-02-02",
         5
        ],
        [
         "2014-02-09",
         14
        ],
        [
         "2014-02-16",
         5
        ],
        [
         "2014-02-23",
         9
        ],
        [
         "2014-03-02",
         10
        ],
        [
         "2014-03-09",
         18
        ],
        [
         "2014-03-16",
         10
        ],
        [
         "2014-03-23",
         13
        ],
        [
         "2014-03-30",
         7
        ],
        [
         "2014-04-06",
         26
        ],
        [
         "2014-04-13",
         16
        ],
        [
         "2014-04-20",
         20
        ],
        [
         "2014-04-27",
         20
        ],
        [
         "2014-05-04",
         19
        ],
        [
         "2014-05-11",
         18
        ],
        [
         "2014-05-18",
         18
        ],
        [
         "2014-05-25",
         22
        ],
        [
         "2014-06-01",
         19
        ],
        [
         "2014-06-08",
         12
        ],
        [
         "2014-06-15",
         11
        ],
        [
         "2014-06-22",
         15
        ],
        [
         "2014-06-29",
         19
        ],
        [
         "2014-07-06",
         11
        ],
        [
         "2014-07-13",
         19
        ],
        [
         "2014-07-20",
         5
        ],
        [
         "2014-07-27",
         12
        ],
        [
         "2014-08-03",
         10
        ],
        [
         "2014-08-10",
         22
        ],
        [
         "2014-08-17",
         12
        ],
        [
         "2014-08-24",
         4
        ],
        [
         "2014-08-31",
         17
        ],
        [
         "2014-09-07",
         9
        ],
        [
         "2014-09-14",
         11
        ],
        [
         "2014-09-21",
         7
        ],
        [
         "2014-09-28",
         6
        ],
        [
         "2014-10-05",
         15
        ],
        [
         "2014-10-12",
         18
        ],
        [
         "2014-10-19",
         15
        ],
        [
         "2014-10-26",
         13
        ],
        [
         "2014-11-02",
         8
        ],
        [
         "2014-11-09",
         9
        ],
        [
         "2014-11-16",
         11
        ],
        [
         "2014-11-23",
         21
        ],
        [
         "2014-11-30",
         9
        ],
        [
         "2014-12-07",
         19
        ],
        [
         "2014-12-14",
         13
        ],
        [
         "2014-12-21",
         12
        ],
        [
         "2014-12-28",
         22
        ],
        [
         "2015-01-04",
         11
        ],
        [
         "2015-01-11",
         8
        ],
        [
         "2015-01-18",
         10
        ],
        [
         "2015-01-25",
         7
        ],
        [
         "2015-02-01",
         15
        ],
        [
         "2015-02-08",
         11
        ],
        [
         "2015-02-15",
         17
        ],
        [
         "2015-02-22",
         14
        ],
        [
         "2015-03-01",
         22
        ],
        [
         "2015-03-08",
         8
        ],
        [
         "2015-03-15",
         13
        ],
        [
         "2015-03-22",
         18
        ],
        [
         "2015-03-29",
         12
        ],
        [
         "2015-04-05",
         13
        ],
        [
         "2015-04-12",
         14
        ],
        [
         "2015-04-19",
         9
        ],
        [
         "2015-04-26",
         15
        ],
        [
         "2015-05-03",
         12
        ],
        [
         "2015-05-10",
         21
        ],
        [
         "2015-05-17",
         9
        ],
        [
         "2015-05-24",
         19
        ],
        [
         "2015-05-31",
         13
        ],
        [
         "2015-06-07",
         19
        ],
        [
         "2015-06-14",
         13
        ],
        [
         "2015-06-21",
         15
        ],
        [
         "2015-06-28",
         22
        ],
        [
         "2015-07-05",
         20
        ],
        [
         "2015-07-12",
         15
        ],
        [
         "2015-07-19",
         6
        ],
        [
         "2015-07-26",
         17
        ],
        [
         "2015-08-02",
         13
        ],
        [
         "2015-08-09",
         8
        ],
        [
         "2015-08-16",
         14
        ],
        [
         "2015-08-23",
         13
        ],
        [
         "2015-08-30",
         14
        ],
        [
         "2015-09-06",
         16
        ],
        [
         "2015-09-13",
         6
        ],
        [
         "2015-09-20",
         23
        ],
        [
         "2015-09-27",
         10
        ],
        [
         "2015-10-04",
         7
        ],
        [
         "2015-10-11",
         12
        ],
        [
         "2015-10-18",
         20
        ],
        [
         "2015-10-25",
         18
        ],
        [
         "2015-11-01",
         17
        ],
        [
         "2015-11-08",
         14
        ],
        [
         "2015-11-15",
         9
        ],
        [
         "2015-11-22",
         14
        ],
        [
         "2015-11-29",
         13
        ],
        [
         "2015-12-06",
         23
        ],
        [
         "2015-12-13",
         9
        ],
        [
         "2015-12-20",
         8
        ],
        [
         "2015-12-27",
         8
        ],
        [
         "2016-01-03",
         9
        ],
        [
         "2016-01-10",
         11
        ],
        [
         "2016-01-17",
         24
        ],
        [
         "2016-01-24",
         8
        ],
        [
         "2016-01-31",
         19
        ],
        [
         "2016-02-07",
         27
        ],
        [
         "2016-02-14",
         17
        ],
        [
         "2016-02-21",
         23
        ],
        [
         "2016-02-28",
         9
        ],
        [
         "2016-03-06",
         9
        ],
        [
         "2016-03-13",
         6
        ],
        [
         "2016-03-20",
         14
        ],
        [
         "2016-03-27",
         23
        ],
        [
         "2016-04-03",
         20
        ],
        [
         "2016-04-10",
         17
        ],
        [
         "2016-04-17",
         15
        ],
        [
         "2016-04-24",
         12
        ],
        [
         "2016-05-01",
         9
        ],
        [
         "2016-05-08",
         10
        ],
        [
         "2016-05-15",
         11
        ],
        [
         "2016-05-22",
         10
        ],
        [
         "2016-05-29",
         13
        ],
        [
         "2016-06-05",
         12
        ],
        [
         "2016-06-12",
         17
        ],
        [
         "2016-06-19",
         18
        ],
        [
         "2016-06-26",
         15
        ],
        [
         "2016-07-03",
         17
        ],
        [
         "2016-07-10",
         9
        ],
        [
         "2016-07-17",
         14
        ],
        [
         "2016-07-24",
         17
        ],
        [
         "2016-07-31",
         14
        ],
        [
         "2016-08-07",
         13
        ],
        [
         "2016-08-14",
         19
        ],
        [
         "2016-08-21",
         18
        ],
        [
         "2016-08-28",
         23
        ],
        [
         "2016-09-04",
         14
        ],
        [
         "2016-09-11",
         29
        ],
        [
         "2016-09-18",
         18
        ],
        [
         "2016-09-25",
         20
        ],
        [
         "2016-10-02",
         17
        ],
        [
         "2016-10-09",
         23
        ],
        [
         "2016-10-16",
         13
        ],
        [
         "2016-10-23",
         13
        ],
        [
         "2016-10-30",
         13
        ],
        [
         "2016-11-06",
         13
        ],
        [
         "2016-11-13",
         9
        ],
        [
         "2016-11-20",
         15
        ],
        [
         "2016-11-27",
         13
        ],
        [
         "2016-12-04",
         24
        ],
        [
         "2016-12-11",
         35
        ],
        [
         "2016-12-18",
         16
        ],
        [
         "2016-12-25",
         8
        ],
        [
         "2017-01-01",
         30
        ],
        [
         "2017-01-08",
         9
        ],
        [
         "2017-01-15",
         28
        ],
        [
         "2017-01-22",
         9
        ],
        [
         "2017-01-29",
         15
        ],
        [
         "2017-02-05",
         17
        ],
        [
         "2017-02-12",
         11
        ],
        [
         "2017-02-19",
         24
        ],
        [
         "2017-02-26",
         19
        ],
        [
         "2017-03-05",
         17
        ],
        [
         "2017-03-12",
         15
        ],
        [
         "2017-03-19",
         11
        ],
        [
         "2017-03-26",
         19
        ],
        [
         "2017-04-02",
         17
        ],
        [
         "2017-04-09",
         9
        ],
        [
         "2017-04-16",
         23
        ],
        [
         "2017-04-23",
         12
        ],
        [
         "2017-04-30",
         12
        ],
        [
         "2017-05-07",
         18
        ],
        [
         "2017-05-14",
         21
        ],
        [
         "2017-05-21",
         15
        ],
        [
         "2017-05-28",
         16
        ],
        [
         "2017-06-04",
         16
        ],
        [
         "2017-06-11",
         13
        ],
        [
         "2017-06-18",
         9
        ],
        [
         "2017-06-25",
         31
        ],
        [
         "2017-07-02",
         14
        ],
        [
         "2017-07-09",
         17
        ],
        [
         "2017-07-16",
         20
        ],
        [
         "2017-07-23",
         18
        ],
        [
         "2017-07-30",
         18
        ],
        [
         "2017-08-06",
         20
        ],
        [
         "2017-08-13",
         12
        ],
        [
         "2017-08-20",
         16
        ],
        [
         "2017-08-27",
         16
        ],
        [
         "2017-09-03",
         20
        ],
        [
         "2017-09-10",
         22
        ],
        [
         "2017-09-17",
         22
        ],
        [
         "2017-09-24",
         14
        ],
        [
         "2017-10-01",
         15
        ],
        [
         "2017-10-08",
         9
        ],
        [
         "2017-10-15",
         12
        ],
        [
         "2017-10-22",
         13
        ],
        [
         "2017-10-29",
         17
        ],
        [
         "2017-11-05",
         21
        ],
        [
         "2017-11-12",
         7
        ],
        [
         "2017-11-19",
         24
        ],
        [
         "2017-11-26",
         13
        ],
        [
         "2017-12-03",
         9
        ],
        [
         "2017-12-10",
         28
        ],
        [
         "2017-12-17",
         20
        ],
        [
         "2017-12-24",
         17
        ],
        [
         "2017-12-31",
         20
        ],
        [
         "2018-01-07",
         15
        ],
        [
         "2018-01-14",
         10
        ],
        [
         "2018-01-21",
         19
        ],
        [
         "2018-01-28",
         13
        ],
        [
         "2018-02-04",
         12
        ],
        [
         "2018-02-11",
         15
        ],
        [
         "2018-02-18",
         8
        ],
        [
         "2018-02-25",
         15
        ],
        [
         "2018-03-04",
         22
        ],
        [
         "2018-03-11",
         13
        ],
        [
         "2018-03-18",
         17
        ],
        [
         "2018-03-25",
         14
        ],
        [
         "2018-04-01",
         9
        ],
        [
         "2018-04-08",
         23
        ],
        [
         "2018-04-15",
         12
        ],
        [
         "2018-04-22",
         22
        ],
        [
         "2018-04-29",
         16
        ],
        [
         "2018-05-06",
         17
        ],
        [
         "2018-05-13",
         7
        ]
       ],
       "datasetInfos": [],
       "dbfsResultPath": null,
       "isJsonSchema": true,
       "metadata": {},
       "overflow": false,
       "plotOptions": {
        "customPlotOptions": {},
        "displayType": "plotlyBar",
        "pivotAggregation": null,
        "pivotColumns": null,
        "xColumns": null,
        "yColumns": null
       },
       "removedWidgets": [],
       "schema": [
        {
         "metadata": "{}",
         "name": "Date",
         "type": "\"date\""
        },
        {
         "metadata": "{}",
         "name": "Counts",
         "type": "\"long\""
        }
       ],
       "type": "table"
      }
     },
     "output_type": "display_data"
    }
   ],
   "source": [
    "# SQL Way\n",
    "crime_sunday_SFdown=spark.sql(\"select Date,count(*) as Counts from sf_crime where (X>-122.4313 and X<-122.4213) and (Y>37.7540 and Y<37.7740) and DayOfWeek='Sunday' group by 1 order by 1\")\n",
    "display(crime_sunday_SFdown)"
   ]
  },
  {
   "cell_type": "code",
   "execution_count": 0,
   "metadata": {
    "application/vnd.databricks.v1+cell": {
     "cellMetadata": {},
     "inputWidgets": {},
     "nuid": "157f58b4-65c2-4718-a6a6-76a8edc521e5",
     "showTitle": true,
     "title": "3.2 Spark Dataframe based solution"
    }
   },
   "outputs": [
    {
     "data": {
      "text/html": [
       "<style scoped>\n",
       "  .table-result-container {\n",
       "    max-height: 300px;\n",
       "    overflow: auto;\n",
       "  }\n",
       "  table, th, td {\n",
       "    border: 1px solid black;\n",
       "    border-collapse: collapse;\n",
       "  }\n",
       "  th, td {\n",
       "    padding: 5px;\n",
       "  }\n",
       "  th {\n",
       "    text-align: left;\n",
       "  }\n",
       "</style><div class='table-result-container'><table class='table-result'><thead style='background-color: white'><tr><th>Date</th><th>DayOfWeek</th><th>count</th></tr></thead><tbody><tr><td>2003-01-05</td><td>Sunday</td><td>13</td></tr><tr><td>2003-01-12</td><td>Sunday</td><td>20</td></tr><tr><td>2003-01-19</td><td>Sunday</td><td>17</td></tr><tr><td>2003-01-26</td><td>Sunday</td><td>13</td></tr><tr><td>2003-02-02</td><td>Sunday</td><td>14</td></tr><tr><td>2003-02-09</td><td>Sunday</td><td>22</td></tr><tr><td>2003-02-16</td><td>Sunday</td><td>12</td></tr><tr><td>2003-02-23</td><td>Sunday</td><td>14</td></tr><tr><td>2003-03-02</td><td>Sunday</td><td>16</td></tr><tr><td>2003-03-09</td><td>Sunday</td><td>8</td></tr><tr><td>2003-03-16</td><td>Sunday</td><td>18</td></tr><tr><td>2003-03-23</td><td>Sunday</td><td>9</td></tr><tr><td>2003-03-30</td><td>Sunday</td><td>20</td></tr><tr><td>2003-04-06</td><td>Sunday</td><td>8</td></tr><tr><td>2003-04-13</td><td>Sunday</td><td>13</td></tr><tr><td>2003-04-20</td><td>Sunday</td><td>13</td></tr><tr><td>2003-04-27</td><td>Sunday</td><td>5</td></tr><tr><td>2003-05-04</td><td>Sunday</td><td>9</td></tr><tr><td>2003-05-11</td><td>Sunday</td><td>5</td></tr><tr><td>2003-05-18</td><td>Sunday</td><td>16</td></tr><tr><td>2003-05-25</td><td>Sunday</td><td>10</td></tr><tr><td>2003-06-01</td><td>Sunday</td><td>11</td></tr><tr><td>2003-06-08</td><td>Sunday</td><td>25</td></tr><tr><td>2003-06-15</td><td>Sunday</td><td>6</td></tr><tr><td>2003-06-22</td><td>Sunday</td><td>6</td></tr><tr><td>2003-06-29</td><td>Sunday</td><td>16</td></tr><tr><td>2003-07-06</td><td>Sunday</td><td>10</td></tr><tr><td>2003-07-13</td><td>Sunday</td><td>17</td></tr><tr><td>2003-07-20</td><td>Sunday</td><td>17</td></tr><tr><td>2003-07-27</td><td>Sunday</td><td>8</td></tr><tr><td>2003-08-03</td><td>Sunday</td><td>6</td></tr><tr><td>2003-08-10</td><td>Sunday</td><td>5</td></tr><tr><td>2003-08-17</td><td>Sunday</td><td>11</td></tr><tr><td>2003-08-24</td><td>Sunday</td><td>10</td></tr><tr><td>2003-08-31</td><td>Sunday</td><td>8</td></tr><tr><td>2003-09-07</td><td>Sunday</td><td>13</td></tr><tr><td>2003-09-14</td><td>Sunday</td><td>10</td></tr><tr><td>2003-09-21</td><td>Sunday</td><td>10</td></tr><tr><td>2003-09-28</td><td>Sunday</td><td>7</td></tr><tr><td>2003-10-05</td><td>Sunday</td><td>14</td></tr><tr><td>2003-10-12</td><td>Sunday</td><td>13</td></tr><tr><td>2003-10-19</td><td>Sunday</td><td>11</td></tr><tr><td>2003-10-26</td><td>Sunday</td><td>16</td></tr><tr><td>2003-11-02</td><td>Sunday</td><td>17</td></tr><tr><td>2003-11-09</td><td>Sunday</td><td>16</td></tr><tr><td>2003-11-16</td><td>Sunday</td><td>10</td></tr><tr><td>2003-11-23</td><td>Sunday</td><td>14</td></tr><tr><td>2003-11-30</td><td>Sunday</td><td>6</td></tr><tr><td>2003-12-07</td><td>Sunday</td><td>4</td></tr><tr><td>2003-12-14</td><td>Sunday</td><td>10</td></tr><tr><td>2003-12-21</td><td>Sunday</td><td>12</td></tr><tr><td>2003-12-28</td><td>Sunday</td><td>11</td></tr><tr><td>2004-01-04</td><td>Sunday</td><td>14</td></tr><tr><td>2004-01-11</td><td>Sunday</td><td>15</td></tr><tr><td>2004-01-18</td><td>Sunday</td><td>6</td></tr><tr><td>2004-01-25</td><td>Sunday</td><td>22</td></tr><tr><td>2004-02-01</td><td>Sunday</td><td>16</td></tr><tr><td>2004-02-08</td><td>Sunday</td><td>20</td></tr><tr><td>2004-02-15</td><td>Sunday</td><td>11</td></tr><tr><td>2004-02-22</td><td>Sunday</td><td>18</td></tr><tr><td>2004-02-29</td><td>Sunday</td><td>11</td></tr><tr><td>2004-03-07</td><td>Sunday</td><td>16</td></tr><tr><td>2004-03-14</td><td>Sunday</td><td>8</td></tr><tr><td>2004-03-21</td><td>Sunday</td><td>8</td></tr><tr><td>2004-03-28</td><td>Sunday</td><td>12</td></tr><tr><td>2004-04-04</td><td>Sunday</td><td>13</td></tr><tr><td>2004-04-11</td><td>Sunday</td><td>15</td></tr><tr><td>2004-04-18</td><td>Sunday</td><td>10</td></tr><tr><td>2004-04-25</td><td>Sunday</td><td>11</td></tr><tr><td>2004-05-02</td><td>Sunday</td><td>12</td></tr><tr><td>2004-05-09</td><td>Sunday</td><td>16</td></tr><tr><td>2004-05-16</td><td>Sunday</td><td>22</td></tr><tr><td>2004-05-23</td><td>Sunday</td><td>5</td></tr><tr><td>2004-05-30</td><td>Sunday</td><td>15</td></tr><tr><td>2004-06-06</td><td>Sunday</td><td>16</td></tr><tr><td>2004-06-13</td><td>Sunday</td><td>10</td></tr><tr><td>2004-06-20</td><td>Sunday</td><td>10</td></tr><tr><td>2004-06-27</td><td>Sunday</td><td>11</td></tr><tr><td>2004-07-04</td><td>Sunday</td><td>10</td></tr><tr><td>2004-07-11</td><td>Sunday</td><td>11</td></tr><tr><td>2004-07-18</td><td>Sunday</td><td>18</td></tr><tr><td>2004-07-25</td><td>Sunday</td><td>11</td></tr><tr><td>2004-08-01</td><td>Sunday</td><td>16</td></tr><tr><td>2004-08-08</td><td>Sunday</td><td>13</td></tr><tr><td>2004-08-15</td><td>Sunday</td><td>8</td></tr><tr><td>2004-08-22</td><td>Sunday</td><td>12</td></tr><tr><td>2004-08-29</td><td>Sunday</td><td>22</td></tr><tr><td>2004-09-05</td><td>Sunday</td><td>15</td></tr><tr><td>2004-09-12</td><td>Sunday</td><td>9</td></tr><tr><td>2004-09-19</td><td>Sunday</td><td>21</td></tr><tr><td>2004-09-26</td><td>Sunday</td><td>14</td></tr><tr><td>2004-10-03</td><td>Sunday</td><td>13</td></tr><tr><td>2004-10-10</td><td>Sunday</td><td>18</td></tr><tr><td>2004-10-17</td><td>Sunday</td><td>15</td></tr><tr><td>2004-10-24</td><td>Sunday</td><td>19</td></tr><tr><td>2004-10-31</td><td>Sunday</td><td>31</td></tr><tr><td>2004-11-07</td><td>Sunday</td><td>14</td></tr><tr><td>2004-11-14</td><td>Sunday</td><td>18</td></tr><tr><td>2004-11-21</td><td>Sunday</td><td>10</td></tr><tr><td>2004-11-28</td><td>Sunday</td><td>8</td></tr><tr><td>2004-12-05</td><td>Sunday</td><td>9</td></tr><tr><td>2004-12-12</td><td>Sunday</td><td>10</td></tr><tr><td>2004-12-19</td><td>Sunday</td><td>12</td></tr><tr><td>2004-12-26</td><td>Sunday</td><td>7</td></tr><tr><td>2005-01-02</td><td>Sunday</td><td>8</td></tr><tr><td>2005-01-09</td><td>Sunday</td><td>16</td></tr><tr><td>2005-01-16</td><td>Sunday</td><td>8</td></tr><tr><td>2005-01-23</td><td>Sunday</td><td>10</td></tr><tr><td>2005-01-30</td><td>Sunday</td><td>10</td></tr><tr><td>2005-02-06</td><td>Sunday</td><td>10</td></tr><tr><td>2005-02-13</td><td>Sunday</td><td>7</td></tr><tr><td>2005-02-20</td><td>Sunday</td><td>14</td></tr><tr><td>2005-02-27</td><td>Sunday</td><td>10</td></tr><tr><td>2005-03-06</td><td>Sunday</td><td>14</td></tr><tr><td>2005-03-13</td><td>Sunday</td><td>13</td></tr><tr><td>2005-03-20</td><td>Sunday</td><td>8</td></tr><tr><td>2005-03-27</td><td>Sunday</td><td>6</td></tr><tr><td>2005-04-03</td><td>Sunday</td><td>18</td></tr><tr><td>2005-04-10</td><td>Sunday</td><td>16</td></tr><tr><td>2005-04-17</td><td>Sunday</td><td>4</td></tr><tr><td>2005-04-24</td><td>Sunday</td><td>11</td></tr><tr><td>2005-05-01</td><td>Sunday</td><td>11</td></tr><tr><td>2005-05-08</td><td>Sunday</td><td>12</td></tr><tr><td>2005-05-15</td><td>Sunday</td><td>7</td></tr><tr><td>2005-05-22</td><td>Sunday</td><td>6</td></tr><tr><td>2005-05-29</td><td>Sunday</td><td>10</td></tr><tr><td>2005-06-05</td><td>Sunday</td><td>9</td></tr><tr><td>2005-06-12</td><td>Sunday</td><td>10</td></tr><tr><td>2005-06-19</td><td>Sunday</td><td>12</td></tr><tr><td>2005-06-26</td><td>Sunday</td><td>18</td></tr><tr><td>2005-07-03</td><td>Sunday</td><td>12</td></tr><tr><td>2005-07-10</td><td>Sunday</td><td>14</td></tr><tr><td>2005-07-17</td><td>Sunday</td><td>9</td></tr><tr><td>2005-07-24</td><td>Sunday</td><td>13</td></tr><tr><td>2005-07-31</td><td>Sunday</td><td>10</td></tr><tr><td>2005-08-07</td><td>Sunday</td><td>10</td></tr><tr><td>2005-08-14</td><td>Sunday</td><td>3</td></tr><tr><td>2005-08-21</td><td>Sunday</td><td>11</td></tr><tr><td>2005-08-28</td><td>Sunday</td><td>13</td></tr><tr><td>2005-09-04</td><td>Sunday</td><td>9</td></tr><tr><td>2005-09-11</td><td>Sunday</td><td>8</td></tr><tr><td>2005-09-18</td><td>Sunday</td><td>5</td></tr><tr><td>2005-09-25</td><td>Sunday</td><td>19</td></tr><tr><td>2005-10-02</td><td>Sunday</td><td>16</td></tr><tr><td>2005-10-09</td><td>Sunday</td><td>25</td></tr><tr><td>2005-10-16</td><td>Sunday</td><td>7</td></tr><tr><td>2005-10-23</td><td>Sunday</td><td>9</td></tr><tr><td>2005-10-30</td><td>Sunday</td><td>9</td></tr><tr><td>2005-11-06</td><td>Sunday</td><td>8</td></tr><tr><td>2005-11-13</td><td>Sunday</td><td>11</td></tr><tr><td>2005-11-20</td><td>Sunday</td><td>16</td></tr><tr><td>2005-11-27</td><td>Sunday</td><td>13</td></tr><tr><td>2005-12-04</td><td>Sunday</td><td>16</td></tr><tr><td>2005-12-11</td><td>Sunday</td><td>6</td></tr><tr><td>2005-12-18</td><td>Sunday</td><td>7</td></tr><tr><td>2005-12-25</td><td>Sunday</td><td>15</td></tr><tr><td>2006-01-01</td><td>Sunday</td><td>20</td></tr><tr><td>2006-01-08</td><td>Sunday</td><td>14</td></tr><tr><td>2006-01-15</td><td>Sunday</td><td>4</td></tr><tr><td>2006-01-22</td><td>Sunday</td><td>11</td></tr><tr><td>2006-01-29</td><td>Sunday</td><td>13</td></tr><tr><td>2006-02-05</td><td>Sunday</td><td>11</td></tr><tr><td>2006-02-12</td><td>Sunday</td><td>11</td></tr><tr><td>2006-02-19</td><td>Sunday</td><td>20</td></tr><tr><td>2006-02-26</td><td>Sunday</td><td>9</td></tr><tr><td>2006-03-05</td><td>Sunday</td><td>7</td></tr><tr><td>2006-03-12</td><td>Sunday</td><td>6</td></tr><tr><td>2006-03-19</td><td>Sunday</td><td>13</td></tr><tr><td>2006-03-26</td><td>Sunday</td><td>10</td></tr><tr><td>2006-04-02</td><td>Sunday</td><td>16</td></tr><tr><td>2006-04-09</td><td>Sunday</td><td>14</td></tr><tr><td>2006-04-16</td><td>Sunday</td><td>7</td></tr><tr><td>2006-04-23</td><td>Sunday</td><td>12</td></tr><tr><td>2006-04-30</td><td>Sunday</td><td>12</td></tr><tr><td>2006-05-07</td><td>Sunday</td><td>7</td></tr><tr><td>2006-05-14</td><td>Sunday</td><td>14</td></tr><tr><td>2006-05-21</td><td>Sunday</td><td>18</td></tr><tr><td>2006-05-28</td><td>Sunday</td><td>13</td></tr><tr><td>2006-06-04</td><td>Sunday</td><td>9</td></tr><tr><td>2006-06-11</td><td>Sunday</td><td>9</td></tr><tr><td>2006-06-18</td><td>Sunday</td><td>10</td></tr><tr><td>2006-06-25</td><td>Sunday</td><td>18</td></tr><tr><td>2006-07-02</td><td>Sunday</td><td>20</td></tr><tr><td>2006-07-09</td><td>Sunday</td><td>12</td></tr><tr><td>2006-07-16</td><td>Sunday</td><td>22</td></tr><tr><td>2006-07-23</td><td>Sunday</td><td>15</td></tr><tr><td>2006-07-30</td><td>Sunday</td><td>26</td></tr><tr><td>2006-08-06</td><td>Sunday</td><td>6</td></tr><tr><td>2006-08-13</td><td>Sunday</td><td>21</td></tr><tr><td>2006-08-20</td><td>Sunday</td><td>16</td></tr><tr><td>2006-08-27</td><td>Sunday</td><td>16</td></tr><tr><td>2006-09-03</td><td>Sunday</td><td>8</td></tr><tr><td>2006-09-10</td><td>Sunday</td><td>12</td></tr><tr><td>2006-09-17</td><td>Sunday</td><td>7</td></tr><tr><td>2006-09-24</td><td>Sunday</td><td>6</td></tr><tr><td>2006-10-01</td><td>Sunday</td><td>19</td></tr><tr><td>2006-10-08</td><td>Sunday</td><td>10</td></tr><tr><td>2006-10-15</td><td>Sunday</td><td>8</td></tr><tr><td>2006-10-22</td><td>Sunday</td><td>12</td></tr><tr><td>2006-10-29</td><td>Sunday</td><td>9</td></tr><tr><td>2006-11-05</td><td>Sunday</td><td>14</td></tr><tr><td>2006-11-12</td><td>Sunday</td><td>16</td></tr><tr><td>2006-11-19</td><td>Sunday</td><td>12</td></tr><tr><td>2006-11-26</td><td>Sunday</td><td>9</td></tr><tr><td>2006-12-03</td><td>Sunday</td><td>21</td></tr><tr><td>2006-12-10</td><td>Sunday</td><td>14</td></tr><tr><td>2006-12-17</td><td>Sunday</td><td>9</td></tr><tr><td>2006-12-24</td><td>Sunday</td><td>5</td></tr><tr><td>2006-12-31</td><td>Sunday</td><td>11</td></tr><tr><td>2007-01-07</td><td>Sunday</td><td>19</td></tr><tr><td>2007-01-14</td><td>Sunday</td><td>6</td></tr><tr><td>2007-01-21</td><td>Sunday</td><td>7</td></tr><tr><td>2007-01-28</td><td>Sunday</td><td>12</td></tr><tr><td>2007-02-04</td><td>Sunday</td><td>6</td></tr><tr><td>2007-02-11</td><td>Sunday</td><td>13</td></tr><tr><td>2007-02-18</td><td>Sunday</td><td>16</td></tr><tr><td>2007-02-25</td><td>Sunday</td><td>8</td></tr><tr><td>2007-03-04</td><td>Sunday</td><td>6</td></tr><tr><td>2007-03-11</td><td>Sunday</td><td>15</td></tr><tr><td>2007-03-18</td><td>Sunday</td><td>5</td></tr><tr><td>2007-03-25</td><td>Sunday</td><td>17</td></tr><tr><td>2007-04-01</td><td>Sunday</td><td>18</td></tr><tr><td>2007-04-08</td><td>Sunday</td><td>13</td></tr><tr><td>2007-04-15</td><td>Sunday</td><td>13</td></tr><tr><td>2007-04-22</td><td>Sunday</td><td>12</td></tr><tr><td>2007-04-29</td><td>Sunday</td><td>18</td></tr><tr><td>2007-05-06</td><td>Sunday</td><td>3</td></tr><tr><td>2007-05-13</td><td>Sunday</td><td>5</td></tr><tr><td>2007-05-20</td><td>Sunday</td><td>11</td></tr><tr><td>2007-05-27</td><td>Sunday</td><td>12</td></tr><tr><td>2007-06-03</td><td>Sunday</td><td>7</td></tr><tr><td>2007-06-10</td><td>Sunday</td><td>12</td></tr><tr><td>2007-06-17</td><td>Sunday</td><td>18</td></tr><tr><td>2007-06-24</td><td>Sunday</td><td>28</td></tr><tr><td>2007-07-01</td><td>Sunday</td><td>15</td></tr><tr><td>2007-07-08</td><td>Sunday</td><td>12</td></tr><tr><td>2007-07-15</td><td>Sunday</td><td>9</td></tr><tr><td>2007-07-22</td><td>Sunday</td><td>8</td></tr><tr><td>2007-07-29</td><td>Sunday</td><td>8</td></tr><tr><td>2007-08-05</td><td>Sunday</td><td>8</td></tr><tr><td>2007-08-12</td><td>Sunday</td><td>18</td></tr><tr><td>2007-08-19</td><td>Sunday</td><td>8</td></tr><tr><td>2007-08-26</td><td>Sunday</td><td>14</td></tr><tr><td>2007-09-02</td><td>Sunday</td><td>9</td></tr><tr><td>2007-09-09</td><td>Sunday</td><td>23</td></tr><tr><td>2007-09-16</td><td>Sunday</td><td>16</td></tr><tr><td>2007-09-23</td><td>Sunday</td><td>1</td></tr><tr><td>2007-09-30</td><td>Sunday</td><td>7</td></tr><tr><td>2007-10-07</td><td>Sunday</td><td>14</td></tr><tr><td>2007-10-14</td><td>Sunday</td><td>11</td></tr><tr><td>2007-10-21</td><td>Sunday</td><td>8</td></tr><tr><td>2007-10-28</td><td>Sunday</td><td>18</td></tr><tr><td>2007-11-04</td><td>Sunday</td><td>12</td></tr><tr><td>2007-11-11</td><td>Sunday</td><td>14</td></tr><tr><td>2007-11-18</td><td>Sunday</td><td>16</td></tr><tr><td>2007-11-25</td><td>Sunday</td><td>11</td></tr><tr><td>2007-12-02</td><td>Sunday</td><td>8</td></tr><tr><td>2007-12-09</td><td>Sunday</td><td>11</td></tr><tr><td>2007-12-23</td><td>Sunday</td><td>5</td></tr><tr><td>2007-12-30</td><td>Sunday</td><td>12</td></tr><tr><td>2008-01-06</td><td>Sunday</td><td>7</td></tr><tr><td>2008-01-13</td><td>Sunday</td><td>10</td></tr><tr><td>2008-01-20</td><td>Sunday</td><td>19</td></tr><tr><td>2008-01-27</td><td>Sunday</td><td>6</td></tr><tr><td>2008-02-03</td><td>Sunday</td><td>12</td></tr><tr><td>2008-02-10</td><td>Sunday</td><td>9</td></tr><tr><td>2008-02-17</td><td>Sunday</td><td>7</td></tr><tr><td>2008-02-24</td><td>Sunday</td><td>8</td></tr><tr><td>2008-03-02</td><td>Sunday</td><td>8</td></tr><tr><td>2008-03-09</td><td>Sunday</td><td>10</td></tr><tr><td>2008-03-16</td><td>Sunday</td><td>14</td></tr><tr><td>2008-03-23</td><td>Sunday</td><td>16</td></tr><tr><td>2008-03-30</td><td>Sunday</td><td>7</td></tr><tr><td>2008-04-06</td><td>Sunday</td><td>8</td></tr><tr><td>2008-04-13</td><td>Sunday</td><td>11</td></tr><tr><td>2008-04-20</td><td>Sunday</td><td>14</td></tr><tr><td>2008-04-27</td><td>Sunday</td><td>8</td></tr><tr><td>2008-05-04</td><td>Sunday</td><td>19</td></tr><tr><td>2008-05-11</td><td>Sunday</td><td>9</td></tr><tr><td>2008-05-18</td><td>Sunday</td><td>10</td></tr><tr><td>2008-05-25</td><td>Sunday</td><td>10</td></tr><tr><td>2008-06-01</td><td>Sunday</td><td>23</td></tr><tr><td>2008-06-08</td><td>Sunday</td><td>13</td></tr><tr><td>2008-06-15</td><td>Sunday</td><td>20</td></tr><tr><td>2008-06-22</td><td>Sunday</td><td>5</td></tr><tr><td>2008-06-29</td><td>Sunday</td><td>13</td></tr><tr><td>2008-07-06</td><td>Sunday</td><td>9</td></tr><tr><td>2008-07-13</td><td>Sunday</td><td>14</td></tr><tr><td>2008-07-20</td><td>Sunday</td><td>7</td></tr><tr><td>2008-07-27</td><td>Sunday</td><td>2</td></tr><tr><td>2008-08-03</td><td>Sunday</td><td>9</td></tr><tr><td>2008-08-10</td><td>Sunday</td><td>20</td></tr><tr><td>2008-08-17</td><td>Sunday</td><td>9</td></tr><tr><td>2008-08-24</td><td>Sunday</td><td>14</td></tr><tr><td>2008-08-31</td><td>Sunday</td><td>11</td></tr><tr><td>2008-09-07</td><td>Sunday</td><td>19</td></tr><tr><td>2008-09-14</td><td>Sunday</td><td>10</td></tr><tr><td>2008-09-21</td><td>Sunday</td><td>11</td></tr><tr><td>2008-09-28</td><td>Sunday</td><td>16</td></tr><tr><td>2008-10-05</td><td>Sunday</td><td>12</td></tr><tr><td>2008-10-12</td><td>Sunday</td><td>5</td></tr><tr><td>2008-10-19</td><td>Sunday</td><td>19</td></tr><tr><td>2008-10-26</td><td>Sunday</td><td>11</td></tr><tr><td>2008-11-02</td><td>Sunday</td><td>14</td></tr><tr><td>2008-11-09</td><td>Sunday</td><td>10</td></tr><tr><td>2008-11-16</td><td>Sunday</td><td>11</td></tr><tr><td>2008-11-23</td><td>Sunday</td><td>17</td></tr><tr><td>2008-11-30</td><td>Sunday</td><td>9</td></tr><tr><td>2008-12-07</td><td>Sunday</td><td>11</td></tr><tr><td>2008-12-14</td><td>Sunday</td><td>4</td></tr><tr><td>2008-12-21</td><td>Sunday</td><td>8</td></tr><tr><td>2008-12-28</td><td>Sunday</td><td>13</td></tr><tr><td>2009-01-04</td><td>Sunday</td><td>10</td></tr><tr><td>2009-01-11</td><td>Sunday</td><td>17</td></tr><tr><td>2009-01-18</td><td>Sunday</td><td>15</td></tr><tr><td>2009-01-25</td><td>Sunday</td><td>19</td></tr><tr><td>2009-02-01</td><td>Sunday</td><td>11</td></tr><tr><td>2009-02-08</td><td>Sunday</td><td>7</td></tr><tr><td>2009-02-15</td><td>Sunday</td><td>19</td></tr><tr><td>2009-02-22</td><td>Sunday</td><td>11</td></tr><tr><td>2009-03-01</td><td>Sunday</td><td>18</td></tr><tr><td>2009-03-08</td><td>Sunday</td><td>10</td></tr><tr><td>2009-03-15</td><td>Sunday</td><td>15</td></tr><tr><td>2009-03-22</td><td>Sunday</td><td>8</td></tr><tr><td>2009-03-29</td><td>Sunday</td><td>21</td></tr><tr><td>2009-04-05</td><td>Sunday</td><td>7</td></tr><tr><td>2009-04-12</td><td>Sunday</td><td>15</td></tr><tr><td>2009-04-19</td><td>Sunday</td><td>20</td></tr><tr><td>2009-04-26</td><td>Sunday</td><td>17</td></tr><tr><td>2009-05-03</td><td>Sunday</td><td>14</td></tr><tr><td>2009-05-10</td><td>Sunday</td><td>9</td></tr><tr><td>2009-05-17</td><td>Sunday</td><td>13</td></tr><tr><td>2009-05-24</td><td>Sunday</td><td>14</td></tr><tr><td>2009-05-31</td><td>Sunday</td><td>11</td></tr><tr><td>2009-06-07</td><td>Sunday</td><td>14</td></tr><tr><td>2009-06-14</td><td>Sunday</td><td>10</td></tr><tr><td>2009-06-21</td><td>Sunday</td><td>13</td></tr><tr><td>2009-06-28</td><td>Sunday</td><td>10</td></tr><tr><td>2009-07-05</td><td>Sunday</td><td>6</td></tr><tr><td>2009-07-12</td><td>Sunday</td><td>7</td></tr><tr><td>2009-07-19</td><td>Sunday</td><td>15</td></tr><tr><td>2009-07-26</td><td>Sunday</td><td>10</td></tr><tr><td>2009-08-02</td><td>Sunday</td><td>6</td></tr><tr><td>2009-08-09</td><td>Sunday</td><td>6</td></tr><tr><td>2009-08-16</td><td>Sunday</td><td>12</td></tr><tr><td>2009-08-23</td><td>Sunday</td><td>12</td></tr><tr><td>2009-08-30</td><td>Sunday</td><td>12</td></tr><tr><td>2009-09-06</td><td>Sunday</td><td>14</td></tr><tr><td>2009-09-13</td><td>Sunday</td><td>11</td></tr><tr><td>2009-09-20</td><td>Sunday</td><td>16</td></tr><tr><td>2009-09-27</td><td>Sunday</td><td>14</td></tr><tr><td>2009-10-04</td><td>Sunday</td><td>17</td></tr><tr><td>2009-10-11</td><td>Sunday</td><td>19</td></tr><tr><td>2009-10-18</td><td>Sunday</td><td>11</td></tr><tr><td>2009-10-25</td><td>Sunday</td><td>12</td></tr><tr><td>2009-11-01</td><td>Sunday</td><td>9</td></tr><tr><td>2009-11-08</td><td>Sunday</td><td>14</td></tr><tr><td>2009-11-15</td><td>Sunday</td><td>11</td></tr><tr><td>2009-11-22</td><td>Sunday</td><td>7</td></tr><tr><td>2009-11-29</td><td>Sunday</td><td>8</td></tr><tr><td>2009-12-06</td><td>Sunday</td><td>20</td></tr><tr><td>2009-12-13</td><td>Sunday</td><td>7</td></tr><tr><td>2009-12-20</td><td>Sunday</td><td>14</td></tr><tr><td>2009-12-27</td><td>Sunday</td><td>14</td></tr><tr><td>2010-01-03</td><td>Sunday</td><td>16</td></tr><tr><td>2010-01-10</td><td>Sunday</td><td>11</td></tr><tr><td>2010-01-17</td><td>Sunday</td><td>19</td></tr><tr><td>2010-01-24</td><td>Sunday</td><td>15</td></tr><tr><td>2010-01-31</td><td>Sunday</td><td>12</td></tr><tr><td>2010-02-07</td><td>Sunday</td><td>9</td></tr><tr><td>2010-02-14</td><td>Sunday</td><td>9</td></tr><tr><td>2010-02-21</td><td>Sunday</td><td>15</td></tr><tr><td>2010-02-28</td><td>Sunday</td><td>13</td></tr><tr><td>2010-03-07</td><td>Sunday</td><td>15</td></tr><tr><td>2010-03-14</td><td>Sunday</td><td>21</td></tr><tr><td>2010-03-21</td><td>Sunday</td><td>13</td></tr><tr><td>2010-03-28</td><td>Sunday</td><td>10</td></tr><tr><td>2010-04-04</td><td>Sunday</td><td>5</td></tr><tr><td>2010-04-11</td><td>Sunday</td><td>7</td></tr><tr><td>2010-04-18</td><td>Sunday</td><td>17</td></tr><tr><td>2010-04-25</td><td>Sunday</td><td>11</td></tr><tr><td>2010-05-02</td><td>Sunday</td><td>11</td></tr><tr><td>2010-05-09</td><td>Sunday</td><td>11</td></tr><tr><td>2010-05-16</td><td>Sunday</td><td>15</td></tr><tr><td>2010-05-23</td><td>Sunday</td><td>13</td></tr><tr><td>2010-05-30</td><td>Sunday</td><td>11</td></tr><tr><td>2010-06-06</td><td>Sunday</td><td>14</td></tr><tr><td>2010-06-13</td><td>Sunday</td><td>10</td></tr><tr><td>2010-06-20</td><td>Sunday</td><td>11</td></tr><tr><td>2010-06-27</td><td>Sunday</td><td>19</td></tr><tr><td>2010-07-04</td><td>Sunday</td><td>9</td></tr><tr><td>2010-07-11</td><td>Sunday</td><td>5</td></tr><tr><td>2010-07-18</td><td>Sunday</td><td>6</td></tr><tr><td>2010-07-25</td><td>Sunday</td><td>8</td></tr><tr><td>2010-08-01</td><td>Sunday</td><td>18</td></tr><tr><td>2010-08-08</td><td>Sunday</td><td>13</td></tr><tr><td>2010-08-15</td><td>Sunday</td><td>18</td></tr><tr><td>2010-08-22</td><td>Sunday</td><td>5</td></tr><tr><td>2010-08-29</td><td>Sunday</td><td>16</td></tr><tr><td>2010-09-05</td><td>Sunday</td><td>12</td></tr><tr><td>2010-09-12</td><td>Sunday</td><td>4</td></tr><tr><td>2010-09-19</td><td>Sunday</td><td>11</td></tr><tr><td>2010-09-26</td><td>Sunday</td><td>11</td></tr><tr><td>2010-10-03</td><td>Sunday</td><td>14</td></tr><tr><td>2010-10-10</td><td>Sunday</td><td>15</td></tr><tr><td>2010-10-17</td><td>Sunday</td><td>14</td></tr><tr><td>2010-10-24</td><td>Sunday</td><td>11</td></tr><tr><td>2010-10-31</td><td>Sunday</td><td>17</td></tr><tr><td>2010-11-07</td><td>Sunday</td><td>14</td></tr><tr><td>2010-11-14</td><td>Sunday</td><td>3</td></tr><tr><td>2010-11-21</td><td>Sunday</td><td>15</td></tr><tr><td>2010-11-28</td><td>Sunday</td><td>8</td></tr><tr><td>2010-12-05</td><td>Sunday</td><td>23</td></tr><tr><td>2010-12-12</td><td>Sunday</td><td>13</td></tr><tr><td>2010-12-19</td><td>Sunday</td><td>8</td></tr><tr><td>2010-12-26</td><td>Sunday</td><td>6</td></tr><tr><td>2011-01-02</td><td>Sunday</td><td>7</td></tr><tr><td>2011-01-09</td><td>Sunday</td><td>16</td></tr><tr><td>2011-01-16</td><td>Sunday</td><td>12</td></tr><tr><td>2011-01-23</td><td>Sunday</td><td>18</td></tr><tr><td>2011-01-30</td><td>Sunday</td><td>10</td></tr><tr><td>2011-02-06</td><td>Sunday</td><td>6</td></tr><tr><td>2011-02-13</td><td>Sunday</td><td>11</td></tr><tr><td>2011-02-20</td><td>Sunday</td><td>11</td></tr><tr><td>2011-02-27</td><td>Sunday</td><td>6</td></tr><tr><td>2011-03-06</td><td>Sunday</td><td>5</td></tr><tr><td>2011-03-13</td><td>Sunday</td><td>17</td></tr><tr><td>2011-03-20</td><td>Sunday</td><td>6</td></tr><tr><td>2011-03-27</td><td>Sunday</td><td>4</td></tr><tr><td>2011-04-03</td><td>Sunday</td><td>10</td></tr><tr><td>2011-04-10</td><td>Sunday</td><td>7</td></tr><tr><td>2011-04-17</td><td>Sunday</td><td>12</td></tr><tr><td>2011-04-24</td><td>Sunday</td><td>15</td></tr><tr><td>2011-05-01</td><td>Sunday</td><td>7</td></tr><tr><td>2011-05-08</td><td>Sunday</td><td>9</td></tr><tr><td>2011-05-15</td><td>Sunday</td><td>17</td></tr><tr><td>2011-05-22</td><td>Sunday</td><td>17</td></tr><tr><td>2011-05-29</td><td>Sunday</td><td>13</td></tr><tr><td>2011-06-05</td><td>Sunday</td><td>17</td></tr><tr><td>2011-06-12</td><td>Sunday</td><td>11</td></tr><tr><td>2011-06-19</td><td>Sunday</td><td>14</td></tr><tr><td>2011-06-26</td><td>Sunday</td><td>22</td></tr><tr><td>2011-07-03</td><td>Sunday</td><td>10</td></tr><tr><td>2011-07-10</td><td>Sunday</td><td>7</td></tr><tr><td>2011-07-17</td><td>Sunday</td><td>12</td></tr><tr><td>2011-07-24</td><td>Sunday</td><td>17</td></tr><tr><td>2011-07-31</td><td>Sunday</td><td>10</td></tr><tr><td>2011-08-07</td><td>Sunday</td><td>7</td></tr><tr><td>2011-08-14</td><td>Sunday</td><td>15</td></tr><tr><td>2011-08-21</td><td>Sunday</td><td>4</td></tr><tr><td>2011-08-28</td><td>Sunday</td><td>13</td></tr><tr><td>2011-09-04</td><td>Sunday</td><td>13</td></tr><tr><td>2011-09-11</td><td>Sunday</td><td>9</td></tr><tr><td>2011-09-18</td><td>Sunday</td><td>9</td></tr><tr><td>2011-09-25</td><td>Sunday</td><td>11</td></tr><tr><td>2011-10-02</td><td>Sunday</td><td>10</td></tr><tr><td>2011-10-09</td><td>Sunday</td><td>8</td></tr><tr><td>2011-10-16</td><td>Sunday</td><td>10</td></tr><tr><td>2011-10-23</td><td>Sunday</td><td>13</td></tr><tr><td>2011-10-30</td><td>Sunday</td><td>16</td></tr><tr><td>2011-11-06</td><td>Sunday</td><td>15</td></tr><tr><td>2011-11-13</td><td>Sunday</td><td>8</td></tr><tr><td>2011-11-20</td><td>Sunday</td><td>11</td></tr><tr><td>2011-11-27</td><td>Sunday</td><td>24</td></tr><tr><td>2011-12-04</td><td>Sunday</td><td>22</td></tr><tr><td>2011-12-11</td><td>Sunday</td><td>7</td></tr><tr><td>2011-12-18</td><td>Sunday</td><td>18</td></tr><tr><td>2011-12-25</td><td>Sunday</td><td>2</td></tr><tr><td>2012-01-01</td><td>Sunday</td><td>13</td></tr><tr><td>2012-01-08</td><td>Sunday</td><td>15</td></tr><tr><td>2012-01-15</td><td>Sunday</td><td>5</td></tr><tr><td>2012-01-22</td><td>Sunday</td><td>12</td></tr><tr><td>2012-01-29</td><td>Sunday</td><td>15</td></tr><tr><td>2012-02-05</td><td>Sunday</td><td>13</td></tr><tr><td>2012-02-12</td><td>Sunday</td><td>20</td></tr><tr><td>2012-02-19</td><td>Sunday</td><td>5</td></tr><tr><td>2012-02-26</td><td>Sunday</td><td>16</td></tr><tr><td>2012-03-04</td><td>Sunday</td><td>15</td></tr><tr><td>2012-03-11</td><td>Sunday</td><td>23</td></tr><tr><td>2012-03-18</td><td>Sunday</td><td>15</td></tr><tr><td>2012-03-25</td><td>Sunday</td><td>12</td></tr><tr><td>2012-04-01</td><td>Sunday</td><td>14</td></tr><tr><td>2012-04-08</td><td>Sunday</td><td>12</td></tr><tr><td>2012-04-15</td><td>Sunday</td><td>14</td></tr><tr><td>2012-04-22</td><td>Sunday</td><td>13</td></tr><tr><td>2012-04-29</td><td>Sunday</td><td>22</td></tr><tr><td>2012-05-06</td><td>Sunday</td><td>17</td></tr><tr><td>2012-05-13</td><td>Sunday</td><td>13</td></tr><tr><td>2012-05-20</td><td>Sunday</td><td>22</td></tr><tr><td>2012-05-27</td><td>Sunday</td><td>16</td></tr><tr><td>2012-06-03</td><td>Sunday</td><td>13</td></tr><tr><td>2012-06-10</td><td>Sunday</td><td>16</td></tr><tr><td>2012-06-17</td><td>Sunday</td><td>15</td></tr><tr><td>2012-06-24</td><td>Sunday</td><td>32</td></tr><tr><td>2012-07-01</td><td>Sunday</td><td>14</td></tr><tr><td>2012-07-08</td><td>Sunday</td><td>17</td></tr><tr><td>2012-07-15</td><td>Sunday</td><td>14</td></tr><tr><td>2012-07-22</td><td>Sunday</td><td>11</td></tr><tr><td>2012-07-29</td><td>Sunday</td><td>10</td></tr><tr><td>2012-08-05</td><td>Sunday</td><td>16</td></tr><tr><td>2012-08-12</td><td>Sunday</td><td>15</td></tr><tr><td>2012-08-19</td><td>Sunday</td><td>10</td></tr><tr><td>2012-08-26</td><td>Sunday</td><td>12</td></tr><tr><td>2012-09-02</td><td>Sunday</td><td>18</td></tr><tr><td>2012-09-09</td><td>Sunday</td><td>14</td></tr><tr><td>2012-09-16</td><td>Sunday</td><td>16</td></tr><tr><td>2012-09-23</td><td>Sunday</td><td>26</td></tr><tr><td>2012-09-30</td><td>Sunday</td><td>22</td></tr><tr><td>2012-10-07</td><td>Sunday</td><td>13</td></tr><tr><td>2012-10-14</td><td>Sunday</td><td>19</td></tr><tr><td>2012-10-21</td><td>Sunday</td><td>12</td></tr><tr><td>2012-10-28</td><td>Sunday</td><td>33</td></tr><tr><td>2012-11-04</td><td>Sunday</td><td>13</td></tr><tr><td>2012-11-11</td><td>Sunday</td><td>11</td></tr><tr><td>2012-11-18</td><td>Sunday</td><td>11</td></tr><tr><td>2012-11-25</td><td>Sunday</td><td>17</td></tr><tr><td>2012-12-02</td><td>Sunday</td><td>18</td></tr><tr><td>2012-12-09</td><td>Sunday</td><td>8</td></tr><tr><td>2012-12-16</td><td>Sunday</td><td>11</td></tr><tr><td>2012-12-23</td><td>Sunday</td><td>21</td></tr><tr><td>2012-12-30</td><td>Sunday</td><td>20</td></tr><tr><td>2013-01-06</td><td>Sunday</td><td>9</td></tr><tr><td>2013-01-13</td><td>Sunday</td><td>12</td></tr><tr><td>2013-01-20</td><td>Sunday</td><td>9</td></tr><tr><td>2013-01-27</td><td>Sunday</td><td>12</td></tr><tr><td>2013-02-03</td><td>Sunday</td><td>14</td></tr><tr><td>2013-02-10</td><td>Sunday</td><td>14</td></tr><tr><td>2013-02-17</td><td>Sunday</td><td>15</td></tr><tr><td>2013-02-24</td><td>Sunday</td><td>16</td></tr><tr><td>2013-03-03</td><td>Sunday</td><td>11</td></tr><tr><td>2013-03-10</td><td>Sunday</td><td>24</td></tr><tr><td>2013-03-17</td><td>Sunday</td><td>17</td></tr><tr><td>2013-03-24</td><td>Sunday</td><td>25</td></tr><tr><td>2013-03-31</td><td>Sunday</td><td>17</td></tr><tr><td>2013-04-07</td><td>Sunday</td><td>24</td></tr><tr><td>2013-04-14</td><td>Sunday</td><td>14</td></tr><tr><td>2013-04-21</td><td>Sunday</td><td>14</td></tr><tr><td>2013-04-28</td><td>Sunday</td><td>21</td></tr><tr><td>2013-05-05</td><td>Sunday</td><td>18</td></tr><tr><td>2013-05-12</td><td>Sunday</td><td>14</td></tr><tr><td>2013-05-19</td><td>Sunday</td><td>14</td></tr><tr><td>2013-05-26</td><td>Sunday</td><td>21</td></tr><tr><td>2013-06-02</td><td>Sunday</td><td>16</td></tr><tr><td>2013-06-09</td><td>Sunday</td><td>13</td></tr><tr><td>2013-06-16</td><td>Sunday</td><td>14</td></tr><tr><td>2013-06-23</td><td>Sunday</td><td>20</td></tr><tr><td>2013-06-30</td><td>Sunday</td><td>54</td></tr><tr><td>2013-07-07</td><td>Sunday</td><td>25</td></tr><tr><td>2013-07-14</td><td>Sunday</td><td>29</td></tr><tr><td>2013-07-21</td><td>Sunday</td><td>9</td></tr><tr><td>2013-07-28</td><td>Sunday</td><td>20</td></tr><tr><td>2013-08-04</td><td>Sunday</td><td>23</td></tr><tr><td>2013-08-11</td><td>Sunday</td><td>19</td></tr><tr><td>2013-08-18</td><td>Sunday</td><td>26</td></tr><tr><td>2013-08-25</td><td>Sunday</td><td>20</td></tr><tr><td>2013-09-01</td><td>Sunday</td><td>25</td></tr><tr><td>2013-09-08</td><td>Sunday</td><td>18</td></tr><tr><td>2013-09-15</td><td>Sunday</td><td>15</td></tr><tr><td>2013-09-22</td><td>Sunday</td><td>17</td></tr><tr><td>2013-09-29</td><td>Sunday</td><td>18</td></tr><tr><td>2013-10-06</td><td>Sunday</td><td>18</td></tr><tr><td>2013-10-13</td><td>Sunday</td><td>21</td></tr><tr><td>2013-10-20</td><td>Sunday</td><td>10</td></tr><tr><td>2013-10-27</td><td>Sunday</td><td>11</td></tr><tr><td>2013-11-03</td><td>Sunday</td><td>7</td></tr><tr><td>2013-11-10</td><td>Sunday</td><td>11</td></tr><tr><td>2013-11-17</td><td>Sunday</td><td>19</td></tr><tr><td>2013-11-24</td><td>Sunday</td><td>12</td></tr><tr><td>2013-12-01</td><td>Sunday</td><td>16</td></tr><tr><td>2013-12-08</td><td>Sunday</td><td>12</td></tr><tr><td>2013-12-15</td><td>Sunday</td><td>19</td></tr><tr><td>2013-12-22</td><td>Sunday</td><td>14</td></tr><tr><td>2013-12-29</td><td>Sunday</td><td>21</td></tr><tr><td>2014-01-05</td><td>Sunday</td><td>20</td></tr><tr><td>2014-01-12</td><td>Sunday</td><td>16</td></tr><tr><td>2014-01-19</td><td>Sunday</td><td>17</td></tr><tr><td>2014-01-26</td><td>Sunday</td><td>24</td></tr><tr><td>2014-02-02</td><td>Sunday</td><td>5</td></tr><tr><td>2014-02-09</td><td>Sunday</td><td>14</td></tr><tr><td>2014-02-16</td><td>Sunday</td><td>5</td></tr><tr><td>2014-02-23</td><td>Sunday</td><td>9</td></tr><tr><td>2014-03-02</td><td>Sunday</td><td>10</td></tr><tr><td>2014-03-09</td><td>Sunday</td><td>18</td></tr><tr><td>2014-03-16</td><td>Sunday</td><td>10</td></tr><tr><td>2014-03-23</td><td>Sunday</td><td>13</td></tr><tr><td>2014-03-30</td><td>Sunday</td><td>7</td></tr><tr><td>2014-04-06</td><td>Sunday</td><td>26</td></tr><tr><td>2014-04-13</td><td>Sunday</td><td>16</td></tr><tr><td>2014-04-20</td><td>Sunday</td><td>20</td></tr><tr><td>2014-04-27</td><td>Sunday</td><td>20</td></tr><tr><td>2014-05-04</td><td>Sunday</td><td>19</td></tr><tr><td>2014-05-11</td><td>Sunday</td><td>18</td></tr><tr><td>2014-05-18</td><td>Sunday</td><td>18</td></tr><tr><td>2014-05-25</td><td>Sunday</td><td>22</td></tr><tr><td>2014-06-01</td><td>Sunday</td><td>19</td></tr><tr><td>2014-06-08</td><td>Sunday</td><td>12</td></tr><tr><td>2014-06-15</td><td>Sunday</td><td>11</td></tr><tr><td>2014-06-22</td><td>Sunday</td><td>15</td></tr><tr><td>2014-06-29</td><td>Sunday</td><td>19</td></tr><tr><td>2014-07-06</td><td>Sunday</td><td>11</td></tr><tr><td>2014-07-13</td><td>Sunday</td><td>19</td></tr><tr><td>2014-07-20</td><td>Sunday</td><td>5</td></tr><tr><td>2014-07-27</td><td>Sunday</td><td>12</td></tr><tr><td>2014-08-03</td><td>Sunday</td><td>10</td></tr><tr><td>2014-08-10</td><td>Sunday</td><td>22</td></tr><tr><td>2014-08-17</td><td>Sunday</td><td>12</td></tr><tr><td>2014-08-24</td><td>Sunday</td><td>4</td></tr><tr><td>2014-08-31</td><td>Sunday</td><td>17</td></tr><tr><td>2014-09-07</td><td>Sunday</td><td>9</td></tr><tr><td>2014-09-14</td><td>Sunday</td><td>11</td></tr><tr><td>2014-09-21</td><td>Sunday</td><td>7</td></tr><tr><td>2014-09-28</td><td>Sunday</td><td>6</td></tr><tr><td>2014-10-05</td><td>Sunday</td><td>15</td></tr><tr><td>2014-10-12</td><td>Sunday</td><td>18</td></tr><tr><td>2014-10-19</td><td>Sunday</td><td>15</td></tr><tr><td>2014-10-26</td><td>Sunday</td><td>13</td></tr><tr><td>2014-11-02</td><td>Sunday</td><td>8</td></tr><tr><td>2014-11-09</td><td>Sunday</td><td>9</td></tr><tr><td>2014-11-16</td><td>Sunday</td><td>11</td></tr><tr><td>2014-11-23</td><td>Sunday</td><td>21</td></tr><tr><td>2014-11-30</td><td>Sunday</td><td>9</td></tr><tr><td>2014-12-07</td><td>Sunday</td><td>19</td></tr><tr><td>2014-12-14</td><td>Sunday</td><td>13</td></tr><tr><td>2014-12-21</td><td>Sunday</td><td>12</td></tr><tr><td>2014-12-28</td><td>Sunday</td><td>22</td></tr><tr><td>2015-01-04</td><td>Sunday</td><td>11</td></tr><tr><td>2015-01-11</td><td>Sunday</td><td>8</td></tr><tr><td>2015-01-18</td><td>Sunday</td><td>10</td></tr><tr><td>2015-01-25</td><td>Sunday</td><td>7</td></tr><tr><td>2015-02-01</td><td>Sunday</td><td>15</td></tr><tr><td>2015-02-08</td><td>Sunday</td><td>11</td></tr><tr><td>2015-02-15</td><td>Sunday</td><td>17</td></tr><tr><td>2015-02-22</td><td>Sunday</td><td>14</td></tr><tr><td>2015-03-01</td><td>Sunday</td><td>22</td></tr><tr><td>2015-03-08</td><td>Sunday</td><td>8</td></tr><tr><td>2015-03-15</td><td>Sunday</td><td>13</td></tr><tr><td>2015-03-22</td><td>Sunday</td><td>18</td></tr><tr><td>2015-03-29</td><td>Sunday</td><td>12</td></tr><tr><td>2015-04-05</td><td>Sunday</td><td>13</td></tr><tr><td>2015-04-12</td><td>Sunday</td><td>14</td></tr><tr><td>2015-04-19</td><td>Sunday</td><td>9</td></tr><tr><td>2015-04-26</td><td>Sunday</td><td>15</td></tr><tr><td>2015-05-03</td><td>Sunday</td><td>12</td></tr><tr><td>2015-05-10</td><td>Sunday</td><td>21</td></tr><tr><td>2015-05-17</td><td>Sunday</td><td>9</td></tr><tr><td>2015-05-24</td><td>Sunday</td><td>19</td></tr><tr><td>2015-05-31</td><td>Sunday</td><td>13</td></tr><tr><td>2015-06-07</td><td>Sunday</td><td>19</td></tr><tr><td>2015-06-14</td><td>Sunday</td><td>13</td></tr><tr><td>2015-06-21</td><td>Sunday</td><td>15</td></tr><tr><td>2015-06-28</td><td>Sunday</td><td>22</td></tr><tr><td>2015-07-05</td><td>Sunday</td><td>20</td></tr><tr><td>2015-07-12</td><td>Sunday</td><td>15</td></tr><tr><td>2015-07-19</td><td>Sunday</td><td>6</td></tr><tr><td>2015-07-26</td><td>Sunday</td><td>17</td></tr><tr><td>2015-08-02</td><td>Sunday</td><td>13</td></tr><tr><td>2015-08-09</td><td>Sunday</td><td>8</td></tr><tr><td>2015-08-16</td><td>Sunday</td><td>14</td></tr><tr><td>2015-08-23</td><td>Sunday</td><td>13</td></tr><tr><td>2015-08-30</td><td>Sunday</td><td>14</td></tr><tr><td>2015-09-06</td><td>Sunday</td><td>16</td></tr><tr><td>2015-09-13</td><td>Sunday</td><td>6</td></tr><tr><td>2015-09-20</td><td>Sunday</td><td>23</td></tr><tr><td>2015-09-27</td><td>Sunday</td><td>10</td></tr><tr><td>2015-10-04</td><td>Sunday</td><td>7</td></tr><tr><td>2015-10-11</td><td>Sunday</td><td>12</td></tr><tr><td>2015-10-18</td><td>Sunday</td><td>20</td></tr><tr><td>2015-10-25</td><td>Sunday</td><td>18</td></tr><tr><td>2015-11-01</td><td>Sunday</td><td>17</td></tr><tr><td>2015-11-08</td><td>Sunday</td><td>14</td></tr><tr><td>2015-11-15</td><td>Sunday</td><td>9</td></tr><tr><td>2015-11-22</td><td>Sunday</td><td>14</td></tr><tr><td>2015-11-29</td><td>Sunday</td><td>13</td></tr><tr><td>2015-12-06</td><td>Sunday</td><td>23</td></tr><tr><td>2015-12-13</td><td>Sunday</td><td>9</td></tr><tr><td>2015-12-20</td><td>Sunday</td><td>8</td></tr><tr><td>2015-12-27</td><td>Sunday</td><td>8</td></tr><tr><td>2016-01-03</td><td>Sunday</td><td>9</td></tr><tr><td>2016-01-10</td><td>Sunday</td><td>11</td></tr><tr><td>2016-01-17</td><td>Sunday</td><td>24</td></tr><tr><td>2016-01-24</td><td>Sunday</td><td>8</td></tr><tr><td>2016-01-31</td><td>Sunday</td><td>19</td></tr><tr><td>2016-02-07</td><td>Sunday</td><td>27</td></tr><tr><td>2016-02-14</td><td>Sunday</td><td>17</td></tr><tr><td>2016-02-21</td><td>Sunday</td><td>23</td></tr><tr><td>2016-02-28</td><td>Sunday</td><td>9</td></tr><tr><td>2016-03-06</td><td>Sunday</td><td>9</td></tr><tr><td>2016-03-13</td><td>Sunday</td><td>6</td></tr><tr><td>2016-03-20</td><td>Sunday</td><td>14</td></tr><tr><td>2016-03-27</td><td>Sunday</td><td>23</td></tr><tr><td>2016-04-03</td><td>Sunday</td><td>20</td></tr><tr><td>2016-04-10</td><td>Sunday</td><td>17</td></tr><tr><td>2016-04-17</td><td>Sunday</td><td>15</td></tr><tr><td>2016-04-24</td><td>Sunday</td><td>12</td></tr><tr><td>2016-05-01</td><td>Sunday</td><td>9</td></tr><tr><td>2016-05-08</td><td>Sunday</td><td>10</td></tr><tr><td>2016-05-15</td><td>Sunday</td><td>11</td></tr><tr><td>2016-05-22</td><td>Sunday</td><td>10</td></tr><tr><td>2016-05-29</td><td>Sunday</td><td>13</td></tr><tr><td>2016-06-05</td><td>Sunday</td><td>12</td></tr><tr><td>2016-06-12</td><td>Sunday</td><td>17</td></tr><tr><td>2016-06-19</td><td>Sunday</td><td>18</td></tr><tr><td>2016-06-26</td><td>Sunday</td><td>15</td></tr><tr><td>2016-07-03</td><td>Sunday</td><td>17</td></tr><tr><td>2016-07-10</td><td>Sunday</td><td>9</td></tr><tr><td>2016-07-17</td><td>Sunday</td><td>14</td></tr><tr><td>2016-07-24</td><td>Sunday</td><td>17</td></tr><tr><td>2016-07-31</td><td>Sunday</td><td>14</td></tr><tr><td>2016-08-07</td><td>Sunday</td><td>13</td></tr><tr><td>2016-08-14</td><td>Sunday</td><td>19</td></tr><tr><td>2016-08-21</td><td>Sunday</td><td>18</td></tr><tr><td>2016-08-28</td><td>Sunday</td><td>23</td></tr><tr><td>2016-09-04</td><td>Sunday</td><td>14</td></tr><tr><td>2016-09-11</td><td>Sunday</td><td>29</td></tr><tr><td>2016-09-18</td><td>Sunday</td><td>18</td></tr><tr><td>2016-09-25</td><td>Sunday</td><td>20</td></tr><tr><td>2016-10-02</td><td>Sunday</td><td>17</td></tr><tr><td>2016-10-09</td><td>Sunday</td><td>23</td></tr><tr><td>2016-10-16</td><td>Sunday</td><td>13</td></tr><tr><td>2016-10-23</td><td>Sunday</td><td>13</td></tr><tr><td>2016-10-30</td><td>Sunday</td><td>13</td></tr><tr><td>2016-11-06</td><td>Sunday</td><td>13</td></tr><tr><td>2016-11-13</td><td>Sunday</td><td>9</td></tr><tr><td>2016-11-20</td><td>Sunday</td><td>15</td></tr><tr><td>2016-11-27</td><td>Sunday</td><td>13</td></tr><tr><td>2016-12-04</td><td>Sunday</td><td>24</td></tr><tr><td>2016-12-11</td><td>Sunday</td><td>35</td></tr><tr><td>2016-12-18</td><td>Sunday</td><td>16</td></tr><tr><td>2016-12-25</td><td>Sunday</td><td>8</td></tr><tr><td>2017-01-01</td><td>Sunday</td><td>30</td></tr><tr><td>2017-01-08</td><td>Sunday</td><td>9</td></tr><tr><td>2017-01-15</td><td>Sunday</td><td>28</td></tr><tr><td>2017-01-22</td><td>Sunday</td><td>9</td></tr><tr><td>2017-01-29</td><td>Sunday</td><td>15</td></tr><tr><td>2017-02-05</td><td>Sunday</td><td>17</td></tr><tr><td>2017-02-12</td><td>Sunday</td><td>11</td></tr><tr><td>2017-02-19</td><td>Sunday</td><td>24</td></tr><tr><td>2017-02-26</td><td>Sunday</td><td>19</td></tr><tr><td>2017-03-05</td><td>Sunday</td><td>17</td></tr><tr><td>2017-03-12</td><td>Sunday</td><td>15</td></tr><tr><td>2017-03-19</td><td>Sunday</td><td>11</td></tr><tr><td>2017-03-26</td><td>Sunday</td><td>19</td></tr><tr><td>2017-04-02</td><td>Sunday</td><td>17</td></tr><tr><td>2017-04-09</td><td>Sunday</td><td>9</td></tr><tr><td>2017-04-16</td><td>Sunday</td><td>23</td></tr><tr><td>2017-04-23</td><td>Sunday</td><td>12</td></tr><tr><td>2017-04-30</td><td>Sunday</td><td>12</td></tr><tr><td>2017-05-07</td><td>Sunday</td><td>18</td></tr><tr><td>2017-05-14</td><td>Sunday</td><td>21</td></tr><tr><td>2017-05-21</td><td>Sunday</td><td>15</td></tr><tr><td>2017-05-28</td><td>Sunday</td><td>16</td></tr><tr><td>2017-06-04</td><td>Sunday</td><td>16</td></tr><tr><td>2017-06-11</td><td>Sunday</td><td>13</td></tr><tr><td>2017-06-18</td><td>Sunday</td><td>9</td></tr><tr><td>2017-06-25</td><td>Sunday</td><td>31</td></tr><tr><td>2017-07-02</td><td>Sunday</td><td>14</td></tr><tr><td>2017-07-09</td><td>Sunday</td><td>17</td></tr><tr><td>2017-07-16</td><td>Sunday</td><td>20</td></tr><tr><td>2017-07-23</td><td>Sunday</td><td>18</td></tr><tr><td>2017-07-30</td><td>Sunday</td><td>18</td></tr><tr><td>2017-08-06</td><td>Sunday</td><td>20</td></tr><tr><td>2017-08-13</td><td>Sunday</td><td>12</td></tr><tr><td>2017-08-20</td><td>Sunday</td><td>16</td></tr><tr><td>2017-08-27</td><td>Sunday</td><td>16</td></tr><tr><td>2017-09-03</td><td>Sunday</td><td>20</td></tr><tr><td>2017-09-10</td><td>Sunday</td><td>22</td></tr><tr><td>2017-09-17</td><td>Sunday</td><td>22</td></tr><tr><td>2017-09-24</td><td>Sunday</td><td>14</td></tr><tr><td>2017-10-01</td><td>Sunday</td><td>15</td></tr><tr><td>2017-10-08</td><td>Sunday</td><td>9</td></tr><tr><td>2017-10-15</td><td>Sunday</td><td>12</td></tr><tr><td>2017-10-22</td><td>Sunday</td><td>13</td></tr><tr><td>2017-10-29</td><td>Sunday</td><td>17</td></tr><tr><td>2017-11-05</td><td>Sunday</td><td>21</td></tr><tr><td>2017-11-12</td><td>Sunday</td><td>7</td></tr><tr><td>2017-11-19</td><td>Sunday</td><td>24</td></tr><tr><td>2017-11-26</td><td>Sunday</td><td>13</td></tr><tr><td>2017-12-03</td><td>Sunday</td><td>9</td></tr><tr><td>2017-12-10</td><td>Sunday</td><td>28</td></tr><tr><td>2017-12-17</td><td>Sunday</td><td>20</td></tr><tr><td>2017-12-24</td><td>Sunday</td><td>17</td></tr><tr><td>2017-12-31</td><td>Sunday</td><td>20</td></tr><tr><td>2018-01-07</td><td>Sunday</td><td>15</td></tr><tr><td>2018-01-14</td><td>Sunday</td><td>10</td></tr><tr><td>2018-01-21</td><td>Sunday</td><td>19</td></tr><tr><td>2018-01-28</td><td>Sunday</td><td>13</td></tr><tr><td>2018-02-04</td><td>Sunday</td><td>12</td></tr><tr><td>2018-02-11</td><td>Sunday</td><td>15</td></tr><tr><td>2018-02-18</td><td>Sunday</td><td>8</td></tr><tr><td>2018-02-25</td><td>Sunday</td><td>15</td></tr><tr><td>2018-03-04</td><td>Sunday</td><td>22</td></tr><tr><td>2018-03-11</td><td>Sunday</td><td>13</td></tr><tr><td>2018-03-18</td><td>Sunday</td><td>17</td></tr><tr><td>2018-03-25</td><td>Sunday</td><td>14</td></tr><tr><td>2018-04-01</td><td>Sunday</td><td>9</td></tr><tr><td>2018-04-08</td><td>Sunday</td><td>23</td></tr><tr><td>2018-04-15</td><td>Sunday</td><td>12</td></tr><tr><td>2018-04-22</td><td>Sunday</td><td>22</td></tr><tr><td>2018-04-29</td><td>Sunday</td><td>16</td></tr><tr><td>2018-05-06</td><td>Sunday</td><td>17</td></tr><tr><td>2018-05-13</td><td>Sunday</td><td>7</td></tr></tbody></table></div>"
      ]
     },
     "metadata": {
      "application/vnd.databricks.v1+output": {
       "addedWidgets": {},
       "aggData": [],
       "aggError": "",
       "aggOverflow": false,
       "aggSchema": [],
       "aggSeriesLimitReached": false,
       "aggType": "",
       "arguments": {},
       "columnCustomDisplayInfos": {},
       "data": [
        [
         "2003-01-05",
         "Sunday",
         13
        ],
        [
         "2003-01-12",
         "Sunday",
         20
        ],
        [
         "2003-01-19",
         "Sunday",
         17
        ],
        [
         "2003-01-26",
         "Sunday",
         13
        ],
        [
         "2003-02-02",
         "Sunday",
         14
        ],
        [
         "2003-02-09",
         "Sunday",
         22
        ],
        [
         "2003-02-16",
         "Sunday",
         12
        ],
        [
         "2003-02-23",
         "Sunday",
         14
        ],
        [
         "2003-03-02",
         "Sunday",
         16
        ],
        [
         "2003-03-09",
         "Sunday",
         8
        ],
        [
         "2003-03-16",
         "Sunday",
         18
        ],
        [
         "2003-03-23",
         "Sunday",
         9
        ],
        [
         "2003-03-30",
         "Sunday",
         20
        ],
        [
         "2003-04-06",
         "Sunday",
         8
        ],
        [
         "2003-04-13",
         "Sunday",
         13
        ],
        [
         "2003-04-20",
         "Sunday",
         13
        ],
        [
         "2003-04-27",
         "Sunday",
         5
        ],
        [
         "2003-05-04",
         "Sunday",
         9
        ],
        [
         "2003-05-11",
         "Sunday",
         5
        ],
        [
         "2003-05-18",
         "Sunday",
         16
        ],
        [
         "2003-05-25",
         "Sunday",
         10
        ],
        [
         "2003-06-01",
         "Sunday",
         11
        ],
        [
         "2003-06-08",
         "Sunday",
         25
        ],
        [
         "2003-06-15",
         "Sunday",
         6
        ],
        [
         "2003-06-22",
         "Sunday",
         6
        ],
        [
         "2003-06-29",
         "Sunday",
         16
        ],
        [
         "2003-07-06",
         "Sunday",
         10
        ],
        [
         "2003-07-13",
         "Sunday",
         17
        ],
        [
         "2003-07-20",
         "Sunday",
         17
        ],
        [
         "2003-07-27",
         "Sunday",
         8
        ],
        [
         "2003-08-03",
         "Sunday",
         6
        ],
        [
         "2003-08-10",
         "Sunday",
         5
        ],
        [
         "2003-08-17",
         "Sunday",
         11
        ],
        [
         "2003-08-24",
         "Sunday",
         10
        ],
        [
         "2003-08-31",
         "Sunday",
         8
        ],
        [
         "2003-09-07",
         "Sunday",
         13
        ],
        [
         "2003-09-14",
         "Sunday",
         10
        ],
        [
         "2003-09-21",
         "Sunday",
         10
        ],
        [
         "2003-09-28",
         "Sunday",
         7
        ],
        [
         "2003-10-05",
         "Sunday",
         14
        ],
        [
         "2003-10-12",
         "Sunday",
         13
        ],
        [
         "2003-10-19",
         "Sunday",
         11
        ],
        [
         "2003-10-26",
         "Sunday",
         16
        ],
        [
         "2003-11-02",
         "Sunday",
         17
        ],
        [
         "2003-11-09",
         "Sunday",
         16
        ],
        [
         "2003-11-16",
         "Sunday",
         10
        ],
        [
         "2003-11-23",
         "Sunday",
         14
        ],
        [
         "2003-11-30",
         "Sunday",
         6
        ],
        [
         "2003-12-07",
         "Sunday",
         4
        ],
        [
         "2003-12-14",
         "Sunday",
         10
        ],
        [
         "2003-12-21",
         "Sunday",
         12
        ],
        [
         "2003-12-28",
         "Sunday",
         11
        ],
        [
         "2004-01-04",
         "Sunday",
         14
        ],
        [
         "2004-01-11",
         "Sunday",
         15
        ],
        [
         "2004-01-18",
         "Sunday",
         6
        ],
        [
         "2004-01-25",
         "Sunday",
         22
        ],
        [
         "2004-02-01",
         "Sunday",
         16
        ],
        [
         "2004-02-08",
         "Sunday",
         20
        ],
        [
         "2004-02-15",
         "Sunday",
         11
        ],
        [
         "2004-02-22",
         "Sunday",
         18
        ],
        [
         "2004-02-29",
         "Sunday",
         11
        ],
        [
         "2004-03-07",
         "Sunday",
         16
        ],
        [
         "2004-03-14",
         "Sunday",
         8
        ],
        [
         "2004-03-21",
         "Sunday",
         8
        ],
        [
         "2004-03-28",
         "Sunday",
         12
        ],
        [
         "2004-04-04",
         "Sunday",
         13
        ],
        [
         "2004-04-11",
         "Sunday",
         15
        ],
        [
         "2004-04-18",
         "Sunday",
         10
        ],
        [
         "2004-04-25",
         "Sunday",
         11
        ],
        [
         "2004-05-02",
         "Sunday",
         12
        ],
        [
         "2004-05-09",
         "Sunday",
         16
        ],
        [
         "2004-05-16",
         "Sunday",
         22
        ],
        [
         "2004-05-23",
         "Sunday",
         5
        ],
        [
         "2004-05-30",
         "Sunday",
         15
        ],
        [
         "2004-06-06",
         "Sunday",
         16
        ],
        [
         "2004-06-13",
         "Sunday",
         10
        ],
        [
         "2004-06-20",
         "Sunday",
         10
        ],
        [
         "2004-06-27",
         "Sunday",
         11
        ],
        [
         "2004-07-04",
         "Sunday",
         10
        ],
        [
         "2004-07-11",
         "Sunday",
         11
        ],
        [
         "2004-07-18",
         "Sunday",
         18
        ],
        [
         "2004-07-25",
         "Sunday",
         11
        ],
        [
         "2004-08-01",
         "Sunday",
         16
        ],
        [
         "2004-08-08",
         "Sunday",
         13
        ],
        [
         "2004-08-15",
         "Sunday",
         8
        ],
        [
         "2004-08-22",
         "Sunday",
         12
        ],
        [
         "2004-08-29",
         "Sunday",
         22
        ],
        [
         "2004-09-05",
         "Sunday",
         15
        ],
        [
         "2004-09-12",
         "Sunday",
         9
        ],
        [
         "2004-09-19",
         "Sunday",
         21
        ],
        [
         "2004-09-26",
         "Sunday",
         14
        ],
        [
         "2004-10-03",
         "Sunday",
         13
        ],
        [
         "2004-10-10",
         "Sunday",
         18
        ],
        [
         "2004-10-17",
         "Sunday",
         15
        ],
        [
         "2004-10-24",
         "Sunday",
         19
        ],
        [
         "2004-10-31",
         "Sunday",
         31
        ],
        [
         "2004-11-07",
         "Sunday",
         14
        ],
        [
         "2004-11-14",
         "Sunday",
         18
        ],
        [
         "2004-11-21",
         "Sunday",
         10
        ],
        [
         "2004-11-28",
         "Sunday",
         8
        ],
        [
         "2004-12-05",
         "Sunday",
         9
        ],
        [
         "2004-12-12",
         "Sunday",
         10
        ],
        [
         "2004-12-19",
         "Sunday",
         12
        ],
        [
         "2004-12-26",
         "Sunday",
         7
        ],
        [
         "2005-01-02",
         "Sunday",
         8
        ],
        [
         "2005-01-09",
         "Sunday",
         16
        ],
        [
         "2005-01-16",
         "Sunday",
         8
        ],
        [
         "2005-01-23",
         "Sunday",
         10
        ],
        [
         "2005-01-30",
         "Sunday",
         10
        ],
        [
         "2005-02-06",
         "Sunday",
         10
        ],
        [
         "2005-02-13",
         "Sunday",
         7
        ],
        [
         "2005-02-20",
         "Sunday",
         14
        ],
        [
         "2005-02-27",
         "Sunday",
         10
        ],
        [
         "2005-03-06",
         "Sunday",
         14
        ],
        [
         "2005-03-13",
         "Sunday",
         13
        ],
        [
         "2005-03-20",
         "Sunday",
         8
        ],
        [
         "2005-03-27",
         "Sunday",
         6
        ],
        [
         "2005-04-03",
         "Sunday",
         18
        ],
        [
         "2005-04-10",
         "Sunday",
         16
        ],
        [
         "2005-04-17",
         "Sunday",
         4
        ],
        [
         "2005-04-24",
         "Sunday",
         11
        ],
        [
         "2005-05-01",
         "Sunday",
         11
        ],
        [
         "2005-05-08",
         "Sunday",
         12
        ],
        [
         "2005-05-15",
         "Sunday",
         7
        ],
        [
         "2005-05-22",
         "Sunday",
         6
        ],
        [
         "2005-05-29",
         "Sunday",
         10
        ],
        [
         "2005-06-05",
         "Sunday",
         9
        ],
        [
         "2005-06-12",
         "Sunday",
         10
        ],
        [
         "2005-06-19",
         "Sunday",
         12
        ],
        [
         "2005-06-26",
         "Sunday",
         18
        ],
        [
         "2005-07-03",
         "Sunday",
         12
        ],
        [
         "2005-07-10",
         "Sunday",
         14
        ],
        [
         "2005-07-17",
         "Sunday",
         9
        ],
        [
         "2005-07-24",
         "Sunday",
         13
        ],
        [
         "2005-07-31",
         "Sunday",
         10
        ],
        [
         "2005-08-07",
         "Sunday",
         10
        ],
        [
         "2005-08-14",
         "Sunday",
         3
        ],
        [
         "2005-08-21",
         "Sunday",
         11
        ],
        [
         "2005-08-28",
         "Sunday",
         13
        ],
        [
         "2005-09-04",
         "Sunday",
         9
        ],
        [
         "2005-09-11",
         "Sunday",
         8
        ],
        [
         "2005-09-18",
         "Sunday",
         5
        ],
        [
         "2005-09-25",
         "Sunday",
         19
        ],
        [
         "2005-10-02",
         "Sunday",
         16
        ],
        [
         "2005-10-09",
         "Sunday",
         25
        ],
        [
         "2005-10-16",
         "Sunday",
         7
        ],
        [
         "2005-10-23",
         "Sunday",
         9
        ],
        [
         "2005-10-30",
         "Sunday",
         9
        ],
        [
         "2005-11-06",
         "Sunday",
         8
        ],
        [
         "2005-11-13",
         "Sunday",
         11
        ],
        [
         "2005-11-20",
         "Sunday",
         16
        ],
        [
         "2005-11-27",
         "Sunday",
         13
        ],
        [
         "2005-12-04",
         "Sunday",
         16
        ],
        [
         "2005-12-11",
         "Sunday",
         6
        ],
        [
         "2005-12-18",
         "Sunday",
         7
        ],
        [
         "2005-12-25",
         "Sunday",
         15
        ],
        [
         "2006-01-01",
         "Sunday",
         20
        ],
        [
         "2006-01-08",
         "Sunday",
         14
        ],
        [
         "2006-01-15",
         "Sunday",
         4
        ],
        [
         "2006-01-22",
         "Sunday",
         11
        ],
        [
         "2006-01-29",
         "Sunday",
         13
        ],
        [
         "2006-02-05",
         "Sunday",
         11
        ],
        [
         "2006-02-12",
         "Sunday",
         11
        ],
        [
         "2006-02-19",
         "Sunday",
         20
        ],
        [
         "2006-02-26",
         "Sunday",
         9
        ],
        [
         "2006-03-05",
         "Sunday",
         7
        ],
        [
         "2006-03-12",
         "Sunday",
         6
        ],
        [
         "2006-03-19",
         "Sunday",
         13
        ],
        [
         "2006-03-26",
         "Sunday",
         10
        ],
        [
         "2006-04-02",
         "Sunday",
         16
        ],
        [
         "2006-04-09",
         "Sunday",
         14
        ],
        [
         "2006-04-16",
         "Sunday",
         7
        ],
        [
         "2006-04-23",
         "Sunday",
         12
        ],
        [
         "2006-04-30",
         "Sunday",
         12
        ],
        [
         "2006-05-07",
         "Sunday",
         7
        ],
        [
         "2006-05-14",
         "Sunday",
         14
        ],
        [
         "2006-05-21",
         "Sunday",
         18
        ],
        [
         "2006-05-28",
         "Sunday",
         13
        ],
        [
         "2006-06-04",
         "Sunday",
         9
        ],
        [
         "2006-06-11",
         "Sunday",
         9
        ],
        [
         "2006-06-18",
         "Sunday",
         10
        ],
        [
         "2006-06-25",
         "Sunday",
         18
        ],
        [
         "2006-07-02",
         "Sunday",
         20
        ],
        [
         "2006-07-09",
         "Sunday",
         12
        ],
        [
         "2006-07-16",
         "Sunday",
         22
        ],
        [
         "2006-07-23",
         "Sunday",
         15
        ],
        [
         "2006-07-30",
         "Sunday",
         26
        ],
        [
         "2006-08-06",
         "Sunday",
         6
        ],
        [
         "2006-08-13",
         "Sunday",
         21
        ],
        [
         "2006-08-20",
         "Sunday",
         16
        ],
        [
         "2006-08-27",
         "Sunday",
         16
        ],
        [
         "2006-09-03",
         "Sunday",
         8
        ],
        [
         "2006-09-10",
         "Sunday",
         12
        ],
        [
         "2006-09-17",
         "Sunday",
         7
        ],
        [
         "2006-09-24",
         "Sunday",
         6
        ],
        [
         "2006-10-01",
         "Sunday",
         19
        ],
        [
         "2006-10-08",
         "Sunday",
         10
        ],
        [
         "2006-10-15",
         "Sunday",
         8
        ],
        [
         "2006-10-22",
         "Sunday",
         12
        ],
        [
         "2006-10-29",
         "Sunday",
         9
        ],
        [
         "2006-11-05",
         "Sunday",
         14
        ],
        [
         "2006-11-12",
         "Sunday",
         16
        ],
        [
         "2006-11-19",
         "Sunday",
         12
        ],
        [
         "2006-11-26",
         "Sunday",
         9
        ],
        [
         "2006-12-03",
         "Sunday",
         21
        ],
        [
         "2006-12-10",
         "Sunday",
         14
        ],
        [
         "2006-12-17",
         "Sunday",
         9
        ],
        [
         "2006-12-24",
         "Sunday",
         5
        ],
        [
         "2006-12-31",
         "Sunday",
         11
        ],
        [
         "2007-01-07",
         "Sunday",
         19
        ],
        [
         "2007-01-14",
         "Sunday",
         6
        ],
        [
         "2007-01-21",
         "Sunday",
         7
        ],
        [
         "2007-01-28",
         "Sunday",
         12
        ],
        [
         "2007-02-04",
         "Sunday",
         6
        ],
        [
         "2007-02-11",
         "Sunday",
         13
        ],
        [
         "2007-02-18",
         "Sunday",
         16
        ],
        [
         "2007-02-25",
         "Sunday",
         8
        ],
        [
         "2007-03-04",
         "Sunday",
         6
        ],
        [
         "2007-03-11",
         "Sunday",
         15
        ],
        [
         "2007-03-18",
         "Sunday",
         5
        ],
        [
         "2007-03-25",
         "Sunday",
         17
        ],
        [
         "2007-04-01",
         "Sunday",
         18
        ],
        [
         "2007-04-08",
         "Sunday",
         13
        ],
        [
         "2007-04-15",
         "Sunday",
         13
        ],
        [
         "2007-04-22",
         "Sunday",
         12
        ],
        [
         "2007-04-29",
         "Sunday",
         18
        ],
        [
         "2007-05-06",
         "Sunday",
         3
        ],
        [
         "2007-05-13",
         "Sunday",
         5
        ],
        [
         "2007-05-20",
         "Sunday",
         11
        ],
        [
         "2007-05-27",
         "Sunday",
         12
        ],
        [
         "2007-06-03",
         "Sunday",
         7
        ],
        [
         "2007-06-10",
         "Sunday",
         12
        ],
        [
         "2007-06-17",
         "Sunday",
         18
        ],
        [
         "2007-06-24",
         "Sunday",
         28
        ],
        [
         "2007-07-01",
         "Sunday",
         15
        ],
        [
         "2007-07-08",
         "Sunday",
         12
        ],
        [
         "2007-07-15",
         "Sunday",
         9
        ],
        [
         "2007-07-22",
         "Sunday",
         8
        ],
        [
         "2007-07-29",
         "Sunday",
         8
        ],
        [
         "2007-08-05",
         "Sunday",
         8
        ],
        [
         "2007-08-12",
         "Sunday",
         18
        ],
        [
         "2007-08-19",
         "Sunday",
         8
        ],
        [
         "2007-08-26",
         "Sunday",
         14
        ],
        [
         "2007-09-02",
         "Sunday",
         9
        ],
        [
         "2007-09-09",
         "Sunday",
         23
        ],
        [
         "2007-09-16",
         "Sunday",
         16
        ],
        [
         "2007-09-23",
         "Sunday",
         1
        ],
        [
         "2007-09-30",
         "Sunday",
         7
        ],
        [
         "2007-10-07",
         "Sunday",
         14
        ],
        [
         "2007-10-14",
         "Sunday",
         11
        ],
        [
         "2007-10-21",
         "Sunday",
         8
        ],
        [
         "2007-10-28",
         "Sunday",
         18
        ],
        [
         "2007-11-04",
         "Sunday",
         12
        ],
        [
         "2007-11-11",
         "Sunday",
         14
        ],
        [
         "2007-11-18",
         "Sunday",
         16
        ],
        [
         "2007-11-25",
         "Sunday",
         11
        ],
        [
         "2007-12-02",
         "Sunday",
         8
        ],
        [
         "2007-12-09",
         "Sunday",
         11
        ],
        [
         "2007-12-23",
         "Sunday",
         5
        ],
        [
         "2007-12-30",
         "Sunday",
         12
        ],
        [
         "2008-01-06",
         "Sunday",
         7
        ],
        [
         "2008-01-13",
         "Sunday",
         10
        ],
        [
         "2008-01-20",
         "Sunday",
         19
        ],
        [
         "2008-01-27",
         "Sunday",
         6
        ],
        [
         "2008-02-03",
         "Sunday",
         12
        ],
        [
         "2008-02-10",
         "Sunday",
         9
        ],
        [
         "2008-02-17",
         "Sunday",
         7
        ],
        [
         "2008-02-24",
         "Sunday",
         8
        ],
        [
         "2008-03-02",
         "Sunday",
         8
        ],
        [
         "2008-03-09",
         "Sunday",
         10
        ],
        [
         "2008-03-16",
         "Sunday",
         14
        ],
        [
         "2008-03-23",
         "Sunday",
         16
        ],
        [
         "2008-03-30",
         "Sunday",
         7
        ],
        [
         "2008-04-06",
         "Sunday",
         8
        ],
        [
         "2008-04-13",
         "Sunday",
         11
        ],
        [
         "2008-04-20",
         "Sunday",
         14
        ],
        [
         "2008-04-27",
         "Sunday",
         8
        ],
        [
         "2008-05-04",
         "Sunday",
         19
        ],
        [
         "2008-05-11",
         "Sunday",
         9
        ],
        [
         "2008-05-18",
         "Sunday",
         10
        ],
        [
         "2008-05-25",
         "Sunday",
         10
        ],
        [
         "2008-06-01",
         "Sunday",
         23
        ],
        [
         "2008-06-08",
         "Sunday",
         13
        ],
        [
         "2008-06-15",
         "Sunday",
         20
        ],
        [
         "2008-06-22",
         "Sunday",
         5
        ],
        [
         "2008-06-29",
         "Sunday",
         13
        ],
        [
         "2008-07-06",
         "Sunday",
         9
        ],
        [
         "2008-07-13",
         "Sunday",
         14
        ],
        [
         "2008-07-20",
         "Sunday",
         7
        ],
        [
         "2008-07-27",
         "Sunday",
         2
        ],
        [
         "2008-08-03",
         "Sunday",
         9
        ],
        [
         "2008-08-10",
         "Sunday",
         20
        ],
        [
         "2008-08-17",
         "Sunday",
         9
        ],
        [
         "2008-08-24",
         "Sunday",
         14
        ],
        [
         "2008-08-31",
         "Sunday",
         11
        ],
        [
         "2008-09-07",
         "Sunday",
         19
        ],
        [
         "2008-09-14",
         "Sunday",
         10
        ],
        [
         "2008-09-21",
         "Sunday",
         11
        ],
        [
         "2008-09-28",
         "Sunday",
         16
        ],
        [
         "2008-10-05",
         "Sunday",
         12
        ],
        [
         "2008-10-12",
         "Sunday",
         5
        ],
        [
         "2008-10-19",
         "Sunday",
         19
        ],
        [
         "2008-10-26",
         "Sunday",
         11
        ],
        [
         "2008-11-02",
         "Sunday",
         14
        ],
        [
         "2008-11-09",
         "Sunday",
         10
        ],
        [
         "2008-11-16",
         "Sunday",
         11
        ],
        [
         "2008-11-23",
         "Sunday",
         17
        ],
        [
         "2008-11-30",
         "Sunday",
         9
        ],
        [
         "2008-12-07",
         "Sunday",
         11
        ],
        [
         "2008-12-14",
         "Sunday",
         4
        ],
        [
         "2008-12-21",
         "Sunday",
         8
        ],
        [
         "2008-12-28",
         "Sunday",
         13
        ],
        [
         "2009-01-04",
         "Sunday",
         10
        ],
        [
         "2009-01-11",
         "Sunday",
         17
        ],
        [
         "2009-01-18",
         "Sunday",
         15
        ],
        [
         "2009-01-25",
         "Sunday",
         19
        ],
        [
         "2009-02-01",
         "Sunday",
         11
        ],
        [
         "2009-02-08",
         "Sunday",
         7
        ],
        [
         "2009-02-15",
         "Sunday",
         19
        ],
        [
         "2009-02-22",
         "Sunday",
         11
        ],
        [
         "2009-03-01",
         "Sunday",
         18
        ],
        [
         "2009-03-08",
         "Sunday",
         10
        ],
        [
         "2009-03-15",
         "Sunday",
         15
        ],
        [
         "2009-03-22",
         "Sunday",
         8
        ],
        [
         "2009-03-29",
         "Sunday",
         21
        ],
        [
         "2009-04-05",
         "Sunday",
         7
        ],
        [
         "2009-04-12",
         "Sunday",
         15
        ],
        [
         "2009-04-19",
         "Sunday",
         20
        ],
        [
         "2009-04-26",
         "Sunday",
         17
        ],
        [
         "2009-05-03",
         "Sunday",
         14
        ],
        [
         "2009-05-10",
         "Sunday",
         9
        ],
        [
         "2009-05-17",
         "Sunday",
         13
        ],
        [
         "2009-05-24",
         "Sunday",
         14
        ],
        [
         "2009-05-31",
         "Sunday",
         11
        ],
        [
         "2009-06-07",
         "Sunday",
         14
        ],
        [
         "2009-06-14",
         "Sunday",
         10
        ],
        [
         "2009-06-21",
         "Sunday",
         13
        ],
        [
         "2009-06-28",
         "Sunday",
         10
        ],
        [
         "2009-07-05",
         "Sunday",
         6
        ],
        [
         "2009-07-12",
         "Sunday",
         7
        ],
        [
         "2009-07-19",
         "Sunday",
         15
        ],
        [
         "2009-07-26",
         "Sunday",
         10
        ],
        [
         "2009-08-02",
         "Sunday",
         6
        ],
        [
         "2009-08-09",
         "Sunday",
         6
        ],
        [
         "2009-08-16",
         "Sunday",
         12
        ],
        [
         "2009-08-23",
         "Sunday",
         12
        ],
        [
         "2009-08-30",
         "Sunday",
         12
        ],
        [
         "2009-09-06",
         "Sunday",
         14
        ],
        [
         "2009-09-13",
         "Sunday",
         11
        ],
        [
         "2009-09-20",
         "Sunday",
         16
        ],
        [
         "2009-09-27",
         "Sunday",
         14
        ],
        [
         "2009-10-04",
         "Sunday",
         17
        ],
        [
         "2009-10-11",
         "Sunday",
         19
        ],
        [
         "2009-10-18",
         "Sunday",
         11
        ],
        [
         "2009-10-25",
         "Sunday",
         12
        ],
        [
         "2009-11-01",
         "Sunday",
         9
        ],
        [
         "2009-11-08",
         "Sunday",
         14
        ],
        [
         "2009-11-15",
         "Sunday",
         11
        ],
        [
         "2009-11-22",
         "Sunday",
         7
        ],
        [
         "2009-11-29",
         "Sunday",
         8
        ],
        [
         "2009-12-06",
         "Sunday",
         20
        ],
        [
         "2009-12-13",
         "Sunday",
         7
        ],
        [
         "2009-12-20",
         "Sunday",
         14
        ],
        [
         "2009-12-27",
         "Sunday",
         14
        ],
        [
         "2010-01-03",
         "Sunday",
         16
        ],
        [
         "2010-01-10",
         "Sunday",
         11
        ],
        [
         "2010-01-17",
         "Sunday",
         19
        ],
        [
         "2010-01-24",
         "Sunday",
         15
        ],
        [
         "2010-01-31",
         "Sunday",
         12
        ],
        [
         "2010-02-07",
         "Sunday",
         9
        ],
        [
         "2010-02-14",
         "Sunday",
         9
        ],
        [
         "2010-02-21",
         "Sunday",
         15
        ],
        [
         "2010-02-28",
         "Sunday",
         13
        ],
        [
         "2010-03-07",
         "Sunday",
         15
        ],
        [
         "2010-03-14",
         "Sunday",
         21
        ],
        [
         "2010-03-21",
         "Sunday",
         13
        ],
        [
         "2010-03-28",
         "Sunday",
         10
        ],
        [
         "2010-04-04",
         "Sunday",
         5
        ],
        [
         "2010-04-11",
         "Sunday",
         7
        ],
        [
         "2010-04-18",
         "Sunday",
         17
        ],
        [
         "2010-04-25",
         "Sunday",
         11
        ],
        [
         "2010-05-02",
         "Sunday",
         11
        ],
        [
         "2010-05-09",
         "Sunday",
         11
        ],
        [
         "2010-05-16",
         "Sunday",
         15
        ],
        [
         "2010-05-23",
         "Sunday",
         13
        ],
        [
         "2010-05-30",
         "Sunday",
         11
        ],
        [
         "2010-06-06",
         "Sunday",
         14
        ],
        [
         "2010-06-13",
         "Sunday",
         10
        ],
        [
         "2010-06-20",
         "Sunday",
         11
        ],
        [
         "2010-06-27",
         "Sunday",
         19
        ],
        [
         "2010-07-04",
         "Sunday",
         9
        ],
        [
         "2010-07-11",
         "Sunday",
         5
        ],
        [
         "2010-07-18",
         "Sunday",
         6
        ],
        [
         "2010-07-25",
         "Sunday",
         8
        ],
        [
         "2010-08-01",
         "Sunday",
         18
        ],
        [
         "2010-08-08",
         "Sunday",
         13
        ],
        [
         "2010-08-15",
         "Sunday",
         18
        ],
        [
         "2010-08-22",
         "Sunday",
         5
        ],
        [
         "2010-08-29",
         "Sunday",
         16
        ],
        [
         "2010-09-05",
         "Sunday",
         12
        ],
        [
         "2010-09-12",
         "Sunday",
         4
        ],
        [
         "2010-09-19",
         "Sunday",
         11
        ],
        [
         "2010-09-26",
         "Sunday",
         11
        ],
        [
         "2010-10-03",
         "Sunday",
         14
        ],
        [
         "2010-10-10",
         "Sunday",
         15
        ],
        [
         "2010-10-17",
         "Sunday",
         14
        ],
        [
         "2010-10-24",
         "Sunday",
         11
        ],
        [
         "2010-10-31",
         "Sunday",
         17
        ],
        [
         "2010-11-07",
         "Sunday",
         14
        ],
        [
         "2010-11-14",
         "Sunday",
         3
        ],
        [
         "2010-11-21",
         "Sunday",
         15
        ],
        [
         "2010-11-28",
         "Sunday",
         8
        ],
        [
         "2010-12-05",
         "Sunday",
         23
        ],
        [
         "2010-12-12",
         "Sunday",
         13
        ],
        [
         "2010-12-19",
         "Sunday",
         8
        ],
        [
         "2010-12-26",
         "Sunday",
         6
        ],
        [
         "2011-01-02",
         "Sunday",
         7
        ],
        [
         "2011-01-09",
         "Sunday",
         16
        ],
        [
         "2011-01-16",
         "Sunday",
         12
        ],
        [
         "2011-01-23",
         "Sunday",
         18
        ],
        [
         "2011-01-30",
         "Sunday",
         10
        ],
        [
         "2011-02-06",
         "Sunday",
         6
        ],
        [
         "2011-02-13",
         "Sunday",
         11
        ],
        [
         "2011-02-20",
         "Sunday",
         11
        ],
        [
         "2011-02-27",
         "Sunday",
         6
        ],
        [
         "2011-03-06",
         "Sunday",
         5
        ],
        [
         "2011-03-13",
         "Sunday",
         17
        ],
        [
         "2011-03-20",
         "Sunday",
         6
        ],
        [
         "2011-03-27",
         "Sunday",
         4
        ],
        [
         "2011-04-03",
         "Sunday",
         10
        ],
        [
         "2011-04-10",
         "Sunday",
         7
        ],
        [
         "2011-04-17",
         "Sunday",
         12
        ],
        [
         "2011-04-24",
         "Sunday",
         15
        ],
        [
         "2011-05-01",
         "Sunday",
         7
        ],
        [
         "2011-05-08",
         "Sunday",
         9
        ],
        [
         "2011-05-15",
         "Sunday",
         17
        ],
        [
         "2011-05-22",
         "Sunday",
         17
        ],
        [
         "2011-05-29",
         "Sunday",
         13
        ],
        [
         "2011-06-05",
         "Sunday",
         17
        ],
        [
         "2011-06-12",
         "Sunday",
         11
        ],
        [
         "2011-06-19",
         "Sunday",
         14
        ],
        [
         "2011-06-26",
         "Sunday",
         22
        ],
        [
         "2011-07-03",
         "Sunday",
         10
        ],
        [
         "2011-07-10",
         "Sunday",
         7
        ],
        [
         "2011-07-17",
         "Sunday",
         12
        ],
        [
         "2011-07-24",
         "Sunday",
         17
        ],
        [
         "2011-07-31",
         "Sunday",
         10
        ],
        [
         "2011-08-07",
         "Sunday",
         7
        ],
        [
         "2011-08-14",
         "Sunday",
         15
        ],
        [
         "2011-08-21",
         "Sunday",
         4
        ],
        [
         "2011-08-28",
         "Sunday",
         13
        ],
        [
         "2011-09-04",
         "Sunday",
         13
        ],
        [
         "2011-09-11",
         "Sunday",
         9
        ],
        [
         "2011-09-18",
         "Sunday",
         9
        ],
        [
         "2011-09-25",
         "Sunday",
         11
        ],
        [
         "2011-10-02",
         "Sunday",
         10
        ],
        [
         "2011-10-09",
         "Sunday",
         8
        ],
        [
         "2011-10-16",
         "Sunday",
         10
        ],
        [
         "2011-10-23",
         "Sunday",
         13
        ],
        [
         "2011-10-30",
         "Sunday",
         16
        ],
        [
         "2011-11-06",
         "Sunday",
         15
        ],
        [
         "2011-11-13",
         "Sunday",
         8
        ],
        [
         "2011-11-20",
         "Sunday",
         11
        ],
        [
         "2011-11-27",
         "Sunday",
         24
        ],
        [
         "2011-12-04",
         "Sunday",
         22
        ],
        [
         "2011-12-11",
         "Sunday",
         7
        ],
        [
         "2011-12-18",
         "Sunday",
         18
        ],
        [
         "2011-12-25",
         "Sunday",
         2
        ],
        [
         "2012-01-01",
         "Sunday",
         13
        ],
        [
         "2012-01-08",
         "Sunday",
         15
        ],
        [
         "2012-01-15",
         "Sunday",
         5
        ],
        [
         "2012-01-22",
         "Sunday",
         12
        ],
        [
         "2012-01-29",
         "Sunday",
         15
        ],
        [
         "2012-02-05",
         "Sunday",
         13
        ],
        [
         "2012-02-12",
         "Sunday",
         20
        ],
        [
         "2012-02-19",
         "Sunday",
         5
        ],
        [
         "2012-02-26",
         "Sunday",
         16
        ],
        [
         "2012-03-04",
         "Sunday",
         15
        ],
        [
         "2012-03-11",
         "Sunday",
         23
        ],
        [
         "2012-03-18",
         "Sunday",
         15
        ],
        [
         "2012-03-25",
         "Sunday",
         12
        ],
        [
         "2012-04-01",
         "Sunday",
         14
        ],
        [
         "2012-04-08",
         "Sunday",
         12
        ],
        [
         "2012-04-15",
         "Sunday",
         14
        ],
        [
         "2012-04-22",
         "Sunday",
         13
        ],
        [
         "2012-04-29",
         "Sunday",
         22
        ],
        [
         "2012-05-06",
         "Sunday",
         17
        ],
        [
         "2012-05-13",
         "Sunday",
         13
        ],
        [
         "2012-05-20",
         "Sunday",
         22
        ],
        [
         "2012-05-27",
         "Sunday",
         16
        ],
        [
         "2012-06-03",
         "Sunday",
         13
        ],
        [
         "2012-06-10",
         "Sunday",
         16
        ],
        [
         "2012-06-17",
         "Sunday",
         15
        ],
        [
         "2012-06-24",
         "Sunday",
         32
        ],
        [
         "2012-07-01",
         "Sunday",
         14
        ],
        [
         "2012-07-08",
         "Sunday",
         17
        ],
        [
         "2012-07-15",
         "Sunday",
         14
        ],
        [
         "2012-07-22",
         "Sunday",
         11
        ],
        [
         "2012-07-29",
         "Sunday",
         10
        ],
        [
         "2012-08-05",
         "Sunday",
         16
        ],
        [
         "2012-08-12",
         "Sunday",
         15
        ],
        [
         "2012-08-19",
         "Sunday",
         10
        ],
        [
         "2012-08-26",
         "Sunday",
         12
        ],
        [
         "2012-09-02",
         "Sunday",
         18
        ],
        [
         "2012-09-09",
         "Sunday",
         14
        ],
        [
         "2012-09-16",
         "Sunday",
         16
        ],
        [
         "2012-09-23",
         "Sunday",
         26
        ],
        [
         "2012-09-30",
         "Sunday",
         22
        ],
        [
         "2012-10-07",
         "Sunday",
         13
        ],
        [
         "2012-10-14",
         "Sunday",
         19
        ],
        [
         "2012-10-21",
         "Sunday",
         12
        ],
        [
         "2012-10-28",
         "Sunday",
         33
        ],
        [
         "2012-11-04",
         "Sunday",
         13
        ],
        [
         "2012-11-11",
         "Sunday",
         11
        ],
        [
         "2012-11-18",
         "Sunday",
         11
        ],
        [
         "2012-11-25",
         "Sunday",
         17
        ],
        [
         "2012-12-02",
         "Sunday",
         18
        ],
        [
         "2012-12-09",
         "Sunday",
         8
        ],
        [
         "2012-12-16",
         "Sunday",
         11
        ],
        [
         "2012-12-23",
         "Sunday",
         21
        ],
        [
         "2012-12-30",
         "Sunday",
         20
        ],
        [
         "2013-01-06",
         "Sunday",
         9
        ],
        [
         "2013-01-13",
         "Sunday",
         12
        ],
        [
         "2013-01-20",
         "Sunday",
         9
        ],
        [
         "2013-01-27",
         "Sunday",
         12
        ],
        [
         "2013-02-03",
         "Sunday",
         14
        ],
        [
         "2013-02-10",
         "Sunday",
         14
        ],
        [
         "2013-02-17",
         "Sunday",
         15
        ],
        [
         "2013-02-24",
         "Sunday",
         16
        ],
        [
         "2013-03-03",
         "Sunday",
         11
        ],
        [
         "2013-03-10",
         "Sunday",
         24
        ],
        [
         "2013-03-17",
         "Sunday",
         17
        ],
        [
         "2013-03-24",
         "Sunday",
         25
        ],
        [
         "2013-03-31",
         "Sunday",
         17
        ],
        [
         "2013-04-07",
         "Sunday",
         24
        ],
        [
         "2013-04-14",
         "Sunday",
         14
        ],
        [
         "2013-04-21",
         "Sunday",
         14
        ],
        [
         "2013-04-28",
         "Sunday",
         21
        ],
        [
         "2013-05-05",
         "Sunday",
         18
        ],
        [
         "2013-05-12",
         "Sunday",
         14
        ],
        [
         "2013-05-19",
         "Sunday",
         14
        ],
        [
         "2013-05-26",
         "Sunday",
         21
        ],
        [
         "2013-06-02",
         "Sunday",
         16
        ],
        [
         "2013-06-09",
         "Sunday",
         13
        ],
        [
         "2013-06-16",
         "Sunday",
         14
        ],
        [
         "2013-06-23",
         "Sunday",
         20
        ],
        [
         "2013-06-30",
         "Sunday",
         54
        ],
        [
         "2013-07-07",
         "Sunday",
         25
        ],
        [
         "2013-07-14",
         "Sunday",
         29
        ],
        [
         "2013-07-21",
         "Sunday",
         9
        ],
        [
         "2013-07-28",
         "Sunday",
         20
        ],
        [
         "2013-08-04",
         "Sunday",
         23
        ],
        [
         "2013-08-11",
         "Sunday",
         19
        ],
        [
         "2013-08-18",
         "Sunday",
         26
        ],
        [
         "2013-08-25",
         "Sunday",
         20
        ],
        [
         "2013-09-01",
         "Sunday",
         25
        ],
        [
         "2013-09-08",
         "Sunday",
         18
        ],
        [
         "2013-09-15",
         "Sunday",
         15
        ],
        [
         "2013-09-22",
         "Sunday",
         17
        ],
        [
         "2013-09-29",
         "Sunday",
         18
        ],
        [
         "2013-10-06",
         "Sunday",
         18
        ],
        [
         "2013-10-13",
         "Sunday",
         21
        ],
        [
         "2013-10-20",
         "Sunday",
         10
        ],
        [
         "2013-10-27",
         "Sunday",
         11
        ],
        [
         "2013-11-03",
         "Sunday",
         7
        ],
        [
         "2013-11-10",
         "Sunday",
         11
        ],
        [
         "2013-11-17",
         "Sunday",
         19
        ],
        [
         "2013-11-24",
         "Sunday",
         12
        ],
        [
         "2013-12-01",
         "Sunday",
         16
        ],
        [
         "2013-12-08",
         "Sunday",
         12
        ],
        [
         "2013-12-15",
         "Sunday",
         19
        ],
        [
         "2013-12-22",
         "Sunday",
         14
        ],
        [
         "2013-12-29",
         "Sunday",
         21
        ],
        [
         "2014-01-05",
         "Sunday",
         20
        ],
        [
         "2014-01-12",
         "Sunday",
         16
        ],
        [
         "2014-01-19",
         "Sunday",
         17
        ],
        [
         "2014-01-26",
         "Sunday",
         24
        ],
        [
         "2014-02-02",
         "Sunday",
         5
        ],
        [
         "2014-02-09",
         "Sunday",
         14
        ],
        [
         "2014-02-16",
         "Sunday",
         5
        ],
        [
         "2014-02-23",
         "Sunday",
         9
        ],
        [
         "2014-03-02",
         "Sunday",
         10
        ],
        [
         "2014-03-09",
         "Sunday",
         18
        ],
        [
         "2014-03-16",
         "Sunday",
         10
        ],
        [
         "2014-03-23",
         "Sunday",
         13
        ],
        [
         "2014-03-30",
         "Sunday",
         7
        ],
        [
         "2014-04-06",
         "Sunday",
         26
        ],
        [
         "2014-04-13",
         "Sunday",
         16
        ],
        [
         "2014-04-20",
         "Sunday",
         20
        ],
        [
         "2014-04-27",
         "Sunday",
         20
        ],
        [
         "2014-05-04",
         "Sunday",
         19
        ],
        [
         "2014-05-11",
         "Sunday",
         18
        ],
        [
         "2014-05-18",
         "Sunday",
         18
        ],
        [
         "2014-05-25",
         "Sunday",
         22
        ],
        [
         "2014-06-01",
         "Sunday",
         19
        ],
        [
         "2014-06-08",
         "Sunday",
         12
        ],
        [
         "2014-06-15",
         "Sunday",
         11
        ],
        [
         "2014-06-22",
         "Sunday",
         15
        ],
        [
         "2014-06-29",
         "Sunday",
         19
        ],
        [
         "2014-07-06",
         "Sunday",
         11
        ],
        [
         "2014-07-13",
         "Sunday",
         19
        ],
        [
         "2014-07-20",
         "Sunday",
         5
        ],
        [
         "2014-07-27",
         "Sunday",
         12
        ],
        [
         "2014-08-03",
         "Sunday",
         10
        ],
        [
         "2014-08-10",
         "Sunday",
         22
        ],
        [
         "2014-08-17",
         "Sunday",
         12
        ],
        [
         "2014-08-24",
         "Sunday",
         4
        ],
        [
         "2014-08-31",
         "Sunday",
         17
        ],
        [
         "2014-09-07",
         "Sunday",
         9
        ],
        [
         "2014-09-14",
         "Sunday",
         11
        ],
        [
         "2014-09-21",
         "Sunday",
         7
        ],
        [
         "2014-09-28",
         "Sunday",
         6
        ],
        [
         "2014-10-05",
         "Sunday",
         15
        ],
        [
         "2014-10-12",
         "Sunday",
         18
        ],
        [
         "2014-10-19",
         "Sunday",
         15
        ],
        [
         "2014-10-26",
         "Sunday",
         13
        ],
        [
         "2014-11-02",
         "Sunday",
         8
        ],
        [
         "2014-11-09",
         "Sunday",
         9
        ],
        [
         "2014-11-16",
         "Sunday",
         11
        ],
        [
         "2014-11-23",
         "Sunday",
         21
        ],
        [
         "2014-11-30",
         "Sunday",
         9
        ],
        [
         "2014-12-07",
         "Sunday",
         19
        ],
        [
         "2014-12-14",
         "Sunday",
         13
        ],
        [
         "2014-12-21",
         "Sunday",
         12
        ],
        [
         "2014-12-28",
         "Sunday",
         22
        ],
        [
         "2015-01-04",
         "Sunday",
         11
        ],
        [
         "2015-01-11",
         "Sunday",
         8
        ],
        [
         "2015-01-18",
         "Sunday",
         10
        ],
        [
         "2015-01-25",
         "Sunday",
         7
        ],
        [
         "2015-02-01",
         "Sunday",
         15
        ],
        [
         "2015-02-08",
         "Sunday",
         11
        ],
        [
         "2015-02-15",
         "Sunday",
         17
        ],
        [
         "2015-02-22",
         "Sunday",
         14
        ],
        [
         "2015-03-01",
         "Sunday",
         22
        ],
        [
         "2015-03-08",
         "Sunday",
         8
        ],
        [
         "2015-03-15",
         "Sunday",
         13
        ],
        [
         "2015-03-22",
         "Sunday",
         18
        ],
        [
         "2015-03-29",
         "Sunday",
         12
        ],
        [
         "2015-04-05",
         "Sunday",
         13
        ],
        [
         "2015-04-12",
         "Sunday",
         14
        ],
        [
         "2015-04-19",
         "Sunday",
         9
        ],
        [
         "2015-04-26",
         "Sunday",
         15
        ],
        [
         "2015-05-03",
         "Sunday",
         12
        ],
        [
         "2015-05-10",
         "Sunday",
         21
        ],
        [
         "2015-05-17",
         "Sunday",
         9
        ],
        [
         "2015-05-24",
         "Sunday",
         19
        ],
        [
         "2015-05-31",
         "Sunday",
         13
        ],
        [
         "2015-06-07",
         "Sunday",
         19
        ],
        [
         "2015-06-14",
         "Sunday",
         13
        ],
        [
         "2015-06-21",
         "Sunday",
         15
        ],
        [
         "2015-06-28",
         "Sunday",
         22
        ],
        [
         "2015-07-05",
         "Sunday",
         20
        ],
        [
         "2015-07-12",
         "Sunday",
         15
        ],
        [
         "2015-07-19",
         "Sunday",
         6
        ],
        [
         "2015-07-26",
         "Sunday",
         17
        ],
        [
         "2015-08-02",
         "Sunday",
         13
        ],
        [
         "2015-08-09",
         "Sunday",
         8
        ],
        [
         "2015-08-16",
         "Sunday",
         14
        ],
        [
         "2015-08-23",
         "Sunday",
         13
        ],
        [
         "2015-08-30",
         "Sunday",
         14
        ],
        [
         "2015-09-06",
         "Sunday",
         16
        ],
        [
         "2015-09-13",
         "Sunday",
         6
        ],
        [
         "2015-09-20",
         "Sunday",
         23
        ],
        [
         "2015-09-27",
         "Sunday",
         10
        ],
        [
         "2015-10-04",
         "Sunday",
         7
        ],
        [
         "2015-10-11",
         "Sunday",
         12
        ],
        [
         "2015-10-18",
         "Sunday",
         20
        ],
        [
         "2015-10-25",
         "Sunday",
         18
        ],
        [
         "2015-11-01",
         "Sunday",
         17
        ],
        [
         "2015-11-08",
         "Sunday",
         14
        ],
        [
         "2015-11-15",
         "Sunday",
         9
        ],
        [
         "2015-11-22",
         "Sunday",
         14
        ],
        [
         "2015-11-29",
         "Sunday",
         13
        ],
        [
         "2015-12-06",
         "Sunday",
         23
        ],
        [
         "2015-12-13",
         "Sunday",
         9
        ],
        [
         "2015-12-20",
         "Sunday",
         8
        ],
        [
         "2015-12-27",
         "Sunday",
         8
        ],
        [
         "2016-01-03",
         "Sunday",
         9
        ],
        [
         "2016-01-10",
         "Sunday",
         11
        ],
        [
         "2016-01-17",
         "Sunday",
         24
        ],
        [
         "2016-01-24",
         "Sunday",
         8
        ],
        [
         "2016-01-31",
         "Sunday",
         19
        ],
        [
         "2016-02-07",
         "Sunday",
         27
        ],
        [
         "2016-02-14",
         "Sunday",
         17
        ],
        [
         "2016-02-21",
         "Sunday",
         23
        ],
        [
         "2016-02-28",
         "Sunday",
         9
        ],
        [
         "2016-03-06",
         "Sunday",
         9
        ],
        [
         "2016-03-13",
         "Sunday",
         6
        ],
        [
         "2016-03-20",
         "Sunday",
         14
        ],
        [
         "2016-03-27",
         "Sunday",
         23
        ],
        [
         "2016-04-03",
         "Sunday",
         20
        ],
        [
         "2016-04-10",
         "Sunday",
         17
        ],
        [
         "2016-04-17",
         "Sunday",
         15
        ],
        [
         "2016-04-24",
         "Sunday",
         12
        ],
        [
         "2016-05-01",
         "Sunday",
         9
        ],
        [
         "2016-05-08",
         "Sunday",
         10
        ],
        [
         "2016-05-15",
         "Sunday",
         11
        ],
        [
         "2016-05-22",
         "Sunday",
         10
        ],
        [
         "2016-05-29",
         "Sunday",
         13
        ],
        [
         "2016-06-05",
         "Sunday",
         12
        ],
        [
         "2016-06-12",
         "Sunday",
         17
        ],
        [
         "2016-06-19",
         "Sunday",
         18
        ],
        [
         "2016-06-26",
         "Sunday",
         15
        ],
        [
         "2016-07-03",
         "Sunday",
         17
        ],
        [
         "2016-07-10",
         "Sunday",
         9
        ],
        [
         "2016-07-17",
         "Sunday",
         14
        ],
        [
         "2016-07-24",
         "Sunday",
         17
        ],
        [
         "2016-07-31",
         "Sunday",
         14
        ],
        [
         "2016-08-07",
         "Sunday",
         13
        ],
        [
         "2016-08-14",
         "Sunday",
         19
        ],
        [
         "2016-08-21",
         "Sunday",
         18
        ],
        [
         "2016-08-28",
         "Sunday",
         23
        ],
        [
         "2016-09-04",
         "Sunday",
         14
        ],
        [
         "2016-09-11",
         "Sunday",
         29
        ],
        [
         "2016-09-18",
         "Sunday",
         18
        ],
        [
         "2016-09-25",
         "Sunday",
         20
        ],
        [
         "2016-10-02",
         "Sunday",
         17
        ],
        [
         "2016-10-09",
         "Sunday",
         23
        ],
        [
         "2016-10-16",
         "Sunday",
         13
        ],
        [
         "2016-10-23",
         "Sunday",
         13
        ],
        [
         "2016-10-30",
         "Sunday",
         13
        ],
        [
         "2016-11-06",
         "Sunday",
         13
        ],
        [
         "2016-11-13",
         "Sunday",
         9
        ],
        [
         "2016-11-20",
         "Sunday",
         15
        ],
        [
         "2016-11-27",
         "Sunday",
         13
        ],
        [
         "2016-12-04",
         "Sunday",
         24
        ],
        [
         "2016-12-11",
         "Sunday",
         35
        ],
        [
         "2016-12-18",
         "Sunday",
         16
        ],
        [
         "2016-12-25",
         "Sunday",
         8
        ],
        [
         "2017-01-01",
         "Sunday",
         30
        ],
        [
         "2017-01-08",
         "Sunday",
         9
        ],
        [
         "2017-01-15",
         "Sunday",
         28
        ],
        [
         "2017-01-22",
         "Sunday",
         9
        ],
        [
         "2017-01-29",
         "Sunday",
         15
        ],
        [
         "2017-02-05",
         "Sunday",
         17
        ],
        [
         "2017-02-12",
         "Sunday",
         11
        ],
        [
         "2017-02-19",
         "Sunday",
         24
        ],
        [
         "2017-02-26",
         "Sunday",
         19
        ],
        [
         "2017-03-05",
         "Sunday",
         17
        ],
        [
         "2017-03-12",
         "Sunday",
         15
        ],
        [
         "2017-03-19",
         "Sunday",
         11
        ],
        [
         "2017-03-26",
         "Sunday",
         19
        ],
        [
         "2017-04-02",
         "Sunday",
         17
        ],
        [
         "2017-04-09",
         "Sunday",
         9
        ],
        [
         "2017-04-16",
         "Sunday",
         23
        ],
        [
         "2017-04-23",
         "Sunday",
         12
        ],
        [
         "2017-04-30",
         "Sunday",
         12
        ],
        [
         "2017-05-07",
         "Sunday",
         18
        ],
        [
         "2017-05-14",
         "Sunday",
         21
        ],
        [
         "2017-05-21",
         "Sunday",
         15
        ],
        [
         "2017-05-28",
         "Sunday",
         16
        ],
        [
         "2017-06-04",
         "Sunday",
         16
        ],
        [
         "2017-06-11",
         "Sunday",
         13
        ],
        [
         "2017-06-18",
         "Sunday",
         9
        ],
        [
         "2017-06-25",
         "Sunday",
         31
        ],
        [
         "2017-07-02",
         "Sunday",
         14
        ],
        [
         "2017-07-09",
         "Sunday",
         17
        ],
        [
         "2017-07-16",
         "Sunday",
         20
        ],
        [
         "2017-07-23",
         "Sunday",
         18
        ],
        [
         "2017-07-30",
         "Sunday",
         18
        ],
        [
         "2017-08-06",
         "Sunday",
         20
        ],
        [
         "2017-08-13",
         "Sunday",
         12
        ],
        [
         "2017-08-20",
         "Sunday",
         16
        ],
        [
         "2017-08-27",
         "Sunday",
         16
        ],
        [
         "2017-09-03",
         "Sunday",
         20
        ],
        [
         "2017-09-10",
         "Sunday",
         22
        ],
        [
         "2017-09-17",
         "Sunday",
         22
        ],
        [
         "2017-09-24",
         "Sunday",
         14
        ],
        [
         "2017-10-01",
         "Sunday",
         15
        ],
        [
         "2017-10-08",
         "Sunday",
         9
        ],
        [
         "2017-10-15",
         "Sunday",
         12
        ],
        [
         "2017-10-22",
         "Sunday",
         13
        ],
        [
         "2017-10-29",
         "Sunday",
         17
        ],
        [
         "2017-11-05",
         "Sunday",
         21
        ],
        [
         "2017-11-12",
         "Sunday",
         7
        ],
        [
         "2017-11-19",
         "Sunday",
         24
        ],
        [
         "2017-11-26",
         "Sunday",
         13
        ],
        [
         "2017-12-03",
         "Sunday",
         9
        ],
        [
         "2017-12-10",
         "Sunday",
         28
        ],
        [
         "2017-12-17",
         "Sunday",
         20
        ],
        [
         "2017-12-24",
         "Sunday",
         17
        ],
        [
         "2017-12-31",
         "Sunday",
         20
        ],
        [
         "2018-01-07",
         "Sunday",
         15
        ],
        [
         "2018-01-14",
         "Sunday",
         10
        ],
        [
         "2018-01-21",
         "Sunday",
         19
        ],
        [
         "2018-01-28",
         "Sunday",
         13
        ],
        [
         "2018-02-04",
         "Sunday",
         12
        ],
        [
         "2018-02-11",
         "Sunday",
         15
        ],
        [
         "2018-02-18",
         "Sunday",
         8
        ],
        [
         "2018-02-25",
         "Sunday",
         15
        ],
        [
         "2018-03-04",
         "Sunday",
         22
        ],
        [
         "2018-03-11",
         "Sunday",
         13
        ],
        [
         "2018-03-18",
         "Sunday",
         17
        ],
        [
         "2018-03-25",
         "Sunday",
         14
        ],
        [
         "2018-04-01",
         "Sunday",
         9
        ],
        [
         "2018-04-08",
         "Sunday",
         23
        ],
        [
         "2018-04-15",
         "Sunday",
         12
        ],
        [
         "2018-04-22",
         "Sunday",
         22
        ],
        [
         "2018-04-29",
         "Sunday",
         16
        ],
        [
         "2018-05-06",
         "Sunday",
         17
        ],
        [
         "2018-05-13",
         "Sunday",
         7
        ]
       ],
       "datasetInfos": [],
       "dbfsResultPath": null,
       "isJsonSchema": true,
       "metadata": {},
       "overflow": false,
       "plotOptions": {
        "customPlotOptions": {
         "plotlyBar": [
          {
           "key": "grouped",
           "value": false
          },
          {
           "key": "stacked",
           "value": true
          },
          {
           "key": "100_stacked",
           "value": false
          }
         ]
        },
        "displayType": "plotlyBar",
        "pivotAggregation": "sum",
        "pivotColumns": [],
        "xColumns": [
         "Date"
        ],
        "yColumns": [
         "count"
        ]
       },
       "removedWidgets": [],
       "schema": [
        {
         "metadata": "{}",
         "name": "Date",
         "type": "\"date\""
        },
        {
         "metadata": "{}",
         "name": "DayOfWeek",
         "type": "\"string\""
        },
        {
         "metadata": "{}",
         "name": "count",
         "type": "\"long\""
        }
       ],
       "type": "table"
      }
     },
     "output_type": "display_data"
    }
   ],
   "source": [
    "# DF Way\n",
    "crime_sunday_SFdown=df_opt1.filter((df_opt1.X > -122.4313) & (df_opt1.X < -122.4213) & (df_opt1.Y < 37.7740) & (df_opt1.Y > 37.7540 )&(df_opt1.DayOfWeek == \"Sunday\")).groupby('Date','DayOfWeek').count().orderBy('Date')\n",
    "display(crime_sunday_SFdown)"
   ]
  },
  {
   "cell_type": "markdown",
   "metadata": {
    "application/vnd.databricks.v1+cell": {
     "cellMetadata": {},
     "inputWidgets": {},
     "nuid": "3670117f-19c2-4f0f-8dfa-4958fdd20e49",
     "showTitle": false,
     "title": ""
    }
   },
   "source": [
    "### Q4 Analysis the number of crime in each month of 2015, 2016, 2017, 2018. Then, give your insights for the output results. What is the business impact for your result?"
   ]
  },
  {
   "cell_type": "code",
   "execution_count": 0,
   "metadata": {
    "application/vnd.databricks.v1+cell": {
     "cellMetadata": {},
     "inputWidgets": {},
     "nuid": "238ecfeb-55bd-4d9a-8306-382acdfcddfa",
     "showTitle": true,
     "title": "4.1 Spark SQL based solution"
    }
   },
   "outputs": [
    {
     "data": {
      "text/html": [
       "<style scoped>\n",
       "  .table-result-container {\n",
       "    max-height: 300px;\n",
       "    overflow: auto;\n",
       "  }\n",
       "  table, th, td {\n",
       "    border: 1px solid black;\n",
       "    border-collapse: collapse;\n",
       "  }\n",
       "  th, td {\n",
       "    padding: 5px;\n",
       "  }\n",
       "  th {\n",
       "    text-align: left;\n",
       "  }\n",
       "</style><div class='table-result-container'><table class='table-result'><thead style='background-color: white'><tr><th>Years</th><th>Months</th><th>counts</th></tr></thead><tbody><tr><td>2015</td><td>01</td><td>13181</td></tr><tr><td>2015</td><td>02</td><td>11882</td></tr><tr><td>2015</td><td>03</td><td>13463</td></tr><tr><td>2015</td><td>04</td><td>12526</td></tr><tr><td>2015</td><td>05</td><td>13318</td></tr><tr><td>2015</td><td>06</td><td>12853</td></tr><tr><td>2015</td><td>07</td><td>12949</td></tr><tr><td>2015</td><td>08</td><td>13317</td></tr><tr><td>2015</td><td>09</td><td>12476</td></tr><tr><td>2015</td><td>10</td><td>12697</td></tr><tr><td>2015</td><td>11</td><td>11691</td></tr><tr><td>2015</td><td>12</td><td>11106</td></tr><tr><td>2016</td><td>01</td><td>12532</td></tr><tr><td>2016</td><td>02</td><td>11743</td></tr><tr><td>2016</td><td>03</td><td>11950</td></tr><tr><td>2016</td><td>04</td><td>11905</td></tr><tr><td>2016</td><td>05</td><td>12313</td></tr><tr><td>2016</td><td>06</td><td>11727</td></tr><tr><td>2016</td><td>07</td><td>11832</td></tr><tr><td>2016</td><td>08</td><td>12104</td></tr><tr><td>2016</td><td>09</td><td>12092</td></tr><tr><td>2016</td><td>10</td><td>12913</td></tr><tr><td>2016</td><td>11</td><td>12254</td></tr><tr><td>2016</td><td>12</td><td>12629</td></tr><tr><td>2017</td><td>01</td><td>12687</td></tr><tr><td>2017</td><td>02</td><td>11780</td></tr><tr><td>2017</td><td>03</td><td>13250</td></tr><tr><td>2017</td><td>04</td><td>12452</td></tr><tr><td>2017</td><td>05</td><td>12758</td></tr><tr><td>2017</td><td>06</td><td>12186</td></tr><tr><td>2017</td><td>07</td><td>12717</td></tr><tr><td>2017</td><td>08</td><td>12428</td></tr><tr><td>2017</td><td>09</td><td>12204</td></tr><tr><td>2017</td><td>10</td><td>12970</td></tr><tr><td>2017</td><td>11</td><td>11940</td></tr><tr><td>2017</td><td>12</td><td>12115</td></tr><tr><td>2018</td><td>01</td><td>11667</td></tr><tr><td>2018</td><td>02</td><td>9565</td></tr><tr><td>2018</td><td>03</td><td>10354</td></tr><tr><td>2018</td><td>04</td><td>9954</td></tr><tr><td>2018</td><td>05</td><td>3519</td></tr></tbody></table></div>"
      ]
     },
     "metadata": {
      "application/vnd.databricks.v1+output": {
       "addedWidgets": {},
       "aggData": [],
       "aggError": "",
       "aggOverflow": false,
       "aggSchema": [],
       "aggSeriesLimitReached": false,
       "aggType": "",
       "arguments": {},
       "columnCustomDisplayInfos": {},
       "data": [
        [
         "2015",
         "01",
         13181
        ],
        [
         "2015",
         "02",
         11882
        ],
        [
         "2015",
         "03",
         13463
        ],
        [
         "2015",
         "04",
         12526
        ],
        [
         "2015",
         "05",
         13318
        ],
        [
         "2015",
         "06",
         12853
        ],
        [
         "2015",
         "07",
         12949
        ],
        [
         "2015",
         "08",
         13317
        ],
        [
         "2015",
         "09",
         12476
        ],
        [
         "2015",
         "10",
         12697
        ],
        [
         "2015",
         "11",
         11691
        ],
        [
         "2015",
         "12",
         11106
        ],
        [
         "2016",
         "01",
         12532
        ],
        [
         "2016",
         "02",
         11743
        ],
        [
         "2016",
         "03",
         11950
        ],
        [
         "2016",
         "04",
         11905
        ],
        [
         "2016",
         "05",
         12313
        ],
        [
         "2016",
         "06",
         11727
        ],
        [
         "2016",
         "07",
         11832
        ],
        [
         "2016",
         "08",
         12104
        ],
        [
         "2016",
         "09",
         12092
        ],
        [
         "2016",
         "10",
         12913
        ],
        [
         "2016",
         "11",
         12254
        ],
        [
         "2016",
         "12",
         12629
        ],
        [
         "2017",
         "01",
         12687
        ],
        [
         "2017",
         "02",
         11780
        ],
        [
         "2017",
         "03",
         13250
        ],
        [
         "2017",
         "04",
         12452
        ],
        [
         "2017",
         "05",
         12758
        ],
        [
         "2017",
         "06",
         12186
        ],
        [
         "2017",
         "07",
         12717
        ],
        [
         "2017",
         "08",
         12428
        ],
        [
         "2017",
         "09",
         12204
        ],
        [
         "2017",
         "10",
         12970
        ],
        [
         "2017",
         "11",
         11940
        ],
        [
         "2017",
         "12",
         12115
        ],
        [
         "2018",
         "01",
         11667
        ],
        [
         "2018",
         "02",
         9565
        ],
        [
         "2018",
         "03",
         10354
        ],
        [
         "2018",
         "04",
         9954
        ],
        [
         "2018",
         "05",
         3519
        ]
       ],
       "datasetInfos": [],
       "dbfsResultPath": null,
       "isJsonSchema": true,
       "metadata": {},
       "overflow": false,
       "plotOptions": {
        "customPlotOptions": {
         "__migrate__": [
          {
           "key": "status",
           "value": "complete"
          },
          {
           "key": "origDisplayType",
           "value": "plotlyBar"
          }
         ],
         "barChart": [
          {
           "key": "grouped",
           "value": true
          },
          {
           "key": "stacked",
           "value": false
          },
          {
           "key": "100_stacked",
           "value": false
          }
         ],
         "mapPlot": [],
         "pieChart": [
          {
           "key": "donut",
           "value": true
          }
         ],
         "plotlyBar": [
          {
           "key": "grouped",
           "value": true
          },
          {
           "key": "stacked",
           "value": false
          },
          {
           "key": "100_stacked",
           "value": false
          }
         ],
         "scatterPlot": [
          {
           "key": "loess",
           "value": false
          },
          {
           "key": "bandwidth",
           "value": 0.3
          }
         ]
        },
        "displayType": "table",
        "pivotAggregation": "sum",
        "pivotColumns": [
         "Months"
        ],
        "xColumns": [
         "Years"
        ],
        "yColumns": [
         "counts"
        ]
       },
       "removedWidgets": [],
       "schema": [
        {
         "metadata": "{}",
         "name": "Years",
         "type": "\"string\""
        },
        {
         "metadata": "{}",
         "name": "Months",
         "type": "\"string\""
        },
        {
         "metadata": "{}",
         "name": "counts",
         "type": "\"long\""
        }
       ],
       "type": "table"
      }
     },
     "output_type": "display_data"
    },
    {
     "data": {
      "text/plain": [
       "Output can only be rendered in Databricks"
      ]
     },
     "metadata": {
      "application/vnd.databricks.v1.subcommand+json": {
       "bindings": {},
       "collapsed": false,
       "command": "#SQL way\ncrime_each_month=spark.sql(\"select substring(Date,1,4) as Years,substring(Date,6,2) as Months,count(*) as counts from sf_crime where (Date>='2015-01-01' and Date<='2018-12-31') group by 1,2 order by 1,2\")\ndisplay(crime_each_month)",
       "commandTitle": "Bar chart",
       "commandType": "auto",
       "commandVersion": 0,
       "commentThread": [],
       "commentsVisible": false,
       "contentSha256Hex": null,
       "customPlotOptions": {
        "plotlyBar": [
         {
          "key": "grouped",
          "value": true
         },
         {
          "key": "stacked",
          "value": false
         },
         {
          "key": "100_stacked",
          "value": false
         }
        ]
       },
       "datasetPreviewNameToCmdIdMap": {},
       "diffDeletes": [],
       "diffInserts": [],
       "displayType": "plotlyBar",
       "error": null,
       "errorSummary": null,
       "errorTraceType": null,
       "finishTime": 0,
       "globalVars": {},
       "guid": "f61c5ffd-b23d-4727-ac75-f4c672242100",
       "height": "649",
       "hideCommandCode": false,
       "hideCommandResult": false,
       "iPythonMetadata": null,
       "inputWidgets": {},
       "isLockedInExamMode": false,
       "latestUser": "a user",
       "latestUserId": null,
       "listResultMetadata": null,
       "metadata": {},
       "nuid": "a948cf35-9698-414a-9cc4-e148f68a3e19",
       "origId": 4373915032349141,
       "parentHierarchy": [
        "6ed63035-8f27-4c19-87bf-0bce23f3bb3c"
       ],
       "pivotAggregation": "sum",
       "pivotColumns": [
        "Months"
       ],
       "position": 1,
       "resultDbfsErrorMessage": null,
       "resultDbfsStatus": "INLINED_IN_TREE",
       "results": null,
       "showCommandTitle": false,
       "startTime": 0,
       "state": "input",
       "streamStates": {},
       "subcommandOptions": null,
       "submitTime": 0,
       "subtype": "tableResultSubCmd.visualization",
       "tableResultIndex": 0,
       "useConsistentColors": false,
       "version": "CommandV1",
       "width": "1258",
       "workflows": [],
       "xColumns": [
        "Years"
       ],
       "yColumns": [
        "counts"
       ]
      }
     },
     "output_type": "display_data"
    }
   ],
   "source": [
    "#SQL way\n",
    "crime_each_month=spark.sql(\"select substring(Date,1,4) as Years,substring(Date,6,2) as Months,count(*) as counts from sf_crime where (Date>='2015-01-01' and Date<='2018-12-31') group by 1,2 order by 1,2\")\n",
    "display(crime_each_month)"
   ]
  },
  {
   "cell_type": "code",
   "execution_count": 0,
   "metadata": {
    "application/vnd.databricks.v1+cell": {
     "cellMetadata": {
      "implicitDf": true
     },
     "inputWidgets": {},
     "nuid": "2f2f83af-1ef7-4510-bd2e-946fd782d99e",
     "showTitle": false,
     "title": ""
    }
   },
   "outputs": [
    {
     "data": {
      "text/html": [
       "<style scoped>\n",
       "  .table-result-container {\n",
       "    max-height: 300px;\n",
       "    overflow: auto;\n",
       "  }\n",
       "  table, th, td {\n",
       "    border: 1px solid black;\n",
       "    border-collapse: collapse;\n",
       "  }\n",
       "  th, td {\n",
       "    padding: 5px;\n",
       "  }\n",
       "  th {\n",
       "    text-align: left;\n",
       "  }\n",
       "</style><div class='table-result-container'><table class='table-result'><thead style='background-color: white'><tr><th>Years</th><th>Months</th><th>counts</th></tr></thead><tbody><tr><td>2015</td><td>01</td><td>13181</td></tr><tr><td>2015</td><td>02</td><td>11882</td></tr><tr><td>2015</td><td>03</td><td>13463</td></tr><tr><td>2015</td><td>04</td><td>12526</td></tr><tr><td>2015</td><td>05</td><td>13318</td></tr><tr><td>2015</td><td>06</td><td>12853</td></tr><tr><td>2015</td><td>07</td><td>12949</td></tr><tr><td>2015</td><td>08</td><td>13317</td></tr><tr><td>2015</td><td>09</td><td>12476</td></tr><tr><td>2015</td><td>10</td><td>12697</td></tr><tr><td>2015</td><td>11</td><td>11691</td></tr><tr><td>2015</td><td>12</td><td>11106</td></tr><tr><td>2016</td><td>01</td><td>12532</td></tr><tr><td>2016</td><td>02</td><td>11743</td></tr><tr><td>2016</td><td>03</td><td>11950</td></tr><tr><td>2016</td><td>04</td><td>11905</td></tr><tr><td>2016</td><td>05</td><td>12313</td></tr><tr><td>2016</td><td>06</td><td>11727</td></tr><tr><td>2016</td><td>07</td><td>11832</td></tr><tr><td>2016</td><td>08</td><td>12104</td></tr><tr><td>2016</td><td>09</td><td>12092</td></tr><tr><td>2016</td><td>10</td><td>12913</td></tr><tr><td>2016</td><td>11</td><td>12254</td></tr><tr><td>2016</td><td>12</td><td>12629</td></tr><tr><td>2017</td><td>01</td><td>12687</td></tr><tr><td>2017</td><td>02</td><td>11780</td></tr><tr><td>2017</td><td>03</td><td>13250</td></tr><tr><td>2017</td><td>04</td><td>12452</td></tr><tr><td>2017</td><td>05</td><td>12758</td></tr><tr><td>2017</td><td>06</td><td>12186</td></tr><tr><td>2017</td><td>07</td><td>12717</td></tr><tr><td>2017</td><td>08</td><td>12428</td></tr><tr><td>2017</td><td>09</td><td>12204</td></tr><tr><td>2017</td><td>10</td><td>12970</td></tr><tr><td>2017</td><td>11</td><td>11940</td></tr><tr><td>2017</td><td>12</td><td>12115</td></tr><tr><td>2018</td><td>01</td><td>11667</td></tr><tr><td>2018</td><td>02</td><td>9565</td></tr><tr><td>2018</td><td>03</td><td>10354</td></tr><tr><td>2018</td><td>04</td><td>9954</td></tr><tr><td>2018</td><td>05</td><td>3519</td></tr></tbody></table></div>"
      ]
     },
     "metadata": {
      "application/vnd.databricks.v1+output": {
       "addedWidgets": {},
       "aggData": [],
       "aggError": "",
       "aggOverflow": false,
       "aggSchema": [],
       "aggSeriesLimitReached": false,
       "aggType": "",
       "arguments": {},
       "columnCustomDisplayInfos": {},
       "data": [
        [
         "2015",
         "01",
         13181
        ],
        [
         "2015",
         "02",
         11882
        ],
        [
         "2015",
         "03",
         13463
        ],
        [
         "2015",
         "04",
         12526
        ],
        [
         "2015",
         "05",
         13318
        ],
        [
         "2015",
         "06",
         12853
        ],
        [
         "2015",
         "07",
         12949
        ],
        [
         "2015",
         "08",
         13317
        ],
        [
         "2015",
         "09",
         12476
        ],
        [
         "2015",
         "10",
         12697
        ],
        [
         "2015",
         "11",
         11691
        ],
        [
         "2015",
         "12",
         11106
        ],
        [
         "2016",
         "01",
         12532
        ],
        [
         "2016",
         "02",
         11743
        ],
        [
         "2016",
         "03",
         11950
        ],
        [
         "2016",
         "04",
         11905
        ],
        [
         "2016",
         "05",
         12313
        ],
        [
         "2016",
         "06",
         11727
        ],
        [
         "2016",
         "07",
         11832
        ],
        [
         "2016",
         "08",
         12104
        ],
        [
         "2016",
         "09",
         12092
        ],
        [
         "2016",
         "10",
         12913
        ],
        [
         "2016",
         "11",
         12254
        ],
        [
         "2016",
         "12",
         12629
        ],
        [
         "2017",
         "01",
         12687
        ],
        [
         "2017",
         "02",
         11780
        ],
        [
         "2017",
         "03",
         13250
        ],
        [
         "2017",
         "04",
         12452
        ],
        [
         "2017",
         "05",
         12758
        ],
        [
         "2017",
         "06",
         12186
        ],
        [
         "2017",
         "07",
         12717
        ],
        [
         "2017",
         "08",
         12428
        ],
        [
         "2017",
         "09",
         12204
        ],
        [
         "2017",
         "10",
         12970
        ],
        [
         "2017",
         "11",
         11940
        ],
        [
         "2017",
         "12",
         12115
        ],
        [
         "2018",
         "01",
         11667
        ],
        [
         "2018",
         "02",
         9565
        ],
        [
         "2018",
         "03",
         10354
        ],
        [
         "2018",
         "04",
         9954
        ],
        [
         "2018",
         "05",
         3519
        ]
       ],
       "datasetInfos": [],
       "dbfsResultPath": null,
       "isJsonSchema": true,
       "metadata": {},
       "overflow": false,
       "plotOptions": {
        "customPlotOptions": {},
        "displayType": "table",
        "pivotAggregation": null,
        "pivotColumns": null,
        "xColumns": null,
        "yColumns": null
       },
       "removedWidgets": [],
       "schema": [
        {
         "metadata": "{}",
         "name": "Years",
         "type": "\"string\""
        },
        {
         "metadata": "{}",
         "name": "Months",
         "type": "\"string\""
        },
        {
         "metadata": "{}",
         "name": "counts",
         "type": "\"long\""
        }
       ],
       "type": "table"
      }
     },
     "output_type": "display_data"
    }
   ],
   "source": [
    "%sql select substring(Date,1,4) as Years,substring(Date,6,2) as Months,count(*) as counts from sf_crime where (Date>='2015-01-01' and Date<='2018-12-31') group by 1,2 order by 1,2"
   ]
  },
  {
   "cell_type": "code",
   "execution_count": 0,
   "metadata": {
    "application/vnd.databricks.v1+cell": {
     "cellMetadata": {},
     "inputWidgets": {},
     "nuid": "5e912b97-1307-4395-ad2f-b1410d2d2119",
     "showTitle": true,
     "title": "4.1 Spark Dataframe based solution"
    }
   },
   "outputs": [
    {
     "data": {
      "text/html": [
       "<style scoped>\n",
       "  .table-result-container {\n",
       "    max-height: 300px;\n",
       "    overflow: auto;\n",
       "  }\n",
       "  table, th, td {\n",
       "    border: 1px solid black;\n",
       "    border-collapse: collapse;\n",
       "  }\n",
       "  th, td {\n",
       "    padding: 5px;\n",
       "  }\n",
       "  th {\n",
       "    text-align: left;\n",
       "  }\n",
       "</style><div class='table-result-container'><table class='table-result'><thead style='background-color: white'><tr><th>Year</th><th>Category</th><th>count</th></tr></thead><tbody><tr><td>2015</td><td>ARSON</td><td>309</td></tr><tr><td>2015</td><td>ASSAULT</td><td>11090</td></tr><tr><td>2015</td><td>BAD CHECKS</td><td>38</td></tr><tr><td>2015</td><td>BRIBERY</td><td>73</td></tr><tr><td>2015</td><td>BURGLARY</td><td>5903</td></tr><tr><td>2015</td><td>DISORDERLY CONDUCT</td><td>547</td></tr><tr><td>2015</td><td>DRIVING UNDER THE INFLUENCE</td><td>428</td></tr><tr><td>2015</td><td>DRUG/NARCOTIC</td><td>4194</td></tr><tr><td>2015</td><td>DRUNKENNESS</td><td>576</td></tr><tr><td>2015</td><td>EMBEZZLEMENT</td><td>183</td></tr><tr><td>2015</td><td>EXTORTION</td><td>38</td></tr><tr><td>2015</td><td>FORGERY/COUNTERFEITING</td><td>761</td></tr><tr><td>2015</td><td>FRAUD</td><td>3125</td></tr><tr><td>2015</td><td>GAMBLING</td><td>28</td></tr><tr><td>2015</td><td>KIDNAPPING</td><td>277</td></tr><tr><td>2015</td><td>LARCENY/THEFT</td><td>41980</td></tr><tr><td>2015</td><td>LIQUOR LAWS</td><td>122</td></tr><tr><td>2015</td><td>LOITERING</td><td>27</td></tr><tr><td>2015</td><td>MISSING PERSON</td><td>3581</td></tr><tr><td>2015</td><td>NON-CRIMINAL</td><td>19098</td></tr><tr><td>2015</td><td>OTHER OFFENSES</td><td>20052</td></tr><tr><td>2015</td><td>PORNOGRAPHY/OBSCENE MAT</td><td>4</td></tr><tr><td>2015</td><td>PROSTITUTION</td><td>370</td></tr><tr><td>2015</td><td>RECOVERED VEHICLE</td><td>913</td></tr><tr><td>2015</td><td>ROBBERY</td><td>3697</td></tr><tr><td>2015</td><td>SECONDARY CODES</td><td>1578</td></tr><tr><td>2015</td><td>SEX OFFENSES, FORCIBLE</td><td>740</td></tr><tr><td>2015</td><td>SEX OFFENSES, NON FORCIBLE</td><td>4</td></tr><tr><td>2015</td><td>STOLEN PROPERTY</td><td>927</td></tr><tr><td>2015</td><td>SUICIDE</td><td>80</td></tr><tr><td>2015</td><td>SUSPICIOUS OCC</td><td>5435</td></tr><tr><td>2015</td><td>TREA</td><td>1</td></tr><tr><td>2015</td><td>TRESPASS</td><td>1395</td></tr><tr><td>2015</td><td>VANDALISM</td><td>7636</td></tr><tr><td>2015</td><td>VEHICLE THEFT</td><td>7935</td></tr><tr><td>2015</td><td>WARRANTS</td><td>6724</td></tr><tr><td>2015</td><td>WEAPON LAWS</td><td>1590</td></tr><tr><td>2016</td><td>ARSON</td><td>282</td></tr><tr><td>2016</td><td>ASSAULT</td><td>11546</td></tr><tr><td>2016</td><td>BAD CHECKS</td><td>34</td></tr><tr><td>2016</td><td>BRIBERY</td><td>65</td></tr><tr><td>2016</td><td>BURGLARY</td><td>5791</td></tr><tr><td>2016</td><td>DISORDERLY CONDUCT</td><td>657</td></tr><tr><td>2016</td><td>DRIVING UNDER THE INFLUENCE</td><td>377</td></tr><tr><td>2016</td><td>DRUG/NARCOTIC</td><td>4202</td></tr><tr><td>2016</td><td>DRUNKENNESS</td><td>465</td></tr><tr><td>2016</td><td>EMBEZZLEMENT</td><td>175</td></tr><tr><td>2016</td><td>EXTORTION</td><td>60</td></tr><tr><td>2016</td><td>FORGERY/COUNTERFEITING</td><td>625</td></tr><tr><td>2016</td><td>FRAUD</td><td>2642</td></tr><tr><td>2016</td><td>GAMBLING</td><td>20</td></tr><tr><td>2016</td><td>KIDNAPPING</td><td>175</td></tr><tr><td>2016</td><td>LARCENY/THEFT</td><td>40365</td></tr><tr><td>2016</td><td>LIQUOR LAWS</td><td>100</td></tr><tr><td>2016</td><td>LOITERING</td><td>41</td></tr><tr><td>2016</td><td>MISSING PERSON</td><td>3490</td></tr><tr><td>2016</td><td>NON-CRIMINAL</td><td>17871</td></tr><tr><td>2016</td><td>OTHER OFFENSES</td><td>19337</td></tr><tr><td>2016</td><td>PORNOGRAPHY/OBSCENE MAT</td><td>4</td></tr><tr><td>2016</td><td>PROSTITUTION</td><td>635</td></tr><tr><td>2016</td><td>RECOVERED VEHICLE</td><td>732</td></tr><tr><td>2016</td><td>ROBBERY</td><td>3230</td></tr><tr><td>2016</td><td>SECONDARY CODES</td><td>1361</td></tr><tr><td>2016</td><td>SEX OFFENSES, FORCIBLE</td><td>756</td></tr><tr><td>2016</td><td>SEX OFFENSES, NON FORCIBLE</td><td>3</td></tr><tr><td>2016</td><td>STOLEN PROPERTY</td><td>861</td></tr><tr><td>2016</td><td>SUICIDE</td><td>69</td></tr><tr><td>2016</td><td>SUSPICIOUS OCC</td><td>5744</td></tr><tr><td>2016</td><td>TREA</td><td>3</td></tr><tr><td>2016</td><td>TRESPASS</td><td>1807</td></tr><tr><td>2016</td><td>VANDALISM</td><td>8557</td></tr><tr><td>2016</td><td>VEHICLE THEFT</td><td>6417</td></tr><tr><td>2016</td><td>WARRANTS</td><td>5904</td></tr><tr><td>2016</td><td>WEAPON LAWS</td><td>1591</td></tr><tr><td>2017</td><td>ARSON</td><td>327</td></tr><tr><td>2017</td><td>ASSAULT</td><td>11613</td></tr><tr><td>2017</td><td>BAD CHECKS</td><td>24</td></tr><tr><td>2017</td><td>BRIBERY</td><td>67</td></tr><tr><td>2017</td><td>BURGLARY</td><td>5828</td></tr><tr><td>2017</td><td>DISORDERLY CONDUCT</td><td>395</td></tr><tr><td>2017</td><td>DRIVING UNDER THE INFLUENCE</td><td>299</td></tr><tr><td>2017</td><td>DRUG/NARCOTIC</td><td>3265</td></tr><tr><td>2017</td><td>DRUNKENNESS</td><td>337</td></tr><tr><td>2017</td><td>EMBEZZLEMENT</td><td>177</td></tr><tr><td>2017</td><td>EXTORTION</td><td>63</td></tr><tr><td>2017</td><td>FORGERY/COUNTERFEITING</td><td>509</td></tr><tr><td>2017</td><td>FRAUD</td><td>2542</td></tr><tr><td>2017</td><td>GAMBLING</td><td>14</td></tr><tr><td>2017</td><td>KIDNAPPING</td><td>154</td></tr><tr><td>2017</td><td>LARCENY/THEFT</td><td>47714</td></tr><tr><td>2017</td><td>LIQUOR LAWS</td><td>60</td></tr><tr><td>2017</td><td>LOITERING</td><td>32</td></tr><tr><td>2017</td><td>MISSING PERSON</td><td>3482</td></tr><tr><td>2017</td><td>NON-CRIMINAL</td><td>17328</td></tr><tr><td>2017</td><td>OTHER OFFENSES</td><td>17890</td></tr><tr><td>2017</td><td>PORNOGRAPHY/OBSCENE MAT</td><td>6</td></tr><tr><td>2017</td><td>PROSTITUTION</td><td>523</td></tr><tr><td>2017</td><td>RECOVERED VEHICLE</td><td>715</td></tr><tr><td>2017</td><td>ROBBERY</td><td>3265</td></tr><tr><td>2017</td><td>SECONDARY CODES</td><td>1433</td></tr><tr><td>2017</td><td>SEX OFFENSES, FORCIBLE</td><td>875</td></tr><tr><td>2017</td><td>SEX OFFENSES, NON FORCIBLE</td><td>2</td></tr><tr><td>2017</td><td>STOLEN PROPERTY</td><td>782</td></tr><tr><td>2017</td><td>SUICIDE</td><td>84</td></tr><tr><td>2017</td><td>SUSPICIOUS OCC</td><td>6063</td></tr><tr><td>2017</td><td>TREA</td><td>1</td></tr><tr><td>2017</td><td>TRESPASS</td><td>1607</td></tr><tr><td>2017</td><td>VANDALISM</td><td>9719</td></tr><tr><td>2017</td><td>VEHICLE THEFT</td><td>5705</td></tr><tr><td>2017</td><td>WARRANTS</td><td>4943</td></tr><tr><td>2017</td><td>WEAPON LAWS</td><td>1644</td></tr><tr><td>2018</td><td>ARSON</td><td>97</td></tr><tr><td>2018</td><td>ASSAULT</td><td>3884</td></tr><tr><td>2018</td><td>BAD CHECKS</td><td>9</td></tr><tr><td>2018</td><td>BRIBERY</td><td>17</td></tr><tr><td>2018</td><td>BURGLARY</td><td>2096</td></tr><tr><td>2018</td><td>DISORDERLY CONDUCT</td><td>94</td></tr><tr><td>2018</td><td>DRIVING UNDER THE INFLUENCE</td><td>92</td></tr><tr><td>2018</td><td>DRUG/NARCOTIC</td><td>1469</td></tr><tr><td>2018</td><td>DRUNKENNESS</td><td>84</td></tr><tr><td>2018</td><td>EMBEZZLEMENT</td><td>45</td></tr><tr><td>2018</td><td>EXTORTION</td><td>12</td></tr><tr><td>2018</td><td>FORGERY/COUNTERFEITING</td><td>195</td></tr><tr><td>2018</td><td>FRAUD</td><td>808</td></tr><tr><td>2018</td><td>GAMBLING</td><td>9</td></tr><tr><td>2018</td><td>KIDNAPPING</td><td>54</td></tr><tr><td>2018</td><td>LARCENY/THEFT</td><td>13610</td></tr><tr><td>2018</td><td>LIQUOR LAWS</td><td>14</td></tr><tr><td>2018</td><td>LOITERING</td><td>16</td></tr><tr><td>2018</td><td>MISSING PERSON</td><td>971</td></tr><tr><td>2018</td><td>NON-CRIMINAL</td><td>5239</td></tr><tr><td>2018</td><td>OTHER OFFENSES</td><td>5463</td></tr><tr><td>2018</td><td>PORNOGRAPHY/OBSCENE MAT</td><td>3</td></tr><tr><td>2018</td><td>PROSTITUTION</td><td>48</td></tr><tr><td>2018</td><td>ROBBERY</td><td>1050</td></tr><tr><td>2018</td><td>SECONDARY CODES</td><td>473</td></tr><tr><td>2018</td><td>SEX OFFENSES, FORCIBLE</td><td>276</td></tr><tr><td>2018</td><td>STOLEN PROPERTY</td><td>257</td></tr><tr><td>2018</td><td>SUICIDE</td><td>18</td></tr><tr><td>2018</td><td>SUSPICIOUS OCC</td><td>1695</td></tr><tr><td>2018</td><td>TRESPASS</td><td>513</td></tr><tr><td>2018</td><td>VANDALISM</td><td>2785</td></tr><tr><td>2018</td><td>VEHICLE THEFT</td><td>1469</td></tr><tr><td>2018</td><td>WARRANTS</td><td>1587</td></tr><tr><td>2018</td><td>WEAPON LAWS</td><td>607</td></tr></tbody></table></div>"
      ]
     },
     "metadata": {
      "application/vnd.databricks.v1+output": {
       "addedWidgets": {},
       "aggData": [],
       "aggError": "",
       "aggOverflow": false,
       "aggSchema": [],
       "aggSeriesLimitReached": false,
       "aggType": "",
       "arguments": {},
       "columnCustomDisplayInfos": {},
       "data": [
        [
         2015,
         "ARSON",
         309
        ],
        [
         2015,
         "ASSAULT",
         11090
        ],
        [
         2015,
         "BAD CHECKS",
         38
        ],
        [
         2015,
         "BRIBERY",
         73
        ],
        [
         2015,
         "BURGLARY",
         5903
        ],
        [
         2015,
         "DISORDERLY CONDUCT",
         547
        ],
        [
         2015,
         "DRIVING UNDER THE INFLUENCE",
         428
        ],
        [
         2015,
         "DRUG/NARCOTIC",
         4194
        ],
        [
         2015,
         "DRUNKENNESS",
         576
        ],
        [
         2015,
         "EMBEZZLEMENT",
         183
        ],
        [
         2015,
         "EXTORTION",
         38
        ],
        [
         2015,
         "FORGERY/COUNTERFEITING",
         761
        ],
        [
         2015,
         "FRAUD",
         3125
        ],
        [
         2015,
         "GAMBLING",
         28
        ],
        [
         2015,
         "KIDNAPPING",
         277
        ],
        [
         2015,
         "LARCENY/THEFT",
         41980
        ],
        [
         2015,
         "LIQUOR LAWS",
         122
        ],
        [
         2015,
         "LOITERING",
         27
        ],
        [
         2015,
         "MISSING PERSON",
         3581
        ],
        [
         2015,
         "NON-CRIMINAL",
         19098
        ],
        [
         2015,
         "OTHER OFFENSES",
         20052
        ],
        [
         2015,
         "PORNOGRAPHY/OBSCENE MAT",
         4
        ],
        [
         2015,
         "PROSTITUTION",
         370
        ],
        [
         2015,
         "RECOVERED VEHICLE",
         913
        ],
        [
         2015,
         "ROBBERY",
         3697
        ],
        [
         2015,
         "SECONDARY CODES",
         1578
        ],
        [
         2015,
         "SEX OFFENSES, FORCIBLE",
         740
        ],
        [
         2015,
         "SEX OFFENSES, NON FORCIBLE",
         4
        ],
        [
         2015,
         "STOLEN PROPERTY",
         927
        ],
        [
         2015,
         "SUICIDE",
         80
        ],
        [
         2015,
         "SUSPICIOUS OCC",
         5435
        ],
        [
         2015,
         "TREA",
         1
        ],
        [
         2015,
         "TRESPASS",
         1395
        ],
        [
         2015,
         "VANDALISM",
         7636
        ],
        [
         2015,
         "VEHICLE THEFT",
         7935
        ],
        [
         2015,
         "WARRANTS",
         6724
        ],
        [
         2015,
         "WEAPON LAWS",
         1590
        ],
        [
         2016,
         "ARSON",
         282
        ],
        [
         2016,
         "ASSAULT",
         11546
        ],
        [
         2016,
         "BAD CHECKS",
         34
        ],
        [
         2016,
         "BRIBERY",
         65
        ],
        [
         2016,
         "BURGLARY",
         5791
        ],
        [
         2016,
         "DISORDERLY CONDUCT",
         657
        ],
        [
         2016,
         "DRIVING UNDER THE INFLUENCE",
         377
        ],
        [
         2016,
         "DRUG/NARCOTIC",
         4202
        ],
        [
         2016,
         "DRUNKENNESS",
         465
        ],
        [
         2016,
         "EMBEZZLEMENT",
         175
        ],
        [
         2016,
         "EXTORTION",
         60
        ],
        [
         2016,
         "FORGERY/COUNTERFEITING",
         625
        ],
        [
         2016,
         "FRAUD",
         2642
        ],
        [
         2016,
         "GAMBLING",
         20
        ],
        [
         2016,
         "KIDNAPPING",
         175
        ],
        [
         2016,
         "LARCENY/THEFT",
         40365
        ],
        [
         2016,
         "LIQUOR LAWS",
         100
        ],
        [
         2016,
         "LOITERING",
         41
        ],
        [
         2016,
         "MISSING PERSON",
         3490
        ],
        [
         2016,
         "NON-CRIMINAL",
         17871
        ],
        [
         2016,
         "OTHER OFFENSES",
         19337
        ],
        [
         2016,
         "PORNOGRAPHY/OBSCENE MAT",
         4
        ],
        [
         2016,
         "PROSTITUTION",
         635
        ],
        [
         2016,
         "RECOVERED VEHICLE",
         732
        ],
        [
         2016,
         "ROBBERY",
         3230
        ],
        [
         2016,
         "SECONDARY CODES",
         1361
        ],
        [
         2016,
         "SEX OFFENSES, FORCIBLE",
         756
        ],
        [
         2016,
         "SEX OFFENSES, NON FORCIBLE",
         3
        ],
        [
         2016,
         "STOLEN PROPERTY",
         861
        ],
        [
         2016,
         "SUICIDE",
         69
        ],
        [
         2016,
         "SUSPICIOUS OCC",
         5744
        ],
        [
         2016,
         "TREA",
         3
        ],
        [
         2016,
         "TRESPASS",
         1807
        ],
        [
         2016,
         "VANDALISM",
         8557
        ],
        [
         2016,
         "VEHICLE THEFT",
         6417
        ],
        [
         2016,
         "WARRANTS",
         5904
        ],
        [
         2016,
         "WEAPON LAWS",
         1591
        ],
        [
         2017,
         "ARSON",
         327
        ],
        [
         2017,
         "ASSAULT",
         11613
        ],
        [
         2017,
         "BAD CHECKS",
         24
        ],
        [
         2017,
         "BRIBERY",
         67
        ],
        [
         2017,
         "BURGLARY",
         5828
        ],
        [
         2017,
         "DISORDERLY CONDUCT",
         395
        ],
        [
         2017,
         "DRIVING UNDER THE INFLUENCE",
         299
        ],
        [
         2017,
         "DRUG/NARCOTIC",
         3265
        ],
        [
         2017,
         "DRUNKENNESS",
         337
        ],
        [
         2017,
         "EMBEZZLEMENT",
         177
        ],
        [
         2017,
         "EXTORTION",
         63
        ],
        [
         2017,
         "FORGERY/COUNTERFEITING",
         509
        ],
        [
         2017,
         "FRAUD",
         2542
        ],
        [
         2017,
         "GAMBLING",
         14
        ],
        [
         2017,
         "KIDNAPPING",
         154
        ],
        [
         2017,
         "LARCENY/THEFT",
         47714
        ],
        [
         2017,
         "LIQUOR LAWS",
         60
        ],
        [
         2017,
         "LOITERING",
         32
        ],
        [
         2017,
         "MISSING PERSON",
         3482
        ],
        [
         2017,
         "NON-CRIMINAL",
         17328
        ],
        [
         2017,
         "OTHER OFFENSES",
         17890
        ],
        [
         2017,
         "PORNOGRAPHY/OBSCENE MAT",
         6
        ],
        [
         2017,
         "PROSTITUTION",
         523
        ],
        [
         2017,
         "RECOVERED VEHICLE",
         715
        ],
        [
         2017,
         "ROBBERY",
         3265
        ],
        [
         2017,
         "SECONDARY CODES",
         1433
        ],
        [
         2017,
         "SEX OFFENSES, FORCIBLE",
         875
        ],
        [
         2017,
         "SEX OFFENSES, NON FORCIBLE",
         2
        ],
        [
         2017,
         "STOLEN PROPERTY",
         782
        ],
        [
         2017,
         "SUICIDE",
         84
        ],
        [
         2017,
         "SUSPICIOUS OCC",
         6063
        ],
        [
         2017,
         "TREA",
         1
        ],
        [
         2017,
         "TRESPASS",
         1607
        ],
        [
         2017,
         "VANDALISM",
         9719
        ],
        [
         2017,
         "VEHICLE THEFT",
         5705
        ],
        [
         2017,
         "WARRANTS",
         4943
        ],
        [
         2017,
         "WEAPON LAWS",
         1644
        ],
        [
         2018,
         "ARSON",
         97
        ],
        [
         2018,
         "ASSAULT",
         3884
        ],
        [
         2018,
         "BAD CHECKS",
         9
        ],
        [
         2018,
         "BRIBERY",
         17
        ],
        [
         2018,
         "BURGLARY",
         2096
        ],
        [
         2018,
         "DISORDERLY CONDUCT",
         94
        ],
        [
         2018,
         "DRIVING UNDER THE INFLUENCE",
         92
        ],
        [
         2018,
         "DRUG/NARCOTIC",
         1469
        ],
        [
         2018,
         "DRUNKENNESS",
         84
        ],
        [
         2018,
         "EMBEZZLEMENT",
         45
        ],
        [
         2018,
         "EXTORTION",
         12
        ],
        [
         2018,
         "FORGERY/COUNTERFEITING",
         195
        ],
        [
         2018,
         "FRAUD",
         808
        ],
        [
         2018,
         "GAMBLING",
         9
        ],
        [
         2018,
         "KIDNAPPING",
         54
        ],
        [
         2018,
         "LARCENY/THEFT",
         13610
        ],
        [
         2018,
         "LIQUOR LAWS",
         14
        ],
        [
         2018,
         "LOITERING",
         16
        ],
        [
         2018,
         "MISSING PERSON",
         971
        ],
        [
         2018,
         "NON-CRIMINAL",
         5239
        ],
        [
         2018,
         "OTHER OFFENSES",
         5463
        ],
        [
         2018,
         "PORNOGRAPHY/OBSCENE MAT",
         3
        ],
        [
         2018,
         "PROSTITUTION",
         48
        ],
        [
         2018,
         "ROBBERY",
         1050
        ],
        [
         2018,
         "SECONDARY CODES",
         473
        ],
        [
         2018,
         "SEX OFFENSES, FORCIBLE",
         276
        ],
        [
         2018,
         "STOLEN PROPERTY",
         257
        ],
        [
         2018,
         "SUICIDE",
         18
        ],
        [
         2018,
         "SUSPICIOUS OCC",
         1695
        ],
        [
         2018,
         "TRESPASS",
         513
        ],
        [
         2018,
         "VANDALISM",
         2785
        ],
        [
         2018,
         "VEHICLE THEFT",
         1469
        ],
        [
         2018,
         "WARRANTS",
         1587
        ],
        [
         2018,
         "WEAPON LAWS",
         607
        ]
       ],
       "datasetInfos": [],
       "dbfsResultPath": null,
       "isJsonSchema": true,
       "metadata": {},
       "overflow": false,
       "plotOptions": {
        "customPlotOptions": {
         "__migrate__": [
          {
           "key": "status",
           "value": "complete"
          },
          {
           "key": "origDisplayType",
           "value": "pieChart"
          }
         ],
         "pieChart": [
          {
           "key": "donut",
           "value": true
          }
         ]
        },
        "displayType": "table",
        "pivotAggregation": "sum",
        "pivotColumns": [
         "Year"
        ],
        "xColumns": [
         "Category"
        ],
        "yColumns": [
         "count"
        ]
       },
       "removedWidgets": [],
       "schema": [
        {
         "metadata": "{}",
         "name": "Year",
         "type": "\"integer\""
        },
        {
         "metadata": "{}",
         "name": "Category",
         "type": "\"string\""
        },
        {
         "metadata": "{}",
         "name": "count",
         "type": "\"long\""
        }
       ],
       "type": "table"
      }
     },
     "output_type": "display_data"
    },
    {
     "data": {
      "text/plain": [
       "Output can only be rendered in Databricks"
      ]
     },
     "metadata": {
      "application/vnd.databricks.v1.subcommand+json": {
       "bindings": {},
       "collapsed": false,
       "command": "#DF way\ncrime_category=df_opt1[df_opt1.Year.isin([2015,2016,2017,2018])].groupBy('Year','Category').count().orderBy('Year','Category',ascending=True)\ndisplay(crime_category)",
       "commandTitle": "Pie chart",
       "commandType": "auto",
       "commandVersion": 0,
       "commentThread": [],
       "commentsVisible": false,
       "contentSha256Hex": null,
       "customPlotOptions": {
        "pieChart": [
         {
          "key": "donut",
          "value": true
         }
        ]
       },
       "datasetPreviewNameToCmdIdMap": {},
       "diffDeletes": [],
       "diffInserts": [],
       "displayType": "pieChart",
       "error": null,
       "errorSummary": null,
       "errorTraceType": null,
       "finishTime": 0,
       "globalVars": {},
       "guid": "73c70e1e-76fb-4812-aa3b-d98f325ec475",
       "height": "507",
       "hideCommandCode": false,
       "hideCommandResult": false,
       "iPythonMetadata": null,
       "inputWidgets": {},
       "isLockedInExamMode": false,
       "latestUser": "a user",
       "latestUserId": null,
       "listResultMetadata": null,
       "metadata": {},
       "nuid": "8aed1cd8-bc97-4e76-991d-6b7434603fbe",
       "origId": 4373915032349142,
       "parentHierarchy": [
        "3186e89e-4351-4762-8398-b017c15fa558"
       ],
       "pivotAggregation": "sum",
       "pivotColumns": [
        "Year"
       ],
       "position": 1,
       "resultDbfsErrorMessage": null,
       "resultDbfsStatus": "INLINED_IN_TREE",
       "results": null,
       "showCommandTitle": false,
       "startTime": 0,
       "state": "input",
       "streamStates": {},
       "subcommandOptions": null,
       "submitTime": 0,
       "subtype": "tableResultSubCmd.visualization",
       "tableResultIndex": 0,
       "useConsistentColors": false,
       "version": "CommandV1",
       "width": "1553.78",
       "workflows": [],
       "xColumns": [
        "Category"
       ],
       "yColumns": [
        "count"
       ]
      }
     },
     "output_type": "display_data"
    }
   ],
   "source": [
    "#DF way\n",
    "crime_category=df_opt1[df_opt1.Year.isin([2015,2016,2017,2018])].groupBy('Year','Category').count().orderBy('Year','Category',ascending=True)\n",
    "display(crime_category)"
   ]
  },
  {
   "cell_type": "code",
   "execution_count": 0,
   "metadata": {
    "application/vnd.databricks.v1+cell": {
     "cellMetadata": {},
     "inputWidgets": {},
     "nuid": "00935a7a-8f96-4f62-a4a2-074ffc3947bc",
     "showTitle": false,
     "title": ""
    }
   },
   "outputs": [
    {
     "data": {
      "text/html": [
       "<style scoped>\n",
       "  .table-result-container {\n",
       "    max-height: 300px;\n",
       "    overflow: auto;\n",
       "  }\n",
       "  table, th, td {\n",
       "    border: 1px solid black;\n",
       "    border-collapse: collapse;\n",
       "  }\n",
       "  th, td {\n",
       "    padding: 5px;\n",
       "  }\n",
       "  th {\n",
       "    text-align: left;\n",
       "  }\n",
       "</style><div class='table-result-container'><table class='table-result'><thead style='background-color: white'><tr><th>Year</th><th>Month</th><th>count</th></tr></thead><tbody><tr><td>2015</td><td>1</td><td>13181</td></tr><tr><td>2015</td><td>2</td><td>11882</td></tr><tr><td>2015</td><td>3</td><td>13463</td></tr><tr><td>2015</td><td>4</td><td>12526</td></tr><tr><td>2015</td><td>5</td><td>13318</td></tr><tr><td>2015</td><td>6</td><td>12853</td></tr><tr><td>2015</td><td>7</td><td>12949</td></tr><tr><td>2015</td><td>8</td><td>13317</td></tr><tr><td>2015</td><td>9</td><td>12476</td></tr><tr><td>2015</td><td>10</td><td>12697</td></tr><tr><td>2015</td><td>11</td><td>11691</td></tr><tr><td>2015</td><td>12</td><td>11106</td></tr><tr><td>2016</td><td>1</td><td>12532</td></tr><tr><td>2016</td><td>2</td><td>11743</td></tr><tr><td>2016</td><td>3</td><td>11950</td></tr><tr><td>2016</td><td>4</td><td>11905</td></tr><tr><td>2016</td><td>5</td><td>12313</td></tr><tr><td>2016</td><td>6</td><td>11727</td></tr><tr><td>2016</td><td>7</td><td>11832</td></tr><tr><td>2016</td><td>8</td><td>12104</td></tr><tr><td>2016</td><td>9</td><td>12092</td></tr><tr><td>2016</td><td>10</td><td>12913</td></tr><tr><td>2016</td><td>11</td><td>12254</td></tr><tr><td>2016</td><td>12</td><td>12629</td></tr><tr><td>2017</td><td>1</td><td>12687</td></tr><tr><td>2017</td><td>2</td><td>11780</td></tr><tr><td>2017</td><td>3</td><td>13250</td></tr><tr><td>2017</td><td>4</td><td>12452</td></tr><tr><td>2017</td><td>5</td><td>12758</td></tr><tr><td>2017</td><td>6</td><td>12186</td></tr><tr><td>2017</td><td>7</td><td>12717</td></tr><tr><td>2017</td><td>8</td><td>12428</td></tr><tr><td>2017</td><td>9</td><td>12204</td></tr><tr><td>2017</td><td>10</td><td>12970</td></tr><tr><td>2017</td><td>11</td><td>11940</td></tr><tr><td>2017</td><td>12</td><td>12115</td></tr><tr><td>2018</td><td>1</td><td>11667</td></tr><tr><td>2018</td><td>2</td><td>9565</td></tr><tr><td>2018</td><td>3</td><td>10354</td></tr><tr><td>2018</td><td>4</td><td>9954</td></tr><tr><td>2018</td><td>5</td><td>3519</td></tr></tbody></table></div>"
      ]
     },
     "metadata": {
      "application/vnd.databricks.v1+output": {
       "addedWidgets": {},
       "aggData": [],
       "aggError": "",
       "aggOverflow": false,
       "aggSchema": [],
       "aggSeriesLimitReached": false,
       "aggType": "",
       "arguments": {},
       "columnCustomDisplayInfos": {},
       "data": [
        [
         2015,
         1,
         13181
        ],
        [
         2015,
         2,
         11882
        ],
        [
         2015,
         3,
         13463
        ],
        [
         2015,
         4,
         12526
        ],
        [
         2015,
         5,
         13318
        ],
        [
         2015,
         6,
         12853
        ],
        [
         2015,
         7,
         12949
        ],
        [
         2015,
         8,
         13317
        ],
        [
         2015,
         9,
         12476
        ],
        [
         2015,
         10,
         12697
        ],
        [
         2015,
         11,
         11691
        ],
        [
         2015,
         12,
         11106
        ],
        [
         2016,
         1,
         12532
        ],
        [
         2016,
         2,
         11743
        ],
        [
         2016,
         3,
         11950
        ],
        [
         2016,
         4,
         11905
        ],
        [
         2016,
         5,
         12313
        ],
        [
         2016,
         6,
         11727
        ],
        [
         2016,
         7,
         11832
        ],
        [
         2016,
         8,
         12104
        ],
        [
         2016,
         9,
         12092
        ],
        [
         2016,
         10,
         12913
        ],
        [
         2016,
         11,
         12254
        ],
        [
         2016,
         12,
         12629
        ],
        [
         2017,
         1,
         12687
        ],
        [
         2017,
         2,
         11780
        ],
        [
         2017,
         3,
         13250
        ],
        [
         2017,
         4,
         12452
        ],
        [
         2017,
         5,
         12758
        ],
        [
         2017,
         6,
         12186
        ],
        [
         2017,
         7,
         12717
        ],
        [
         2017,
         8,
         12428
        ],
        [
         2017,
         9,
         12204
        ],
        [
         2017,
         10,
         12970
        ],
        [
         2017,
         11,
         11940
        ],
        [
         2017,
         12,
         12115
        ],
        [
         2018,
         1,
         11667
        ],
        [
         2018,
         2,
         9565
        ],
        [
         2018,
         3,
         10354
        ],
        [
         2018,
         4,
         9954
        ],
        [
         2018,
         5,
         3519
        ]
       ],
       "datasetInfos": [],
       "dbfsResultPath": null,
       "isJsonSchema": true,
       "metadata": {},
       "overflow": false,
       "plotOptions": {
        "customPlotOptions": {
         "plotlyBar": [
          {
           "key": "grouped",
           "value": true
          },
          {
           "key": "stacked",
           "value": false
          },
          {
           "key": "100_stacked",
           "value": false
          }
         ]
        },
        "displayType": "plotlyBar",
        "pivotAggregation": "sum",
        "pivotColumns": [
         "Month"
        ],
        "xColumns": [
         "Year"
        ],
        "yColumns": [
         "count"
        ]
       },
       "removedWidgets": [],
       "schema": [
        {
         "metadata": "{}",
         "name": "Year",
         "type": "\"integer\""
        },
        {
         "metadata": "{}",
         "name": "Month",
         "type": "\"integer\""
        },
        {
         "metadata": "{}",
         "name": "count",
         "type": "\"long\""
        }
       ],
       "type": "table"
      }
     },
     "output_type": "display_data"
    }
   ],
   "source": [
    "#DF way\n",
    "crime_each_month=df_opt1[df_opt1.Year.isin([2015,2016,2017,2018])].groupBy('Year','Month').count().orderBy('Year','Month',ascending=True)\n",
    "display(crime_each_month)\n",
    "\n"
   ]
  },
  {
   "cell_type": "markdown",
   "metadata": {
    "application/vnd.databricks.v1+cell": {
     "cellMetadata": {},
     "inputWidgets": {},
     "nuid": "cc4dd369-e43a-43f1-88de-7e315ac9242c",
     "showTitle": false,
     "title": ""
    }
   },
   "source": [
    "### Q5 Analysis the number of crime with respsect to the hour in certian day like 2015/12/15, 2016/12/15, 2017/12/15. Then, give your travel suggestion to visit SF."
   ]
  },
  {
   "cell_type": "code",
   "execution_count": 0,
   "metadata": {
    "application/vnd.databricks.v1+cell": {
     "cellMetadata": {},
     "inputWidgets": {},
     "nuid": "92f01386-7b46-4d7f-8e3d-9c68edaac069",
     "showTitle": false,
     "title": ""
    }
   },
   "outputs": [],
   "source": [
    "from pyspark.sql.functions import to_timestamp\n",
    "\n",
    "# add new columns to convert Time to hour format\n",
    "df_opt1 = df_opt1.withColumn('Time', to_timestamp(df_opt1['Time'],'HH:mm')) \n",
    "\n",
    "# extract hour from incident time\n",
    "df_opt1 = df_opt1.withColumn('Hour',hour(df_opt1['Time']))\n",
    "#display(df_opt1)\n",
    "df_opt1.createOrReplaceTempView(\"sf_crime\")  "
   ]
  },
  {
   "cell_type": "code",
   "execution_count": 0,
   "metadata": {
    "application/vnd.databricks.v1+cell": {
     "cellMetadata": {},
     "inputWidgets": {},
     "nuid": "fa78f794-700d-4742-96f5-f8d310eca85f",
     "showTitle": true,
     "title": "5.1 Spark Dataframe based solution"
    }
   },
   "outputs": [
    {
     "data": {
      "text/html": [
       "<style scoped>\n",
       "  .table-result-container {\n",
       "    max-height: 300px;\n",
       "    overflow: auto;\n",
       "  }\n",
       "  table, th, td {\n",
       "    border: 1px solid black;\n",
       "    border-collapse: collapse;\n",
       "  }\n",
       "  th, td {\n",
       "    padding: 5px;\n",
       "  }\n",
       "  th {\n",
       "    text-align: left;\n",
       "  }\n",
       "</style><div class='table-result-container'><table class='table-result'><thead style='background-color: white'><tr><th>Date</th><th>Hour</th><th>count</th></tr></thead><tbody><tr><td>2015-12-15</td><td>0</td><td>15</td></tr><tr><td>2015-12-15</td><td>1</td><td>6</td></tr><tr><td>2015-12-15</td><td>2</td><td>5</td></tr><tr><td>2015-12-15</td><td>3</td><td>4</td></tr><tr><td>2015-12-15</td><td>4</td><td>10</td></tr><tr><td>2015-12-15</td><td>5</td><td>3</td></tr><tr><td>2015-12-15</td><td>6</td><td>4</td></tr><tr><td>2015-12-15</td><td>7</td><td>8</td></tr><tr><td>2015-12-15</td><td>8</td><td>12</td></tr><tr><td>2015-12-15</td><td>9</td><td>10</td></tr><tr><td>2015-12-15</td><td>10</td><td>25</td></tr><tr><td>2015-12-15</td><td>11</td><td>15</td></tr><tr><td>2015-12-15</td><td>12</td><td>35</td></tr><tr><td>2015-12-15</td><td>13</td><td>13</td></tr><tr><td>2015-12-15</td><td>14</td><td>27</td></tr><tr><td>2015-12-15</td><td>15</td><td>14</td></tr><tr><td>2015-12-15</td><td>16</td><td>30</td></tr><tr><td>2015-12-15</td><td>17</td><td>18</td></tr><tr><td>2015-12-15</td><td>18</td><td>17</td></tr><tr><td>2015-12-15</td><td>19</td><td>26</td></tr><tr><td>2015-12-15</td><td>20</td><td>13</td></tr><tr><td>2015-12-15</td><td>21</td><td>13</td></tr><tr><td>2015-12-15</td><td>22</td><td>13</td></tr><tr><td>2015-12-15</td><td>23</td><td>10</td></tr><tr><td>2016-12-15</td><td>0</td><td>21</td></tr><tr><td>2016-12-15</td><td>1</td><td>9</td></tr><tr><td>2016-12-15</td><td>2</td><td>12</td></tr><tr><td>2016-12-15</td><td>3</td><td>9</td></tr><tr><td>2016-12-15</td><td>4</td><td>1</td></tr><tr><td>2016-12-15</td><td>5</td><td>6</td></tr><tr><td>2016-12-15</td><td>6</td><td>3</td></tr><tr><td>2016-12-15</td><td>7</td><td>3</td></tr><tr><td>2016-12-15</td><td>8</td><td>21</td></tr><tr><td>2016-12-15</td><td>9</td><td>23</td></tr><tr><td>2016-12-15</td><td>10</td><td>12</td></tr><tr><td>2016-12-15</td><td>11</td><td>17</td></tr><tr><td>2016-12-15</td><td>12</td><td>29</td></tr><tr><td>2016-12-15</td><td>13</td><td>17</td></tr><tr><td>2016-12-15</td><td>14</td><td>19</td></tr><tr><td>2016-12-15</td><td>15</td><td>13</td></tr><tr><td>2016-12-15</td><td>16</td><td>17</td></tr><tr><td>2016-12-15</td><td>17</td><td>19</td></tr><tr><td>2016-12-15</td><td>18</td><td>38</td></tr><tr><td>2016-12-15</td><td>19</td><td>30</td></tr><tr><td>2016-12-15</td><td>20</td><td>25</td></tr><tr><td>2016-12-15</td><td>21</td><td>15</td></tr><tr><td>2016-12-15</td><td>22</td><td>22</td></tr><tr><td>2016-12-15</td><td>23</td><td>15</td></tr><tr><td>2017-12-15</td><td>0</td><td>30</td></tr><tr><td>2017-12-15</td><td>1</td><td>12</td></tr><tr><td>2017-12-15</td><td>2</td><td>6</td></tr><tr><td>2017-12-15</td><td>3</td><td>4</td></tr><tr><td>2017-12-15</td><td>4</td><td>9</td></tr><tr><td>2017-12-15</td><td>5</td><td>2</td></tr><tr><td>2017-12-15</td><td>6</td><td>6</td></tr><tr><td>2017-12-15</td><td>7</td><td>11</td></tr><tr><td>2017-12-15</td><td>8</td><td>26</td></tr><tr><td>2017-12-15</td><td>9</td><td>14</td></tr><tr><td>2017-12-15</td><td>10</td><td>27</td></tr><tr><td>2017-12-15</td><td>11</td><td>26</td></tr><tr><td>2017-12-15</td><td>12</td><td>23</td></tr><tr><td>2017-12-15</td><td>13</td><td>10</td></tr><tr><td>2017-12-15</td><td>14</td><td>11</td></tr><tr><td>2017-12-15</td><td>15</td><td>26</td></tr><tr><td>2017-12-15</td><td>16</td><td>30</td></tr><tr><td>2017-12-15</td><td>17</td><td>27</td></tr><tr><td>2017-12-15</td><td>18</td><td>28</td></tr><tr><td>2017-12-15</td><td>19</td><td>29</td></tr><tr><td>2017-12-15</td><td>20</td><td>17</td></tr><tr><td>2017-12-15</td><td>21</td><td>20</td></tr><tr><td>2017-12-15</td><td>22</td><td>36</td></tr><tr><td>2017-12-15</td><td>23</td><td>28</td></tr></tbody></table></div>"
      ]
     },
     "metadata": {
      "application/vnd.databricks.v1+output": {
       "addedWidgets": {},
       "aggData": [],
       "aggError": "",
       "aggOverflow": false,
       "aggSchema": [],
       "aggSeriesLimitReached": false,
       "aggType": "",
       "arguments": {},
       "columnCustomDisplayInfos": {},
       "data": [
        [
         "2015-12-15",
         0,
         15
        ],
        [
         "2015-12-15",
         1,
         6
        ],
        [
         "2015-12-15",
         2,
         5
        ],
        [
         "2015-12-15",
         3,
         4
        ],
        [
         "2015-12-15",
         4,
         10
        ],
        [
         "2015-12-15",
         5,
         3
        ],
        [
         "2015-12-15",
         6,
         4
        ],
        [
         "2015-12-15",
         7,
         8
        ],
        [
         "2015-12-15",
         8,
         12
        ],
        [
         "2015-12-15",
         9,
         10
        ],
        [
         "2015-12-15",
         10,
         25
        ],
        [
         "2015-12-15",
         11,
         15
        ],
        [
         "2015-12-15",
         12,
         35
        ],
        [
         "2015-12-15",
         13,
         13
        ],
        [
         "2015-12-15",
         14,
         27
        ],
        [
         "2015-12-15",
         15,
         14
        ],
        [
         "2015-12-15",
         16,
         30
        ],
        [
         "2015-12-15",
         17,
         18
        ],
        [
         "2015-12-15",
         18,
         17
        ],
        [
         "2015-12-15",
         19,
         26
        ],
        [
         "2015-12-15",
         20,
         13
        ],
        [
         "2015-12-15",
         21,
         13
        ],
        [
         "2015-12-15",
         22,
         13
        ],
        [
         "2015-12-15",
         23,
         10
        ],
        [
         "2016-12-15",
         0,
         21
        ],
        [
         "2016-12-15",
         1,
         9
        ],
        [
         "2016-12-15",
         2,
         12
        ],
        [
         "2016-12-15",
         3,
         9
        ],
        [
         "2016-12-15",
         4,
         1
        ],
        [
         "2016-12-15",
         5,
         6
        ],
        [
         "2016-12-15",
         6,
         3
        ],
        [
         "2016-12-15",
         7,
         3
        ],
        [
         "2016-12-15",
         8,
         21
        ],
        [
         "2016-12-15",
         9,
         23
        ],
        [
         "2016-12-15",
         10,
         12
        ],
        [
         "2016-12-15",
         11,
         17
        ],
        [
         "2016-12-15",
         12,
         29
        ],
        [
         "2016-12-15",
         13,
         17
        ],
        [
         "2016-12-15",
         14,
         19
        ],
        [
         "2016-12-15",
         15,
         13
        ],
        [
         "2016-12-15",
         16,
         17
        ],
        [
         "2016-12-15",
         17,
         19
        ],
        [
         "2016-12-15",
         18,
         38
        ],
        [
         "2016-12-15",
         19,
         30
        ],
        [
         "2016-12-15",
         20,
         25
        ],
        [
         "2016-12-15",
         21,
         15
        ],
        [
         "2016-12-15",
         22,
         22
        ],
        [
         "2016-12-15",
         23,
         15
        ],
        [
         "2017-12-15",
         0,
         30
        ],
        [
         "2017-12-15",
         1,
         12
        ],
        [
         "2017-12-15",
         2,
         6
        ],
        [
         "2017-12-15",
         3,
         4
        ],
        [
         "2017-12-15",
         4,
         9
        ],
        [
         "2017-12-15",
         5,
         2
        ],
        [
         "2017-12-15",
         6,
         6
        ],
        [
         "2017-12-15",
         7,
         11
        ],
        [
         "2017-12-15",
         8,
         26
        ],
        [
         "2017-12-15",
         9,
         14
        ],
        [
         "2017-12-15",
         10,
         27
        ],
        [
         "2017-12-15",
         11,
         26
        ],
        [
         "2017-12-15",
         12,
         23
        ],
        [
         "2017-12-15",
         13,
         10
        ],
        [
         "2017-12-15",
         14,
         11
        ],
        [
         "2017-12-15",
         15,
         26
        ],
        [
         "2017-12-15",
         16,
         30
        ],
        [
         "2017-12-15",
         17,
         27
        ],
        [
         "2017-12-15",
         18,
         28
        ],
        [
         "2017-12-15",
         19,
         29
        ],
        [
         "2017-12-15",
         20,
         17
        ],
        [
         "2017-12-15",
         21,
         20
        ],
        [
         "2017-12-15",
         22,
         36
        ],
        [
         "2017-12-15",
         23,
         28
        ]
       ],
       "datasetInfos": [],
       "dbfsResultPath": null,
       "isJsonSchema": true,
       "metadata": {},
       "overflow": false,
       "plotOptions": {
        "customPlotOptions": {
         "plotlyBar": [
          {
           "key": "grouped",
           "value": true
          },
          {
           "key": "stacked",
           "value": false
          },
          {
           "key": "100_stacked",
           "value": false
          }
         ],
         "plotlyLine": [
          {
           "key": "yRange",
           "value": ""
          },
          {
           "key": "showPoints",
           "value": true
          },
          {
           "key": "logScale",
           "value": false
          }
         ]
        },
        "displayType": "lineChart",
        "pivotAggregation": "sum",
        "pivotColumns": [
         "Date"
        ],
        "xColumns": [
         "Hour"
        ],
        "yColumns": [
         "count"
        ]
       },
       "removedWidgets": [],
       "schema": [
        {
         "metadata": "{}",
         "name": "Date",
         "type": "\"date\""
        },
        {
         "metadata": "{}",
         "name": "Hour",
         "type": "\"integer\""
        },
        {
         "metadata": "{}",
         "name": "count",
         "type": "\"long\""
        }
       ],
       "type": "table"
      }
     },
     "output_type": "display_data"
    }
   ],
   "source": [
    "#DF way\n",
    "crime_category=df_opt1[df_opt1.Date.isin(['2015-12-15','2016-12-15','2017-12-15'])].groupBy('Date','Hour').count().orderBy('Date','Hour',ascending=True)\n",
    "display(crime_category)"
   ]
  },
  {
   "cell_type": "code",
   "execution_count": 0,
   "metadata": {
    "application/vnd.databricks.v1+cell": {
     "cellMetadata": {},
     "inputWidgets": {},
     "nuid": "9f016f51-49eb-4483-a089-afea7dc8af7a",
     "showTitle": true,
     "title": "5.2 Spark SQL based solution"
    }
   },
   "outputs": [
    {
     "data": {
      "text/html": [
       "<style scoped>\n",
       "  .table-result-container {\n",
       "    max-height: 300px;\n",
       "    overflow: auto;\n",
       "  }\n",
       "  table, th, td {\n",
       "    border: 1px solid black;\n",
       "    border-collapse: collapse;\n",
       "  }\n",
       "  th, td {\n",
       "    padding: 5px;\n",
       "  }\n",
       "  th {\n",
       "    text-align: left;\n",
       "  }\n",
       "</style><div class='table-result-container'><table class='table-result'><thead style='background-color: white'><tr><th>Date</th><th>Hour</th><th>counts</th></tr></thead><tbody><tr><td>2015-12-15</td><td>0</td><td>15</td></tr><tr><td>2015-12-15</td><td>1</td><td>6</td></tr><tr><td>2015-12-15</td><td>2</td><td>5</td></tr><tr><td>2015-12-15</td><td>3</td><td>4</td></tr><tr><td>2015-12-15</td><td>4</td><td>10</td></tr><tr><td>2015-12-15</td><td>5</td><td>3</td></tr><tr><td>2015-12-15</td><td>6</td><td>4</td></tr><tr><td>2015-12-15</td><td>7</td><td>8</td></tr><tr><td>2015-12-15</td><td>8</td><td>12</td></tr><tr><td>2015-12-15</td><td>9</td><td>10</td></tr><tr><td>2015-12-15</td><td>10</td><td>25</td></tr><tr><td>2015-12-15</td><td>11</td><td>15</td></tr><tr><td>2015-12-15</td><td>12</td><td>35</td></tr><tr><td>2015-12-15</td><td>13</td><td>13</td></tr><tr><td>2015-12-15</td><td>14</td><td>27</td></tr><tr><td>2015-12-15</td><td>15</td><td>14</td></tr><tr><td>2015-12-15</td><td>16</td><td>30</td></tr><tr><td>2015-12-15</td><td>17</td><td>18</td></tr><tr><td>2015-12-15</td><td>18</td><td>17</td></tr><tr><td>2015-12-15</td><td>19</td><td>26</td></tr><tr><td>2015-12-15</td><td>20</td><td>13</td></tr><tr><td>2015-12-15</td><td>21</td><td>13</td></tr><tr><td>2015-12-15</td><td>22</td><td>13</td></tr><tr><td>2015-12-15</td><td>23</td><td>10</td></tr><tr><td>2016-12-15</td><td>0</td><td>21</td></tr><tr><td>2016-12-15</td><td>1</td><td>9</td></tr><tr><td>2016-12-15</td><td>2</td><td>12</td></tr><tr><td>2016-12-15</td><td>3</td><td>9</td></tr><tr><td>2016-12-15</td><td>4</td><td>1</td></tr><tr><td>2016-12-15</td><td>5</td><td>6</td></tr><tr><td>2016-12-15</td><td>6</td><td>3</td></tr><tr><td>2016-12-15</td><td>7</td><td>3</td></tr><tr><td>2016-12-15</td><td>8</td><td>21</td></tr><tr><td>2016-12-15</td><td>9</td><td>23</td></tr><tr><td>2016-12-15</td><td>10</td><td>12</td></tr><tr><td>2016-12-15</td><td>11</td><td>17</td></tr><tr><td>2016-12-15</td><td>12</td><td>29</td></tr><tr><td>2016-12-15</td><td>13</td><td>17</td></tr><tr><td>2016-12-15</td><td>14</td><td>19</td></tr><tr><td>2016-12-15</td><td>15</td><td>13</td></tr><tr><td>2016-12-15</td><td>16</td><td>17</td></tr><tr><td>2016-12-15</td><td>17</td><td>19</td></tr><tr><td>2016-12-15</td><td>18</td><td>38</td></tr><tr><td>2016-12-15</td><td>19</td><td>30</td></tr><tr><td>2016-12-15</td><td>20</td><td>25</td></tr><tr><td>2016-12-15</td><td>21</td><td>15</td></tr><tr><td>2016-12-15</td><td>22</td><td>22</td></tr><tr><td>2016-12-15</td><td>23</td><td>15</td></tr><tr><td>2017-12-15</td><td>0</td><td>30</td></tr><tr><td>2017-12-15</td><td>1</td><td>12</td></tr><tr><td>2017-12-15</td><td>2</td><td>6</td></tr><tr><td>2017-12-15</td><td>3</td><td>4</td></tr><tr><td>2017-12-15</td><td>4</td><td>9</td></tr><tr><td>2017-12-15</td><td>5</td><td>2</td></tr><tr><td>2017-12-15</td><td>6</td><td>6</td></tr><tr><td>2017-12-15</td><td>7</td><td>11</td></tr><tr><td>2017-12-15</td><td>8</td><td>26</td></tr><tr><td>2017-12-15</td><td>9</td><td>14</td></tr><tr><td>2017-12-15</td><td>10</td><td>27</td></tr><tr><td>2017-12-15</td><td>11</td><td>26</td></tr><tr><td>2017-12-15</td><td>12</td><td>23</td></tr><tr><td>2017-12-15</td><td>13</td><td>10</td></tr><tr><td>2017-12-15</td><td>14</td><td>11</td></tr><tr><td>2017-12-15</td><td>15</td><td>26</td></tr><tr><td>2017-12-15</td><td>16</td><td>30</td></tr><tr><td>2017-12-15</td><td>17</td><td>27</td></tr><tr><td>2017-12-15</td><td>18</td><td>28</td></tr><tr><td>2017-12-15</td><td>19</td><td>29</td></tr><tr><td>2017-12-15</td><td>20</td><td>17</td></tr><tr><td>2017-12-15</td><td>21</td><td>20</td></tr><tr><td>2017-12-15</td><td>22</td><td>36</td></tr><tr><td>2017-12-15</td><td>23</td><td>28</td></tr></tbody></table></div>"
      ]
     },
     "metadata": {
      "application/vnd.databricks.v1+output": {
       "addedWidgets": {},
       "aggData": [],
       "aggError": "",
       "aggOverflow": false,
       "aggSchema": [],
       "aggSeriesLimitReached": false,
       "aggType": "",
       "arguments": {},
       "columnCustomDisplayInfos": {},
       "data": [
        [
         "2015-12-15",
         0,
         15
        ],
        [
         "2015-12-15",
         1,
         6
        ],
        [
         "2015-12-15",
         2,
         5
        ],
        [
         "2015-12-15",
         3,
         4
        ],
        [
         "2015-12-15",
         4,
         10
        ],
        [
         "2015-12-15",
         5,
         3
        ],
        [
         "2015-12-15",
         6,
         4
        ],
        [
         "2015-12-15",
         7,
         8
        ],
        [
         "2015-12-15",
         8,
         12
        ],
        [
         "2015-12-15",
         9,
         10
        ],
        [
         "2015-12-15",
         10,
         25
        ],
        [
         "2015-12-15",
         11,
         15
        ],
        [
         "2015-12-15",
         12,
         35
        ],
        [
         "2015-12-15",
         13,
         13
        ],
        [
         "2015-12-15",
         14,
         27
        ],
        [
         "2015-12-15",
         15,
         14
        ],
        [
         "2015-12-15",
         16,
         30
        ],
        [
         "2015-12-15",
         17,
         18
        ],
        [
         "2015-12-15",
         18,
         17
        ],
        [
         "2015-12-15",
         19,
         26
        ],
        [
         "2015-12-15",
         20,
         13
        ],
        [
         "2015-12-15",
         21,
         13
        ],
        [
         "2015-12-15",
         22,
         13
        ],
        [
         "2015-12-15",
         23,
         10
        ],
        [
         "2016-12-15",
         0,
         21
        ],
        [
         "2016-12-15",
         1,
         9
        ],
        [
         "2016-12-15",
         2,
         12
        ],
        [
         "2016-12-15",
         3,
         9
        ],
        [
         "2016-12-15",
         4,
         1
        ],
        [
         "2016-12-15",
         5,
         6
        ],
        [
         "2016-12-15",
         6,
         3
        ],
        [
         "2016-12-15",
         7,
         3
        ],
        [
         "2016-12-15",
         8,
         21
        ],
        [
         "2016-12-15",
         9,
         23
        ],
        [
         "2016-12-15",
         10,
         12
        ],
        [
         "2016-12-15",
         11,
         17
        ],
        [
         "2016-12-15",
         12,
         29
        ],
        [
         "2016-12-15",
         13,
         17
        ],
        [
         "2016-12-15",
         14,
         19
        ],
        [
         "2016-12-15",
         15,
         13
        ],
        [
         "2016-12-15",
         16,
         17
        ],
        [
         "2016-12-15",
         17,
         19
        ],
        [
         "2016-12-15",
         18,
         38
        ],
        [
         "2016-12-15",
         19,
         30
        ],
        [
         "2016-12-15",
         20,
         25
        ],
        [
         "2016-12-15",
         21,
         15
        ],
        [
         "2016-12-15",
         22,
         22
        ],
        [
         "2016-12-15",
         23,
         15
        ],
        [
         "2017-12-15",
         0,
         30
        ],
        [
         "2017-12-15",
         1,
         12
        ],
        [
         "2017-12-15",
         2,
         6
        ],
        [
         "2017-12-15",
         3,
         4
        ],
        [
         "2017-12-15",
         4,
         9
        ],
        [
         "2017-12-15",
         5,
         2
        ],
        [
         "2017-12-15",
         6,
         6
        ],
        [
         "2017-12-15",
         7,
         11
        ],
        [
         "2017-12-15",
         8,
         26
        ],
        [
         "2017-12-15",
         9,
         14
        ],
        [
         "2017-12-15",
         10,
         27
        ],
        [
         "2017-12-15",
         11,
         26
        ],
        [
         "2017-12-15",
         12,
         23
        ],
        [
         "2017-12-15",
         13,
         10
        ],
        [
         "2017-12-15",
         14,
         11
        ],
        [
         "2017-12-15",
         15,
         26
        ],
        [
         "2017-12-15",
         16,
         30
        ],
        [
         "2017-12-15",
         17,
         27
        ],
        [
         "2017-12-15",
         18,
         28
        ],
        [
         "2017-12-15",
         19,
         29
        ],
        [
         "2017-12-15",
         20,
         17
        ],
        [
         "2017-12-15",
         21,
         20
        ],
        [
         "2017-12-15",
         22,
         36
        ],
        [
         "2017-12-15",
         23,
         28
        ]
       ],
       "datasetInfos": [],
       "dbfsResultPath": null,
       "isJsonSchema": true,
       "metadata": {},
       "overflow": false,
       "plotOptions": {
        "customPlotOptions": {},
        "displayType": "lineChart",
        "pivotAggregation": null,
        "pivotColumns": null,
        "xColumns": null,
        "yColumns": null
       },
       "removedWidgets": [],
       "schema": [
        {
         "metadata": "{}",
         "name": "Date",
         "type": "\"date\""
        },
        {
         "metadata": "{}",
         "name": "Hour",
         "type": "\"integer\""
        },
        {
         "metadata": "{}",
         "name": "counts",
         "type": "\"long\""
        }
       ],
       "type": "table"
      }
     },
     "output_type": "display_data"
    }
   ],
   "source": [
    "#SQL Way\n",
    "crime_category=spark.sql(\"\"\"\n",
    "select Date,Hour,count(*) as counts \n",
    "from sf_crime \n",
    "where (Date='2015-12-15' or Date='2016-12-15' or Date='2017-12-15') \n",
    "group by 1,2 \n",
    "order by 1,2\"\"\")\n",
    "display(crime_category)\n"
   ]
  },
  {
   "cell_type": "markdown",
   "metadata": {
    "application/vnd.databricks.v1+cell": {
     "cellMetadata": {},
     "inputWidgets": {},
     "nuid": "9724bb55-563c-4c0d-9486-8154a67b53c2",
     "showTitle": true,
     "title": "5.3 Q5 Insight"
    }
   },
   "source": [
    "It can be clearly seen from the above figure that there are two peak periods of crime, 12 o'clock and 18 o'clock. This time period is the time for tourists to eat and rest. So remind visitors not to relax their vigilance while resting."
   ]
  },
  {
   "cell_type": "markdown",
   "metadata": {
    "application/vnd.databricks.v1+cell": {
     "cellMetadata": {},
     "inputWidgets": {},
     "nuid": "8277cb69-e4dd-4d67-a5d0-64cdc579d380",
     "showTitle": false,
     "title": ""
    }
   },
   "source": [
    "### Q6 Find out the top-3 danger district, Find out the crime event w.r.t category and time (hour) from the result of step 1 and give your advice to distribute the police based on your analysis results."
   ]
  },
  {
   "cell_type": "code",
   "execution_count": 0,
   "metadata": {
    "application/vnd.databricks.v1+cell": {
     "cellMetadata": {},
     "inputWidgets": {},
     "nuid": "2648745e-5cba-48d2-b731-168c1c19cff3",
     "showTitle": true,
     "title": "Step 1 Find out the top-3 danger district"
    }
   },
   "outputs": [
    {
     "data": {
      "text/html": [
       "<style scoped>\n",
       "  .table-result-container {\n",
       "    max-height: 300px;\n",
       "    overflow: auto;\n",
       "  }\n",
       "  table, th, td {\n",
       "    border: 1px solid black;\n",
       "    border-collapse: collapse;\n",
       "  }\n",
       "  th, td {\n",
       "    padding: 5px;\n",
       "  }\n",
       "  th {\n",
       "    text-align: left;\n",
       "  }\n",
       "</style><div class='table-result-container'><table class='table-result'><thead style='background-color: white'><tr><th>PdDistrict</th><th>Counts</th></tr></thead><tbody><tr><td>SOUTHERN</td><td>390692</td></tr><tr><td>MISSION</td><td>288985</td></tr><tr><td>NORTHERN</td><td>266435</td></tr></tbody></table></div>"
      ]
     },
     "metadata": {
      "application/vnd.databricks.v1+output": {
       "addedWidgets": {},
       "aggData": [],
       "aggError": "",
       "aggOverflow": false,
       "aggSchema": [],
       "aggSeriesLimitReached": false,
       "aggType": "",
       "arguments": {},
       "columnCustomDisplayInfos": {},
       "data": [
        [
         "SOUTHERN",
         390692
        ],
        [
         "MISSION",
         288985
        ],
        [
         "NORTHERN",
         266435
        ]
       ],
       "datasetInfos": [],
       "dbfsResultPath": null,
       "isJsonSchema": true,
       "metadata": {},
       "overflow": false,
       "plotOptions": {
        "customPlotOptions": {},
        "displayType": "table",
        "pivotAggregation": null,
        "pivotColumns": null,
        "xColumns": null,
        "yColumns": null
       },
       "removedWidgets": [],
       "schema": [
        {
         "metadata": "{}",
         "name": "PdDistrict",
         "type": "\"string\""
        },
        {
         "metadata": "{}",
         "name": "Counts",
         "type": "\"long\""
        }
       ],
       "type": "table"
      }
     },
     "output_type": "display_data"
    }
   ],
   "source": [
    "#SQL Way\n",
    "top_3_district=spark.sql(\"select PdDistrict, count(*) as Counts from sf_crime group by PdDistrict order by Counts Desc limit 3\")\n",
    "display(top_3_district)"
   ]
  },
  {
   "cell_type": "code",
   "execution_count": 0,
   "metadata": {
    "application/vnd.databricks.v1+cell": {
     "cellMetadata": {},
     "inputWidgets": {},
     "nuid": "ad1ce7ff-1ad1-483e-9956-623646a452f2",
     "showTitle": true,
     "title": "Step 2 Find out the crime event w.r.t category and time (hour) from the result of step 1"
    }
   },
   "outputs": [
    {
     "data": {
      "text/html": [
       "<style scoped>\n",
       "  .table-result-container {\n",
       "    max-height: 300px;\n",
       "    overflow: auto;\n",
       "  }\n",
       "  table, th, td {\n",
       "    border: 1px solid black;\n",
       "    border-collapse: collapse;\n",
       "  }\n",
       "  th, td {\n",
       "    padding: 5px;\n",
       "  }\n",
       "  th {\n",
       "    text-align: left;\n",
       "  }\n",
       "</style><div class='table-result-container'><table class='table-result'><thead style='background-color: white'><tr><th>Hour</th><th>category</th><th>count</th></tr></thead><tbody><tr><td>0</td><td>ARSON</td><td>84</td></tr><tr><td>0</td><td>ASSAULT</td><td>4120</td></tr><tr><td>0</td><td>BAD CHECKS</td><td>79</td></tr><tr><td>0</td><td>BRIBERY</td><td>20</td></tr><tr><td>0</td><td>BURGLARY</td><td>1585</td></tr><tr><td>0</td><td>DISORDERLY CONDUCT</td><td>301</td></tr><tr><td>0</td><td>DRIVING UNDER THE INFLUENCE</td><td>272</td></tr><tr><td>0</td><td>DRUG/NARCOTIC</td><td>1756</td></tr><tr><td>0</td><td>DRUNKENNESS</td><td>400</td></tr><tr><td>0</td><td>EMBEZZLEMENT</td><td>280</td></tr><tr><td>0</td><td>EXTORTION</td><td>29</td></tr><tr><td>0</td><td>FORGERY/COUNTERFEITING</td><td>1644</td></tr><tr><td>0</td><td>FRAUD</td><td>2489</td></tr><tr><td>0</td><td>GAMBLING</td><td>13</td></tr><tr><td>0</td><td>KIDNAPPING</td><td>116</td></tr><tr><td>0</td><td>LARCENY/THEFT</td><td>10082</td></tr><tr><td>0</td><td>LIQUOR LAWS</td><td>63</td></tr><tr><td>0</td><td>LOITERING</td><td>48</td></tr><tr><td>0</td><td>MISSING PERSON</td><td>784</td></tr><tr><td>0</td><td>NON-CRIMINAL</td><td>5203</td></tr><tr><td>0</td><td>OTHER OFFENSES</td><td>7632</td></tr><tr><td>0</td><td>PORNOGRAPHY/OBSCENE MAT</td><td>1</td></tr><tr><td>0</td><td>PROSTITUTION</td><td>1107</td></tr><tr><td>0</td><td>RECOVERED VEHICLE</td><td>138</td></tr><tr><td>0</td><td>ROBBERY</td><td>1400</td></tr><tr><td>0</td><td>SECONDARY CODES</td><td>519</td></tr><tr><td>0</td><td>SEX OFFENSES, FORCIBLE</td><td>450</td></tr><tr><td>0</td><td>SEX OFFENSES, NON FORCIBLE</td><td>4</td></tr><tr><td>0</td><td>STOLEN PROPERTY</td><td>297</td></tr><tr><td>0</td><td>SUICIDE</td><td>12</td></tr><tr><td>0</td><td>SUSPICIOUS OCC</td><td>2148</td></tr><tr><td>0</td><td>TRESPASS</td><td>260</td></tr><tr><td>0</td><td>VANDALISM</td><td>2654</td></tr><tr><td>0</td><td>VEHICLE THEFT</td><td>1568</td></tr><tr><td>0</td><td>WARRANTS</td><td>1933</td></tr><tr><td>0</td><td>WEAPON LAWS</td><td>466</td></tr><tr><td>1</td><td>ARSON</td><td>77</td></tr><tr><td>1</td><td>ASSAULT</td><td>3940</td></tr><tr><td>1</td><td>BAD CHECKS</td><td>3</td></tr><tr><td>1</td><td>BRIBERY</td><td>11</td></tr><tr><td>1</td><td>BURGLARY</td><td>1064</td></tr><tr><td>1</td><td>DISORDERLY CONDUCT</td><td>225</td></tr><tr><td>1</td><td>DRIVING UNDER THE INFLUENCE</td><td>274</td></tr><tr><td>1</td><td>DRUG/NARCOTIC</td><td>1156</td></tr><tr><td>1</td><td>DRUNKENNESS</td><td>369</td></tr><tr><td>1</td><td>EMBEZZLEMENT</td><td>4</td></tr><tr><td>1</td><td>EXTORTION</td><td>4</td></tr><tr><td>1</td><td>FORGERY/COUNTERFEITING</td><td>92</td></tr><tr><td>1</td><td>FRAUD</td><td>414</td></tr><tr><td>1</td><td>GAMBLING</td><td>1</td></tr><tr><td>1</td><td>KIDNAPPING</td><td>111</td></tr><tr><td>1</td><td>LARCENY/THEFT</td><td>6644</td></tr><tr><td>1</td><td>LIQUOR LAWS</td><td>28</td></tr><tr><td>1</td><td>LOITERING</td><td>38</td></tr><tr><td>1</td><td>MISSING PERSON</td><td>355</td></tr><tr><td>1</td><td>NON-CRIMINAL</td><td>2948</td></tr><tr><td>1</td><td>OTHER OFFENSES</td><td>3902</td></tr><tr><td>1</td><td>PROSTITUTION</td><td>819</td></tr><tr><td>1</td><td>RECOVERED VEHICLE</td><td>103</td></tr><tr><td>1</td><td>ROBBERY</td><td>1534</td></tr><tr><td>1</td><td>SECONDARY CODES</td><td>318</td></tr><tr><td>1</td><td>SEX OFFENSES, FORCIBLE</td><td>252</td></tr><tr><td>1</td><td>STOLEN PROPERTY</td><td>219</td></tr><tr><td>1</td><td>SUICIDE</td><td>13</td></tr><tr><td>1</td><td>SUSPICIOUS OCC</td><td>996</td></tr><tr><td>1</td><td>TRESPASS</td><td>180</td></tr><tr><td>1</td><td>VANDALISM</td><td>1916</td></tr><tr><td>1</td><td>VEHICLE THEFT</td><td>1129</td></tr><tr><td>1</td><td>WARRANTS</td><td>1413</td></tr><tr><td>1</td><td>WEAPON LAWS</td><td>354</td></tr><tr><td>2</td><td>ARSON</td><td>84</td></tr><tr><td>2</td><td>ASSAULT</td><td>3510</td></tr><tr><td>2</td><td>BAD CHECKS</td><td>2</td></tr><tr><td>2</td><td>BRIBERY</td><td>12</td></tr><tr><td>2</td><td>BURGLARY</td><td>1152</td></tr><tr><td>2</td><td>DISORDERLY CONDUCT</td><td>212</td></tr><tr><td>2</td><td>DRIVING UNDER THE INFLUENCE</td><td>263</td></tr><tr><td>2</td><td>DRUG/NARCOTIC</td><td>947</td></tr><tr><td>2</td><td>DRUNKENNESS</td><td>294</td></tr><tr><td>2</td><td>EMBEZZLEMENT</td><td>4</td></tr><tr><td>2</td><td>EXTORTION</td><td>3</td></tr><tr><td>2</td><td>FORGERY/COUNTERFEITING</td><td>64</td></tr><tr><td>2</td><td>FRAUD</td><td>283</td></tr><tr><td>2</td><td>KIDNAPPING</td><td>106</td></tr><tr><td>2</td><td>LARCENY/THEFT</td><td>4065</td></tr><tr><td>2</td><td>LIQUOR LAWS</td><td>23</td></tr><tr><td>2</td><td>LOITERING</td><td>24</td></tr><tr><td>2</td><td>MISSING PERSON</td><td>271</td></tr><tr><td>2</td><td>NON-CRIMINAL</td><td>2335</td></tr><tr><td>2</td><td>OTHER OFFENSES</td><td>3279</td></tr><tr><td>2</td><td>PROSTITUTION</td><td>630</td></tr><tr><td>2</td><td>RECOVERED VEHICLE</td><td>77</td></tr><tr><td>2</td><td>ROBBERY</td><td>1749</td></tr><tr><td>2</td><td>SECONDARY CODES</td><td>293</td></tr><tr><td>2</td><td>SEX OFFENSES, FORCIBLE</td><td>261</td></tr><tr><td>2</td><td>STOLEN PROPERTY</td><td>165</td></tr><tr><td>2</td><td>SUICIDE</td><td>13</td></tr><tr><td>2</td><td>SUSPICIOUS OCC</td><td>871</td></tr><tr><td>2</td><td>TRESPASS</td><td>241</td></tr><tr><td>2</td><td>VANDALISM</td><td>1780</td></tr><tr><td>2</td><td>VEHICLE THEFT</td><td>889</td></tr><tr><td>2</td><td>WARRANTS</td><td>1212</td></tr><tr><td>2</td><td>WEAPON LAWS</td><td>323</td></tr><tr><td>3</td><td>ARSON</td><td>95</td></tr><tr><td>3</td><td>ASSAULT</td><td>1622</td></tr><tr><td>3</td><td>BRIBERY</td><td>6</td></tr><tr><td>3</td><td>BURGLARY</td><td>1229</td></tr><tr><td>3</td><td>DISORDERLY CONDUCT</td><td>140</td></tr><tr><td>3</td><td>DRIVING UNDER THE INFLUENCE</td><td>117</td></tr><tr><td>3</td><td>DRUG/NARCOTIC</td><td>607</td></tr><tr><td>3</td><td>DRUNKENNESS</td><td>128</td></tr><tr><td>3</td><td>EMBEZZLEMENT</td><td>6</td></tr><tr><td>3</td><td>EXTORTION</td><td>2</td></tr><tr><td>3</td><td>FORGERY/COUNTERFEITING</td><td>61</td></tr><tr><td>3</td><td>FRAUD</td><td>160</td></tr><tr><td>3</td><td>GAMBLING</td><td>1</td></tr><tr><td>3</td><td>KIDNAPPING</td><td>68</td></tr><tr><td>3</td><td>LARCENY/THEFT</td><td>2419</td></tr><tr><td>3</td><td>LIQUOR LAWS</td><td>12</td></tr><tr><td>3</td><td>LOITERING</td><td>27</td></tr><tr><td>3</td><td>MISSING PERSON</td><td>162</td></tr><tr><td>3</td><td>NON-CRIMINAL</td><td>1443</td></tr><tr><td>3</td><td>OTHER OFFENSES</td><td>2329</td></tr><tr><td>3</td><td>PORNOGRAPHY/OBSCENE MAT</td><td>1</td></tr><tr><td>3</td><td>PROSTITUTION</td><td>422</td></tr><tr><td>3</td><td>RECOVERED VEHICLE</td><td>84</td></tr><tr><td>3</td><td>ROBBERY</td><td>988</td></tr><tr><td>3</td><td>SECONDARY CODES</td><td>197</td></tr><tr><td>3</td><td>SEX OFFENSES, FORCIBLE</td><td>188</td></tr><tr><td>3</td><td>STOLEN PROPERTY</td><td>143</td></tr><tr><td>3</td><td>SUICIDE</td><td>9</td></tr><tr><td>3</td><td>SUSPICIOUS OCC</td><td>626</td></tr><tr><td>3</td><td>TRESPASS</td><td>174</td></tr><tr><td>3</td><td>VANDALISM</td><td>1223</td></tr><tr><td>3</td><td>VEHICLE THEFT</td><td>552</td></tr><tr><td>3</td><td>WARRANTS</td><td>950</td></tr><tr><td>3</td><td>WEAPON LAWS</td><td>199</td></tr><tr><td>4</td><td>ARSON</td><td>74</td></tr><tr><td>4</td><td>ASSAULT</td><td>1017</td></tr><tr><td>4</td><td>BAD CHECKS</td><td>2</td></tr><tr><td>4</td><td>BRIBERY</td><td>5</td></tr><tr><td>4</td><td>BURGLARY</td><td>1032</td></tr><tr><td>4</td><td>DISORDERLY CONDUCT</td><td>100</td></tr><tr><td>4</td><td>DRIVING UNDER THE INFLUENCE</td><td>40</td></tr><tr><td>4</td><td>DRUG/NARCOTIC</td><td>444</td></tr><tr><td>4</td><td>DRUNKENNESS</td><td>55</td></tr><tr><td>4</td><td>EMBEZZLEMENT</td><td>4</td></tr><tr><td>4</td><td>EXTORTION</td><td>2</td></tr><tr><td>4</td><td>FORGERY/COUNTERFEITING</td><td>35</td></tr><tr><td>4</td><td>FRAUD</td><td>103</td></tr><tr><td>4</td><td>KIDNAPPING</td><td>37</td></tr><tr><td>4</td><td>LARCENY/THEFT</td><td>1542</td></tr><tr><td>4</td><td>LIQUOR LAWS</td><td>7</td></tr><tr><td>4</td><td>LOITERING</td><td>14</td></tr><tr><td>4</td><td>MISSING PERSON</td><td>107</td></tr><tr><td>4</td><td>NON-CRIMINAL</td><td>1065</td></tr><tr><td>4</td><td>OTHER OFFENSES</td><td>1744</td></tr><tr><td>4</td><td>PROSTITUTION</td><td>328</td></tr><tr><td>4</td><td>RECOVERED VEHICLE</td><td>59</td></tr><tr><td>4</td><td>ROBBERY</td><td>643</td></tr><tr><td>4</td><td>SECONDARY CODES</td><td>127</td></tr><tr><td>4</td><td>SEX OFFENSES, FORCIBLE</td><td>101</td></tr><tr><td>4</td><td>STOLEN PROPERTY</td><td>115</td></tr><tr><td>4</td><td>SUICIDE</td><td>4</td></tr><tr><td>4</td><td>SUSPICIOUS OCC</td><td>413</td></tr><tr><td>4</td><td>TRESPASS</td><td>138</td></tr><tr><td>4</td><td>VANDALISM</td><td>798</td></tr><tr><td>4</td><td>VEHICLE THEFT</td><td>440</td></tr><tr><td>4</td><td>WARRANTS</td><td>674</td></tr><tr><td>4</td><td>WEAPON LAWS</td><td>142</td></tr><tr><td>5</td><td>ARSON</td><td>60</td></tr><tr><td>5</td><td>ASSAULT</td><td>772</td></tr><tr><td>5</td><td>BAD CHECKS</td><td>1</td></tr><tr><td>5</td><td>BRIBERY</td><td>2</td></tr><tr><td>5</td><td>BURGLARY</td><td>948</td></tr><tr><td>5</td><td>DISORDERLY CONDUCT</td><td>163</td></tr><tr><td>5</td><td>DRIVING UNDER THE INFLUENCE</td><td>27</td></tr><tr><td>5</td><td>DRUG/NARCOTIC</td><td>216</td></tr><tr><td>5</td><td>DRUNKENNESS</td><td>20</td></tr><tr><td>5</td><td>EMBEZZLEMENT</td><td>4</td></tr><tr><td>5</td><td>EXTORTION</td><td>4</td></tr><tr><td>5</td><td>FORGERY/COUNTERFEITING</td><td>25</td></tr><tr><td>5</td><td>FRAUD</td><td>85</td></tr><tr><td>5</td><td>GAMBLING</td><td>1</td></tr><tr><td>5</td><td>KIDNAPPING</td><td>34</td></tr><tr><td>5</td><td>LARCENY/THEFT</td><td>1490</td></tr><tr><td>5</td><td>LIQUOR LAWS</td><td>1</td></tr><tr><td>5</td><td>LOITERING</td><td>28</td></tr><tr><td>5</td><td>MISSING PERSON</td><td>149</td></tr><tr><td>5</td><td>NON-CRIMINAL</td><td>1018</td></tr><tr><td>5</td><td>OTHER OFFENSES</td><td>1214</td></tr><tr><td>5</td><td>PROSTITUTION</td><td>429</td></tr><tr><td>5</td><td>RECOVERED VEHICLE</td><td>43</td></tr><tr><td>5</td><td>ROBBERY</td><td>486</td></tr><tr><td>5</td><td>SECONDARY CODES</td><td>109</td></tr><tr><td>5</td><td>SEX OFFENSES, FORCIBLE</td><td>62</td></tr><tr><td>5</td><td>STOLEN PROPERTY</td><td>94</td></tr><tr><td>5</td><td>SUICIDE</td><td>9</td></tr><tr><td>5</td><td>SUSPICIOUS OCC</td><td>297</td></tr><tr><td>5</td><td>TREA</td><td>1</td></tr><tr><td>5</td><td>TRESPASS</td><td>213</td></tr><tr><td>5</td><td>VANDALISM</td><td>697</td></tr><tr><td>5</td><td>VEHICLE THEFT</td><td>392</td></tr><tr><td>5</td><td>WARRANTS</td><td>459</td></tr><tr><td>5</td><td>WEAPON LAWS</td><td>74</td></tr><tr><td>6</td><td>ARSON</td><td>50</td></tr><tr><td>6</td><td>ASSAULT</td><td>1089</td></tr><tr><td>6</td><td>BAD CHECKS</td><td>2</td></tr><tr><td>6</td><td>BRIBERY</td><td>2</td></tr><tr><td>6</td><td>BURGLARY</td><td>858</td></tr><tr><td>6</td><td>DISORDERLY CONDUCT</td><td>396</td></tr><tr><td>6</td><td>DRIVING UNDER THE INFLUENCE</td><td>27</td></tr><tr><td>6</td><td>DRUG/NARCOTIC</td><td>678</td></tr><tr><td>6</td><td>DRUNKENNESS</td><td>31</td></tr><tr><td>6</td><td>EMBEZZLEMENT</td><td>6</td></tr><tr><td>6</td><td>EXTORTION</td><td>3</td></tr><tr><td>6</td><td>FORGERY/COUNTERFEITING</td><td>69</td></tr><tr><td>6</td><td>FRAUD</td><td>178</td></tr><tr><td>6</td><td>KIDNAPPING</td><td>31</td></tr><tr><td>6</td><td>LARCENY/THEFT</td><td>2478</td></tr><tr><td>6</td><td>LIQUOR LAWS</td><td>17</td></tr><tr><td>6</td><td>LOITERING</td><td>49</td></tr><tr><td>6</td><td>MISSING PERSON</td><td>239</td></tr><tr><td>6</td><td>NON-CRIMINAL</td><td>1939</td></tr><tr><td>6</td><td>OTHER OFFENSES</td><td>1743</td></tr><tr><td>6</td><td>PORNOGRAPHY/OBSCENE MAT</td><td>1</td></tr><tr><td>6</td><td>PROSTITUTION</td><td>414</td></tr><tr><td>6</td><td>RECOVERED VEHICLE</td><td>35</td></tr><tr><td>6</td><td>ROBBERY</td><td>456</td></tr><tr><td>6</td><td>SECONDARY CODES</td><td>115</td></tr><tr><td>6</td><td>SEX OFFENSES, FORCIBLE</td><td>69</td></tr><tr><td>6</td><td>SEX OFFENSES, NON FORCIBLE</td><td>1</td></tr><tr><td>6</td><td>STOLEN PROPERTY</td><td>96</td></tr><tr><td>6</td><td>SUICIDE</td><td>13</td></tr><tr><td>6</td><td>SUSPICIOUS OCC</td><td>532</td></tr><tr><td>6</td><td>TREA</td><td>1</td></tr><tr><td>6</td><td>TRESPASS</td><td>450</td></tr><tr><td>6</td><td>VANDALISM</td><td>782</td></tr><tr><td>6</td><td>VEHICLE THEFT</td><td>635</td></tr><tr><td>6</td><td>WARRANTS</td><td>792</td></tr><tr><td>6</td><td>WEAPON LAWS</td><td>98</td></tr><tr><td>7</td><td>ARSON</td><td>28</td></tr><tr><td>7</td><td>ASSAULT</td><td>1581</td></tr><tr><td>7</td><td>BAD CHECKS</td><td>3</td></tr><tr><td>7</td><td>BRIBERY</td><td>4</td></tr><tr><td>7</td><td>BURGLARY</td><td>998</td></tr><tr><td>7</td><td>DISORDERLY CONDUCT</td><td>451</td></tr><tr><td>7</td><td>DRIVING UNDER THE INFLUENCE</td><td>19</td></tr><tr><td>7</td><td>DRUG/NARCOTIC</td><td>1439</td></tr><tr><td>7</td><td>DRUNKENNESS</td><td>79</td></tr><tr><td>7</td><td>EMBEZZLEMENT</td><td>17</td></tr><tr><td>7</td><td>EXTORTION</td><td>7</td></tr><tr><td>7</td><td>FORGERY/COUNTERFEITING</td><td>141</td></tr><tr><td>7</td><td>FRAUD</td><td>330</td></tr><tr><td>7</td><td>GAMBLING</td><td>3</td></tr><tr><td>7</td><td>KIDNAPPING</td><td>39</td></tr><tr><td>7</td><td>LARCENY/THEFT</td><td>3780</td></tr><tr><td>7</td><td>LIQUOR LAWS</td><td>46</td></tr><tr><td>7</td><td>LOITERING</td><td>71</td></tr><tr><td>7</td><td>MISSING PERSON</td><td>533</td></tr><tr><td>7</td><td>NON-CRIMINAL</td><td>2916</td></tr><tr><td>7</td><td>OTHER OFFENSES</td><td>3523</td></tr><tr><td>7</td><td>PROSTITUTION</td><td>210</td></tr><tr><td>7</td><td>RECOVERED VEHICLE</td><td>138</td></tr><tr><td>7</td><td>ROBBERY</td><td>370</td></tr><tr><td>7</td><td>SECONDARY CODES</td><td>179</td></tr><tr><td>7</td><td>SEX OFFENSES, FORCIBLE</td><td>76</td></tr><tr><td>7</td><td>STOLEN PROPERTY</td><td>146</td></tr><tr><td>7</td><td>SUICIDE</td><td>13</td></tr><tr><td>7</td><td>SUSPICIOUS OCC</td><td>794</td></tr><tr><td>7</td><td>TRESPASS</td><td>623</td></tr><tr><td>7</td><td>VANDALISM</td><td>932</td></tr><tr><td>7</td><td>VEHICLE THEFT</td><td>1049</td></tr><tr><td>7</td><td>WARRANTS</td><td>1613</td></tr><tr><td>7</td><td>WEAPON LAWS</td><td>197</td></tr><tr><td>8</td><td>ARSON</td><td>34</td></tr><tr><td>8</td><td>ASSAULT</td><td>2325</td></tr><tr><td>8</td><td>BAD CHECKS</td><td>24</td></tr><tr><td>8</td><td>BRIBERY</td><td>6</td></tr><tr><td>8</td><td>BURGLARY</td><td>1669</td></tr><tr><td>8</td><td>DISORDERLY CONDUCT</td><td>362</td></tr><tr><td>8</td><td>DRIVING UNDER THE INFLUENCE</td><td>18</td></tr><tr><td>8</td><td>DRUG/NARCOTIC</td><td>1845</td></tr><tr><td>8</td><td>DRUNKENNESS</td><td>78</td></tr><tr><td>8</td><td>EMBEZZLEMENT</td><td>89</td></tr><tr><td>8</td><td>EXTORTION</td><td>9</td></tr><tr><td>8</td><td>FORGERY/COUNTERFEITING</td><td>494</td></tr><tr><td>8</td><td>FRAUD</td><td>829</td></tr><tr><td>8</td><td>GAMBLING</td><td>5</td></tr><tr><td>8</td><td>KIDNAPPING</td><td>40</td></tr><tr><td>8</td><td>LARCENY/THEFT</td><td>6278</td></tr><tr><td>8</td><td>LIQUOR LAWS</td><td>59</td></tr><tr><td>8</td><td>LOITERING</td><td>85</td></tr><tr><td>8</td><td>MISSING PERSON</td><td>879</td></tr><tr><td>8</td><td>NON-CRIMINAL</td><td>4562</td></tr><tr><td>8</td><td>OTHER OFFENSES</td><td>5396</td></tr><tr><td>8</td><td>PORNOGRAPHY/OBSCENE MAT</td><td>1</td></tr><tr><td>8</td><td>PROSTITUTION</td><td>117</td></tr><tr><td>8</td><td>RECOVERED VEHICLE</td><td>131</td></tr><tr><td>8</td><td>ROBBERY</td><td>478</td></tr><tr><td>8</td><td>SECONDARY CODES</td><td>284</td></tr><tr><td>8</td><td>SEX OFFENSES, FORCIBLE</td><td>198</td></tr><tr><td>8</td><td>SEX OFFENSES, NON FORCIBLE</td><td>1</td></tr><tr><td>8</td><td>STOLEN PROPERTY</td><td>180</td></tr><tr><td>8</td><td>SUICIDE</td><td>24</td></tr><tr><td>8</td><td>SUSPICIOUS OCC</td><td>1325</td></tr><tr><td>8</td><td>TRESPASS</td><td>582</td></tr><tr><td>8</td><td>VANDALISM</td><td>1347</td></tr><tr><td>8</td><td>VEHICLE THEFT</td><td>1548</td></tr><tr><td>8</td><td>WARRANTS</td><td>2000</td></tr><tr><td>8</td><td>WEAPON LAWS</td><td>236</td></tr><tr><td>9</td><td>ARSON</td><td>28</td></tr><tr><td>9</td><td>ASSAULT</td><td>2629</td></tr><tr><td>9</td><td>BAD CHECKS</td><td>26</td></tr><tr><td>9</td><td>BRIBERY</td><td>11</td></tr><tr><td>9</td><td>BURGLARY</td><td>1379</td></tr><tr><td>9</td><td>DISORDERLY CONDUCT</td><td>311</td></tr><tr><td>9</td><td>DRIVING UNDER THE INFLUENCE</td><td>25</td></tr><tr><td>9</td><td>DRUG/NARCOTIC</td><td>2178</td></tr><tr><td>9</td><td>DRUNKENNESS</td><td>98</td></tr><tr><td>9</td><td>EMBEZZLEMENT</td><td>91</td></tr><tr><td>9</td><td>EXTORTION</td><td>7</td></tr><tr><td>9</td><td>FORGERY/COUNTERFEITING</td><td>618</td></tr><tr><td>9</td><td>FRAUD</td><td>864</td></tr><tr><td>9</td><td>GAMBLING</td><td>4</td></tr><tr><td>9</td><td>KIDNAPPING</td><td>37</td></tr><tr><td>9</td><td>LARCENY/THEFT</td><td>7661</td></tr><tr><td>9</td><td>LIQUOR LAWS</td><td>68</td></tr><tr><td>9</td><td>LOITERING</td><td>63</td></tr><tr><td>9</td><td>MISSING PERSON</td><td>934</td></tr><tr><td>9</td><td>NON-CRIMINAL</td><td>5126</td></tr><tr><td>9</td><td>OTHER OFFENSES</td><td>6153</td></tr><tr><td>9</td><td>PORNOGRAPHY/OBSCENE MAT</td><td>3</td></tr><tr><td>9</td><td>PROSTITUTION</td><td>132</td></tr><tr><td>9</td><td>RECOVERED VEHICLE</td><td>155</td></tr><tr><td>9</td><td>ROBBERY</td><td>524</td></tr><tr><td>9</td><td>SECONDARY CODES</td><td>298</td></tr><tr><td>9</td><td>SEX OFFENSES, FORCIBLE</td><td>157</td></tr><tr><td>9</td><td>SEX OFFENSES, NON FORCIBLE</td><td>2</td></tr><tr><td>9</td><td>STOLEN PROPERTY</td><td>197</td></tr><tr><td>9</td><td>SUICIDE</td><td>21</td></tr><tr><td>9</td><td>SUSPICIOUS OCC</td><td>1462</td></tr><tr><td>9</td><td>TRESPASS</td><td>519</td></tr><tr><td>9</td><td>VANDALISM</td><td>1375</td></tr><tr><td>9</td><td>VEHICLE THEFT</td><td>1580</td></tr><tr><td>9</td><td>WARRANTS</td><td>2297</td></tr><tr><td>9</td><td>WEAPON LAWS</td><td>247</td></tr><tr><td>10</td><td>ARSON</td><td>44</td></tr><tr><td>10</td><td>ASSAULT</td><td>2860</td></tr><tr><td>10</td><td>BAD CHECKS</td><td>24</td></tr><tr><td>10</td><td>BRIBERY</td><td>18</td></tr><tr><td>10</td><td>BURGLARY</td><td>1220</td></tr><tr><td>10</td><td>DISORDERLY CONDUCT</td><td>244</td></tr><tr><td>10</td><td>DRIVING UNDER THE INFLUENCE</td><td>11</td></tr><tr><td>10</td><td>DRUG/NARCOTIC</td><td>2403</td></tr><tr><td>10</td><td>DRUNKENNESS</td><td>100</td></tr><tr><td>10</td><td>EMBEZZLEMENT</td><td>76</td></tr><tr><td>10</td><td>EXTORTION</td><td>17</td></tr><tr><td>10</td><td>FORGERY/COUNTERFEITING</td><td>559</td></tr><tr><td>10</td><td>FRAUD</td><td>863</td></tr><tr><td>10</td><td>GAMBLING</td><td>5</td></tr><tr><td>10</td><td>KIDNAPPING</td><td>42</td></tr><tr><td>10</td><td>LARCENY/THEFT</td><td>9439</td></tr><tr><td>10</td><td>LIQUOR LAWS</td><td>76</td></tr><tr><td>10</td><td>LOITERING</td><td>86</td></tr><tr><td>10</td><td>MISSING PERSON</td><td>951</td></tr><tr><td>10</td><td>NON-CRIMINAL</td><td>5791</td></tr><tr><td>10</td><td>OTHER OFFENSES</td><td>5921</td></tr><tr><td>10</td><td>PROSTITUTION</td><td>143</td></tr><tr><td>10</td><td>RECOVERED VEHICLE</td><td>151</td></tr><tr><td>10</td><td>ROBBERY</td><td>609</td></tr><tr><td>10</td><td>SECONDARY CODES</td><td>291</td></tr><tr><td>10</td><td>SEX OFFENSES, FORCIBLE</td><td>112</td></tr><tr><td>10</td><td>STOLEN PROPERTY</td><td>213</td></tr><tr><td>10</td><td>SUICIDE</td><td>26</td></tr><tr><td>10</td><td>SUSPICIOUS OCC</td><td>1527</td></tr><tr><td>10</td><td>TRESPASS</td><td>497</td></tr><tr><td>10</td><td>VANDALISM</td><td>1385</td></tr><tr><td>10</td><td>VEHICLE THEFT</td><td>1452</td></tr><tr><td>10</td><td>WARRANTS</td><td>2466</td></tr><tr><td>10</td><td>WEAPON LAWS</td><td>272</td></tr><tr><td>11</td><td>ARSON</td><td>29</td></tr><tr><td>11</td><td>ASSAULT</td><td>3076</td></tr><tr><td>11</td><td>BAD CHECKS</td><td>15</td></tr><tr><td>11</td><td>BRIBERY</td><td>17</td></tr><tr><td>11</td><td>BURGLARY</td><td>1193</td></tr><tr><td>11</td><td>DISORDERLY CONDUCT</td><td>200</td></tr><tr><td>11</td><td>DRIVING UNDER THE INFLUENCE</td><td>23</td></tr><tr><td>11</td><td>DRUG/NARCOTIC</td><td>2578</td></tr><tr><td>11</td><td>DRUNKENNESS</td><td>145</td></tr><tr><td>11</td><td>EMBEZZLEMENT</td><td>57</td></tr><tr><td>11</td><td>EXTORTION</td><td>11</td></tr><tr><td>11</td><td>FORGERY/COUNTERFEITING</td><td>514</td></tr><tr><td>11</td><td>FRAUD</td><td>727</td></tr><tr><td>11</td><td>GAMBLING</td><td>9</td></tr><tr><td>11</td><td>KIDNAPPING</td><td>47</td></tr><tr><td>11</td><td>LARCENY/THEFT</td><td>10297</td></tr><tr><td>11</td><td>LIQUOR LAWS</td><td>67</td></tr><tr><td>11</td><td>LOITERING</td><td>87</td></tr><tr><td>11</td><td>MISSING PERSON</td><td>928</td></tr><tr><td>11</td><td>NON-CRIMINAL</td><td>5654</td></tr><tr><td>11</td><td>OTHER OFFENSES</td><td>5774</td></tr><tr><td>11</td><td>PORNOGRAPHY/OBSCENE MAT</td><td>2</td></tr><tr><td>11</td><td>PROSTITUTION</td><td>147</td></tr><tr><td>11</td><td>RECOVERED VEHICLE</td><td>160</td></tr><tr><td>11</td><td>ROBBERY</td><td>680</td></tr><tr><td>11</td><td>SECONDARY CODES</td><td>338</td></tr><tr><td>11</td><td>SEX OFFENSES, FORCIBLE</td><td>107</td></tr><tr><td>11</td><td>STOLEN PROPERTY</td><td>254</td></tr><tr><td>11</td><td>SUICIDE</td><td>36</td></tr><tr><td>11</td><td>SUSPICIOUS OCC</td><td>1545</td></tr><tr><td>11</td><td>TRESPASS</td><td>446</td></tr><tr><td>11</td><td>VANDALISM</td><td>1290</td></tr><tr><td>11</td><td>VEHICLE THEFT</td><td>1321</td></tr><tr><td>11</td><td>WARRANTS</td><td>2591</td></tr><tr><td>11</td><td>WEAPON LAWS</td><td>335</td></tr><tr><td>12</td><td>ARSON</td><td>37</td></tr><tr><td>12</td><td>ASSAULT</td><td>3735</td></tr><tr><td>12</td><td>BAD CHECKS</td><td>76</td></tr><tr><td>12</td><td>BRIBERY</td><td>17</td></tr><tr><td>12</td><td>BURGLARY</td><td>1775</td></tr><tr><td>12</td><td>DISORDERLY CONDUCT</td><td>177</td></tr><tr><td>12</td><td>DRIVING UNDER THE INFLUENCE</td><td>33</td></tr><tr><td>12</td><td>DRUG/NARCOTIC</td><td>2582</td></tr><tr><td>12</td><td>DRUNKENNESS</td><td>119</td></tr><tr><td>12</td><td>EMBEZZLEMENT</td><td>233</td></tr><tr><td>12</td><td>EXTORTION</td><td>30</td></tr><tr><td>12</td><td>FORGERY/COUNTERFEITING</td><td>1356</td></tr><tr><td>12</td><td>FRAUD</td><td>2016</td></tr><tr><td>12</td><td>GAMBLING</td><td>15</td></tr><tr><td>12</td><td>KIDNAPPING</td><td>65</td></tr><tr><td>12</td><td>LARCENY/THEFT</td><td>13030</td></tr><tr><td>12</td><td>LIQUOR LAWS</td><td>104</td></tr><tr><td>12</td><td>LOITERING</td><td>78</td></tr><tr><td>12</td><td>MISSING PERSON</td><td>1347</td></tr><tr><td>12</td><td>NON-CRIMINAL</td><td>7792</td></tr><tr><td>12</td><td>OTHER OFFENSES</td><td>7952</td></tr><tr><td>12</td><td>PORNOGRAPHY/OBSCENE MAT</td><td>2</td></tr><tr><td>12</td><td>PROSTITUTION</td><td>309</td></tr><tr><td>12</td><td>RECOVERED VEHICLE</td><td>157</td></tr><tr><td>12</td><td>ROBBERY</td><td>802</td></tr><tr><td>12</td><td>SECONDARY CODES</td><td>456</td></tr><tr><td>12</td><td>SEX OFFENSES, FORCIBLE</td><td>183</td></tr><tr><td>12</td><td>SEX OFFENSES, NON FORCIBLE</td><td>2</td></tr><tr><td>12</td><td>STOLEN PROPERTY</td><td>346</td></tr><tr><td>12</td><td>SUICIDE</td><td>33</td></tr><tr><td>12</td><td>SUSPICIOUS OCC</td><td>2175</td></tr><tr><td>12</td><td>TREA</td><td>1</td></tr><tr><td>12</td><td>TRESPASS</td><td>463</td></tr><tr><td>12</td><td>VANDALISM</td><td>1683</td></tr><tr><td>12</td><td>VEHICLE THEFT</td><td>1938</td></tr><tr><td>12</td><td>WARRANTS</td><td>2643</td></tr><tr><td>12</td><td>WEAPON LAWS</td><td>372</td></tr><tr><td>13</td><td>ARSON</td><td>35</td></tr><tr><td>13</td><td>ASSAULT</td><td>3407</td></tr><tr><td>13</td><td>BAD CHECKS</td><td>15</td></tr><tr><td>13</td><td>BRIBERY</td><td>11</td></tr><tr><td>13</td><td>BURGLARY</td><td>1157</td></tr><tr><td>13</td><td>DISORDERLY CONDUCT</td><td>172</td></tr><tr><td>13</td><td>DRIVING UNDER THE INFLUENCE</td><td>20</td></tr><tr><td>13</td><td>DRUG/NARCOTIC</td><td>3131</td></tr><tr><td>13</td><td>DRUNKENNESS</td><td>146</td></tr><tr><td>13</td><td>EMBEZZLEMENT</td><td>48</td></tr><tr><td>13</td><td>EXTORTION</td><td>13</td></tr><tr><td>13</td><td>FORGERY/COUNTERFEITING</td><td>694</td></tr><tr><td>13</td><td>FRAUD</td><td>1028</td></tr><tr><td>13</td><td>GAMBLING</td><td>6</td></tr><tr><td>13</td><td>KIDNAPPING</td><td>75</td></tr><tr><td>13</td><td>LARCENY/THEFT</td><td>11760</td></tr><tr><td>13</td><td>LIQUOR LAWS</td><td>95</td></tr><tr><td>13</td><td>LOITERING</td><td>89</td></tr><tr><td>13</td><td>MISSING PERSON</td><td>872</td></tr><tr><td>13</td><td>NON-CRIMINAL</td><td>6155</td></tr><tr><td>13</td><td>OTHER OFFENSES</td><td>6275</td></tr><tr><td>13</td><td>PROSTITUTION</td><td>221</td></tr><tr><td>13</td><td>RECOVERED VEHICLE</td><td>126</td></tr><tr><td>13</td><td>ROBBERY</td><td>863</td></tr><tr><td>13</td><td>SECONDARY CODES</td><td>354</td></tr><tr><td>13</td><td>SEX OFFENSES, FORCIBLE</td><td>124</td></tr><tr><td>13</td><td>SEX OFFENSES, NON FORCIBLE</td><td>1</td></tr><tr><td>13</td><td>STOLEN PROPERTY</td><td>303</td></tr><tr><td>13</td><td>SUICIDE</td><td>30</td></tr><tr><td>13</td><td>SUSPICIOUS OCC</td><td>1628</td></tr><tr><td>13</td><td>TRESPASS</td><td>402</td></tr><tr><td>13</td><td>VANDALISM</td><td>1343</td></tr><tr><td>13</td><td>VEHICLE THEFT</td><td>1453</td></tr><tr><td>13</td><td>WARRANTS</td><td>2870</td></tr><tr><td>13</td><td>WEAPON LAWS</td><td>348</td></tr><tr><td>14</td><td>ARSON</td><td>36</td></tr><tr><td>14</td><td>ASSAULT</td><td>3529</td></tr><tr><td>14</td><td>BAD CHECKS</td><td>21</td></tr><tr><td>14</td><td>BRIBERY</td><td>14</td></tr><tr><td>14</td><td>BURGLARY</td><td>1391</td></tr><tr><td>14</td><td>DISORDERLY CONDUCT</td><td>165</td></tr><tr><td>14</td><td>DRIVING UNDER THE INFLUENCE</td><td>27</td></tr><tr><td>14</td><td>DRUG/NARCOTIC</td><td>3435</td></tr><tr><td>14</td><td>DRUNKENNESS</td><td>129</td></tr><tr><td>14</td><td>EMBEZZLEMENT</td><td>45</td></tr><tr><td>14</td><td>EXTORTION</td><td>9</td></tr><tr><td>14</td><td>FORGERY/COUNTERFEITING</td><td>626</td></tr><tr><td>14</td><td>FRAUD</td><td>948</td></tr><tr><td>14</td><td>GAMBLING</td><td>9</td></tr><tr><td>14</td><td>KIDNAPPING</td><td>66</td></tr><tr><td>14</td><td>LARCENY/THEFT</td><td>12268</td></tr><tr><td>14</td><td>LIQUOR LAWS</td><td>69</td></tr><tr><td>14</td><td>LOITERING</td><td>92</td></tr><tr><td>14</td><td>MISSING PERSON</td><td>926</td></tr><tr><td>14</td><td>NON-CRIMINAL</td><td>6010</td></tr><tr><td>14</td><td>OTHER OFFENSES</td><td>6196</td></tr><tr><td>14</td><td>PORNOGRAPHY/OBSCENE MAT</td><td>1</td></tr><tr><td>14</td><td>PROSTITUTION</td><td>195</td></tr><tr><td>14</td><td>RECOVERED VEHICLE</td><td>94</td></tr><tr><td>14</td><td>ROBBERY</td><td>919</td></tr><tr><td>14</td><td>SECONDARY CODES</td><td>355</td></tr><tr><td>14</td><td>SEX OFFENSES, FORCIBLE</td><td>150</td></tr><tr><td>14</td><td>STOLEN PROPERTY</td><td>322</td></tr><tr><td>14</td><td>SUICIDE</td><td>40</td></tr><tr><td>14</td><td>SUSPICIOUS OCC</td><td>1635</td></tr><tr><td>14</td><td>TRESPASS</td><td>359</td></tr><tr><td>14</td><td>VANDALISM</td><td>1534</td></tr><tr><td>14</td><td>VEHICLE THEFT</td><td>1687</td></tr><tr><td>14</td><td>WARRANTS</td><td>2789</td></tr><tr><td>14</td><td>WEAPON LAWS</td><td>374</td></tr><tr><td>15</td><td>ARSON</td><td>49</td></tr><tr><td>15</td><td>ASSAULT</td><td>3862</td></tr><tr><td>15</td><td>BAD CHECKS</td><td>31</td></tr><tr><td>15</td><td>BRIBERY</td><td>10</td></tr><tr><td>15</td><td>BURGLARY</td><td>1635</td></tr><tr><td>15</td><td>DISORDERLY CONDUCT</td><td>117</td></tr><tr><td>15</td><td>DRIVING UNDER THE INFLUENCE</td><td>48</td></tr><tr><td>15</td><td>DRUG/NARCOTIC</td><td>3177</td></tr><tr><td>15</td><td>DRUNKENNESS</td><td>160</td></tr><tr><td>15</td><td>EMBEZZLEMENT</td><td>54</td></tr><tr><td>15</td><td>EXTORTION</td><td>9</td></tr><tr><td>15</td><td>FORGERY/COUNTERFEITING</td><td>690</td></tr><tr><td>15</td><td>FRAUD</td><td>1082</td></tr><tr><td>15</td><td>GAMBLING</td><td>9</td></tr><tr><td>15</td><td>KIDNAPPING</td><td>63</td></tr><tr><td>15</td><td>LARCENY/THEFT</td><td>12861</td></tr><tr><td>15</td><td>LIQUOR LAWS</td><td>76</td></tr><tr><td>15</td><td>LOITERING</td><td>58</td></tr><tr><td>15</td><td>MISSING PERSON</td><td>1057</td></tr><tr><td>15</td><td>NON-CRIMINAL</td><td>6232</td></tr><tr><td>15</td><td>OTHER OFFENSES</td><td>6494</td></tr><tr><td>15</td><td>PROSTITUTION</td><td>136</td></tr><tr><td>15</td><td>RECOVERED VEHICLE</td><td>113</td></tr><tr><td>15</td><td>ROBBERY</td><td>1024</td></tr><tr><td>15</td><td>SECONDARY CODES</td><td>415</td></tr><tr><td>15</td><td>SEX OFFENSES, FORCIBLE</td><td>168</td></tr><tr><td>15</td><td>STOLEN PROPERTY</td><td>357</td></tr><tr><td>15</td><td>SUICIDE</td><td>37</td></tr><tr><td>15</td><td>SUSPICIOUS OCC</td><td>1737</td></tr><tr><td>15</td><td>TRESPASS</td><td>441</td></tr><tr><td>15</td><td>VANDALISM</td><td>1833</td></tr><tr><td>15</td><td>VEHICLE THEFT</td><td>1917</td></tr><tr><td>15</td><td>WARRANTS</td><td>2786</td></tr><tr><td>15</td><td>WEAPON LAWS</td><td>416</td></tr><tr><td>16</td><td>ARSON</td><td>31</td></tr><tr><td>16</td><td>ASSAULT</td><td>3876</td></tr><tr><td>16</td><td>BAD CHECKS</td><td>19</td></tr><tr><td>16</td><td>BRIBERY</td><td>14</td></tr><tr><td>16</td><td>BURGLARY</td><td>1893</td></tr><tr><td>16</td><td>DISORDERLY CONDUCT</td><td>142</td></tr><tr><td>16</td><td>DRIVING UNDER THE INFLUENCE</td><td>62</td></tr><tr><td>16</td><td>DRUG/NARCOTIC</td><td>3275</td></tr><tr><td>16</td><td>DRUNKENNESS</td><td>216</td></tr><tr><td>16</td><td>EMBEZZLEMENT</td><td>52</td></tr><tr><td>16</td><td>EXTORTION</td><td>13</td></tr><tr><td>16</td><td>FORGERY/COUNTERFEITING</td><td>708</td></tr><tr><td>16</td><td>FRAUD</td><td>995</td></tr><tr><td>16</td><td>GAMBLING</td><td>2</td></tr><tr><td>16</td><td>KIDNAPPING</td><td>74</td></tr><tr><td>16</td><td>LARCENY/THEFT</td><td>13644</td></tr><tr><td>16</td><td>LIQUOR LAWS</td><td>96</td></tr><tr><td>16</td><td>LOITERING</td><td>106</td></tr><tr><td>16</td><td>MISSING PERSON</td><td>930</td></tr><tr><td>16</td><td>NON-CRIMINAL</td><td>6336</td></tr><tr><td>16</td><td>OTHER OFFENSES</td><td>7556</td></tr><tr><td>16</td><td>PORNOGRAPHY/OBSCENE MAT</td><td>2</td></tr><tr><td>16</td><td>PROSTITUTION</td><td>173</td></tr><tr><td>16</td><td>RECOVERED VEHICLE</td><td>189</td></tr><tr><td>16</td><td>ROBBERY</td><td>1112</td></tr><tr><td>16</td><td>SECONDARY CODES</td><td>427</td></tr><tr><td>16</td><td>SEX OFFENSES, FORCIBLE</td><td>166</td></tr><tr><td>16</td><td>STOLEN PROPERTY</td><td>364</td></tr><tr><td>16</td><td>SUICIDE</td><td>29</td></tr><tr><td>16</td><td>SUSPICIOUS OCC</td><td>1690</td></tr><tr><td>16</td><td>TRESPASS</td><td>434</td></tr><tr><td>16</td><td>VANDALISM</td><td>1988</td></tr><tr><td>16</td><td>VEHICLE THEFT</td><td>2292</td></tr><tr><td>16</td><td>WARRANTS</td><td>3010</td></tr><tr><td>16</td><td>WEAPON LAWS</td><td>458</td></tr><tr><td>17</td><td>ARSON</td><td>48</td></tr><tr><td>17</td><td>ASSAULT</td><td>3826</td></tr><tr><td>17</td><td>BAD CHECKS</td><td>25</td></tr><tr><td>17</td><td>BRIBERY</td><td>25</td></tr><tr><td>17</td><td>BURGLARY</td><td>2613</td></tr><tr><td>17</td><td>DISORDERLY CONDUCT</td><td>128</td></tr><tr><td>17</td><td>DRIVING UNDER THE INFLUENCE</td><td>66</td></tr><tr><td>17</td><td>DRUG/NARCOTIC</td><td>3588</td></tr><tr><td>17</td><td>DRUNKENNESS</td><td>255</td></tr><tr><td>17</td><td>EMBEZZLEMENT</td><td>64</td></tr><tr><td>17</td><td>EXTORTION</td><td>13</td></tr><tr><td>17</td><td>FORGERY/COUNTERFEITING</td><td>663</td></tr><tr><td>17</td><td>FRAUD</td><td>1049</td></tr><tr><td>17</td><td>GAMBLING</td><td>4</td></tr><tr><td>17</td><td>KIDNAPPING</td><td>78</td></tr><tr><td>17</td><td>LARCENY/THEFT</td><td>15903</td></tr><tr><td>17</td><td>LIQUOR LAWS</td><td>158</td></tr><tr><td>17</td><td>LOITERING</td><td>134</td></tr><tr><td>17</td><td>MISSING PERSON</td><td>822</td></tr><tr><td>17</td><td>NON-CRIMINAL</td><td>5887</td></tr><tr><td>17</td><td>OTHER OFFENSES</td><td>7738</td></tr><tr><td>17</td><td>PROSTITUTION</td><td>367</td></tr><tr><td>17</td><td>RECOVERED VEHICLE</td><td>124</td></tr><tr><td>17</td><td>ROBBERY</td><td>1123</td></tr><tr><td>17</td><td>SECONDARY CODES</td><td>411</td></tr><tr><td>17</td><td>SEX OFFENSES, FORCIBLE</td><td>168</td></tr><tr><td>17</td><td>SEX OFFENSES, NON FORCIBLE</td><td>1</td></tr><tr><td>17</td><td>STOLEN PROPERTY</td><td>374</td></tr><tr><td>17</td><td>SUICIDE</td><td>35</td></tr><tr><td>17</td><td>SUSPICIOUS OCC</td><td>1607</td></tr><tr><td>17</td><td>TRESPASS</td><td>431</td></tr><tr><td>17</td><td>VANDALISM</td><td>2696</td></tr><tr><td>17</td><td>VEHICLE THEFT</td><td>2942</td></tr><tr><td>17</td><td>WARRANTS</td><td>3018</td></tr><tr><td>17</td><td>WEAPON LAWS</td><td>453</td></tr><tr><td>18</td><td>ARSON</td><td>53</td></tr><tr><td>18</td><td>ASSAULT</td><td>3726</td></tr><tr><td>18</td><td>BAD CHECKS</td><td>10</td></tr><tr><td>18</td><td>BRIBERY</td><td>13</td></tr><tr><td>18</td><td>BURGLARY</td><td>2654</td></tr><tr><td>18</td><td>DISORDERLY CONDUCT</td><td>158</td></tr><tr><td>18</td><td>DRIVING UNDER THE INFLUENCE</td><td>81</td></tr><tr><td>18</td><td>DRUG/NARCOTIC</td><td>3269</td></tr><tr><td>18</td><td>DRUNKENNESS</td><td>280</td></tr><tr><td>18</td><td>EMBEZZLEMENT</td><td>50</td></tr><tr><td>18</td><td>EXTORTION</td><td>10</td></tr><tr><td>18</td><td>FORGERY/COUNTERFEITING</td><td>450</td></tr><tr><td>18</td><td>FRAUD</td><td>958</td></tr><tr><td>18</td><td>GAMBLING</td><td>3</td></tr><tr><td>18</td><td>KIDNAPPING</td><td>84</td></tr><tr><td>18</td><td>LARCENY/THEFT</td><td>19911</td></tr><tr><td>18</td><td>LIQUOR LAWS</td><td>129</td></tr><tr><td>18</td><td>LOITERING</td><td>121</td></tr><tr><td>18</td><td>MISSING PERSON</td><td>772</td></tr><tr><td>18</td><td>NON-CRIMINAL</td><td>5723</td></tr><tr><td>18</td><td>OTHER OFFENSES</td><td>6993</td></tr><tr><td>18</td><td>PORNOGRAPHY/OBSCENE MAT</td><td>1</td></tr><tr><td>18</td><td>PROSTITUTION</td><td>726</td></tr><tr><td>18</td><td>RECOVERED VEHICLE</td><td>95</td></tr><tr><td>18</td><td>ROBBERY</td><td>1195</td></tr><tr><td>18</td><td>SECONDARY CODES</td><td>447</td></tr><tr><td>18</td><td>SEX OFFENSES, FORCIBLE</td><td>138</td></tr><tr><td>18</td><td>SEX OFFENSES, NON FORCIBLE</td><td>1</td></tr><tr><td>18</td><td>STOLEN PROPERTY</td><td>321</td></tr><tr><td>18</td><td>SUICIDE</td><td>23</td></tr><tr><td>18</td><td>SUSPICIOUS OCC</td><td>1628</td></tr><tr><td>18</td><td>TRESPASS</td><td>436</td></tr><tr><td>18</td><td>VANDALISM</td><td>3200</td></tr><tr><td>18</td><td>VEHICLE THEFT</td><td>3485</td></tr><tr><td>18</td><td>WARRANTS</td><td>2722</td></tr><tr><td>18</td><td>WEAPON LAWS</td><td>507</td></tr><tr><td>19</td><td>ARSON</td><td>59</td></tr><tr><td>19</td><td>ASSAULT</td><td>3591</td></tr><tr><td>19</td><td>BAD CHECKS</td><td>11</td></tr><tr><td>19</td><td>BRIBERY</td><td>17</td></tr><tr><td>19</td><td>BURGLARY</td><td>2102</td></tr><tr><td>19</td><td>DISORDERLY CONDUCT</td><td>131</td></tr><tr><td>19</td><td>DRIVING UNDER THE INFLUENCE</td><td>92</td></tr><tr><td>19</td><td>DRUG/NARCOTIC</td><td>2921</td></tr><tr><td>19</td><td>DRUNKENNESS</td><td>285</td></tr><tr><td>19</td><td>EMBEZZLEMENT</td><td>26</td></tr><tr><td>19</td><td>EXTORTION</td><td>7</td></tr><tr><td>19</td><td>FORGERY/COUNTERFEITING</td><td>297</td></tr><tr><td>19</td><td>FRAUD</td><td>741</td></tr><tr><td>19</td><td>GAMBLING</td><td>5</td></tr><tr><td>19</td><td>KIDNAPPING</td><td>71</td></tr><tr><td>19</td><td>LARCENY/THEFT</td><td>19444</td></tr><tr><td>19</td><td>LIQUOR LAWS</td><td>114</td></tr><tr><td>19</td><td>LOITERING</td><td>77</td></tr><tr><td>19</td><td>MISSING PERSON</td><td>658</td></tr><tr><td>19</td><td>NON-CRIMINAL</td><td>5049</td></tr><tr><td>19</td><td>OTHER OFFENSES</td><td>6047</td></tr><tr><td>19</td><td>PROSTITUTION</td><td>918</td></tr><tr><td>19</td><td>RECOVERED VEHICLE</td><td>95</td></tr><tr><td>19</td><td>ROBBERY</td><td>1218</td></tr><tr><td>19</td><td>SECONDARY CODES</td><td>428</td></tr><tr><td>19</td><td>SEX OFFENSES, FORCIBLE</td><td>178</td></tr><tr><td>19</td><td>SEX OFFENSES, NON FORCIBLE</td><td>1</td></tr><tr><td>19</td><td>STOLEN PROPERTY</td><td>296</td></tr><tr><td>19</td><td>SUICIDE</td><td>24</td></tr><tr><td>19</td><td>SUSPICIOUS OCC</td><td>1480</td></tr><tr><td>19</td><td>TRESPASS</td><td>406</td></tr><tr><td>19</td><td>VANDALISM</td><td>3053</td></tr><tr><td>19</td><td>VEHICLE THEFT</td><td>3079</td></tr><tr><td>19</td><td>WARRANTS</td><td>2381</td></tr><tr><td>19</td><td>WEAPON LAWS</td><td>462</td></tr><tr><td>20</td><td>ARSON</td><td>69</td></tr><tr><td>20</td><td>ASSAULT</td><td>3498</td></tr><tr><td>20</td><td>BAD CHECKS</td><td>8</td></tr><tr><td>20</td><td>BRIBERY</td><td>16</td></tr><tr><td>20</td><td>BURGLARY</td><td>1843</td></tr><tr><td>20</td><td>DISORDERLY CONDUCT</td><td>129</td></tr><tr><td>20</td><td>DRIVING UNDER THE INFLUENCE</td><td>119</td></tr><tr><td>20</td><td>DRUG/NARCOTIC</td><td>2157</td></tr><tr><td>20</td><td>DRUNKENNESS</td><td>301</td></tr><tr><td>20</td><td>EMBEZZLEMENT</td><td>29</td></tr><tr><td>20</td><td>EXTORTION</td><td>6</td></tr><tr><td>20</td><td>FORGERY/COUNTERFEITING</td><td>318</td></tr><tr><td>20</td><td>FRAUD</td><td>630</td></tr><tr><td>20</td><td>GAMBLING</td><td>2</td></tr><tr><td>20</td><td>KIDNAPPING</td><td>75</td></tr><tr><td>20</td><td>LARCENY/THEFT</td><td>16604</td></tr><tr><td>20</td><td>LIQUOR LAWS</td><td>59</td></tr><tr><td>20</td><td>LOITERING</td><td>58</td></tr><tr><td>20</td><td>MISSING PERSON</td><td>628</td></tr><tr><td>20</td><td>NON-CRIMINAL</td><td>4677</td></tr><tr><td>20</td><td>OTHER OFFENSES</td><td>5165</td></tr><tr><td>20</td><td>PORNOGRAPHY/OBSCENE MAT</td><td>1</td></tr><tr><td>20</td><td>PROSTITUTION</td><td>802</td></tr><tr><td>20</td><td>RECOVERED VEHICLE</td><td>93</td></tr><tr><td>20</td><td>ROBBERY</td><td>1437</td></tr><tr><td>20</td><td>SECONDARY CODES</td><td>440</td></tr><tr><td>20</td><td>SEX OFFENSES, FORCIBLE</td><td>216</td></tr><tr><td>20</td><td>SEX OFFENSES, NON FORCIBLE</td><td>1</td></tr><tr><td>20</td><td>STOLEN PROPERTY</td><td>288</td></tr><tr><td>20</td><td>SUICIDE</td><td>25</td></tr><tr><td>20</td><td>SUSPICIOUS OCC</td><td>1322</td></tr><tr><td>20</td><td>TREA</td><td>1</td></tr><tr><td>20</td><td>TRESPASS</td><td>382</td></tr><tr><td>20</td><td>VANDALISM</td><td>2956</td></tr><tr><td>20</td><td>VEHICLE THEFT</td><td>3139</td></tr><tr><td>20</td><td>WARRANTS</td><td>1913</td></tr><tr><td>20</td><td>WEAPON LAWS</td><td>398</td></tr><tr><td>21</td><td>ARSON</td><td>55</td></tr><tr><td>21</td><td>ASSAULT</td><td>3609</td></tr><tr><td>21</td><td>BAD CHECKS</td><td>4</td></tr><tr><td>21</td><td>BRIBERY</td><td>20</td></tr><tr><td>21</td><td>BURGLARY</td><td>1680</td></tr><tr><td>21</td><td>DISORDERLY CONDUCT</td><td>146</td></tr><tr><td>21</td><td>DRIVING UNDER THE INFLUENCE</td><td>167</td></tr><tr><td>21</td><td>DRUG/NARCOTIC</td><td>1937</td></tr><tr><td>21</td><td>DRUNKENNESS</td><td>313</td></tr><tr><td>21</td><td>EMBEZZLEMENT</td><td>22</td></tr><tr><td>21</td><td>EXTORTION</td><td>8</td></tr><tr><td>21</td><td>FORGERY/COUNTERFEITING</td><td>234</td></tr><tr><td>21</td><td>FRAUD</td><td>504</td></tr><tr><td>21</td><td>GAMBLING</td><td>3</td></tr><tr><td>21</td><td>KIDNAPPING</td><td>91</td></tr><tr><td>21</td><td>LARCENY/THEFT</td><td>13833</td></tr><tr><td>21</td><td>LIQUOR LAWS</td><td>90</td></tr><tr><td>21</td><td>LOITERING</td><td>69</td></tr><tr><td>21</td><td>MISSING PERSON</td><td>638</td></tr><tr><td>21</td><td>NON-CRIMINAL</td><td>4665</td></tr><tr><td>21</td><td>OTHER OFFENSES</td><td>5379</td></tr><tr><td>21</td><td>PORNOGRAPHY/OBSCENE MAT</td><td>1</td></tr><tr><td>21</td><td>PROSTITUTION</td><td>892</td></tr><tr><td>21</td><td>RECOVERED VEHICLE</td><td>88</td></tr><tr><td>21</td><td>ROBBERY</td><td>1629</td></tr><tr><td>21</td><td>SECONDARY CODES</td><td>467</td></tr><tr><td>21</td><td>SEX OFFENSES, FORCIBLE</td><td>230</td></tr><tr><td>21</td><td>STOLEN PROPERTY</td><td>275</td></tr><tr><td>21</td><td>SUICIDE</td><td>22</td></tr><tr><td>21</td><td>SUSPICIOUS OCC</td><td>1368</td></tr><tr><td>21</td><td>TRESPASS</td><td>384</td></tr><tr><td>21</td><td>VANDALISM</td><td>3149</td></tr><tr><td>21</td><td>VEHICLE THEFT</td><td>2997</td></tr><tr><td>21</td><td>WARRANTS</td><td>1868</td></tr><tr><td>21</td><td>WEAPON LAWS</td><td>460</td></tr><tr><td>22</td><td>ARSON</td><td>61</td></tr><tr><td>22</td><td>ASSAULT</td><td>3623</td></tr><tr><td>22</td><td>BAD CHECKS</td><td>2</td></tr><tr><td>22</td><td>BRIBERY</td><td>20</td></tr><tr><td>22</td><td>BURGLARY</td><td>1727</td></tr><tr><td>22</td><td>DISORDERLY CONDUCT</td><td>208</td></tr><tr><td>22</td><td>DRIVING UNDER THE INFLUENCE</td><td>194</td></tr><tr><td>22</td><td>DRUG/NARCOTIC</td><td>2380</td></tr><tr><td>22</td><td>DRUNKENNESS</td><td>378</td></tr><tr><td>22</td><td>EMBEZZLEMENT</td><td>15</td></tr><tr><td>22</td><td>EXTORTION</td><td>2</td></tr><tr><td>22</td><td>FORGERY/COUNTERFEITING</td><td>185</td></tr><tr><td>22</td><td>FRAUD</td><td>578</td></tr><tr><td>22</td><td>GAMBLING</td><td>3</td></tr><tr><td>22</td><td>KIDNAPPING</td><td>84</td></tr><tr><td>22</td><td>LARCENY/THEFT</td><td>13797</td></tr><tr><td>22</td><td>LIQUOR LAWS</td><td>71</td></tr><tr><td>22</td><td>LOITERING</td><td>45</td></tr><tr><td>22</td><td>MISSING PERSON</td><td>607</td></tr><tr><td>22</td><td>NON-CRIMINAL</td><td>4637</td></tr><tr><td>22</td><td>OTHER OFFENSES</td><td>6424</td></tr><tr><td>22</td><td>PORNOGRAPHY/OBSCENE MAT</td><td>2</td></tr><tr><td>22</td><td>PROSTITUTION</td><td>1109</td></tr><tr><td>22</td><td>RECOVERED VEHICLE</td><td>88</td></tr><tr><td>22</td><td>ROBBERY</td><td>1662</td></tr><tr><td>22</td><td>SECONDARY CODES</td><td>454</td></tr><tr><td>22</td><td>SEX OFFENSES, FORCIBLE</td><td>209</td></tr><tr><td>22</td><td>STOLEN PROPERTY</td><td>271</td></tr><tr><td>22</td><td>SUICIDE</td><td>15</td></tr><tr><td>22</td><td>SUSPICIOUS OCC</td><td>1318</td></tr><tr><td>22</td><td>TRESPASS</td><td>299</td></tr><tr><td>22</td><td>VANDALISM</td><td>3124</td></tr><tr><td>22</td><td>VEHICLE THEFT</td><td>3110</td></tr><tr><td>22</td><td>WARRANTS</td><td>2186</td></tr><tr><td>22</td><td>WEAPON LAWS</td><td>492</td></tr><tr><td>23</td><td>ARSON</td><td>72</td></tr><tr><td>23</td><td>ASSAULT</td><td>3480</td></tr><tr><td>23</td><td>BAD CHECKS</td><td>3</td></tr><tr><td>23</td><td>BRIBERY</td><td>15</td></tr><tr><td>23</td><td>BURGLARY</td><td>1567</td></tr><tr><td>23</td><td>DISORDERLY CONDUCT</td><td>260</td></tr><tr><td>23</td><td>DRIVING UNDER THE INFLUENCE</td><td>239</td></tr><tr><td>23</td><td>DRUG/NARCOTIC</td><td>2178</td></tr><tr><td>23</td><td>DRUNKENNESS</td><td>374</td></tr><tr><td>23</td><td>EMBEZZLEMENT</td><td>24</td></tr><tr><td>23</td><td>EXTORTION</td><td>8</td></tr><tr><td>23</td><td>FORGERY/COUNTERFEITING</td><td>149</td></tr><tr><td>23</td><td>FRAUD</td><td>660</td></tr><tr><td>23</td><td>GAMBLING</td><td>2</td></tr><tr><td>23</td><td>KIDNAPPING</td><td>124</td></tr><tr><td>23</td><td>LARCENY/THEFT</td><td>13152</td></tr><tr><td>23</td><td>LIQUOR LAWS</td><td>56</td></tr><tr><td>23</td><td>LOITERING</td><td>51</td></tr><tr><td>23</td><td>MISSING PERSON</td><td>519</td></tr><tr><td>23</td><td>NON-CRIMINAL</td><td>4522</td></tr><tr><td>23</td><td>OTHER OFFENSES</td><td>6341</td></tr><tr><td>23</td><td>PROSTITUTION</td><td>1196</td></tr><tr><td>23</td><td>RECOVERED VEHICLE</td><td>119</td></tr><tr><td>23</td><td>ROBBERY</td><td>1576</td></tr><tr><td>23</td><td>SECONDARY CODES</td><td>423</td></tr><tr><td>23</td><td>SEX OFFENSES, FORCIBLE</td><td>269</td></tr><tr><td>23</td><td>SEX OFFENSES, NON FORCIBLE</td><td>1</td></tr><tr><td>23</td><td>STOLEN PROPERTY</td><td>267</td></tr><tr><td>23</td><td>SUICIDE</td><td>13</td></tr><tr><td>23</td><td>SUSPICIOUS OCC</td><td>1202</td></tr><tr><td>23</td><td>TRESPASS</td><td>246</td></tr><tr><td>23</td><td>VANDALISM</td><td>2853</td></tr><tr><td>23</td><td>VEHICLE THEFT</td><td>2888</td></tr><tr><td>23</td><td>WARRANTS</td><td>2042</td></tr><tr><td>23</td><td>WEAPON LAWS</td><td>505</td></tr></tbody></table></div>"
      ]
     },
     "metadata": {
      "application/vnd.databricks.v1+output": {
       "addedWidgets": {},
       "aggData": [],
       "aggError": "",
       "aggOverflow": false,
       "aggSchema": [],
       "aggSeriesLimitReached": false,
       "aggType": "",
       "arguments": {},
       "columnCustomDisplayInfos": {},
       "data": [
        [
         0,
         "ARSON",
         84
        ],
        [
         0,
         "ASSAULT",
         4120
        ],
        [
         0,
         "BAD CHECKS",
         79
        ],
        [
         0,
         "BRIBERY",
         20
        ],
        [
         0,
         "BURGLARY",
         1585
        ],
        [
         0,
         "DISORDERLY CONDUCT",
         301
        ],
        [
         0,
         "DRIVING UNDER THE INFLUENCE",
         272
        ],
        [
         0,
         "DRUG/NARCOTIC",
         1756
        ],
        [
         0,
         "DRUNKENNESS",
         400
        ],
        [
         0,
         "EMBEZZLEMENT",
         280
        ],
        [
         0,
         "EXTORTION",
         29
        ],
        [
         0,
         "FORGERY/COUNTERFEITING",
         1644
        ],
        [
         0,
         "FRAUD",
         2489
        ],
        [
         0,
         "GAMBLING",
         13
        ],
        [
         0,
         "KIDNAPPING",
         116
        ],
        [
         0,
         "LARCENY/THEFT",
         10082
        ],
        [
         0,
         "LIQUOR LAWS",
         63
        ],
        [
         0,
         "LOITERING",
         48
        ],
        [
         0,
         "MISSING PERSON",
         784
        ],
        [
         0,
         "NON-CRIMINAL",
         5203
        ],
        [
         0,
         "OTHER OFFENSES",
         7632
        ],
        [
         0,
         "PORNOGRAPHY/OBSCENE MAT",
         1
        ],
        [
         0,
         "PROSTITUTION",
         1107
        ],
        [
         0,
         "RECOVERED VEHICLE",
         138
        ],
        [
         0,
         "ROBBERY",
         1400
        ],
        [
         0,
         "SECONDARY CODES",
         519
        ],
        [
         0,
         "SEX OFFENSES, FORCIBLE",
         450
        ],
        [
         0,
         "SEX OFFENSES, NON FORCIBLE",
         4
        ],
        [
         0,
         "STOLEN PROPERTY",
         297
        ],
        [
         0,
         "SUICIDE",
         12
        ],
        [
         0,
         "SUSPICIOUS OCC",
         2148
        ],
        [
         0,
         "TRESPASS",
         260
        ],
        [
         0,
         "VANDALISM",
         2654
        ],
        [
         0,
         "VEHICLE THEFT",
         1568
        ],
        [
         0,
         "WARRANTS",
         1933
        ],
        [
         0,
         "WEAPON LAWS",
         466
        ],
        [
         1,
         "ARSON",
         77
        ],
        [
         1,
         "ASSAULT",
         3940
        ],
        [
         1,
         "BAD CHECKS",
         3
        ],
        [
         1,
         "BRIBERY",
         11
        ],
        [
         1,
         "BURGLARY",
         1064
        ],
        [
         1,
         "DISORDERLY CONDUCT",
         225
        ],
        [
         1,
         "DRIVING UNDER THE INFLUENCE",
         274
        ],
        [
         1,
         "DRUG/NARCOTIC",
         1156
        ],
        [
         1,
         "DRUNKENNESS",
         369
        ],
        [
         1,
         "EMBEZZLEMENT",
         4
        ],
        [
         1,
         "EXTORTION",
         4
        ],
        [
         1,
         "FORGERY/COUNTERFEITING",
         92
        ],
        [
         1,
         "FRAUD",
         414
        ],
        [
         1,
         "GAMBLING",
         1
        ],
        [
         1,
         "KIDNAPPING",
         111
        ],
        [
         1,
         "LARCENY/THEFT",
         6644
        ],
        [
         1,
         "LIQUOR LAWS",
         28
        ],
        [
         1,
         "LOITERING",
         38
        ],
        [
         1,
         "MISSING PERSON",
         355
        ],
        [
         1,
         "NON-CRIMINAL",
         2948
        ],
        [
         1,
         "OTHER OFFENSES",
         3902
        ],
        [
         1,
         "PROSTITUTION",
         819
        ],
        [
         1,
         "RECOVERED VEHICLE",
         103
        ],
        [
         1,
         "ROBBERY",
         1534
        ],
        [
         1,
         "SECONDARY CODES",
         318
        ],
        [
         1,
         "SEX OFFENSES, FORCIBLE",
         252
        ],
        [
         1,
         "STOLEN PROPERTY",
         219
        ],
        [
         1,
         "SUICIDE",
         13
        ],
        [
         1,
         "SUSPICIOUS OCC",
         996
        ],
        [
         1,
         "TRESPASS",
         180
        ],
        [
         1,
         "VANDALISM",
         1916
        ],
        [
         1,
         "VEHICLE THEFT",
         1129
        ],
        [
         1,
         "WARRANTS",
         1413
        ],
        [
         1,
         "WEAPON LAWS",
         354
        ],
        [
         2,
         "ARSON",
         84
        ],
        [
         2,
         "ASSAULT",
         3510
        ],
        [
         2,
         "BAD CHECKS",
         2
        ],
        [
         2,
         "BRIBERY",
         12
        ],
        [
         2,
         "BURGLARY",
         1152
        ],
        [
         2,
         "DISORDERLY CONDUCT",
         212
        ],
        [
         2,
         "DRIVING UNDER THE INFLUENCE",
         263
        ],
        [
         2,
         "DRUG/NARCOTIC",
         947
        ],
        [
         2,
         "DRUNKENNESS",
         294
        ],
        [
         2,
         "EMBEZZLEMENT",
         4
        ],
        [
         2,
         "EXTORTION",
         3
        ],
        [
         2,
         "FORGERY/COUNTERFEITING",
         64
        ],
        [
         2,
         "FRAUD",
         283
        ],
        [
         2,
         "KIDNAPPING",
         106
        ],
        [
         2,
         "LARCENY/THEFT",
         4065
        ],
        [
         2,
         "LIQUOR LAWS",
         23
        ],
        [
         2,
         "LOITERING",
         24
        ],
        [
         2,
         "MISSING PERSON",
         271
        ],
        [
         2,
         "NON-CRIMINAL",
         2335
        ],
        [
         2,
         "OTHER OFFENSES",
         3279
        ],
        [
         2,
         "PROSTITUTION",
         630
        ],
        [
         2,
         "RECOVERED VEHICLE",
         77
        ],
        [
         2,
         "ROBBERY",
         1749
        ],
        [
         2,
         "SECONDARY CODES",
         293
        ],
        [
         2,
         "SEX OFFENSES, FORCIBLE",
         261
        ],
        [
         2,
         "STOLEN PROPERTY",
         165
        ],
        [
         2,
         "SUICIDE",
         13
        ],
        [
         2,
         "SUSPICIOUS OCC",
         871
        ],
        [
         2,
         "TRESPASS",
         241
        ],
        [
         2,
         "VANDALISM",
         1780
        ],
        [
         2,
         "VEHICLE THEFT",
         889
        ],
        [
         2,
         "WARRANTS",
         1212
        ],
        [
         2,
         "WEAPON LAWS",
         323
        ],
        [
         3,
         "ARSON",
         95
        ],
        [
         3,
         "ASSAULT",
         1622
        ],
        [
         3,
         "BRIBERY",
         6
        ],
        [
         3,
         "BURGLARY",
         1229
        ],
        [
         3,
         "DISORDERLY CONDUCT",
         140
        ],
        [
         3,
         "DRIVING UNDER THE INFLUENCE",
         117
        ],
        [
         3,
         "DRUG/NARCOTIC",
         607
        ],
        [
         3,
         "DRUNKENNESS",
         128
        ],
        [
         3,
         "EMBEZZLEMENT",
         6
        ],
        [
         3,
         "EXTORTION",
         2
        ],
        [
         3,
         "FORGERY/COUNTERFEITING",
         61
        ],
        [
         3,
         "FRAUD",
         160
        ],
        [
         3,
         "GAMBLING",
         1
        ],
        [
         3,
         "KIDNAPPING",
         68
        ],
        [
         3,
         "LARCENY/THEFT",
         2419
        ],
        [
         3,
         "LIQUOR LAWS",
         12
        ],
        [
         3,
         "LOITERING",
         27
        ],
        [
         3,
         "MISSING PERSON",
         162
        ],
        [
         3,
         "NON-CRIMINAL",
         1443
        ],
        [
         3,
         "OTHER OFFENSES",
         2329
        ],
        [
         3,
         "PORNOGRAPHY/OBSCENE MAT",
         1
        ],
        [
         3,
         "PROSTITUTION",
         422
        ],
        [
         3,
         "RECOVERED VEHICLE",
         84
        ],
        [
         3,
         "ROBBERY",
         988
        ],
        [
         3,
         "SECONDARY CODES",
         197
        ],
        [
         3,
         "SEX OFFENSES, FORCIBLE",
         188
        ],
        [
         3,
         "STOLEN PROPERTY",
         143
        ],
        [
         3,
         "SUICIDE",
         9
        ],
        [
         3,
         "SUSPICIOUS OCC",
         626
        ],
        [
         3,
         "TRESPASS",
         174
        ],
        [
         3,
         "VANDALISM",
         1223
        ],
        [
         3,
         "VEHICLE THEFT",
         552
        ],
        [
         3,
         "WARRANTS",
         950
        ],
        [
         3,
         "WEAPON LAWS",
         199
        ],
        [
         4,
         "ARSON",
         74
        ],
        [
         4,
         "ASSAULT",
         1017
        ],
        [
         4,
         "BAD CHECKS",
         2
        ],
        [
         4,
         "BRIBERY",
         5
        ],
        [
         4,
         "BURGLARY",
         1032
        ],
        [
         4,
         "DISORDERLY CONDUCT",
         100
        ],
        [
         4,
         "DRIVING UNDER THE INFLUENCE",
         40
        ],
        [
         4,
         "DRUG/NARCOTIC",
         444
        ],
        [
         4,
         "DRUNKENNESS",
         55
        ],
        [
         4,
         "EMBEZZLEMENT",
         4
        ],
        [
         4,
         "EXTORTION",
         2
        ],
        [
         4,
         "FORGERY/COUNTERFEITING",
         35
        ],
        [
         4,
         "FRAUD",
         103
        ],
        [
         4,
         "KIDNAPPING",
         37
        ],
        [
         4,
         "LARCENY/THEFT",
         1542
        ],
        [
         4,
         "LIQUOR LAWS",
         7
        ],
        [
         4,
         "LOITERING",
         14
        ],
        [
         4,
         "MISSING PERSON",
         107
        ],
        [
         4,
         "NON-CRIMINAL",
         1065
        ],
        [
         4,
         "OTHER OFFENSES",
         1744
        ],
        [
         4,
         "PROSTITUTION",
         328
        ],
        [
         4,
         "RECOVERED VEHICLE",
         59
        ],
        [
         4,
         "ROBBERY",
         643
        ],
        [
         4,
         "SECONDARY CODES",
         127
        ],
        [
         4,
         "SEX OFFENSES, FORCIBLE",
         101
        ],
        [
         4,
         "STOLEN PROPERTY",
         115
        ],
        [
         4,
         "SUICIDE",
         4
        ],
        [
         4,
         "SUSPICIOUS OCC",
         413
        ],
        [
         4,
         "TRESPASS",
         138
        ],
        [
         4,
         "VANDALISM",
         798
        ],
        [
         4,
         "VEHICLE THEFT",
         440
        ],
        [
         4,
         "WARRANTS",
         674
        ],
        [
         4,
         "WEAPON LAWS",
         142
        ],
        [
         5,
         "ARSON",
         60
        ],
        [
         5,
         "ASSAULT",
         772
        ],
        [
         5,
         "BAD CHECKS",
         1
        ],
        [
         5,
         "BRIBERY",
         2
        ],
        [
         5,
         "BURGLARY",
         948
        ],
        [
         5,
         "DISORDERLY CONDUCT",
         163
        ],
        [
         5,
         "DRIVING UNDER THE INFLUENCE",
         27
        ],
        [
         5,
         "DRUG/NARCOTIC",
         216
        ],
        [
         5,
         "DRUNKENNESS",
         20
        ],
        [
         5,
         "EMBEZZLEMENT",
         4
        ],
        [
         5,
         "EXTORTION",
         4
        ],
        [
         5,
         "FORGERY/COUNTERFEITING",
         25
        ],
        [
         5,
         "FRAUD",
         85
        ],
        [
         5,
         "GAMBLING",
         1
        ],
        [
         5,
         "KIDNAPPING",
         34
        ],
        [
         5,
         "LARCENY/THEFT",
         1490
        ],
        [
         5,
         "LIQUOR LAWS",
         1
        ],
        [
         5,
         "LOITERING",
         28
        ],
        [
         5,
         "MISSING PERSON",
         149
        ],
        [
         5,
         "NON-CRIMINAL",
         1018
        ],
        [
         5,
         "OTHER OFFENSES",
         1214
        ],
        [
         5,
         "PROSTITUTION",
         429
        ],
        [
         5,
         "RECOVERED VEHICLE",
         43
        ],
        [
         5,
         "ROBBERY",
         486
        ],
        [
         5,
         "SECONDARY CODES",
         109
        ],
        [
         5,
         "SEX OFFENSES, FORCIBLE",
         62
        ],
        [
         5,
         "STOLEN PROPERTY",
         94
        ],
        [
         5,
         "SUICIDE",
         9
        ],
        [
         5,
         "SUSPICIOUS OCC",
         297
        ],
        [
         5,
         "TREA",
         1
        ],
        [
         5,
         "TRESPASS",
         213
        ],
        [
         5,
         "VANDALISM",
         697
        ],
        [
         5,
         "VEHICLE THEFT",
         392
        ],
        [
         5,
         "WARRANTS",
         459
        ],
        [
         5,
         "WEAPON LAWS",
         74
        ],
        [
         6,
         "ARSON",
         50
        ],
        [
         6,
         "ASSAULT",
         1089
        ],
        [
         6,
         "BAD CHECKS",
         2
        ],
        [
         6,
         "BRIBERY",
         2
        ],
        [
         6,
         "BURGLARY",
         858
        ],
        [
         6,
         "DISORDERLY CONDUCT",
         396
        ],
        [
         6,
         "DRIVING UNDER THE INFLUENCE",
         27
        ],
        [
         6,
         "DRUG/NARCOTIC",
         678
        ],
        [
         6,
         "DRUNKENNESS",
         31
        ],
        [
         6,
         "EMBEZZLEMENT",
         6
        ],
        [
         6,
         "EXTORTION",
         3
        ],
        [
         6,
         "FORGERY/COUNTERFEITING",
         69
        ],
        [
         6,
         "FRAUD",
         178
        ],
        [
         6,
         "KIDNAPPING",
         31
        ],
        [
         6,
         "LARCENY/THEFT",
         2478
        ],
        [
         6,
         "LIQUOR LAWS",
         17
        ],
        [
         6,
         "LOITERING",
         49
        ],
        [
         6,
         "MISSING PERSON",
         239
        ],
        [
         6,
         "NON-CRIMINAL",
         1939
        ],
        [
         6,
         "OTHER OFFENSES",
         1743
        ],
        [
         6,
         "PORNOGRAPHY/OBSCENE MAT",
         1
        ],
        [
         6,
         "PROSTITUTION",
         414
        ],
        [
         6,
         "RECOVERED VEHICLE",
         35
        ],
        [
         6,
         "ROBBERY",
         456
        ],
        [
         6,
         "SECONDARY CODES",
         115
        ],
        [
         6,
         "SEX OFFENSES, FORCIBLE",
         69
        ],
        [
         6,
         "SEX OFFENSES, NON FORCIBLE",
         1
        ],
        [
         6,
         "STOLEN PROPERTY",
         96
        ],
        [
         6,
         "SUICIDE",
         13
        ],
        [
         6,
         "SUSPICIOUS OCC",
         532
        ],
        [
         6,
         "TREA",
         1
        ],
        [
         6,
         "TRESPASS",
         450
        ],
        [
         6,
         "VANDALISM",
         782
        ],
        [
         6,
         "VEHICLE THEFT",
         635
        ],
        [
         6,
         "WARRANTS",
         792
        ],
        [
         6,
         "WEAPON LAWS",
         98
        ],
        [
         7,
         "ARSON",
         28
        ],
        [
         7,
         "ASSAULT",
         1581
        ],
        [
         7,
         "BAD CHECKS",
         3
        ],
        [
         7,
         "BRIBERY",
         4
        ],
        [
         7,
         "BURGLARY",
         998
        ],
        [
         7,
         "DISORDERLY CONDUCT",
         451
        ],
        [
         7,
         "DRIVING UNDER THE INFLUENCE",
         19
        ],
        [
         7,
         "DRUG/NARCOTIC",
         1439
        ],
        [
         7,
         "DRUNKENNESS",
         79
        ],
        [
         7,
         "EMBEZZLEMENT",
         17
        ],
        [
         7,
         "EXTORTION",
         7
        ],
        [
         7,
         "FORGERY/COUNTERFEITING",
         141
        ],
        [
         7,
         "FRAUD",
         330
        ],
        [
         7,
         "GAMBLING",
         3
        ],
        [
         7,
         "KIDNAPPING",
         39
        ],
        [
         7,
         "LARCENY/THEFT",
         3780
        ],
        [
         7,
         "LIQUOR LAWS",
         46
        ],
        [
         7,
         "LOITERING",
         71
        ],
        [
         7,
         "MISSING PERSON",
         533
        ],
        [
         7,
         "NON-CRIMINAL",
         2916
        ],
        [
         7,
         "OTHER OFFENSES",
         3523
        ],
        [
         7,
         "PROSTITUTION",
         210
        ],
        [
         7,
         "RECOVERED VEHICLE",
         138
        ],
        [
         7,
         "ROBBERY",
         370
        ],
        [
         7,
         "SECONDARY CODES",
         179
        ],
        [
         7,
         "SEX OFFENSES, FORCIBLE",
         76
        ],
        [
         7,
         "STOLEN PROPERTY",
         146
        ],
        [
         7,
         "SUICIDE",
         13
        ],
        [
         7,
         "SUSPICIOUS OCC",
         794
        ],
        [
         7,
         "TRESPASS",
         623
        ],
        [
         7,
         "VANDALISM",
         932
        ],
        [
         7,
         "VEHICLE THEFT",
         1049
        ],
        [
         7,
         "WARRANTS",
         1613
        ],
        [
         7,
         "WEAPON LAWS",
         197
        ],
        [
         8,
         "ARSON",
         34
        ],
        [
         8,
         "ASSAULT",
         2325
        ],
        [
         8,
         "BAD CHECKS",
         24
        ],
        [
         8,
         "BRIBERY",
         6
        ],
        [
         8,
         "BURGLARY",
         1669
        ],
        [
         8,
         "DISORDERLY CONDUCT",
         362
        ],
        [
         8,
         "DRIVING UNDER THE INFLUENCE",
         18
        ],
        [
         8,
         "DRUG/NARCOTIC",
         1845
        ],
        [
         8,
         "DRUNKENNESS",
         78
        ],
        [
         8,
         "EMBEZZLEMENT",
         89
        ],
        [
         8,
         "EXTORTION",
         9
        ],
        [
         8,
         "FORGERY/COUNTERFEITING",
         494
        ],
        [
         8,
         "FRAUD",
         829
        ],
        [
         8,
         "GAMBLING",
         5
        ],
        [
         8,
         "KIDNAPPING",
         40
        ],
        [
         8,
         "LARCENY/THEFT",
         6278
        ],
        [
         8,
         "LIQUOR LAWS",
         59
        ],
        [
         8,
         "LOITERING",
         85
        ],
        [
         8,
         "MISSING PERSON",
         879
        ],
        [
         8,
         "NON-CRIMINAL",
         4562
        ],
        [
         8,
         "OTHER OFFENSES",
         5396
        ],
        [
         8,
         "PORNOGRAPHY/OBSCENE MAT",
         1
        ],
        [
         8,
         "PROSTITUTION",
         117
        ],
        [
         8,
         "RECOVERED VEHICLE",
         131
        ],
        [
         8,
         "ROBBERY",
         478
        ],
        [
         8,
         "SECONDARY CODES",
         284
        ],
        [
         8,
         "SEX OFFENSES, FORCIBLE",
         198
        ],
        [
         8,
         "SEX OFFENSES, NON FORCIBLE",
         1
        ],
        [
         8,
         "STOLEN PROPERTY",
         180
        ],
        [
         8,
         "SUICIDE",
         24
        ],
        [
         8,
         "SUSPICIOUS OCC",
         1325
        ],
        [
         8,
         "TRESPASS",
         582
        ],
        [
         8,
         "VANDALISM",
         1347
        ],
        [
         8,
         "VEHICLE THEFT",
         1548
        ],
        [
         8,
         "WARRANTS",
         2000
        ],
        [
         8,
         "WEAPON LAWS",
         236
        ],
        [
         9,
         "ARSON",
         28
        ],
        [
         9,
         "ASSAULT",
         2629
        ],
        [
         9,
         "BAD CHECKS",
         26
        ],
        [
         9,
         "BRIBERY",
         11
        ],
        [
         9,
         "BURGLARY",
         1379
        ],
        [
         9,
         "DISORDERLY CONDUCT",
         311
        ],
        [
         9,
         "DRIVING UNDER THE INFLUENCE",
         25
        ],
        [
         9,
         "DRUG/NARCOTIC",
         2178
        ],
        [
         9,
         "DRUNKENNESS",
         98
        ],
        [
         9,
         "EMBEZZLEMENT",
         91
        ],
        [
         9,
         "EXTORTION",
         7
        ],
        [
         9,
         "FORGERY/COUNTERFEITING",
         618
        ],
        [
         9,
         "FRAUD",
         864
        ],
        [
         9,
         "GAMBLING",
         4
        ],
        [
         9,
         "KIDNAPPING",
         37
        ],
        [
         9,
         "LARCENY/THEFT",
         7661
        ],
        [
         9,
         "LIQUOR LAWS",
         68
        ],
        [
         9,
         "LOITERING",
         63
        ],
        [
         9,
         "MISSING PERSON",
         934
        ],
        [
         9,
         "NON-CRIMINAL",
         5126
        ],
        [
         9,
         "OTHER OFFENSES",
         6153
        ],
        [
         9,
         "PORNOGRAPHY/OBSCENE MAT",
         3
        ],
        [
         9,
         "PROSTITUTION",
         132
        ],
        [
         9,
         "RECOVERED VEHICLE",
         155
        ],
        [
         9,
         "ROBBERY",
         524
        ],
        [
         9,
         "SECONDARY CODES",
         298
        ],
        [
         9,
         "SEX OFFENSES, FORCIBLE",
         157
        ],
        [
         9,
         "SEX OFFENSES, NON FORCIBLE",
         2
        ],
        [
         9,
         "STOLEN PROPERTY",
         197
        ],
        [
         9,
         "SUICIDE",
         21
        ],
        [
         9,
         "SUSPICIOUS OCC",
         1462
        ],
        [
         9,
         "TRESPASS",
         519
        ],
        [
         9,
         "VANDALISM",
         1375
        ],
        [
         9,
         "VEHICLE THEFT",
         1580
        ],
        [
         9,
         "WARRANTS",
         2297
        ],
        [
         9,
         "WEAPON LAWS",
         247
        ],
        [
         10,
         "ARSON",
         44
        ],
        [
         10,
         "ASSAULT",
         2860
        ],
        [
         10,
         "BAD CHECKS",
         24
        ],
        [
         10,
         "BRIBERY",
         18
        ],
        [
         10,
         "BURGLARY",
         1220
        ],
        [
         10,
         "DISORDERLY CONDUCT",
         244
        ],
        [
         10,
         "DRIVING UNDER THE INFLUENCE",
         11
        ],
        [
         10,
         "DRUG/NARCOTIC",
         2403
        ],
        [
         10,
         "DRUNKENNESS",
         100
        ],
        [
         10,
         "EMBEZZLEMENT",
         76
        ],
        [
         10,
         "EXTORTION",
         17
        ],
        [
         10,
         "FORGERY/COUNTERFEITING",
         559
        ],
        [
         10,
         "FRAUD",
         863
        ],
        [
         10,
         "GAMBLING",
         5
        ],
        [
         10,
         "KIDNAPPING",
         42
        ],
        [
         10,
         "LARCENY/THEFT",
         9439
        ],
        [
         10,
         "LIQUOR LAWS",
         76
        ],
        [
         10,
         "LOITERING",
         86
        ],
        [
         10,
         "MISSING PERSON",
         951
        ],
        [
         10,
         "NON-CRIMINAL",
         5791
        ],
        [
         10,
         "OTHER OFFENSES",
         5921
        ],
        [
         10,
         "PROSTITUTION",
         143
        ],
        [
         10,
         "RECOVERED VEHICLE",
         151
        ],
        [
         10,
         "ROBBERY",
         609
        ],
        [
         10,
         "SECONDARY CODES",
         291
        ],
        [
         10,
         "SEX OFFENSES, FORCIBLE",
         112
        ],
        [
         10,
         "STOLEN PROPERTY",
         213
        ],
        [
         10,
         "SUICIDE",
         26
        ],
        [
         10,
         "SUSPICIOUS OCC",
         1527
        ],
        [
         10,
         "TRESPASS",
         497
        ],
        [
         10,
         "VANDALISM",
         1385
        ],
        [
         10,
         "VEHICLE THEFT",
         1452
        ],
        [
         10,
         "WARRANTS",
         2466
        ],
        [
         10,
         "WEAPON LAWS",
         272
        ],
        [
         11,
         "ARSON",
         29
        ],
        [
         11,
         "ASSAULT",
         3076
        ],
        [
         11,
         "BAD CHECKS",
         15
        ],
        [
         11,
         "BRIBERY",
         17
        ],
        [
         11,
         "BURGLARY",
         1193
        ],
        [
         11,
         "DISORDERLY CONDUCT",
         200
        ],
        [
         11,
         "DRIVING UNDER THE INFLUENCE",
         23
        ],
        [
         11,
         "DRUG/NARCOTIC",
         2578
        ],
        [
         11,
         "DRUNKENNESS",
         145
        ],
        [
         11,
         "EMBEZZLEMENT",
         57
        ],
        [
         11,
         "EXTORTION",
         11
        ],
        [
         11,
         "FORGERY/COUNTERFEITING",
         514
        ],
        [
         11,
         "FRAUD",
         727
        ],
        [
         11,
         "GAMBLING",
         9
        ],
        [
         11,
         "KIDNAPPING",
         47
        ],
        [
         11,
         "LARCENY/THEFT",
         10297
        ],
        [
         11,
         "LIQUOR LAWS",
         67
        ],
        [
         11,
         "LOITERING",
         87
        ],
        [
         11,
         "MISSING PERSON",
         928
        ],
        [
         11,
         "NON-CRIMINAL",
         5654
        ],
        [
         11,
         "OTHER OFFENSES",
         5774
        ],
        [
         11,
         "PORNOGRAPHY/OBSCENE MAT",
         2
        ],
        [
         11,
         "PROSTITUTION",
         147
        ],
        [
         11,
         "RECOVERED VEHICLE",
         160
        ],
        [
         11,
         "ROBBERY",
         680
        ],
        [
         11,
         "SECONDARY CODES",
         338
        ],
        [
         11,
         "SEX OFFENSES, FORCIBLE",
         107
        ],
        [
         11,
         "STOLEN PROPERTY",
         254
        ],
        [
         11,
         "SUICIDE",
         36
        ],
        [
         11,
         "SUSPICIOUS OCC",
         1545
        ],
        [
         11,
         "TRESPASS",
         446
        ],
        [
         11,
         "VANDALISM",
         1290
        ],
        [
         11,
         "VEHICLE THEFT",
         1321
        ],
        [
         11,
         "WARRANTS",
         2591
        ],
        [
         11,
         "WEAPON LAWS",
         335
        ],
        [
         12,
         "ARSON",
         37
        ],
        [
         12,
         "ASSAULT",
         3735
        ],
        [
         12,
         "BAD CHECKS",
         76
        ],
        [
         12,
         "BRIBERY",
         17
        ],
        [
         12,
         "BURGLARY",
         1775
        ],
        [
         12,
         "DISORDERLY CONDUCT",
         177
        ],
        [
         12,
         "DRIVING UNDER THE INFLUENCE",
         33
        ],
        [
         12,
         "DRUG/NARCOTIC",
         2582
        ],
        [
         12,
         "DRUNKENNESS",
         119
        ],
        [
         12,
         "EMBEZZLEMENT",
         233
        ],
        [
         12,
         "EXTORTION",
         30
        ],
        [
         12,
         "FORGERY/COUNTERFEITING",
         1356
        ],
        [
         12,
         "FRAUD",
         2016
        ],
        [
         12,
         "GAMBLING",
         15
        ],
        [
         12,
         "KIDNAPPING",
         65
        ],
        [
         12,
         "LARCENY/THEFT",
         13030
        ],
        [
         12,
         "LIQUOR LAWS",
         104
        ],
        [
         12,
         "LOITERING",
         78
        ],
        [
         12,
         "MISSING PERSON",
         1347
        ],
        [
         12,
         "NON-CRIMINAL",
         7792
        ],
        [
         12,
         "OTHER OFFENSES",
         7952
        ],
        [
         12,
         "PORNOGRAPHY/OBSCENE MAT",
         2
        ],
        [
         12,
         "PROSTITUTION",
         309
        ],
        [
         12,
         "RECOVERED VEHICLE",
         157
        ],
        [
         12,
         "ROBBERY",
         802
        ],
        [
         12,
         "SECONDARY CODES",
         456
        ],
        [
         12,
         "SEX OFFENSES, FORCIBLE",
         183
        ],
        [
         12,
         "SEX OFFENSES, NON FORCIBLE",
         2
        ],
        [
         12,
         "STOLEN PROPERTY",
         346
        ],
        [
         12,
         "SUICIDE",
         33
        ],
        [
         12,
         "SUSPICIOUS OCC",
         2175
        ],
        [
         12,
         "TREA",
         1
        ],
        [
         12,
         "TRESPASS",
         463
        ],
        [
         12,
         "VANDALISM",
         1683
        ],
        [
         12,
         "VEHICLE THEFT",
         1938
        ],
        [
         12,
         "WARRANTS",
         2643
        ],
        [
         12,
         "WEAPON LAWS",
         372
        ],
        [
         13,
         "ARSON",
         35
        ],
        [
         13,
         "ASSAULT",
         3407
        ],
        [
         13,
         "BAD CHECKS",
         15
        ],
        [
         13,
         "BRIBERY",
         11
        ],
        [
         13,
         "BURGLARY",
         1157
        ],
        [
         13,
         "DISORDERLY CONDUCT",
         172
        ],
        [
         13,
         "DRIVING UNDER THE INFLUENCE",
         20
        ],
        [
         13,
         "DRUG/NARCOTIC",
         3131
        ],
        [
         13,
         "DRUNKENNESS",
         146
        ],
        [
         13,
         "EMBEZZLEMENT",
         48
        ],
        [
         13,
         "EXTORTION",
         13
        ],
        [
         13,
         "FORGERY/COUNTERFEITING",
         694
        ],
        [
         13,
         "FRAUD",
         1028
        ],
        [
         13,
         "GAMBLING",
         6
        ],
        [
         13,
         "KIDNAPPING",
         75
        ],
        [
         13,
         "LARCENY/THEFT",
         11760
        ],
        [
         13,
         "LIQUOR LAWS",
         95
        ],
        [
         13,
         "LOITERING",
         89
        ],
        [
         13,
         "MISSING PERSON",
         872
        ],
        [
         13,
         "NON-CRIMINAL",
         6155
        ],
        [
         13,
         "OTHER OFFENSES",
         6275
        ],
        [
         13,
         "PROSTITUTION",
         221
        ],
        [
         13,
         "RECOVERED VEHICLE",
         126
        ],
        [
         13,
         "ROBBERY",
         863
        ],
        [
         13,
         "SECONDARY CODES",
         354
        ],
        [
         13,
         "SEX OFFENSES, FORCIBLE",
         124
        ],
        [
         13,
         "SEX OFFENSES, NON FORCIBLE",
         1
        ],
        [
         13,
         "STOLEN PROPERTY",
         303
        ],
        [
         13,
         "SUICIDE",
         30
        ],
        [
         13,
         "SUSPICIOUS OCC",
         1628
        ],
        [
         13,
         "TRESPASS",
         402
        ],
        [
         13,
         "VANDALISM",
         1343
        ],
        [
         13,
         "VEHICLE THEFT",
         1453
        ],
        [
         13,
         "WARRANTS",
         2870
        ],
        [
         13,
         "WEAPON LAWS",
         348
        ],
        [
         14,
         "ARSON",
         36
        ],
        [
         14,
         "ASSAULT",
         3529
        ],
        [
         14,
         "BAD CHECKS",
         21
        ],
        [
         14,
         "BRIBERY",
         14
        ],
        [
         14,
         "BURGLARY",
         1391
        ],
        [
         14,
         "DISORDERLY CONDUCT",
         165
        ],
        [
         14,
         "DRIVING UNDER THE INFLUENCE",
         27
        ],
        [
         14,
         "DRUG/NARCOTIC",
         3435
        ],
        [
         14,
         "DRUNKENNESS",
         129
        ],
        [
         14,
         "EMBEZZLEMENT",
         45
        ],
        [
         14,
         "EXTORTION",
         9
        ],
        [
         14,
         "FORGERY/COUNTERFEITING",
         626
        ],
        [
         14,
         "FRAUD",
         948
        ],
        [
         14,
         "GAMBLING",
         9
        ],
        [
         14,
         "KIDNAPPING",
         66
        ],
        [
         14,
         "LARCENY/THEFT",
         12268
        ],
        [
         14,
         "LIQUOR LAWS",
         69
        ],
        [
         14,
         "LOITERING",
         92
        ],
        [
         14,
         "MISSING PERSON",
         926
        ],
        [
         14,
         "NON-CRIMINAL",
         6010
        ],
        [
         14,
         "OTHER OFFENSES",
         6196
        ],
        [
         14,
         "PORNOGRAPHY/OBSCENE MAT",
         1
        ],
        [
         14,
         "PROSTITUTION",
         195
        ],
        [
         14,
         "RECOVERED VEHICLE",
         94
        ],
        [
         14,
         "ROBBERY",
         919
        ],
        [
         14,
         "SECONDARY CODES",
         355
        ],
        [
         14,
         "SEX OFFENSES, FORCIBLE",
         150
        ],
        [
         14,
         "STOLEN PROPERTY",
         322
        ],
        [
         14,
         "SUICIDE",
         40
        ],
        [
         14,
         "SUSPICIOUS OCC",
         1635
        ],
        [
         14,
         "TRESPASS",
         359
        ],
        [
         14,
         "VANDALISM",
         1534
        ],
        [
         14,
         "VEHICLE THEFT",
         1687
        ],
        [
         14,
         "WARRANTS",
         2789
        ],
        [
         14,
         "WEAPON LAWS",
         374
        ],
        [
         15,
         "ARSON",
         49
        ],
        [
         15,
         "ASSAULT",
         3862
        ],
        [
         15,
         "BAD CHECKS",
         31
        ],
        [
         15,
         "BRIBERY",
         10
        ],
        [
         15,
         "BURGLARY",
         1635
        ],
        [
         15,
         "DISORDERLY CONDUCT",
         117
        ],
        [
         15,
         "DRIVING UNDER THE INFLUENCE",
         48
        ],
        [
         15,
         "DRUG/NARCOTIC",
         3177
        ],
        [
         15,
         "DRUNKENNESS",
         160
        ],
        [
         15,
         "EMBEZZLEMENT",
         54
        ],
        [
         15,
         "EXTORTION",
         9
        ],
        [
         15,
         "FORGERY/COUNTERFEITING",
         690
        ],
        [
         15,
         "FRAUD",
         1082
        ],
        [
         15,
         "GAMBLING",
         9
        ],
        [
         15,
         "KIDNAPPING",
         63
        ],
        [
         15,
         "LARCENY/THEFT",
         12861
        ],
        [
         15,
         "LIQUOR LAWS",
         76
        ],
        [
         15,
         "LOITERING",
         58
        ],
        [
         15,
         "MISSING PERSON",
         1057
        ],
        [
         15,
         "NON-CRIMINAL",
         6232
        ],
        [
         15,
         "OTHER OFFENSES",
         6494
        ],
        [
         15,
         "PROSTITUTION",
         136
        ],
        [
         15,
         "RECOVERED VEHICLE",
         113
        ],
        [
         15,
         "ROBBERY",
         1024
        ],
        [
         15,
         "SECONDARY CODES",
         415
        ],
        [
         15,
         "SEX OFFENSES, FORCIBLE",
         168
        ],
        [
         15,
         "STOLEN PROPERTY",
         357
        ],
        [
         15,
         "SUICIDE",
         37
        ],
        [
         15,
         "SUSPICIOUS OCC",
         1737
        ],
        [
         15,
         "TRESPASS",
         441
        ],
        [
         15,
         "VANDALISM",
         1833
        ],
        [
         15,
         "VEHICLE THEFT",
         1917
        ],
        [
         15,
         "WARRANTS",
         2786
        ],
        [
         15,
         "WEAPON LAWS",
         416
        ],
        [
         16,
         "ARSON",
         31
        ],
        [
         16,
         "ASSAULT",
         3876
        ],
        [
         16,
         "BAD CHECKS",
         19
        ],
        [
         16,
         "BRIBERY",
         14
        ],
        [
         16,
         "BURGLARY",
         1893
        ],
        [
         16,
         "DISORDERLY CONDUCT",
         142
        ],
        [
         16,
         "DRIVING UNDER THE INFLUENCE",
         62
        ],
        [
         16,
         "DRUG/NARCOTIC",
         3275
        ],
        [
         16,
         "DRUNKENNESS",
         216
        ],
        [
         16,
         "EMBEZZLEMENT",
         52
        ],
        [
         16,
         "EXTORTION",
         13
        ],
        [
         16,
         "FORGERY/COUNTERFEITING",
         708
        ],
        [
         16,
         "FRAUD",
         995
        ],
        [
         16,
         "GAMBLING",
         2
        ],
        [
         16,
         "KIDNAPPING",
         74
        ],
        [
         16,
         "LARCENY/THEFT",
         13644
        ],
        [
         16,
         "LIQUOR LAWS",
         96
        ],
        [
         16,
         "LOITERING",
         106
        ],
        [
         16,
         "MISSING PERSON",
         930
        ],
        [
         16,
         "NON-CRIMINAL",
         6336
        ],
        [
         16,
         "OTHER OFFENSES",
         7556
        ],
        [
         16,
         "PORNOGRAPHY/OBSCENE MAT",
         2
        ],
        [
         16,
         "PROSTITUTION",
         173
        ],
        [
         16,
         "RECOVERED VEHICLE",
         189
        ],
        [
         16,
         "ROBBERY",
         1112
        ],
        [
         16,
         "SECONDARY CODES",
         427
        ],
        [
         16,
         "SEX OFFENSES, FORCIBLE",
         166
        ],
        [
         16,
         "STOLEN PROPERTY",
         364
        ],
        [
         16,
         "SUICIDE",
         29
        ],
        [
         16,
         "SUSPICIOUS OCC",
         1690
        ],
        [
         16,
         "TRESPASS",
         434
        ],
        [
         16,
         "VANDALISM",
         1988
        ],
        [
         16,
         "VEHICLE THEFT",
         2292
        ],
        [
         16,
         "WARRANTS",
         3010
        ],
        [
         16,
         "WEAPON LAWS",
         458
        ],
        [
         17,
         "ARSON",
         48
        ],
        [
         17,
         "ASSAULT",
         3826
        ],
        [
         17,
         "BAD CHECKS",
         25
        ],
        [
         17,
         "BRIBERY",
         25
        ],
        [
         17,
         "BURGLARY",
         2613
        ],
        [
         17,
         "DISORDERLY CONDUCT",
         128
        ],
        [
         17,
         "DRIVING UNDER THE INFLUENCE",
         66
        ],
        [
         17,
         "DRUG/NARCOTIC",
         3588
        ],
        [
         17,
         "DRUNKENNESS",
         255
        ],
        [
         17,
         "EMBEZZLEMENT",
         64
        ],
        [
         17,
         "EXTORTION",
         13
        ],
        [
         17,
         "FORGERY/COUNTERFEITING",
         663
        ],
        [
         17,
         "FRAUD",
         1049
        ],
        [
         17,
         "GAMBLING",
         4
        ],
        [
         17,
         "KIDNAPPING",
         78
        ],
        [
         17,
         "LARCENY/THEFT",
         15903
        ],
        [
         17,
         "LIQUOR LAWS",
         158
        ],
        [
         17,
         "LOITERING",
         134
        ],
        [
         17,
         "MISSING PERSON",
         822
        ],
        [
         17,
         "NON-CRIMINAL",
         5887
        ],
        [
         17,
         "OTHER OFFENSES",
         7738
        ],
        [
         17,
         "PROSTITUTION",
         367
        ],
        [
         17,
         "RECOVERED VEHICLE",
         124
        ],
        [
         17,
         "ROBBERY",
         1123
        ],
        [
         17,
         "SECONDARY CODES",
         411
        ],
        [
         17,
         "SEX OFFENSES, FORCIBLE",
         168
        ],
        [
         17,
         "SEX OFFENSES, NON FORCIBLE",
         1
        ],
        [
         17,
         "STOLEN PROPERTY",
         374
        ],
        [
         17,
         "SUICIDE",
         35
        ],
        [
         17,
         "SUSPICIOUS OCC",
         1607
        ],
        [
         17,
         "TRESPASS",
         431
        ],
        [
         17,
         "VANDALISM",
         2696
        ],
        [
         17,
         "VEHICLE THEFT",
         2942
        ],
        [
         17,
         "WARRANTS",
         3018
        ],
        [
         17,
         "WEAPON LAWS",
         453
        ],
        [
         18,
         "ARSON",
         53
        ],
        [
         18,
         "ASSAULT",
         3726
        ],
        [
         18,
         "BAD CHECKS",
         10
        ],
        [
         18,
         "BRIBERY",
         13
        ],
        [
         18,
         "BURGLARY",
         2654
        ],
        [
         18,
         "DISORDERLY CONDUCT",
         158
        ],
        [
         18,
         "DRIVING UNDER THE INFLUENCE",
         81
        ],
        [
         18,
         "DRUG/NARCOTIC",
         3269
        ],
        [
         18,
         "DRUNKENNESS",
         280
        ],
        [
         18,
         "EMBEZZLEMENT",
         50
        ],
        [
         18,
         "EXTORTION",
         10
        ],
        [
         18,
         "FORGERY/COUNTERFEITING",
         450
        ],
        [
         18,
         "FRAUD",
         958
        ],
        [
         18,
         "GAMBLING",
         3
        ],
        [
         18,
         "KIDNAPPING",
         84
        ],
        [
         18,
         "LARCENY/THEFT",
         19911
        ],
        [
         18,
         "LIQUOR LAWS",
         129
        ],
        [
         18,
         "LOITERING",
         121
        ],
        [
         18,
         "MISSING PERSON",
         772
        ],
        [
         18,
         "NON-CRIMINAL",
         5723
        ],
        [
         18,
         "OTHER OFFENSES",
         6993
        ],
        [
         18,
         "PORNOGRAPHY/OBSCENE MAT",
         1
        ],
        [
         18,
         "PROSTITUTION",
         726
        ],
        [
         18,
         "RECOVERED VEHICLE",
         95
        ],
        [
         18,
         "ROBBERY",
         1195
        ],
        [
         18,
         "SECONDARY CODES",
         447
        ],
        [
         18,
         "SEX OFFENSES, FORCIBLE",
         138
        ],
        [
         18,
         "SEX OFFENSES, NON FORCIBLE",
         1
        ],
        [
         18,
         "STOLEN PROPERTY",
         321
        ],
        [
         18,
         "SUICIDE",
         23
        ],
        [
         18,
         "SUSPICIOUS OCC",
         1628
        ],
        [
         18,
         "TRESPASS",
         436
        ],
        [
         18,
         "VANDALISM",
         3200
        ],
        [
         18,
         "VEHICLE THEFT",
         3485
        ],
        [
         18,
         "WARRANTS",
         2722
        ],
        [
         18,
         "WEAPON LAWS",
         507
        ],
        [
         19,
         "ARSON",
         59
        ],
        [
         19,
         "ASSAULT",
         3591
        ],
        [
         19,
         "BAD CHECKS",
         11
        ],
        [
         19,
         "BRIBERY",
         17
        ],
        [
         19,
         "BURGLARY",
         2102
        ],
        [
         19,
         "DISORDERLY CONDUCT",
         131
        ],
        [
         19,
         "DRIVING UNDER THE INFLUENCE",
         92
        ],
        [
         19,
         "DRUG/NARCOTIC",
         2921
        ],
        [
         19,
         "DRUNKENNESS",
         285
        ],
        [
         19,
         "EMBEZZLEMENT",
         26
        ],
        [
         19,
         "EXTORTION",
         7
        ],
        [
         19,
         "FORGERY/COUNTERFEITING",
         297
        ],
        [
         19,
         "FRAUD",
         741
        ],
        [
         19,
         "GAMBLING",
         5
        ],
        [
         19,
         "KIDNAPPING",
         71
        ],
        [
         19,
         "LARCENY/THEFT",
         19444
        ],
        [
         19,
         "LIQUOR LAWS",
         114
        ],
        [
         19,
         "LOITERING",
         77
        ],
        [
         19,
         "MISSING PERSON",
         658
        ],
        [
         19,
         "NON-CRIMINAL",
         5049
        ],
        [
         19,
         "OTHER OFFENSES",
         6047
        ],
        [
         19,
         "PROSTITUTION",
         918
        ],
        [
         19,
         "RECOVERED VEHICLE",
         95
        ],
        [
         19,
         "ROBBERY",
         1218
        ],
        [
         19,
         "SECONDARY CODES",
         428
        ],
        [
         19,
         "SEX OFFENSES, FORCIBLE",
         178
        ],
        [
         19,
         "SEX OFFENSES, NON FORCIBLE",
         1
        ],
        [
         19,
         "STOLEN PROPERTY",
         296
        ],
        [
         19,
         "SUICIDE",
         24
        ],
        [
         19,
         "SUSPICIOUS OCC",
         1480
        ],
        [
         19,
         "TRESPASS",
         406
        ],
        [
         19,
         "VANDALISM",
         3053
        ],
        [
         19,
         "VEHICLE THEFT",
         3079
        ],
        [
         19,
         "WARRANTS",
         2381
        ],
        [
         19,
         "WEAPON LAWS",
         462
        ],
        [
         20,
         "ARSON",
         69
        ],
        [
         20,
         "ASSAULT",
         3498
        ],
        [
         20,
         "BAD CHECKS",
         8
        ],
        [
         20,
         "BRIBERY",
         16
        ],
        [
         20,
         "BURGLARY",
         1843
        ],
        [
         20,
         "DISORDERLY CONDUCT",
         129
        ],
        [
         20,
         "DRIVING UNDER THE INFLUENCE",
         119
        ],
        [
         20,
         "DRUG/NARCOTIC",
         2157
        ],
        [
         20,
         "DRUNKENNESS",
         301
        ],
        [
         20,
         "EMBEZZLEMENT",
         29
        ],
        [
         20,
         "EXTORTION",
         6
        ],
        [
         20,
         "FORGERY/COUNTERFEITING",
         318
        ],
        [
         20,
         "FRAUD",
         630
        ],
        [
         20,
         "GAMBLING",
         2
        ],
        [
         20,
         "KIDNAPPING",
         75
        ],
        [
         20,
         "LARCENY/THEFT",
         16604
        ],
        [
         20,
         "LIQUOR LAWS",
         59
        ],
        [
         20,
         "LOITERING",
         58
        ],
        [
         20,
         "MISSING PERSON",
         628
        ],
        [
         20,
         "NON-CRIMINAL",
         4677
        ],
        [
         20,
         "OTHER OFFENSES",
         5165
        ],
        [
         20,
         "PORNOGRAPHY/OBSCENE MAT",
         1
        ],
        [
         20,
         "PROSTITUTION",
         802
        ],
        [
         20,
         "RECOVERED VEHICLE",
         93
        ],
        [
         20,
         "ROBBERY",
         1437
        ],
        [
         20,
         "SECONDARY CODES",
         440
        ],
        [
         20,
         "SEX OFFENSES, FORCIBLE",
         216
        ],
        [
         20,
         "SEX OFFENSES, NON FORCIBLE",
         1
        ],
        [
         20,
         "STOLEN PROPERTY",
         288
        ],
        [
         20,
         "SUICIDE",
         25
        ],
        [
         20,
         "SUSPICIOUS OCC",
         1322
        ],
        [
         20,
         "TREA",
         1
        ],
        [
         20,
         "TRESPASS",
         382
        ],
        [
         20,
         "VANDALISM",
         2956
        ],
        [
         20,
         "VEHICLE THEFT",
         3139
        ],
        [
         20,
         "WARRANTS",
         1913
        ],
        [
         20,
         "WEAPON LAWS",
         398
        ],
        [
         21,
         "ARSON",
         55
        ],
        [
         21,
         "ASSAULT",
         3609
        ],
        [
         21,
         "BAD CHECKS",
         4
        ],
        [
         21,
         "BRIBERY",
         20
        ],
        [
         21,
         "BURGLARY",
         1680
        ],
        [
         21,
         "DISORDERLY CONDUCT",
         146
        ],
        [
         21,
         "DRIVING UNDER THE INFLUENCE",
         167
        ],
        [
         21,
         "DRUG/NARCOTIC",
         1937
        ],
        [
         21,
         "DRUNKENNESS",
         313
        ],
        [
         21,
         "EMBEZZLEMENT",
         22
        ],
        [
         21,
         "EXTORTION",
         8
        ],
        [
         21,
         "FORGERY/COUNTERFEITING",
         234
        ],
        [
         21,
         "FRAUD",
         504
        ],
        [
         21,
         "GAMBLING",
         3
        ],
        [
         21,
         "KIDNAPPING",
         91
        ],
        [
         21,
         "LARCENY/THEFT",
         13833
        ],
        [
         21,
         "LIQUOR LAWS",
         90
        ],
        [
         21,
         "LOITERING",
         69
        ],
        [
         21,
         "MISSING PERSON",
         638
        ],
        [
         21,
         "NON-CRIMINAL",
         4665
        ],
        [
         21,
         "OTHER OFFENSES",
         5379
        ],
        [
         21,
         "PORNOGRAPHY/OBSCENE MAT",
         1
        ],
        [
         21,
         "PROSTITUTION",
         892
        ],
        [
         21,
         "RECOVERED VEHICLE",
         88
        ],
        [
         21,
         "ROBBERY",
         1629
        ],
        [
         21,
         "SECONDARY CODES",
         467
        ],
        [
         21,
         "SEX OFFENSES, FORCIBLE",
         230
        ],
        [
         21,
         "STOLEN PROPERTY",
         275
        ],
        [
         21,
         "SUICIDE",
         22
        ],
        [
         21,
         "SUSPICIOUS OCC",
         1368
        ],
        [
         21,
         "TRESPASS",
         384
        ],
        [
         21,
         "VANDALISM",
         3149
        ],
        [
         21,
         "VEHICLE THEFT",
         2997
        ],
        [
         21,
         "WARRANTS",
         1868
        ],
        [
         21,
         "WEAPON LAWS",
         460
        ],
        [
         22,
         "ARSON",
         61
        ],
        [
         22,
         "ASSAULT",
         3623
        ],
        [
         22,
         "BAD CHECKS",
         2
        ],
        [
         22,
         "BRIBERY",
         20
        ],
        [
         22,
         "BURGLARY",
         1727
        ],
        [
         22,
         "DISORDERLY CONDUCT",
         208
        ],
        [
         22,
         "DRIVING UNDER THE INFLUENCE",
         194
        ],
        [
         22,
         "DRUG/NARCOTIC",
         2380
        ],
        [
         22,
         "DRUNKENNESS",
         378
        ],
        [
         22,
         "EMBEZZLEMENT",
         15
        ],
        [
         22,
         "EXTORTION",
         2
        ],
        [
         22,
         "FORGERY/COUNTERFEITING",
         185
        ],
        [
         22,
         "FRAUD",
         578
        ],
        [
         22,
         "GAMBLING",
         3
        ],
        [
         22,
         "KIDNAPPING",
         84
        ],
        [
         22,
         "LARCENY/THEFT",
         13797
        ],
        [
         22,
         "LIQUOR LAWS",
         71
        ],
        [
         22,
         "LOITERING",
         45
        ],
        [
         22,
         "MISSING PERSON",
         607
        ],
        [
         22,
         "NON-CRIMINAL",
         4637
        ],
        [
         22,
         "OTHER OFFENSES",
         6424
        ],
        [
         22,
         "PORNOGRAPHY/OBSCENE MAT",
         2
        ],
        [
         22,
         "PROSTITUTION",
         1109
        ],
        [
         22,
         "RECOVERED VEHICLE",
         88
        ],
        [
         22,
         "ROBBERY",
         1662
        ],
        [
         22,
         "SECONDARY CODES",
         454
        ],
        [
         22,
         "SEX OFFENSES, FORCIBLE",
         209
        ],
        [
         22,
         "STOLEN PROPERTY",
         271
        ],
        [
         22,
         "SUICIDE",
         15
        ],
        [
         22,
         "SUSPICIOUS OCC",
         1318
        ],
        [
         22,
         "TRESPASS",
         299
        ],
        [
         22,
         "VANDALISM",
         3124
        ],
        [
         22,
         "VEHICLE THEFT",
         3110
        ],
        [
         22,
         "WARRANTS",
         2186
        ],
        [
         22,
         "WEAPON LAWS",
         492
        ],
        [
         23,
         "ARSON",
         72
        ],
        [
         23,
         "ASSAULT",
         3480
        ],
        [
         23,
         "BAD CHECKS",
         3
        ],
        [
         23,
         "BRIBERY",
         15
        ],
        [
         23,
         "BURGLARY",
         1567
        ],
        [
         23,
         "DISORDERLY CONDUCT",
         260
        ],
        [
         23,
         "DRIVING UNDER THE INFLUENCE",
         239
        ],
        [
         23,
         "DRUG/NARCOTIC",
         2178
        ],
        [
         23,
         "DRUNKENNESS",
         374
        ],
        [
         23,
         "EMBEZZLEMENT",
         24
        ],
        [
         23,
         "EXTORTION",
         8
        ],
        [
         23,
         "FORGERY/COUNTERFEITING",
         149
        ],
        [
         23,
         "FRAUD",
         660
        ],
        [
         23,
         "GAMBLING",
         2
        ],
        [
         23,
         "KIDNAPPING",
         124
        ],
        [
         23,
         "LARCENY/THEFT",
         13152
        ],
        [
         23,
         "LIQUOR LAWS",
         56
        ],
        [
         23,
         "LOITERING",
         51
        ],
        [
         23,
         "MISSING PERSON",
         519
        ],
        [
         23,
         "NON-CRIMINAL",
         4522
        ],
        [
         23,
         "OTHER OFFENSES",
         6341
        ],
        [
         23,
         "PROSTITUTION",
         1196
        ],
        [
         23,
         "RECOVERED VEHICLE",
         119
        ],
        [
         23,
         "ROBBERY",
         1576
        ],
        [
         23,
         "SECONDARY CODES",
         423
        ],
        [
         23,
         "SEX OFFENSES, FORCIBLE",
         269
        ],
        [
         23,
         "SEX OFFENSES, NON FORCIBLE",
         1
        ],
        [
         23,
         "STOLEN PROPERTY",
         267
        ],
        [
         23,
         "SUICIDE",
         13
        ],
        [
         23,
         "SUSPICIOUS OCC",
         1202
        ],
        [
         23,
         "TRESPASS",
         246
        ],
        [
         23,
         "VANDALISM",
         2853
        ],
        [
         23,
         "VEHICLE THEFT",
         2888
        ],
        [
         23,
         "WARRANTS",
         2042
        ],
        [
         23,
         "WEAPON LAWS",
         505
        ]
       ],
       "datasetInfos": [],
       "dbfsResultPath": null,
       "isJsonSchema": true,
       "metadata": {},
       "overflow": false,
       "plotOptions": {
        "customPlotOptions": {
         "barChart": [
          {
           "key": "grouped",
           "value": false
          },
          {
           "key": "stacked",
           "value": true
          },
          {
           "key": "100_stacked",
           "value": false
          }
         ],
         "plotlyBar": [
          {
           "key": "grouped",
           "value": true
          },
          {
           "key": "stacked",
           "value": false
          },
          {
           "key": "100_stacked",
           "value": false
          }
         ]
        },
        "displayType": "barChart",
        "pivotAggregation": "sum",
        "pivotColumns": [
         "category"
        ],
        "xColumns": [
         "Hour"
        ],
        "yColumns": [
         "count"
        ]
       },
       "removedWidgets": [],
       "schema": [
        {
         "metadata": "{}",
         "name": "Hour",
         "type": "\"integer\""
        },
        {
         "metadata": "{}",
         "name": "category",
         "type": "\"string\""
        },
        {
         "metadata": "{}",
         "name": "count",
         "type": "\"long\""
        }
       ],
       "type": "table"
      }
     },
     "output_type": "display_data"
    }
   ],
   "source": [
    "#DF Way\n",
    "category_time_top3=df_opt1[df_opt1.PdDistrict.isin(['MISSION','NORTHERN','SOUTHERN'])].groupBy('Hour','category').count().orderBy('Hour','category',ascending=True)\n",
    "display(category_time_top3)"
   ]
  },
  {
   "cell_type": "code",
   "execution_count": 0,
   "metadata": {
    "application/vnd.databricks.v1+cell": {
     "cellMetadata": {},
     "inputWidgets": {},
     "nuid": "86ec5917-51b9-426c-b27a-b106b086e37f",
     "showTitle": false,
     "title": ""
    }
   },
   "outputs": [
    {
     "data": {
      "text/html": [
       "<style scoped>\n",
       "  .table-result-container {\n",
       "    max-height: 300px;\n",
       "    overflow: auto;\n",
       "  }\n",
       "  table, th, td {\n",
       "    border: 1px solid black;\n",
       "    border-collapse: collapse;\n",
       "  }\n",
       "  th, td {\n",
       "    padding: 5px;\n",
       "  }\n",
       "  th {\n",
       "    text-align: left;\n",
       "  }\n",
       "</style><div class='table-result-container'><table class='table-result'><thead style='background-color: white'><tr><th>Category</th><th>Hour</th><th>counts</th></tr></thead><tbody><tr><td>ARSON</td><td>0</td><td>84</td></tr><tr><td>ARSON</td><td>1</td><td>77</td></tr><tr><td>ARSON</td><td>2</td><td>84</td></tr><tr><td>ARSON</td><td>3</td><td>95</td></tr><tr><td>ARSON</td><td>4</td><td>74</td></tr><tr><td>ARSON</td><td>5</td><td>60</td></tr><tr><td>ARSON</td><td>6</td><td>50</td></tr><tr><td>ARSON</td><td>7</td><td>28</td></tr><tr><td>ARSON</td><td>8</td><td>34</td></tr><tr><td>ARSON</td><td>9</td><td>28</td></tr><tr><td>ARSON</td><td>10</td><td>44</td></tr><tr><td>ARSON</td><td>11</td><td>29</td></tr><tr><td>ARSON</td><td>12</td><td>37</td></tr><tr><td>ARSON</td><td>13</td><td>35</td></tr><tr><td>ARSON</td><td>14</td><td>36</td></tr><tr><td>ARSON</td><td>15</td><td>49</td></tr><tr><td>ARSON</td><td>16</td><td>31</td></tr><tr><td>ARSON</td><td>17</td><td>48</td></tr><tr><td>ARSON</td><td>18</td><td>53</td></tr><tr><td>ARSON</td><td>19</td><td>59</td></tr><tr><td>ARSON</td><td>20</td><td>69</td></tr><tr><td>ARSON</td><td>21</td><td>55</td></tr><tr><td>ARSON</td><td>22</td><td>61</td></tr><tr><td>ARSON</td><td>23</td><td>72</td></tr><tr><td>ASSAULT</td><td>0</td><td>4120</td></tr><tr><td>ASSAULT</td><td>1</td><td>3940</td></tr><tr><td>ASSAULT</td><td>2</td><td>3510</td></tr><tr><td>ASSAULT</td><td>3</td><td>1622</td></tr><tr><td>ASSAULT</td><td>4</td><td>1017</td></tr><tr><td>ASSAULT</td><td>5</td><td>772</td></tr><tr><td>ASSAULT</td><td>6</td><td>1089</td></tr><tr><td>ASSAULT</td><td>7</td><td>1581</td></tr><tr><td>ASSAULT</td><td>8</td><td>2325</td></tr><tr><td>ASSAULT</td><td>9</td><td>2629</td></tr><tr><td>ASSAULT</td><td>10</td><td>2860</td></tr><tr><td>ASSAULT</td><td>11</td><td>3076</td></tr><tr><td>ASSAULT</td><td>12</td><td>3735</td></tr><tr><td>ASSAULT</td><td>13</td><td>3407</td></tr><tr><td>ASSAULT</td><td>14</td><td>3529</td></tr><tr><td>ASSAULT</td><td>15</td><td>3862</td></tr><tr><td>ASSAULT</td><td>16</td><td>3876</td></tr><tr><td>ASSAULT</td><td>17</td><td>3826</td></tr><tr><td>ASSAULT</td><td>18</td><td>3726</td></tr><tr><td>ASSAULT</td><td>19</td><td>3591</td></tr><tr><td>ASSAULT</td><td>20</td><td>3498</td></tr><tr><td>ASSAULT</td><td>21</td><td>3609</td></tr><tr><td>ASSAULT</td><td>22</td><td>3623</td></tr><tr><td>ASSAULT</td><td>23</td><td>3480</td></tr><tr><td>BAD CHECKS</td><td>0</td><td>79</td></tr><tr><td>BAD CHECKS</td><td>1</td><td>3</td></tr><tr><td>BAD CHECKS</td><td>2</td><td>2</td></tr><tr><td>BAD CHECKS</td><td>4</td><td>2</td></tr><tr><td>BAD CHECKS</td><td>5</td><td>1</td></tr><tr><td>BAD CHECKS</td><td>6</td><td>2</td></tr><tr><td>BAD CHECKS</td><td>7</td><td>3</td></tr><tr><td>BAD CHECKS</td><td>8</td><td>24</td></tr><tr><td>BAD CHECKS</td><td>9</td><td>26</td></tr><tr><td>BAD CHECKS</td><td>10</td><td>24</td></tr><tr><td>BAD CHECKS</td><td>11</td><td>15</td></tr><tr><td>BAD CHECKS</td><td>12</td><td>76</td></tr><tr><td>BAD CHECKS</td><td>13</td><td>15</td></tr><tr><td>BAD CHECKS</td><td>14</td><td>21</td></tr><tr><td>BAD CHECKS</td><td>15</td><td>31</td></tr><tr><td>BAD CHECKS</td><td>16</td><td>19</td></tr><tr><td>BAD CHECKS</td><td>17</td><td>25</td></tr><tr><td>BAD CHECKS</td><td>18</td><td>10</td></tr><tr><td>BAD CHECKS</td><td>19</td><td>11</td></tr><tr><td>BAD CHECKS</td><td>20</td><td>8</td></tr><tr><td>BAD CHECKS</td><td>21</td><td>4</td></tr><tr><td>BAD CHECKS</td><td>22</td><td>2</td></tr><tr><td>BAD CHECKS</td><td>23</td><td>3</td></tr><tr><td>BRIBERY</td><td>0</td><td>20</td></tr><tr><td>BRIBERY</td><td>1</td><td>11</td></tr><tr><td>BRIBERY</td><td>2</td><td>12</td></tr><tr><td>BRIBERY</td><td>3</td><td>6</td></tr><tr><td>BRIBERY</td><td>4</td><td>5</td></tr><tr><td>BRIBERY</td><td>5</td><td>2</td></tr><tr><td>BRIBERY</td><td>6</td><td>2</td></tr><tr><td>BRIBERY</td><td>7</td><td>4</td></tr><tr><td>BRIBERY</td><td>8</td><td>6</td></tr><tr><td>BRIBERY</td><td>9</td><td>11</td></tr><tr><td>BRIBERY</td><td>10</td><td>18</td></tr><tr><td>BRIBERY</td><td>11</td><td>17</td></tr><tr><td>BRIBERY</td><td>12</td><td>17</td></tr><tr><td>BRIBERY</td><td>13</td><td>11</td></tr><tr><td>BRIBERY</td><td>14</td><td>14</td></tr><tr><td>BRIBERY</td><td>15</td><td>10</td></tr><tr><td>BRIBERY</td><td>16</td><td>14</td></tr><tr><td>BRIBERY</td><td>17</td><td>25</td></tr><tr><td>BRIBERY</td><td>18</td><td>13</td></tr><tr><td>BRIBERY</td><td>19</td><td>17</td></tr><tr><td>BRIBERY</td><td>20</td><td>16</td></tr><tr><td>BRIBERY</td><td>21</td><td>20</td></tr><tr><td>BRIBERY</td><td>22</td><td>20</td></tr><tr><td>BRIBERY</td><td>23</td><td>15</td></tr><tr><td>BURGLARY</td><td>0</td><td>1585</td></tr><tr><td>BURGLARY</td><td>1</td><td>1064</td></tr><tr><td>BURGLARY</td><td>2</td><td>1152</td></tr><tr><td>BURGLARY</td><td>3</td><td>1229</td></tr><tr><td>BURGLARY</td><td>4</td><td>1032</td></tr><tr><td>BURGLARY</td><td>5</td><td>948</td></tr><tr><td>BURGLARY</td><td>6</td><td>858</td></tr><tr><td>BURGLARY</td><td>7</td><td>998</td></tr><tr><td>BURGLARY</td><td>8</td><td>1669</td></tr><tr><td>BURGLARY</td><td>9</td><td>1379</td></tr><tr><td>BURGLARY</td><td>10</td><td>1220</td></tr><tr><td>BURGLARY</td><td>11</td><td>1193</td></tr><tr><td>BURGLARY</td><td>12</td><td>1775</td></tr><tr><td>BURGLARY</td><td>13</td><td>1157</td></tr><tr><td>BURGLARY</td><td>14</td><td>1391</td></tr><tr><td>BURGLARY</td><td>15</td><td>1635</td></tr><tr><td>BURGLARY</td><td>16</td><td>1893</td></tr><tr><td>BURGLARY</td><td>17</td><td>2613</td></tr><tr><td>BURGLARY</td><td>18</td><td>2654</td></tr><tr><td>BURGLARY</td><td>19</td><td>2102</td></tr><tr><td>BURGLARY</td><td>20</td><td>1843</td></tr><tr><td>BURGLARY</td><td>21</td><td>1680</td></tr><tr><td>BURGLARY</td><td>22</td><td>1727</td></tr><tr><td>BURGLARY</td><td>23</td><td>1567</td></tr><tr><td>DISORDERLY CONDUCT</td><td>0</td><td>301</td></tr><tr><td>DISORDERLY CONDUCT</td><td>1</td><td>225</td></tr><tr><td>DISORDERLY CONDUCT</td><td>2</td><td>212</td></tr><tr><td>DISORDERLY CONDUCT</td><td>3</td><td>140</td></tr><tr><td>DISORDERLY CONDUCT</td><td>4</td><td>100</td></tr><tr><td>DISORDERLY CONDUCT</td><td>5</td><td>163</td></tr><tr><td>DISORDERLY CONDUCT</td><td>6</td><td>396</td></tr><tr><td>DISORDERLY CONDUCT</td><td>7</td><td>451</td></tr><tr><td>DISORDERLY CONDUCT</td><td>8</td><td>362</td></tr><tr><td>DISORDERLY CONDUCT</td><td>9</td><td>311</td></tr><tr><td>DISORDERLY CONDUCT</td><td>10</td><td>244</td></tr><tr><td>DISORDERLY CONDUCT</td><td>11</td><td>200</td></tr><tr><td>DISORDERLY CONDUCT</td><td>12</td><td>177</td></tr><tr><td>DISORDERLY CONDUCT</td><td>13</td><td>172</td></tr><tr><td>DISORDERLY CONDUCT</td><td>14</td><td>165</td></tr><tr><td>DISORDERLY CONDUCT</td><td>15</td><td>117</td></tr><tr><td>DISORDERLY CONDUCT</td><td>16</td><td>142</td></tr><tr><td>DISORDERLY CONDUCT</td><td>17</td><td>128</td></tr><tr><td>DISORDERLY CONDUCT</td><td>18</td><td>158</td></tr><tr><td>DISORDERLY CONDUCT</td><td>19</td><td>131</td></tr><tr><td>DISORDERLY CONDUCT</td><td>20</td><td>129</td></tr><tr><td>DISORDERLY CONDUCT</td><td>21</td><td>146</td></tr><tr><td>DISORDERLY CONDUCT</td><td>22</td><td>208</td></tr><tr><td>DISORDERLY CONDUCT</td><td>23</td><td>260</td></tr><tr><td>DRIVING UNDER THE INFLUENCE</td><td>0</td><td>272</td></tr><tr><td>DRIVING UNDER THE INFLUENCE</td><td>1</td><td>274</td></tr><tr><td>DRIVING UNDER THE INFLUENCE</td><td>2</td><td>263</td></tr><tr><td>DRIVING UNDER THE INFLUENCE</td><td>3</td><td>117</td></tr><tr><td>DRIVING UNDER THE INFLUENCE</td><td>4</td><td>40</td></tr><tr><td>DRIVING UNDER THE INFLUENCE</td><td>5</td><td>27</td></tr><tr><td>DRIVING UNDER THE INFLUENCE</td><td>6</td><td>27</td></tr><tr><td>DRIVING UNDER THE INFLUENCE</td><td>7</td><td>19</td></tr><tr><td>DRIVING UNDER THE INFLUENCE</td><td>8</td><td>18</td></tr><tr><td>DRIVING UNDER THE INFLUENCE</td><td>9</td><td>25</td></tr><tr><td>DRIVING UNDER THE INFLUENCE</td><td>10</td><td>11</td></tr><tr><td>DRIVING UNDER THE INFLUENCE</td><td>11</td><td>23</td></tr><tr><td>DRIVING UNDER THE INFLUENCE</td><td>12</td><td>33</td></tr><tr><td>DRIVING UNDER THE INFLUENCE</td><td>13</td><td>20</td></tr><tr><td>DRIVING UNDER THE INFLUENCE</td><td>14</td><td>27</td></tr><tr><td>DRIVING UNDER THE INFLUENCE</td><td>15</td><td>48</td></tr><tr><td>DRIVING UNDER THE INFLUENCE</td><td>16</td><td>62</td></tr><tr><td>DRIVING UNDER THE INFLUENCE</td><td>17</td><td>66</td></tr><tr><td>DRIVING UNDER THE INFLUENCE</td><td>18</td><td>81</td></tr><tr><td>DRIVING UNDER THE INFLUENCE</td><td>19</td><td>92</td></tr><tr><td>DRIVING UNDER THE INFLUENCE</td><td>20</td><td>119</td></tr><tr><td>DRIVING UNDER THE INFLUENCE</td><td>21</td><td>167</td></tr><tr><td>DRIVING UNDER THE INFLUENCE</td><td>22</td><td>194</td></tr><tr><td>DRIVING UNDER THE INFLUENCE</td><td>23</td><td>239</td></tr><tr><td>DRUG/NARCOTIC</td><td>0</td><td>1756</td></tr><tr><td>DRUG/NARCOTIC</td><td>1</td><td>1156</td></tr><tr><td>DRUG/NARCOTIC</td><td>2</td><td>947</td></tr><tr><td>DRUG/NARCOTIC</td><td>3</td><td>607</td></tr><tr><td>DRUG/NARCOTIC</td><td>4</td><td>444</td></tr><tr><td>DRUG/NARCOTIC</td><td>5</td><td>216</td></tr><tr><td>DRUG/NARCOTIC</td><td>6</td><td>678</td></tr><tr><td>DRUG/NARCOTIC</td><td>7</td><td>1439</td></tr><tr><td>DRUG/NARCOTIC</td><td>8</td><td>1845</td></tr><tr><td>DRUG/NARCOTIC</td><td>9</td><td>2178</td></tr><tr><td>DRUG/NARCOTIC</td><td>10</td><td>2403</td></tr><tr><td>DRUG/NARCOTIC</td><td>11</td><td>2578</td></tr><tr><td>DRUG/NARCOTIC</td><td>12</td><td>2582</td></tr><tr><td>DRUG/NARCOTIC</td><td>13</td><td>3131</td></tr><tr><td>DRUG/NARCOTIC</td><td>14</td><td>3435</td></tr><tr><td>DRUG/NARCOTIC</td><td>15</td><td>3177</td></tr><tr><td>DRUG/NARCOTIC</td><td>16</td><td>3275</td></tr><tr><td>DRUG/NARCOTIC</td><td>17</td><td>3588</td></tr><tr><td>DRUG/NARCOTIC</td><td>18</td><td>3269</td></tr><tr><td>DRUG/NARCOTIC</td><td>19</td><td>2921</td></tr><tr><td>DRUG/NARCOTIC</td><td>20</td><td>2157</td></tr><tr><td>DRUG/NARCOTIC</td><td>21</td><td>1937</td></tr><tr><td>DRUG/NARCOTIC</td><td>22</td><td>2380</td></tr><tr><td>DRUG/NARCOTIC</td><td>23</td><td>2178</td></tr><tr><td>DRUNKENNESS</td><td>0</td><td>400</td></tr><tr><td>DRUNKENNESS</td><td>1</td><td>369</td></tr><tr><td>DRUNKENNESS</td><td>2</td><td>294</td></tr><tr><td>DRUNKENNESS</td><td>3</td><td>128</td></tr><tr><td>DRUNKENNESS</td><td>4</td><td>55</td></tr><tr><td>DRUNKENNESS</td><td>5</td><td>20</td></tr><tr><td>DRUNKENNESS</td><td>6</td><td>31</td></tr><tr><td>DRUNKENNESS</td><td>7</td><td>79</td></tr><tr><td>DRUNKENNESS</td><td>8</td><td>78</td></tr><tr><td>DRUNKENNESS</td><td>9</td><td>98</td></tr><tr><td>DRUNKENNESS</td><td>10</td><td>100</td></tr><tr><td>DRUNKENNESS</td><td>11</td><td>145</td></tr><tr><td>DRUNKENNESS</td><td>12</td><td>119</td></tr><tr><td>DRUNKENNESS</td><td>13</td><td>146</td></tr><tr><td>DRUNKENNESS</td><td>14</td><td>129</td></tr><tr><td>DRUNKENNESS</td><td>15</td><td>160</td></tr><tr><td>DRUNKENNESS</td><td>16</td><td>216</td></tr><tr><td>DRUNKENNESS</td><td>17</td><td>255</td></tr><tr><td>DRUNKENNESS</td><td>18</td><td>280</td></tr><tr><td>DRUNKENNESS</td><td>19</td><td>285</td></tr><tr><td>DRUNKENNESS</td><td>20</td><td>301</td></tr><tr><td>DRUNKENNESS</td><td>21</td><td>313</td></tr><tr><td>DRUNKENNESS</td><td>22</td><td>378</td></tr><tr><td>DRUNKENNESS</td><td>23</td><td>374</td></tr><tr><td>EMBEZZLEMENT</td><td>0</td><td>280</td></tr><tr><td>EMBEZZLEMENT</td><td>1</td><td>4</td></tr><tr><td>EMBEZZLEMENT</td><td>2</td><td>4</td></tr><tr><td>EMBEZZLEMENT</td><td>3</td><td>6</td></tr><tr><td>EMBEZZLEMENT</td><td>4</td><td>4</td></tr><tr><td>EMBEZZLEMENT</td><td>5</td><td>4</td></tr><tr><td>EMBEZZLEMENT</td><td>6</td><td>6</td></tr><tr><td>EMBEZZLEMENT</td><td>7</td><td>17</td></tr><tr><td>EMBEZZLEMENT</td><td>8</td><td>89</td></tr><tr><td>EMBEZZLEMENT</td><td>9</td><td>91</td></tr><tr><td>EMBEZZLEMENT</td><td>10</td><td>76</td></tr><tr><td>EMBEZZLEMENT</td><td>11</td><td>57</td></tr><tr><td>EMBEZZLEMENT</td><td>12</td><td>233</td></tr><tr><td>EMBEZZLEMENT</td><td>13</td><td>48</td></tr><tr><td>EMBEZZLEMENT</td><td>14</td><td>45</td></tr><tr><td>EMBEZZLEMENT</td><td>15</td><td>54</td></tr><tr><td>EMBEZZLEMENT</td><td>16</td><td>52</td></tr><tr><td>EMBEZZLEMENT</td><td>17</td><td>64</td></tr><tr><td>EMBEZZLEMENT</td><td>18</td><td>50</td></tr><tr><td>EMBEZZLEMENT</td><td>19</td><td>26</td></tr><tr><td>EMBEZZLEMENT</td><td>20</td><td>29</td></tr><tr><td>EMBEZZLEMENT</td><td>21</td><td>22</td></tr><tr><td>EMBEZZLEMENT</td><td>22</td><td>15</td></tr><tr><td>EMBEZZLEMENT</td><td>23</td><td>24</td></tr><tr><td>EXTORTION</td><td>0</td><td>29</td></tr><tr><td>EXTORTION</td><td>1</td><td>4</td></tr><tr><td>EXTORTION</td><td>2</td><td>3</td></tr><tr><td>EXTORTION</td><td>3</td><td>2</td></tr><tr><td>EXTORTION</td><td>4</td><td>2</td></tr><tr><td>EXTORTION</td><td>5</td><td>4</td></tr><tr><td>EXTORTION</td><td>6</td><td>3</td></tr><tr><td>EXTORTION</td><td>7</td><td>7</td></tr><tr><td>EXTORTION</td><td>8</td><td>9</td></tr><tr><td>EXTORTION</td><td>9</td><td>7</td></tr><tr><td>EXTORTION</td><td>10</td><td>17</td></tr><tr><td>EXTORTION</td><td>11</td><td>11</td></tr><tr><td>EXTORTION</td><td>12</td><td>30</td></tr><tr><td>EXTORTION</td><td>13</td><td>13</td></tr><tr><td>EXTORTION</td><td>14</td><td>9</td></tr><tr><td>EXTORTION</td><td>15</td><td>9</td></tr><tr><td>EXTORTION</td><td>16</td><td>13</td></tr><tr><td>EXTORTION</td><td>17</td><td>13</td></tr><tr><td>EXTORTION</td><td>18</td><td>10</td></tr><tr><td>EXTORTION</td><td>19</td><td>7</td></tr><tr><td>EXTORTION</td><td>20</td><td>6</td></tr><tr><td>EXTORTION</td><td>21</td><td>8</td></tr><tr><td>EXTORTION</td><td>22</td><td>2</td></tr><tr><td>EXTORTION</td><td>23</td><td>8</td></tr><tr><td>FORGERY/COUNTERFEITING</td><td>0</td><td>1644</td></tr><tr><td>FORGERY/COUNTERFEITING</td><td>1</td><td>92</td></tr><tr><td>FORGERY/COUNTERFEITING</td><td>2</td><td>64</td></tr><tr><td>FORGERY/COUNTERFEITING</td><td>3</td><td>61</td></tr><tr><td>FORGERY/COUNTERFEITING</td><td>4</td><td>35</td></tr><tr><td>FORGERY/COUNTERFEITING</td><td>5</td><td>25</td></tr><tr><td>FORGERY/COUNTERFEITING</td><td>6</td><td>69</td></tr><tr><td>FORGERY/COUNTERFEITING</td><td>7</td><td>141</td></tr><tr><td>FORGERY/COUNTERFEITING</td><td>8</td><td>494</td></tr><tr><td>FORGERY/COUNTERFEITING</td><td>9</td><td>618</td></tr><tr><td>FORGERY/COUNTERFEITING</td><td>10</td><td>559</td></tr><tr><td>FORGERY/COUNTERFEITING</td><td>11</td><td>514</td></tr><tr><td>FORGERY/COUNTERFEITING</td><td>12</td><td>1356</td></tr><tr><td>FORGERY/COUNTERFEITING</td><td>13</td><td>694</td></tr><tr><td>FORGERY/COUNTERFEITING</td><td>14</td><td>626</td></tr><tr><td>FORGERY/COUNTERFEITING</td><td>15</td><td>690</td></tr><tr><td>FORGERY/COUNTERFEITING</td><td>16</td><td>708</td></tr><tr><td>FORGERY/COUNTERFEITING</td><td>17</td><td>663</td></tr><tr><td>FORGERY/COUNTERFEITING</td><td>18</td><td>450</td></tr><tr><td>FORGERY/COUNTERFEITING</td><td>19</td><td>297</td></tr><tr><td>FORGERY/COUNTERFEITING</td><td>20</td><td>318</td></tr><tr><td>FORGERY/COUNTERFEITING</td><td>21</td><td>234</td></tr><tr><td>FORGERY/COUNTERFEITING</td><td>22</td><td>185</td></tr><tr><td>FORGERY/COUNTERFEITING</td><td>23</td><td>149</td></tr><tr><td>FRAUD</td><td>0</td><td>2489</td></tr><tr><td>FRAUD</td><td>1</td><td>414</td></tr><tr><td>FRAUD</td><td>2</td><td>283</td></tr><tr><td>FRAUD</td><td>3</td><td>160</td></tr><tr><td>FRAUD</td><td>4</td><td>103</td></tr><tr><td>FRAUD</td><td>5</td><td>85</td></tr><tr><td>FRAUD</td><td>6</td><td>178</td></tr><tr><td>FRAUD</td><td>7</td><td>330</td></tr><tr><td>FRAUD</td><td>8</td><td>829</td></tr><tr><td>FRAUD</td><td>9</td><td>864</td></tr><tr><td>FRAUD</td><td>10</td><td>863</td></tr><tr><td>FRAUD</td><td>11</td><td>727</td></tr><tr><td>FRAUD</td><td>12</td><td>2016</td></tr><tr><td>FRAUD</td><td>13</td><td>1028</td></tr><tr><td>FRAUD</td><td>14</td><td>948</td></tr><tr><td>FRAUD</td><td>15</td><td>1082</td></tr><tr><td>FRAUD</td><td>16</td><td>995</td></tr><tr><td>FRAUD</td><td>17</td><td>1049</td></tr><tr><td>FRAUD</td><td>18</td><td>958</td></tr><tr><td>FRAUD</td><td>19</td><td>741</td></tr><tr><td>FRAUD</td><td>20</td><td>630</td></tr><tr><td>FRAUD</td><td>21</td><td>504</td></tr><tr><td>FRAUD</td><td>22</td><td>578</td></tr><tr><td>FRAUD</td><td>23</td><td>660</td></tr><tr><td>GAMBLING</td><td>0</td><td>13</td></tr><tr><td>GAMBLING</td><td>1</td><td>1</td></tr><tr><td>GAMBLING</td><td>3</td><td>1</td></tr><tr><td>GAMBLING</td><td>5</td><td>1</td></tr><tr><td>GAMBLING</td><td>7</td><td>3</td></tr><tr><td>GAMBLING</td><td>8</td><td>5</td></tr><tr><td>GAMBLING</td><td>9</td><td>4</td></tr><tr><td>GAMBLING</td><td>10</td><td>5</td></tr><tr><td>GAMBLING</td><td>11</td><td>9</td></tr><tr><td>GAMBLING</td><td>12</td><td>15</td></tr><tr><td>GAMBLING</td><td>13</td><td>6</td></tr><tr><td>GAMBLING</td><td>14</td><td>9</td></tr><tr><td>GAMBLING</td><td>15</td><td>9</td></tr><tr><td>GAMBLING</td><td>16</td><td>2</td></tr><tr><td>GAMBLING</td><td>17</td><td>4</td></tr><tr><td>GAMBLING</td><td>18</td><td>3</td></tr><tr><td>GAMBLING</td><td>19</td><td>5</td></tr><tr><td>GAMBLING</td><td>20</td><td>2</td></tr><tr><td>GAMBLING</td><td>21</td><td>3</td></tr><tr><td>GAMBLING</td><td>22</td><td>3</td></tr><tr><td>GAMBLING</td><td>23</td><td>2</td></tr><tr><td>KIDNAPPING</td><td>0</td><td>116</td></tr><tr><td>KIDNAPPING</td><td>1</td><td>111</td></tr><tr><td>KIDNAPPING</td><td>2</td><td>106</td></tr><tr><td>KIDNAPPING</td><td>3</td><td>68</td></tr><tr><td>KIDNAPPING</td><td>4</td><td>37</td></tr><tr><td>KIDNAPPING</td><td>5</td><td>34</td></tr><tr><td>KIDNAPPING</td><td>6</td><td>31</td></tr><tr><td>KIDNAPPING</td><td>7</td><td>39</td></tr><tr><td>KIDNAPPING</td><td>8</td><td>40</td></tr><tr><td>KIDNAPPING</td><td>9</td><td>37</td></tr><tr><td>KIDNAPPING</td><td>10</td><td>42</td></tr><tr><td>KIDNAPPING</td><td>11</td><td>47</td></tr><tr><td>KIDNAPPING</td><td>12</td><td>65</td></tr><tr><td>KIDNAPPING</td><td>13</td><td>75</td></tr><tr><td>KIDNAPPING</td><td>14</td><td>66</td></tr><tr><td>KIDNAPPING</td><td>15</td><td>63</td></tr><tr><td>KIDNAPPING</td><td>16</td><td>74</td></tr><tr><td>KIDNAPPING</td><td>17</td><td>78</td></tr><tr><td>KIDNAPPING</td><td>18</td><td>84</td></tr><tr><td>KIDNAPPING</td><td>19</td><td>71</td></tr><tr><td>KIDNAPPING</td><td>20</td><td>75</td></tr><tr><td>KIDNAPPING</td><td>21</td><td>91</td></tr><tr><td>KIDNAPPING</td><td>22</td><td>84</td></tr><tr><td>KIDNAPPING</td><td>23</td><td>124</td></tr><tr><td>LARCENY/THEFT</td><td>0</td><td>10082</td></tr><tr><td>LARCENY/THEFT</td><td>1</td><td>6644</td></tr><tr><td>LARCENY/THEFT</td><td>2</td><td>4065</td></tr><tr><td>LARCENY/THEFT</td><td>3</td><td>2419</td></tr><tr><td>LARCENY/THEFT</td><td>4</td><td>1542</td></tr><tr><td>LARCENY/THEFT</td><td>5</td><td>1490</td></tr><tr><td>LARCENY/THEFT</td><td>6</td><td>2478</td></tr><tr><td>LARCENY/THEFT</td><td>7</td><td>3780</td></tr><tr><td>LARCENY/THEFT</td><td>8</td><td>6278</td></tr><tr><td>LARCENY/THEFT</td><td>9</td><td>7661</td></tr><tr><td>LARCENY/THEFT</td><td>10</td><td>9439</td></tr><tr><td>LARCENY/THEFT</td><td>11</td><td>10297</td></tr><tr><td>LARCENY/THEFT</td><td>12</td><td>13030</td></tr><tr><td>LARCENY/THEFT</td><td>13</td><td>11760</td></tr><tr><td>LARCENY/THEFT</td><td>14</td><td>12268</td></tr><tr><td>LARCENY/THEFT</td><td>15</td><td>12861</td></tr><tr><td>LARCENY/THEFT</td><td>16</td><td>13644</td></tr><tr><td>LARCENY/THEFT</td><td>17</td><td>15903</td></tr><tr><td>LARCENY/THEFT</td><td>18</td><td>19911</td></tr><tr><td>LARCENY/THEFT</td><td>19</td><td>19444</td></tr><tr><td>LARCENY/THEFT</td><td>20</td><td>16604</td></tr><tr><td>LARCENY/THEFT</td><td>21</td><td>13833</td></tr><tr><td>LARCENY/THEFT</td><td>22</td><td>13797</td></tr><tr><td>LARCENY/THEFT</td><td>23</td><td>13152</td></tr><tr><td>LIQUOR LAWS</td><td>0</td><td>63</td></tr><tr><td>LIQUOR LAWS</td><td>1</td><td>28</td></tr><tr><td>LIQUOR LAWS</td><td>2</td><td>23</td></tr><tr><td>LIQUOR LAWS</td><td>3</td><td>12</td></tr><tr><td>LIQUOR LAWS</td><td>4</td><td>7</td></tr><tr><td>LIQUOR LAWS</td><td>5</td><td>1</td></tr><tr><td>LIQUOR LAWS</td><td>6</td><td>17</td></tr><tr><td>LIQUOR LAWS</td><td>7</td><td>46</td></tr><tr><td>LIQUOR LAWS</td><td>8</td><td>59</td></tr><tr><td>LIQUOR LAWS</td><td>9</td><td>68</td></tr><tr><td>LIQUOR LAWS</td><td>10</td><td>76</td></tr><tr><td>LIQUOR LAWS</td><td>11</td><td>67</td></tr><tr><td>LIQUOR LAWS</td><td>12</td><td>104</td></tr><tr><td>LIQUOR LAWS</td><td>13</td><td>95</td></tr><tr><td>LIQUOR LAWS</td><td>14</td><td>69</td></tr><tr><td>LIQUOR LAWS</td><td>15</td><td>76</td></tr><tr><td>LIQUOR LAWS</td><td>16</td><td>96</td></tr><tr><td>LIQUOR LAWS</td><td>17</td><td>158</td></tr><tr><td>LIQUOR LAWS</td><td>18</td><td>129</td></tr><tr><td>LIQUOR LAWS</td><td>19</td><td>114</td></tr><tr><td>LIQUOR LAWS</td><td>20</td><td>59</td></tr><tr><td>LIQUOR LAWS</td><td>21</td><td>90</td></tr><tr><td>LIQUOR LAWS</td><td>22</td><td>71</td></tr><tr><td>LIQUOR LAWS</td><td>23</td><td>56</td></tr><tr><td>LOITERING</td><td>0</td><td>48</td></tr><tr><td>LOITERING</td><td>1</td><td>38</td></tr><tr><td>LOITERING</td><td>2</td><td>24</td></tr><tr><td>LOITERING</td><td>3</td><td>27</td></tr><tr><td>LOITERING</td><td>4</td><td>14</td></tr><tr><td>LOITERING</td><td>5</td><td>28</td></tr><tr><td>LOITERING</td><td>6</td><td>49</td></tr><tr><td>LOITERING</td><td>7</td><td>71</td></tr><tr><td>LOITERING</td><td>8</td><td>85</td></tr><tr><td>LOITERING</td><td>9</td><td>63</td></tr><tr><td>LOITERING</td><td>10</td><td>86</td></tr><tr><td>LOITERING</td><td>11</td><td>87</td></tr><tr><td>LOITERING</td><td>12</td><td>78</td></tr><tr><td>LOITERING</td><td>13</td><td>89</td></tr><tr><td>LOITERING</td><td>14</td><td>92</td></tr><tr><td>LOITERING</td><td>15</td><td>58</td></tr><tr><td>LOITERING</td><td>16</td><td>106</td></tr><tr><td>LOITERING</td><td>17</td><td>134</td></tr><tr><td>LOITERING</td><td>18</td><td>121</td></tr><tr><td>LOITERING</td><td>19</td><td>77</td></tr><tr><td>LOITERING</td><td>20</td><td>58</td></tr><tr><td>LOITERING</td><td>21</td><td>69</td></tr><tr><td>LOITERING</td><td>22</td><td>45</td></tr><tr><td>LOITERING</td><td>23</td><td>51</td></tr><tr><td>MISSING PERSON</td><td>0</td><td>784</td></tr><tr><td>MISSING PERSON</td><td>1</td><td>355</td></tr><tr><td>MISSING PERSON</td><td>2</td><td>271</td></tr><tr><td>MISSING PERSON</td><td>3</td><td>162</td></tr><tr><td>MISSING PERSON</td><td>4</td><td>107</td></tr><tr><td>MISSING PERSON</td><td>5</td><td>149</td></tr><tr><td>MISSING PERSON</td><td>6</td><td>239</td></tr><tr><td>MISSING PERSON</td><td>7</td><td>533</td></tr><tr><td>MISSING PERSON</td><td>8</td><td>879</td></tr><tr><td>MISSING PERSON</td><td>9</td><td>934</td></tr><tr><td>MISSING PERSON</td><td>10</td><td>951</td></tr><tr><td>MISSING PERSON</td><td>11</td><td>928</td></tr><tr><td>MISSING PERSON</td><td>12</td><td>1347</td></tr><tr><td>MISSING PERSON</td><td>13</td><td>872</td></tr><tr><td>MISSING PERSON</td><td>14</td><td>926</td></tr><tr><td>MISSING PERSON</td><td>15</td><td>1057</td></tr><tr><td>MISSING PERSON</td><td>16</td><td>930</td></tr><tr><td>MISSING PERSON</td><td>17</td><td>822</td></tr><tr><td>MISSING PERSON</td><td>18</td><td>772</td></tr><tr><td>MISSING PERSON</td><td>19</td><td>658</td></tr><tr><td>MISSING PERSON</td><td>20</td><td>628</td></tr><tr><td>MISSING PERSON</td><td>21</td><td>638</td></tr><tr><td>MISSING PERSON</td><td>22</td><td>607</td></tr><tr><td>MISSING PERSON</td><td>23</td><td>519</td></tr><tr><td>NON-CRIMINAL</td><td>0</td><td>5203</td></tr><tr><td>NON-CRIMINAL</td><td>1</td><td>2948</td></tr><tr><td>NON-CRIMINAL</td><td>2</td><td>2335</td></tr><tr><td>NON-CRIMINAL</td><td>3</td><td>1443</td></tr><tr><td>NON-CRIMINAL</td><td>4</td><td>1065</td></tr><tr><td>NON-CRIMINAL</td><td>5</td><td>1018</td></tr><tr><td>NON-CRIMINAL</td><td>6</td><td>1939</td></tr><tr><td>NON-CRIMINAL</td><td>7</td><td>2916</td></tr><tr><td>NON-CRIMINAL</td><td>8</td><td>4562</td></tr><tr><td>NON-CRIMINAL</td><td>9</td><td>5126</td></tr><tr><td>NON-CRIMINAL</td><td>10</td><td>5791</td></tr><tr><td>NON-CRIMINAL</td><td>11</td><td>5654</td></tr><tr><td>NON-CRIMINAL</td><td>12</td><td>7792</td></tr><tr><td>NON-CRIMINAL</td><td>13</td><td>6155</td></tr><tr><td>NON-CRIMINAL</td><td>14</td><td>6010</td></tr><tr><td>NON-CRIMINAL</td><td>15</td><td>6232</td></tr><tr><td>NON-CRIMINAL</td><td>16</td><td>6336</td></tr><tr><td>NON-CRIMINAL</td><td>17</td><td>5887</td></tr><tr><td>NON-CRIMINAL</td><td>18</td><td>5723</td></tr><tr><td>NON-CRIMINAL</td><td>19</td><td>5049</td></tr><tr><td>NON-CRIMINAL</td><td>20</td><td>4677</td></tr><tr><td>NON-CRIMINAL</td><td>21</td><td>4665</td></tr><tr><td>NON-CRIMINAL</td><td>22</td><td>4637</td></tr><tr><td>NON-CRIMINAL</td><td>23</td><td>4522</td></tr><tr><td>OTHER OFFENSES</td><td>0</td><td>7632</td></tr><tr><td>OTHER OFFENSES</td><td>1</td><td>3902</td></tr><tr><td>OTHER OFFENSES</td><td>2</td><td>3279</td></tr><tr><td>OTHER OFFENSES</td><td>3</td><td>2329</td></tr><tr><td>OTHER OFFENSES</td><td>4</td><td>1744</td></tr><tr><td>OTHER OFFENSES</td><td>5</td><td>1214</td></tr><tr><td>OTHER OFFENSES</td><td>6</td><td>1743</td></tr><tr><td>OTHER OFFENSES</td><td>7</td><td>3523</td></tr><tr><td>OTHER OFFENSES</td><td>8</td><td>5396</td></tr><tr><td>OTHER OFFENSES</td><td>9</td><td>6153</td></tr><tr><td>OTHER OFFENSES</td><td>10</td><td>5921</td></tr><tr><td>OTHER OFFENSES</td><td>11</td><td>5774</td></tr><tr><td>OTHER OFFENSES</td><td>12</td><td>7952</td></tr><tr><td>OTHER OFFENSES</td><td>13</td><td>6275</td></tr><tr><td>OTHER OFFENSES</td><td>14</td><td>6196</td></tr><tr><td>OTHER OFFENSES</td><td>15</td><td>6494</td></tr><tr><td>OTHER OFFENSES</td><td>16</td><td>7556</td></tr><tr><td>OTHER OFFENSES</td><td>17</td><td>7738</td></tr><tr><td>OTHER OFFENSES</td><td>18</td><td>6993</td></tr><tr><td>OTHER OFFENSES</td><td>19</td><td>6047</td></tr><tr><td>OTHER OFFENSES</td><td>20</td><td>5165</td></tr><tr><td>OTHER OFFENSES</td><td>21</td><td>5379</td></tr><tr><td>OTHER OFFENSES</td><td>22</td><td>6424</td></tr><tr><td>OTHER OFFENSES</td><td>23</td><td>6341</td></tr><tr><td>PORNOGRAPHY/OBSCENE MAT</td><td>0</td><td>1</td></tr><tr><td>PORNOGRAPHY/OBSCENE MAT</td><td>3</td><td>1</td></tr><tr><td>PORNOGRAPHY/OBSCENE MAT</td><td>6</td><td>1</td></tr><tr><td>PORNOGRAPHY/OBSCENE MAT</td><td>8</td><td>1</td></tr><tr><td>PORNOGRAPHY/OBSCENE MAT</td><td>9</td><td>3</td></tr><tr><td>PORNOGRAPHY/OBSCENE MAT</td><td>11</td><td>2</td></tr><tr><td>PORNOGRAPHY/OBSCENE MAT</td><td>12</td><td>2</td></tr><tr><td>PORNOGRAPHY/OBSCENE MAT</td><td>14</td><td>1</td></tr><tr><td>PORNOGRAPHY/OBSCENE MAT</td><td>16</td><td>2</td></tr><tr><td>PORNOGRAPHY/OBSCENE MAT</td><td>18</td><td>1</td></tr><tr><td>PORNOGRAPHY/OBSCENE MAT</td><td>20</td><td>1</td></tr><tr><td>PORNOGRAPHY/OBSCENE MAT</td><td>21</td><td>1</td></tr><tr><td>PORNOGRAPHY/OBSCENE MAT</td><td>22</td><td>2</td></tr><tr><td>PROSTITUTION</td><td>0</td><td>1107</td></tr><tr><td>PROSTITUTION</td><td>1</td><td>819</td></tr><tr><td>PROSTITUTION</td><td>2</td><td>630</td></tr><tr><td>PROSTITUTION</td><td>3</td><td>422</td></tr><tr><td>PROSTITUTION</td><td>4</td><td>328</td></tr><tr><td>PROSTITUTION</td><td>5</td><td>429</td></tr><tr><td>PROSTITUTION</td><td>6</td><td>414</td></tr><tr><td>PROSTITUTION</td><td>7</td><td>210</td></tr><tr><td>PROSTITUTION</td><td>8</td><td>117</td></tr><tr><td>PROSTITUTION</td><td>9</td><td>132</td></tr><tr><td>PROSTITUTION</td><td>10</td><td>143</td></tr><tr><td>PROSTITUTION</td><td>11</td><td>147</td></tr><tr><td>PROSTITUTION</td><td>12</td><td>309</td></tr><tr><td>PROSTITUTION</td><td>13</td><td>221</td></tr><tr><td>PROSTITUTION</td><td>14</td><td>195</td></tr><tr><td>PROSTITUTION</td><td>15</td><td>136</td></tr><tr><td>PROSTITUTION</td><td>16</td><td>173</td></tr><tr><td>PROSTITUTION</td><td>17</td><td>367</td></tr><tr><td>PROSTITUTION</td><td>18</td><td>726</td></tr><tr><td>PROSTITUTION</td><td>19</td><td>918</td></tr><tr><td>PROSTITUTION</td><td>20</td><td>802</td></tr><tr><td>PROSTITUTION</td><td>21</td><td>892</td></tr><tr><td>PROSTITUTION</td><td>22</td><td>1109</td></tr><tr><td>PROSTITUTION</td><td>23</td><td>1196</td></tr><tr><td>RECOVERED VEHICLE</td><td>0</td><td>138</td></tr><tr><td>RECOVERED VEHICLE</td><td>1</td><td>103</td></tr><tr><td>RECOVERED VEHICLE</td><td>2</td><td>77</td></tr><tr><td>RECOVERED VEHICLE</td><td>3</td><td>84</td></tr><tr><td>RECOVERED VEHICLE</td><td>4</td><td>59</td></tr><tr><td>RECOVERED VEHICLE</td><td>5</td><td>43</td></tr><tr><td>RECOVERED VEHICLE</td><td>6</td><td>35</td></tr><tr><td>RECOVERED VEHICLE</td><td>7</td><td>138</td></tr><tr><td>RECOVERED VEHICLE</td><td>8</td><td>131</td></tr><tr><td>RECOVERED VEHICLE</td><td>9</td><td>155</td></tr><tr><td>RECOVERED VEHICLE</td><td>10</td><td>151</td></tr><tr><td>RECOVERED VEHICLE</td><td>11</td><td>160</td></tr><tr><td>RECOVERED VEHICLE</td><td>12</td><td>157</td></tr><tr><td>RECOVERED VEHICLE</td><td>13</td><td>126</td></tr><tr><td>RECOVERED VEHICLE</td><td>14</td><td>94</td></tr><tr><td>RECOVERED VEHICLE</td><td>15</td><td>113</td></tr><tr><td>RECOVERED VEHICLE</td><td>16</td><td>189</td></tr><tr><td>RECOVERED VEHICLE</td><td>17</td><td>124</td></tr><tr><td>RECOVERED VEHICLE</td><td>18</td><td>95</td></tr><tr><td>RECOVERED VEHICLE</td><td>19</td><td>95</td></tr><tr><td>RECOVERED VEHICLE</td><td>20</td><td>93</td></tr><tr><td>RECOVERED VEHICLE</td><td>21</td><td>88</td></tr><tr><td>RECOVERED VEHICLE</td><td>22</td><td>88</td></tr><tr><td>RECOVERED VEHICLE</td><td>23</td><td>119</td></tr><tr><td>ROBBERY</td><td>0</td><td>1400</td></tr><tr><td>ROBBERY</td><td>1</td><td>1534</td></tr><tr><td>ROBBERY</td><td>2</td><td>1749</td></tr><tr><td>ROBBERY</td><td>3</td><td>988</td></tr><tr><td>ROBBERY</td><td>4</td><td>643</td></tr><tr><td>ROBBERY</td><td>5</td><td>486</td></tr><tr><td>ROBBERY</td><td>6</td><td>456</td></tr><tr><td>ROBBERY</td><td>7</td><td>370</td></tr><tr><td>ROBBERY</td><td>8</td><td>478</td></tr><tr><td>ROBBERY</td><td>9</td><td>524</td></tr><tr><td>ROBBERY</td><td>10</td><td>609</td></tr><tr><td>ROBBERY</td><td>11</td><td>680</td></tr><tr><td>ROBBERY</td><td>12</td><td>802</td></tr><tr><td>ROBBERY</td><td>13</td><td>863</td></tr><tr><td>ROBBERY</td><td>14</td><td>919</td></tr><tr><td>ROBBERY</td><td>15</td><td>1024</td></tr><tr><td>ROBBERY</td><td>16</td><td>1112</td></tr><tr><td>ROBBERY</td><td>17</td><td>1123</td></tr><tr><td>ROBBERY</td><td>18</td><td>1195</td></tr><tr><td>ROBBERY</td><td>19</td><td>1218</td></tr><tr><td>ROBBERY</td><td>20</td><td>1437</td></tr><tr><td>ROBBERY</td><td>21</td><td>1629</td></tr><tr><td>ROBBERY</td><td>22</td><td>1662</td></tr><tr><td>ROBBERY</td><td>23</td><td>1576</td></tr><tr><td>SECONDARY CODES</td><td>0</td><td>519</td></tr><tr><td>SECONDARY CODES</td><td>1</td><td>318</td></tr><tr><td>SECONDARY CODES</td><td>2</td><td>293</td></tr><tr><td>SECONDARY CODES</td><td>3</td><td>197</td></tr><tr><td>SECONDARY CODES</td><td>4</td><td>127</td></tr><tr><td>SECONDARY CODES</td><td>5</td><td>109</td></tr><tr><td>SECONDARY CODES</td><td>6</td><td>115</td></tr><tr><td>SECONDARY CODES</td><td>7</td><td>179</td></tr><tr><td>SECONDARY CODES</td><td>8</td><td>284</td></tr><tr><td>SECONDARY CODES</td><td>9</td><td>298</td></tr><tr><td>SECONDARY CODES</td><td>10</td><td>291</td></tr><tr><td>SECONDARY CODES</td><td>11</td><td>338</td></tr><tr><td>SECONDARY CODES</td><td>12</td><td>456</td></tr><tr><td>SECONDARY CODES</td><td>13</td><td>354</td></tr><tr><td>SECONDARY CODES</td><td>14</td><td>355</td></tr><tr><td>SECONDARY CODES</td><td>15</td><td>415</td></tr><tr><td>SECONDARY CODES</td><td>16</td><td>427</td></tr><tr><td>SECONDARY CODES</td><td>17</td><td>411</td></tr><tr><td>SECONDARY CODES</td><td>18</td><td>447</td></tr><tr><td>SECONDARY CODES</td><td>19</td><td>428</td></tr><tr><td>SECONDARY CODES</td><td>20</td><td>440</td></tr><tr><td>SECONDARY CODES</td><td>21</td><td>467</td></tr><tr><td>SECONDARY CODES</td><td>22</td><td>454</td></tr><tr><td>SECONDARY CODES</td><td>23</td><td>423</td></tr><tr><td>SEX OFFENSES, FORCIBLE</td><td>0</td><td>450</td></tr><tr><td>SEX OFFENSES, FORCIBLE</td><td>1</td><td>252</td></tr><tr><td>SEX OFFENSES, FORCIBLE</td><td>2</td><td>261</td></tr><tr><td>SEX OFFENSES, FORCIBLE</td><td>3</td><td>188</td></tr><tr><td>SEX OFFENSES, FORCIBLE</td><td>4</td><td>101</td></tr><tr><td>SEX OFFENSES, FORCIBLE</td><td>5</td><td>62</td></tr><tr><td>SEX OFFENSES, FORCIBLE</td><td>6</td><td>69</td></tr><tr><td>SEX OFFENSES, FORCIBLE</td><td>7</td><td>76</td></tr><tr><td>SEX OFFENSES, FORCIBLE</td><td>8</td><td>198</td></tr><tr><td>SEX OFFENSES, FORCIBLE</td><td>9</td><td>157</td></tr><tr><td>SEX OFFENSES, FORCIBLE</td><td>10</td><td>112</td></tr><tr><td>SEX OFFENSES, FORCIBLE</td><td>11</td><td>107</td></tr><tr><td>SEX OFFENSES, FORCIBLE</td><td>12</td><td>183</td></tr><tr><td>SEX OFFENSES, FORCIBLE</td><td>13</td><td>124</td></tr><tr><td>SEX OFFENSES, FORCIBLE</td><td>14</td><td>150</td></tr><tr><td>SEX OFFENSES, FORCIBLE</td><td>15</td><td>168</td></tr><tr><td>SEX OFFENSES, FORCIBLE</td><td>16</td><td>166</td></tr><tr><td>SEX OFFENSES, FORCIBLE</td><td>17</td><td>168</td></tr><tr><td>SEX OFFENSES, FORCIBLE</td><td>18</td><td>138</td></tr><tr><td>SEX OFFENSES, FORCIBLE</td><td>19</td><td>178</td></tr><tr><td>SEX OFFENSES, FORCIBLE</td><td>20</td><td>216</td></tr><tr><td>SEX OFFENSES, FORCIBLE</td><td>21</td><td>230</td></tr><tr><td>SEX OFFENSES, FORCIBLE</td><td>22</td><td>209</td></tr><tr><td>SEX OFFENSES, FORCIBLE</td><td>23</td><td>269</td></tr><tr><td>SEX OFFENSES, NON FORCIBLE</td><td>0</td><td>4</td></tr><tr><td>SEX OFFENSES, NON FORCIBLE</td><td>6</td><td>1</td></tr><tr><td>SEX OFFENSES, NON FORCIBLE</td><td>8</td><td>1</td></tr><tr><td>SEX OFFENSES, NON FORCIBLE</td><td>9</td><td>2</td></tr><tr><td>SEX OFFENSES, NON FORCIBLE</td><td>12</td><td>2</td></tr><tr><td>SEX OFFENSES, NON FORCIBLE</td><td>13</td><td>1</td></tr><tr><td>SEX OFFENSES, NON FORCIBLE</td><td>17</td><td>1</td></tr><tr><td>SEX OFFENSES, NON FORCIBLE</td><td>18</td><td>1</td></tr><tr><td>SEX OFFENSES, NON FORCIBLE</td><td>19</td><td>1</td></tr><tr><td>SEX OFFENSES, NON FORCIBLE</td><td>20</td><td>1</td></tr><tr><td>SEX OFFENSES, NON FORCIBLE</td><td>23</td><td>1</td></tr><tr><td>STOLEN PROPERTY</td><td>0</td><td>297</td></tr><tr><td>STOLEN PROPERTY</td><td>1</td><td>219</td></tr><tr><td>STOLEN PROPERTY</td><td>2</td><td>165</td></tr><tr><td>STOLEN PROPERTY</td><td>3</td><td>143</td></tr><tr><td>STOLEN PROPERTY</td><td>4</td><td>115</td></tr><tr><td>STOLEN PROPERTY</td><td>5</td><td>94</td></tr><tr><td>STOLEN PROPERTY</td><td>6</td><td>96</td></tr><tr><td>STOLEN PROPERTY</td><td>7</td><td>146</td></tr><tr><td>STOLEN PROPERTY</td><td>8</td><td>180</td></tr><tr><td>STOLEN PROPERTY</td><td>9</td><td>197</td></tr><tr><td>STOLEN PROPERTY</td><td>10</td><td>213</td></tr><tr><td>STOLEN PROPERTY</td><td>11</td><td>254</td></tr><tr><td>STOLEN PROPERTY</td><td>12</td><td>346</td></tr><tr><td>STOLEN PROPERTY</td><td>13</td><td>303</td></tr><tr><td>STOLEN PROPERTY</td><td>14</td><td>322</td></tr><tr><td>STOLEN PROPERTY</td><td>15</td><td>357</td></tr><tr><td>STOLEN PROPERTY</td><td>16</td><td>364</td></tr><tr><td>STOLEN PROPERTY</td><td>17</td><td>374</td></tr><tr><td>STOLEN PROPERTY</td><td>18</td><td>321</td></tr><tr><td>STOLEN PROPERTY</td><td>19</td><td>296</td></tr><tr><td>STOLEN PROPERTY</td><td>20</td><td>288</td></tr><tr><td>STOLEN PROPERTY</td><td>21</td><td>275</td></tr><tr><td>STOLEN PROPERTY</td><td>22</td><td>271</td></tr><tr><td>STOLEN PROPERTY</td><td>23</td><td>267</td></tr><tr><td>SUICIDE</td><td>0</td><td>12</td></tr><tr><td>SUICIDE</td><td>1</td><td>13</td></tr><tr><td>SUICIDE</td><td>2</td><td>13</td></tr><tr><td>SUICIDE</td><td>3</td><td>9</td></tr><tr><td>SUICIDE</td><td>4</td><td>4</td></tr><tr><td>SUICIDE</td><td>5</td><td>9</td></tr><tr><td>SUICIDE</td><td>6</td><td>13</td></tr><tr><td>SUICIDE</td><td>7</td><td>13</td></tr><tr><td>SUICIDE</td><td>8</td><td>24</td></tr><tr><td>SUICIDE</td><td>9</td><td>21</td></tr><tr><td>SUICIDE</td><td>10</td><td>26</td></tr><tr><td>SUICIDE</td><td>11</td><td>36</td></tr><tr><td>SUICIDE</td><td>12</td><td>33</td></tr><tr><td>SUICIDE</td><td>13</td><td>30</td></tr><tr><td>SUICIDE</td><td>14</td><td>40</td></tr><tr><td>SUICIDE</td><td>15</td><td>37</td></tr><tr><td>SUICIDE</td><td>16</td><td>29</td></tr><tr><td>SUICIDE</td><td>17</td><td>35</td></tr><tr><td>SUICIDE</td><td>18</td><td>23</td></tr><tr><td>SUICIDE</td><td>19</td><td>24</td></tr><tr><td>SUICIDE</td><td>20</td><td>25</td></tr><tr><td>SUICIDE</td><td>21</td><td>22</td></tr><tr><td>SUICIDE</td><td>22</td><td>15</td></tr><tr><td>SUICIDE</td><td>23</td><td>13</td></tr><tr><td>SUSPICIOUS OCC</td><td>0</td><td>2148</td></tr><tr><td>SUSPICIOUS OCC</td><td>1</td><td>996</td></tr><tr><td>SUSPICIOUS OCC</td><td>2</td><td>871</td></tr><tr><td>SUSPICIOUS OCC</td><td>3</td><td>626</td></tr><tr><td>SUSPICIOUS OCC</td><td>4</td><td>413</td></tr><tr><td>SUSPICIOUS OCC</td><td>5</td><td>297</td></tr><tr><td>SUSPICIOUS OCC</td><td>6</td><td>532</td></tr><tr><td>SUSPICIOUS OCC</td><td>7</td><td>794</td></tr><tr><td>SUSPICIOUS OCC</td><td>8</td><td>1325</td></tr><tr><td>SUSPICIOUS OCC</td><td>9</td><td>1462</td></tr><tr><td>SUSPICIOUS OCC</td><td>10</td><td>1527</td></tr><tr><td>SUSPICIOUS OCC</td><td>11</td><td>1545</td></tr><tr><td>SUSPICIOUS OCC</td><td>12</td><td>2175</td></tr><tr><td>SUSPICIOUS OCC</td><td>13</td><td>1628</td></tr><tr><td>SUSPICIOUS OCC</td><td>14</td><td>1635</td></tr><tr><td>SUSPICIOUS OCC</td><td>15</td><td>1737</td></tr><tr><td>SUSPICIOUS OCC</td><td>16</td><td>1690</td></tr><tr><td>SUSPICIOUS OCC</td><td>17</td><td>1607</td></tr><tr><td>SUSPICIOUS OCC</td><td>18</td><td>1628</td></tr><tr><td>SUSPICIOUS OCC</td><td>19</td><td>1480</td></tr><tr><td>SUSPICIOUS OCC</td><td>20</td><td>1322</td></tr><tr><td>SUSPICIOUS OCC</td><td>21</td><td>1368</td></tr><tr><td>SUSPICIOUS OCC</td><td>22</td><td>1318</td></tr><tr><td>SUSPICIOUS OCC</td><td>23</td><td>1202</td></tr><tr><td>TREA</td><td>5</td><td>1</td></tr><tr><td>TREA</td><td>6</td><td>1</td></tr><tr><td>TREA</td><td>12</td><td>1</td></tr><tr><td>TREA</td><td>20</td><td>1</td></tr><tr><td>TRESPASS</td><td>0</td><td>260</td></tr><tr><td>TRESPASS</td><td>1</td><td>180</td></tr><tr><td>TRESPASS</td><td>2</td><td>241</td></tr><tr><td>TRESPASS</td><td>3</td><td>174</td></tr><tr><td>TRESPASS</td><td>4</td><td>138</td></tr><tr><td>TRESPASS</td><td>5</td><td>213</td></tr><tr><td>TRESPASS</td><td>6</td><td>450</td></tr><tr><td>TRESPASS</td><td>7</td><td>623</td></tr><tr><td>TRESPASS</td><td>8</td><td>582</td></tr><tr><td>TRESPASS</td><td>9</td><td>519</td></tr><tr><td>TRESPASS</td><td>10</td><td>497</td></tr><tr><td>TRESPASS</td><td>11</td><td>446</td></tr><tr><td>TRESPASS</td><td>12</td><td>463</td></tr><tr><td>TRESPASS</td><td>13</td><td>402</td></tr><tr><td>TRESPASS</td><td>14</td><td>359</td></tr><tr><td>TRESPASS</td><td>15</td><td>441</td></tr><tr><td>TRESPASS</td><td>16</td><td>434</td></tr><tr><td>TRESPASS</td><td>17</td><td>431</td></tr><tr><td>TRESPASS</td><td>18</td><td>436</td></tr><tr><td>TRESPASS</td><td>19</td><td>406</td></tr><tr><td>TRESPASS</td><td>20</td><td>382</td></tr><tr><td>TRESPASS</td><td>21</td><td>384</td></tr><tr><td>TRESPASS</td><td>22</td><td>299</td></tr><tr><td>TRESPASS</td><td>23</td><td>246</td></tr><tr><td>VANDALISM</td><td>0</td><td>2654</td></tr><tr><td>VANDALISM</td><td>1</td><td>1916</td></tr><tr><td>VANDALISM</td><td>2</td><td>1780</td></tr><tr><td>VANDALISM</td><td>3</td><td>1223</td></tr><tr><td>VANDALISM</td><td>4</td><td>798</td></tr><tr><td>VANDALISM</td><td>5</td><td>697</td></tr><tr><td>VANDALISM</td><td>6</td><td>782</td></tr><tr><td>VANDALISM</td><td>7</td><td>932</td></tr><tr><td>VANDALISM</td><td>8</td><td>1347</td></tr><tr><td>VANDALISM</td><td>9</td><td>1375</td></tr><tr><td>VANDALISM</td><td>10</td><td>1385</td></tr><tr><td>VANDALISM</td><td>11</td><td>1290</td></tr><tr><td>VANDALISM</td><td>12</td><td>1683</td></tr><tr><td>VANDALISM</td><td>13</td><td>1343</td></tr><tr><td>VANDALISM</td><td>14</td><td>1534</td></tr><tr><td>VANDALISM</td><td>15</td><td>1833</td></tr><tr><td>VANDALISM</td><td>16</td><td>1988</td></tr><tr><td>VANDALISM</td><td>17</td><td>2696</td></tr><tr><td>VANDALISM</td><td>18</td><td>3200</td></tr><tr><td>VANDALISM</td><td>19</td><td>3053</td></tr><tr><td>VANDALISM</td><td>20</td><td>2956</td></tr><tr><td>VANDALISM</td><td>21</td><td>3149</td></tr><tr><td>VANDALISM</td><td>22</td><td>3124</td></tr><tr><td>VANDALISM</td><td>23</td><td>2853</td></tr><tr><td>VEHICLE THEFT</td><td>0</td><td>1568</td></tr><tr><td>VEHICLE THEFT</td><td>1</td><td>1129</td></tr><tr><td>VEHICLE THEFT</td><td>2</td><td>889</td></tr><tr><td>VEHICLE THEFT</td><td>3</td><td>552</td></tr><tr><td>VEHICLE THEFT</td><td>4</td><td>440</td></tr><tr><td>VEHICLE THEFT</td><td>5</td><td>392</td></tr><tr><td>VEHICLE THEFT</td><td>6</td><td>635</td></tr><tr><td>VEHICLE THEFT</td><td>7</td><td>1049</td></tr><tr><td>VEHICLE THEFT</td><td>8</td><td>1548</td></tr><tr><td>VEHICLE THEFT</td><td>9</td><td>1580</td></tr><tr><td>VEHICLE THEFT</td><td>10</td><td>1452</td></tr><tr><td>VEHICLE THEFT</td><td>11</td><td>1321</td></tr><tr><td>VEHICLE THEFT</td><td>12</td><td>1938</td></tr><tr><td>VEHICLE THEFT</td><td>13</td><td>1453</td></tr><tr><td>VEHICLE THEFT</td><td>14</td><td>1687</td></tr><tr><td>VEHICLE THEFT</td><td>15</td><td>1917</td></tr><tr><td>VEHICLE THEFT</td><td>16</td><td>2292</td></tr><tr><td>VEHICLE THEFT</td><td>17</td><td>2942</td></tr><tr><td>VEHICLE THEFT</td><td>18</td><td>3485</td></tr><tr><td>VEHICLE THEFT</td><td>19</td><td>3079</td></tr><tr><td>VEHICLE THEFT</td><td>20</td><td>3139</td></tr><tr><td>VEHICLE THEFT</td><td>21</td><td>2997</td></tr><tr><td>VEHICLE THEFT</td><td>22</td><td>3110</td></tr><tr><td>VEHICLE THEFT</td><td>23</td><td>2888</td></tr><tr><td>WARRANTS</td><td>0</td><td>1933</td></tr><tr><td>WARRANTS</td><td>1</td><td>1413</td></tr><tr><td>WARRANTS</td><td>2</td><td>1212</td></tr><tr><td>WARRANTS</td><td>3</td><td>950</td></tr><tr><td>WARRANTS</td><td>4</td><td>674</td></tr><tr><td>WARRANTS</td><td>5</td><td>459</td></tr><tr><td>WARRANTS</td><td>6</td><td>792</td></tr><tr><td>WARRANTS</td><td>7</td><td>1613</td></tr><tr><td>WARRANTS</td><td>8</td><td>2000</td></tr><tr><td>WARRANTS</td><td>9</td><td>2297</td></tr><tr><td>WARRANTS</td><td>10</td><td>2466</td></tr><tr><td>WARRANTS</td><td>11</td><td>2591</td></tr><tr><td>WARRANTS</td><td>12</td><td>2643</td></tr><tr><td>WARRANTS</td><td>13</td><td>2870</td></tr><tr><td>WARRANTS</td><td>14</td><td>2789</td></tr><tr><td>WARRANTS</td><td>15</td><td>2786</td></tr><tr><td>WARRANTS</td><td>16</td><td>3010</td></tr><tr><td>WARRANTS</td><td>17</td><td>3018</td></tr><tr><td>WARRANTS</td><td>18</td><td>2722</td></tr><tr><td>WARRANTS</td><td>19</td><td>2381</td></tr><tr><td>WARRANTS</td><td>20</td><td>1913</td></tr><tr><td>WARRANTS</td><td>21</td><td>1868</td></tr><tr><td>WARRANTS</td><td>22</td><td>2186</td></tr><tr><td>WARRANTS</td><td>23</td><td>2042</td></tr><tr><td>WEAPON LAWS</td><td>0</td><td>466</td></tr><tr><td>WEAPON LAWS</td><td>1</td><td>354</td></tr><tr><td>WEAPON LAWS</td><td>2</td><td>323</td></tr><tr><td>WEAPON LAWS</td><td>3</td><td>199</td></tr><tr><td>WEAPON LAWS</td><td>4</td><td>142</td></tr><tr><td>WEAPON LAWS</td><td>5</td><td>74</td></tr><tr><td>WEAPON LAWS</td><td>6</td><td>98</td></tr><tr><td>WEAPON LAWS</td><td>7</td><td>197</td></tr><tr><td>WEAPON LAWS</td><td>8</td><td>236</td></tr><tr><td>WEAPON LAWS</td><td>9</td><td>247</td></tr><tr><td>WEAPON LAWS</td><td>10</td><td>272</td></tr><tr><td>WEAPON LAWS</td><td>11</td><td>335</td></tr><tr><td>WEAPON LAWS</td><td>12</td><td>372</td></tr><tr><td>WEAPON LAWS</td><td>13</td><td>348</td></tr><tr><td>WEAPON LAWS</td><td>14</td><td>374</td></tr><tr><td>WEAPON LAWS</td><td>15</td><td>416</td></tr><tr><td>WEAPON LAWS</td><td>16</td><td>458</td></tr><tr><td>WEAPON LAWS</td><td>17</td><td>453</td></tr><tr><td>WEAPON LAWS</td><td>18</td><td>507</td></tr><tr><td>WEAPON LAWS</td><td>19</td><td>462</td></tr><tr><td>WEAPON LAWS</td><td>20</td><td>398</td></tr><tr><td>WEAPON LAWS</td><td>21</td><td>460</td></tr><tr><td>WEAPON LAWS</td><td>22</td><td>492</td></tr><tr><td>WEAPON LAWS</td><td>23</td><td>505</td></tr></tbody></table></div>"
      ]
     },
     "metadata": {
      "application/vnd.databricks.v1+output": {
       "addedWidgets": {},
       "aggData": [],
       "aggError": "",
       "aggOverflow": false,
       "aggSchema": [],
       "aggSeriesLimitReached": false,
       "aggType": "",
       "arguments": {},
       "columnCustomDisplayInfos": {},
       "data": [
        [
         "ARSON",
         0,
         84
        ],
        [
         "ARSON",
         1,
         77
        ],
        [
         "ARSON",
         2,
         84
        ],
        [
         "ARSON",
         3,
         95
        ],
        [
         "ARSON",
         4,
         74
        ],
        [
         "ARSON",
         5,
         60
        ],
        [
         "ARSON",
         6,
         50
        ],
        [
         "ARSON",
         7,
         28
        ],
        [
         "ARSON",
         8,
         34
        ],
        [
         "ARSON",
         9,
         28
        ],
        [
         "ARSON",
         10,
         44
        ],
        [
         "ARSON",
         11,
         29
        ],
        [
         "ARSON",
         12,
         37
        ],
        [
         "ARSON",
         13,
         35
        ],
        [
         "ARSON",
         14,
         36
        ],
        [
         "ARSON",
         15,
         49
        ],
        [
         "ARSON",
         16,
         31
        ],
        [
         "ARSON",
         17,
         48
        ],
        [
         "ARSON",
         18,
         53
        ],
        [
         "ARSON",
         19,
         59
        ],
        [
         "ARSON",
         20,
         69
        ],
        [
         "ARSON",
         21,
         55
        ],
        [
         "ARSON",
         22,
         61
        ],
        [
         "ARSON",
         23,
         72
        ],
        [
         "ASSAULT",
         0,
         4120
        ],
        [
         "ASSAULT",
         1,
         3940
        ],
        [
         "ASSAULT",
         2,
         3510
        ],
        [
         "ASSAULT",
         3,
         1622
        ],
        [
         "ASSAULT",
         4,
         1017
        ],
        [
         "ASSAULT",
         5,
         772
        ],
        [
         "ASSAULT",
         6,
         1089
        ],
        [
         "ASSAULT",
         7,
         1581
        ],
        [
         "ASSAULT",
         8,
         2325
        ],
        [
         "ASSAULT",
         9,
         2629
        ],
        [
         "ASSAULT",
         10,
         2860
        ],
        [
         "ASSAULT",
         11,
         3076
        ],
        [
         "ASSAULT",
         12,
         3735
        ],
        [
         "ASSAULT",
         13,
         3407
        ],
        [
         "ASSAULT",
         14,
         3529
        ],
        [
         "ASSAULT",
         15,
         3862
        ],
        [
         "ASSAULT",
         16,
         3876
        ],
        [
         "ASSAULT",
         17,
         3826
        ],
        [
         "ASSAULT",
         18,
         3726
        ],
        [
         "ASSAULT",
         19,
         3591
        ],
        [
         "ASSAULT",
         20,
         3498
        ],
        [
         "ASSAULT",
         21,
         3609
        ],
        [
         "ASSAULT",
         22,
         3623
        ],
        [
         "ASSAULT",
         23,
         3480
        ],
        [
         "BAD CHECKS",
         0,
         79
        ],
        [
         "BAD CHECKS",
         1,
         3
        ],
        [
         "BAD CHECKS",
         2,
         2
        ],
        [
         "BAD CHECKS",
         4,
         2
        ],
        [
         "BAD CHECKS",
         5,
         1
        ],
        [
         "BAD CHECKS",
         6,
         2
        ],
        [
         "BAD CHECKS",
         7,
         3
        ],
        [
         "BAD CHECKS",
         8,
         24
        ],
        [
         "BAD CHECKS",
         9,
         26
        ],
        [
         "BAD CHECKS",
         10,
         24
        ],
        [
         "BAD CHECKS",
         11,
         15
        ],
        [
         "BAD CHECKS",
         12,
         76
        ],
        [
         "BAD CHECKS",
         13,
         15
        ],
        [
         "BAD CHECKS",
         14,
         21
        ],
        [
         "BAD CHECKS",
         15,
         31
        ],
        [
         "BAD CHECKS",
         16,
         19
        ],
        [
         "BAD CHECKS",
         17,
         25
        ],
        [
         "BAD CHECKS",
         18,
         10
        ],
        [
         "BAD CHECKS",
         19,
         11
        ],
        [
         "BAD CHECKS",
         20,
         8
        ],
        [
         "BAD CHECKS",
         21,
         4
        ],
        [
         "BAD CHECKS",
         22,
         2
        ],
        [
         "BAD CHECKS",
         23,
         3
        ],
        [
         "BRIBERY",
         0,
         20
        ],
        [
         "BRIBERY",
         1,
         11
        ],
        [
         "BRIBERY",
         2,
         12
        ],
        [
         "BRIBERY",
         3,
         6
        ],
        [
         "BRIBERY",
         4,
         5
        ],
        [
         "BRIBERY",
         5,
         2
        ],
        [
         "BRIBERY",
         6,
         2
        ],
        [
         "BRIBERY",
         7,
         4
        ],
        [
         "BRIBERY",
         8,
         6
        ],
        [
         "BRIBERY",
         9,
         11
        ],
        [
         "BRIBERY",
         10,
         18
        ],
        [
         "BRIBERY",
         11,
         17
        ],
        [
         "BRIBERY",
         12,
         17
        ],
        [
         "BRIBERY",
         13,
         11
        ],
        [
         "BRIBERY",
         14,
         14
        ],
        [
         "BRIBERY",
         15,
         10
        ],
        [
         "BRIBERY",
         16,
         14
        ],
        [
         "BRIBERY",
         17,
         25
        ],
        [
         "BRIBERY",
         18,
         13
        ],
        [
         "BRIBERY",
         19,
         17
        ],
        [
         "BRIBERY",
         20,
         16
        ],
        [
         "BRIBERY",
         21,
         20
        ],
        [
         "BRIBERY",
         22,
         20
        ],
        [
         "BRIBERY",
         23,
         15
        ],
        [
         "BURGLARY",
         0,
         1585
        ],
        [
         "BURGLARY",
         1,
         1064
        ],
        [
         "BURGLARY",
         2,
         1152
        ],
        [
         "BURGLARY",
         3,
         1229
        ],
        [
         "BURGLARY",
         4,
         1032
        ],
        [
         "BURGLARY",
         5,
         948
        ],
        [
         "BURGLARY",
         6,
         858
        ],
        [
         "BURGLARY",
         7,
         998
        ],
        [
         "BURGLARY",
         8,
         1669
        ],
        [
         "BURGLARY",
         9,
         1379
        ],
        [
         "BURGLARY",
         10,
         1220
        ],
        [
         "BURGLARY",
         11,
         1193
        ],
        [
         "BURGLARY",
         12,
         1775
        ],
        [
         "BURGLARY",
         13,
         1157
        ],
        [
         "BURGLARY",
         14,
         1391
        ],
        [
         "BURGLARY",
         15,
         1635
        ],
        [
         "BURGLARY",
         16,
         1893
        ],
        [
         "BURGLARY",
         17,
         2613
        ],
        [
         "BURGLARY",
         18,
         2654
        ],
        [
         "BURGLARY",
         19,
         2102
        ],
        [
         "BURGLARY",
         20,
         1843
        ],
        [
         "BURGLARY",
         21,
         1680
        ],
        [
         "BURGLARY",
         22,
         1727
        ],
        [
         "BURGLARY",
         23,
         1567
        ],
        [
         "DISORDERLY CONDUCT",
         0,
         301
        ],
        [
         "DISORDERLY CONDUCT",
         1,
         225
        ],
        [
         "DISORDERLY CONDUCT",
         2,
         212
        ],
        [
         "DISORDERLY CONDUCT",
         3,
         140
        ],
        [
         "DISORDERLY CONDUCT",
         4,
         100
        ],
        [
         "DISORDERLY CONDUCT",
         5,
         163
        ],
        [
         "DISORDERLY CONDUCT",
         6,
         396
        ],
        [
         "DISORDERLY CONDUCT",
         7,
         451
        ],
        [
         "DISORDERLY CONDUCT",
         8,
         362
        ],
        [
         "DISORDERLY CONDUCT",
         9,
         311
        ],
        [
         "DISORDERLY CONDUCT",
         10,
         244
        ],
        [
         "DISORDERLY CONDUCT",
         11,
         200
        ],
        [
         "DISORDERLY CONDUCT",
         12,
         177
        ],
        [
         "DISORDERLY CONDUCT",
         13,
         172
        ],
        [
         "DISORDERLY CONDUCT",
         14,
         165
        ],
        [
         "DISORDERLY CONDUCT",
         15,
         117
        ],
        [
         "DISORDERLY CONDUCT",
         16,
         142
        ],
        [
         "DISORDERLY CONDUCT",
         17,
         128
        ],
        [
         "DISORDERLY CONDUCT",
         18,
         158
        ],
        [
         "DISORDERLY CONDUCT",
         19,
         131
        ],
        [
         "DISORDERLY CONDUCT",
         20,
         129
        ],
        [
         "DISORDERLY CONDUCT",
         21,
         146
        ],
        [
         "DISORDERLY CONDUCT",
         22,
         208
        ],
        [
         "DISORDERLY CONDUCT",
         23,
         260
        ],
        [
         "DRIVING UNDER THE INFLUENCE",
         0,
         272
        ],
        [
         "DRIVING UNDER THE INFLUENCE",
         1,
         274
        ],
        [
         "DRIVING UNDER THE INFLUENCE",
         2,
         263
        ],
        [
         "DRIVING UNDER THE INFLUENCE",
         3,
         117
        ],
        [
         "DRIVING UNDER THE INFLUENCE",
         4,
         40
        ],
        [
         "DRIVING UNDER THE INFLUENCE",
         5,
         27
        ],
        [
         "DRIVING UNDER THE INFLUENCE",
         6,
         27
        ],
        [
         "DRIVING UNDER THE INFLUENCE",
         7,
         19
        ],
        [
         "DRIVING UNDER THE INFLUENCE",
         8,
         18
        ],
        [
         "DRIVING UNDER THE INFLUENCE",
         9,
         25
        ],
        [
         "DRIVING UNDER THE INFLUENCE",
         10,
         11
        ],
        [
         "DRIVING UNDER THE INFLUENCE",
         11,
         23
        ],
        [
         "DRIVING UNDER THE INFLUENCE",
         12,
         33
        ],
        [
         "DRIVING UNDER THE INFLUENCE",
         13,
         20
        ],
        [
         "DRIVING UNDER THE INFLUENCE",
         14,
         27
        ],
        [
         "DRIVING UNDER THE INFLUENCE",
         15,
         48
        ],
        [
         "DRIVING UNDER THE INFLUENCE",
         16,
         62
        ],
        [
         "DRIVING UNDER THE INFLUENCE",
         17,
         66
        ],
        [
         "DRIVING UNDER THE INFLUENCE",
         18,
         81
        ],
        [
         "DRIVING UNDER THE INFLUENCE",
         19,
         92
        ],
        [
         "DRIVING UNDER THE INFLUENCE",
         20,
         119
        ],
        [
         "DRIVING UNDER THE INFLUENCE",
         21,
         167
        ],
        [
         "DRIVING UNDER THE INFLUENCE",
         22,
         194
        ],
        [
         "DRIVING UNDER THE INFLUENCE",
         23,
         239
        ],
        [
         "DRUG/NARCOTIC",
         0,
         1756
        ],
        [
         "DRUG/NARCOTIC",
         1,
         1156
        ],
        [
         "DRUG/NARCOTIC",
         2,
         947
        ],
        [
         "DRUG/NARCOTIC",
         3,
         607
        ],
        [
         "DRUG/NARCOTIC",
         4,
         444
        ],
        [
         "DRUG/NARCOTIC",
         5,
         216
        ],
        [
         "DRUG/NARCOTIC",
         6,
         678
        ],
        [
         "DRUG/NARCOTIC",
         7,
         1439
        ],
        [
         "DRUG/NARCOTIC",
         8,
         1845
        ],
        [
         "DRUG/NARCOTIC",
         9,
         2178
        ],
        [
         "DRUG/NARCOTIC",
         10,
         2403
        ],
        [
         "DRUG/NARCOTIC",
         11,
         2578
        ],
        [
         "DRUG/NARCOTIC",
         12,
         2582
        ],
        [
         "DRUG/NARCOTIC",
         13,
         3131
        ],
        [
         "DRUG/NARCOTIC",
         14,
         3435
        ],
        [
         "DRUG/NARCOTIC",
         15,
         3177
        ],
        [
         "DRUG/NARCOTIC",
         16,
         3275
        ],
        [
         "DRUG/NARCOTIC",
         17,
         3588
        ],
        [
         "DRUG/NARCOTIC",
         18,
         3269
        ],
        [
         "DRUG/NARCOTIC",
         19,
         2921
        ],
        [
         "DRUG/NARCOTIC",
         20,
         2157
        ],
        [
         "DRUG/NARCOTIC",
         21,
         1937
        ],
        [
         "DRUG/NARCOTIC",
         22,
         2380
        ],
        [
         "DRUG/NARCOTIC",
         23,
         2178
        ],
        [
         "DRUNKENNESS",
         0,
         400
        ],
        [
         "DRUNKENNESS",
         1,
         369
        ],
        [
         "DRUNKENNESS",
         2,
         294
        ],
        [
         "DRUNKENNESS",
         3,
         128
        ],
        [
         "DRUNKENNESS",
         4,
         55
        ],
        [
         "DRUNKENNESS",
         5,
         20
        ],
        [
         "DRUNKENNESS",
         6,
         31
        ],
        [
         "DRUNKENNESS",
         7,
         79
        ],
        [
         "DRUNKENNESS",
         8,
         78
        ],
        [
         "DRUNKENNESS",
         9,
         98
        ],
        [
         "DRUNKENNESS",
         10,
         100
        ],
        [
         "DRUNKENNESS",
         11,
         145
        ],
        [
         "DRUNKENNESS",
         12,
         119
        ],
        [
         "DRUNKENNESS",
         13,
         146
        ],
        [
         "DRUNKENNESS",
         14,
         129
        ],
        [
         "DRUNKENNESS",
         15,
         160
        ],
        [
         "DRUNKENNESS",
         16,
         216
        ],
        [
         "DRUNKENNESS",
         17,
         255
        ],
        [
         "DRUNKENNESS",
         18,
         280
        ],
        [
         "DRUNKENNESS",
         19,
         285
        ],
        [
         "DRUNKENNESS",
         20,
         301
        ],
        [
         "DRUNKENNESS",
         21,
         313
        ],
        [
         "DRUNKENNESS",
         22,
         378
        ],
        [
         "DRUNKENNESS",
         23,
         374
        ],
        [
         "EMBEZZLEMENT",
         0,
         280
        ],
        [
         "EMBEZZLEMENT",
         1,
         4
        ],
        [
         "EMBEZZLEMENT",
         2,
         4
        ],
        [
         "EMBEZZLEMENT",
         3,
         6
        ],
        [
         "EMBEZZLEMENT",
         4,
         4
        ],
        [
         "EMBEZZLEMENT",
         5,
         4
        ],
        [
         "EMBEZZLEMENT",
         6,
         6
        ],
        [
         "EMBEZZLEMENT",
         7,
         17
        ],
        [
         "EMBEZZLEMENT",
         8,
         89
        ],
        [
         "EMBEZZLEMENT",
         9,
         91
        ],
        [
         "EMBEZZLEMENT",
         10,
         76
        ],
        [
         "EMBEZZLEMENT",
         11,
         57
        ],
        [
         "EMBEZZLEMENT",
         12,
         233
        ],
        [
         "EMBEZZLEMENT",
         13,
         48
        ],
        [
         "EMBEZZLEMENT",
         14,
         45
        ],
        [
         "EMBEZZLEMENT",
         15,
         54
        ],
        [
         "EMBEZZLEMENT",
         16,
         52
        ],
        [
         "EMBEZZLEMENT",
         17,
         64
        ],
        [
         "EMBEZZLEMENT",
         18,
         50
        ],
        [
         "EMBEZZLEMENT",
         19,
         26
        ],
        [
         "EMBEZZLEMENT",
         20,
         29
        ],
        [
         "EMBEZZLEMENT",
         21,
         22
        ],
        [
         "EMBEZZLEMENT",
         22,
         15
        ],
        [
         "EMBEZZLEMENT",
         23,
         24
        ],
        [
         "EXTORTION",
         0,
         29
        ],
        [
         "EXTORTION",
         1,
         4
        ],
        [
         "EXTORTION",
         2,
         3
        ],
        [
         "EXTORTION",
         3,
         2
        ],
        [
         "EXTORTION",
         4,
         2
        ],
        [
         "EXTORTION",
         5,
         4
        ],
        [
         "EXTORTION",
         6,
         3
        ],
        [
         "EXTORTION",
         7,
         7
        ],
        [
         "EXTORTION",
         8,
         9
        ],
        [
         "EXTORTION",
         9,
         7
        ],
        [
         "EXTORTION",
         10,
         17
        ],
        [
         "EXTORTION",
         11,
         11
        ],
        [
         "EXTORTION",
         12,
         30
        ],
        [
         "EXTORTION",
         13,
         13
        ],
        [
         "EXTORTION",
         14,
         9
        ],
        [
         "EXTORTION",
         15,
         9
        ],
        [
         "EXTORTION",
         16,
         13
        ],
        [
         "EXTORTION",
         17,
         13
        ],
        [
         "EXTORTION",
         18,
         10
        ],
        [
         "EXTORTION",
         19,
         7
        ],
        [
         "EXTORTION",
         20,
         6
        ],
        [
         "EXTORTION",
         21,
         8
        ],
        [
         "EXTORTION",
         22,
         2
        ],
        [
         "EXTORTION",
         23,
         8
        ],
        [
         "FORGERY/COUNTERFEITING",
         0,
         1644
        ],
        [
         "FORGERY/COUNTERFEITING",
         1,
         92
        ],
        [
         "FORGERY/COUNTERFEITING",
         2,
         64
        ],
        [
         "FORGERY/COUNTERFEITING",
         3,
         61
        ],
        [
         "FORGERY/COUNTERFEITING",
         4,
         35
        ],
        [
         "FORGERY/COUNTERFEITING",
         5,
         25
        ],
        [
         "FORGERY/COUNTERFEITING",
         6,
         69
        ],
        [
         "FORGERY/COUNTERFEITING",
         7,
         141
        ],
        [
         "FORGERY/COUNTERFEITING",
         8,
         494
        ],
        [
         "FORGERY/COUNTERFEITING",
         9,
         618
        ],
        [
         "FORGERY/COUNTERFEITING",
         10,
         559
        ],
        [
         "FORGERY/COUNTERFEITING",
         11,
         514
        ],
        [
         "FORGERY/COUNTERFEITING",
         12,
         1356
        ],
        [
         "FORGERY/COUNTERFEITING",
         13,
         694
        ],
        [
         "FORGERY/COUNTERFEITING",
         14,
         626
        ],
        [
         "FORGERY/COUNTERFEITING",
         15,
         690
        ],
        [
         "FORGERY/COUNTERFEITING",
         16,
         708
        ],
        [
         "FORGERY/COUNTERFEITING",
         17,
         663
        ],
        [
         "FORGERY/COUNTERFEITING",
         18,
         450
        ],
        [
         "FORGERY/COUNTERFEITING",
         19,
         297
        ],
        [
         "FORGERY/COUNTERFEITING",
         20,
         318
        ],
        [
         "FORGERY/COUNTERFEITING",
         21,
         234
        ],
        [
         "FORGERY/COUNTERFEITING",
         22,
         185
        ],
        [
         "FORGERY/COUNTERFEITING",
         23,
         149
        ],
        [
         "FRAUD",
         0,
         2489
        ],
        [
         "FRAUD",
         1,
         414
        ],
        [
         "FRAUD",
         2,
         283
        ],
        [
         "FRAUD",
         3,
         160
        ],
        [
         "FRAUD",
         4,
         103
        ],
        [
         "FRAUD",
         5,
         85
        ],
        [
         "FRAUD",
         6,
         178
        ],
        [
         "FRAUD",
         7,
         330
        ],
        [
         "FRAUD",
         8,
         829
        ],
        [
         "FRAUD",
         9,
         864
        ],
        [
         "FRAUD",
         10,
         863
        ],
        [
         "FRAUD",
         11,
         727
        ],
        [
         "FRAUD",
         12,
         2016
        ],
        [
         "FRAUD",
         13,
         1028
        ],
        [
         "FRAUD",
         14,
         948
        ],
        [
         "FRAUD",
         15,
         1082
        ],
        [
         "FRAUD",
         16,
         995
        ],
        [
         "FRAUD",
         17,
         1049
        ],
        [
         "FRAUD",
         18,
         958
        ],
        [
         "FRAUD",
         19,
         741
        ],
        [
         "FRAUD",
         20,
         630
        ],
        [
         "FRAUD",
         21,
         504
        ],
        [
         "FRAUD",
         22,
         578
        ],
        [
         "FRAUD",
         23,
         660
        ],
        [
         "GAMBLING",
         0,
         13
        ],
        [
         "GAMBLING",
         1,
         1
        ],
        [
         "GAMBLING",
         3,
         1
        ],
        [
         "GAMBLING",
         5,
         1
        ],
        [
         "GAMBLING",
         7,
         3
        ],
        [
         "GAMBLING",
         8,
         5
        ],
        [
         "GAMBLING",
         9,
         4
        ],
        [
         "GAMBLING",
         10,
         5
        ],
        [
         "GAMBLING",
         11,
         9
        ],
        [
         "GAMBLING",
         12,
         15
        ],
        [
         "GAMBLING",
         13,
         6
        ],
        [
         "GAMBLING",
         14,
         9
        ],
        [
         "GAMBLING",
         15,
         9
        ],
        [
         "GAMBLING",
         16,
         2
        ],
        [
         "GAMBLING",
         17,
         4
        ],
        [
         "GAMBLING",
         18,
         3
        ],
        [
         "GAMBLING",
         19,
         5
        ],
        [
         "GAMBLING",
         20,
         2
        ],
        [
         "GAMBLING",
         21,
         3
        ],
        [
         "GAMBLING",
         22,
         3
        ],
        [
         "GAMBLING",
         23,
         2
        ],
        [
         "KIDNAPPING",
         0,
         116
        ],
        [
         "KIDNAPPING",
         1,
         111
        ],
        [
         "KIDNAPPING",
         2,
         106
        ],
        [
         "KIDNAPPING",
         3,
         68
        ],
        [
         "KIDNAPPING",
         4,
         37
        ],
        [
         "KIDNAPPING",
         5,
         34
        ],
        [
         "KIDNAPPING",
         6,
         31
        ],
        [
         "KIDNAPPING",
         7,
         39
        ],
        [
         "KIDNAPPING",
         8,
         40
        ],
        [
         "KIDNAPPING",
         9,
         37
        ],
        [
         "KIDNAPPING",
         10,
         42
        ],
        [
         "KIDNAPPING",
         11,
         47
        ],
        [
         "KIDNAPPING",
         12,
         65
        ],
        [
         "KIDNAPPING",
         13,
         75
        ],
        [
         "KIDNAPPING",
         14,
         66
        ],
        [
         "KIDNAPPING",
         15,
         63
        ],
        [
         "KIDNAPPING",
         16,
         74
        ],
        [
         "KIDNAPPING",
         17,
         78
        ],
        [
         "KIDNAPPING",
         18,
         84
        ],
        [
         "KIDNAPPING",
         19,
         71
        ],
        [
         "KIDNAPPING",
         20,
         75
        ],
        [
         "KIDNAPPING",
         21,
         91
        ],
        [
         "KIDNAPPING",
         22,
         84
        ],
        [
         "KIDNAPPING",
         23,
         124
        ],
        [
         "LARCENY/THEFT",
         0,
         10082
        ],
        [
         "LARCENY/THEFT",
         1,
         6644
        ],
        [
         "LARCENY/THEFT",
         2,
         4065
        ],
        [
         "LARCENY/THEFT",
         3,
         2419
        ],
        [
         "LARCENY/THEFT",
         4,
         1542
        ],
        [
         "LARCENY/THEFT",
         5,
         1490
        ],
        [
         "LARCENY/THEFT",
         6,
         2478
        ],
        [
         "LARCENY/THEFT",
         7,
         3780
        ],
        [
         "LARCENY/THEFT",
         8,
         6278
        ],
        [
         "LARCENY/THEFT",
         9,
         7661
        ],
        [
         "LARCENY/THEFT",
         10,
         9439
        ],
        [
         "LARCENY/THEFT",
         11,
         10297
        ],
        [
         "LARCENY/THEFT",
         12,
         13030
        ],
        [
         "LARCENY/THEFT",
         13,
         11760
        ],
        [
         "LARCENY/THEFT",
         14,
         12268
        ],
        [
         "LARCENY/THEFT",
         15,
         12861
        ],
        [
         "LARCENY/THEFT",
         16,
         13644
        ],
        [
         "LARCENY/THEFT",
         17,
         15903
        ],
        [
         "LARCENY/THEFT",
         18,
         19911
        ],
        [
         "LARCENY/THEFT",
         19,
         19444
        ],
        [
         "LARCENY/THEFT",
         20,
         16604
        ],
        [
         "LARCENY/THEFT",
         21,
         13833
        ],
        [
         "LARCENY/THEFT",
         22,
         13797
        ],
        [
         "LARCENY/THEFT",
         23,
         13152
        ],
        [
         "LIQUOR LAWS",
         0,
         63
        ],
        [
         "LIQUOR LAWS",
         1,
         28
        ],
        [
         "LIQUOR LAWS",
         2,
         23
        ],
        [
         "LIQUOR LAWS",
         3,
         12
        ],
        [
         "LIQUOR LAWS",
         4,
         7
        ],
        [
         "LIQUOR LAWS",
         5,
         1
        ],
        [
         "LIQUOR LAWS",
         6,
         17
        ],
        [
         "LIQUOR LAWS",
         7,
         46
        ],
        [
         "LIQUOR LAWS",
         8,
         59
        ],
        [
         "LIQUOR LAWS",
         9,
         68
        ],
        [
         "LIQUOR LAWS",
         10,
         76
        ],
        [
         "LIQUOR LAWS",
         11,
         67
        ],
        [
         "LIQUOR LAWS",
         12,
         104
        ],
        [
         "LIQUOR LAWS",
         13,
         95
        ],
        [
         "LIQUOR LAWS",
         14,
         69
        ],
        [
         "LIQUOR LAWS",
         15,
         76
        ],
        [
         "LIQUOR LAWS",
         16,
         96
        ],
        [
         "LIQUOR LAWS",
         17,
         158
        ],
        [
         "LIQUOR LAWS",
         18,
         129
        ],
        [
         "LIQUOR LAWS",
         19,
         114
        ],
        [
         "LIQUOR LAWS",
         20,
         59
        ],
        [
         "LIQUOR LAWS",
         21,
         90
        ],
        [
         "LIQUOR LAWS",
         22,
         71
        ],
        [
         "LIQUOR LAWS",
         23,
         56
        ],
        [
         "LOITERING",
         0,
         48
        ],
        [
         "LOITERING",
         1,
         38
        ],
        [
         "LOITERING",
         2,
         24
        ],
        [
         "LOITERING",
         3,
         27
        ],
        [
         "LOITERING",
         4,
         14
        ],
        [
         "LOITERING",
         5,
         28
        ],
        [
         "LOITERING",
         6,
         49
        ],
        [
         "LOITERING",
         7,
         71
        ],
        [
         "LOITERING",
         8,
         85
        ],
        [
         "LOITERING",
         9,
         63
        ],
        [
         "LOITERING",
         10,
         86
        ],
        [
         "LOITERING",
         11,
         87
        ],
        [
         "LOITERING",
         12,
         78
        ],
        [
         "LOITERING",
         13,
         89
        ],
        [
         "LOITERING",
         14,
         92
        ],
        [
         "LOITERING",
         15,
         58
        ],
        [
         "LOITERING",
         16,
         106
        ],
        [
         "LOITERING",
         17,
         134
        ],
        [
         "LOITERING",
         18,
         121
        ],
        [
         "LOITERING",
         19,
         77
        ],
        [
         "LOITERING",
         20,
         58
        ],
        [
         "LOITERING",
         21,
         69
        ],
        [
         "LOITERING",
         22,
         45
        ],
        [
         "LOITERING",
         23,
         51
        ],
        [
         "MISSING PERSON",
         0,
         784
        ],
        [
         "MISSING PERSON",
         1,
         355
        ],
        [
         "MISSING PERSON",
         2,
         271
        ],
        [
         "MISSING PERSON",
         3,
         162
        ],
        [
         "MISSING PERSON",
         4,
         107
        ],
        [
         "MISSING PERSON",
         5,
         149
        ],
        [
         "MISSING PERSON",
         6,
         239
        ],
        [
         "MISSING PERSON",
         7,
         533
        ],
        [
         "MISSING PERSON",
         8,
         879
        ],
        [
         "MISSING PERSON",
         9,
         934
        ],
        [
         "MISSING PERSON",
         10,
         951
        ],
        [
         "MISSING PERSON",
         11,
         928
        ],
        [
         "MISSING PERSON",
         12,
         1347
        ],
        [
         "MISSING PERSON",
         13,
         872
        ],
        [
         "MISSING PERSON",
         14,
         926
        ],
        [
         "MISSING PERSON",
         15,
         1057
        ],
        [
         "MISSING PERSON",
         16,
         930
        ],
        [
         "MISSING PERSON",
         17,
         822
        ],
        [
         "MISSING PERSON",
         18,
         772
        ],
        [
         "MISSING PERSON",
         19,
         658
        ],
        [
         "MISSING PERSON",
         20,
         628
        ],
        [
         "MISSING PERSON",
         21,
         638
        ],
        [
         "MISSING PERSON",
         22,
         607
        ],
        [
         "MISSING PERSON",
         23,
         519
        ],
        [
         "NON-CRIMINAL",
         0,
         5203
        ],
        [
         "NON-CRIMINAL",
         1,
         2948
        ],
        [
         "NON-CRIMINAL",
         2,
         2335
        ],
        [
         "NON-CRIMINAL",
         3,
         1443
        ],
        [
         "NON-CRIMINAL",
         4,
         1065
        ],
        [
         "NON-CRIMINAL",
         5,
         1018
        ],
        [
         "NON-CRIMINAL",
         6,
         1939
        ],
        [
         "NON-CRIMINAL",
         7,
         2916
        ],
        [
         "NON-CRIMINAL",
         8,
         4562
        ],
        [
         "NON-CRIMINAL",
         9,
         5126
        ],
        [
         "NON-CRIMINAL",
         10,
         5791
        ],
        [
         "NON-CRIMINAL",
         11,
         5654
        ],
        [
         "NON-CRIMINAL",
         12,
         7792
        ],
        [
         "NON-CRIMINAL",
         13,
         6155
        ],
        [
         "NON-CRIMINAL",
         14,
         6010
        ],
        [
         "NON-CRIMINAL",
         15,
         6232
        ],
        [
         "NON-CRIMINAL",
         16,
         6336
        ],
        [
         "NON-CRIMINAL",
         17,
         5887
        ],
        [
         "NON-CRIMINAL",
         18,
         5723
        ],
        [
         "NON-CRIMINAL",
         19,
         5049
        ],
        [
         "NON-CRIMINAL",
         20,
         4677
        ],
        [
         "NON-CRIMINAL",
         21,
         4665
        ],
        [
         "NON-CRIMINAL",
         22,
         4637
        ],
        [
         "NON-CRIMINAL",
         23,
         4522
        ],
        [
         "OTHER OFFENSES",
         0,
         7632
        ],
        [
         "OTHER OFFENSES",
         1,
         3902
        ],
        [
         "OTHER OFFENSES",
         2,
         3279
        ],
        [
         "OTHER OFFENSES",
         3,
         2329
        ],
        [
         "OTHER OFFENSES",
         4,
         1744
        ],
        [
         "OTHER OFFENSES",
         5,
         1214
        ],
        [
         "OTHER OFFENSES",
         6,
         1743
        ],
        [
         "OTHER OFFENSES",
         7,
         3523
        ],
        [
         "OTHER OFFENSES",
         8,
         5396
        ],
        [
         "OTHER OFFENSES",
         9,
         6153
        ],
        [
         "OTHER OFFENSES",
         10,
         5921
        ],
        [
         "OTHER OFFENSES",
         11,
         5774
        ],
        [
         "OTHER OFFENSES",
         12,
         7952
        ],
        [
         "OTHER OFFENSES",
         13,
         6275
        ],
        [
         "OTHER OFFENSES",
         14,
         6196
        ],
        [
         "OTHER OFFENSES",
         15,
         6494
        ],
        [
         "OTHER OFFENSES",
         16,
         7556
        ],
        [
         "OTHER OFFENSES",
         17,
         7738
        ],
        [
         "OTHER OFFENSES",
         18,
         6993
        ],
        [
         "OTHER OFFENSES",
         19,
         6047
        ],
        [
         "OTHER OFFENSES",
         20,
         5165
        ],
        [
         "OTHER OFFENSES",
         21,
         5379
        ],
        [
         "OTHER OFFENSES",
         22,
         6424
        ],
        [
         "OTHER OFFENSES",
         23,
         6341
        ],
        [
         "PORNOGRAPHY/OBSCENE MAT",
         0,
         1
        ],
        [
         "PORNOGRAPHY/OBSCENE MAT",
         3,
         1
        ],
        [
         "PORNOGRAPHY/OBSCENE MAT",
         6,
         1
        ],
        [
         "PORNOGRAPHY/OBSCENE MAT",
         8,
         1
        ],
        [
         "PORNOGRAPHY/OBSCENE MAT",
         9,
         3
        ],
        [
         "PORNOGRAPHY/OBSCENE MAT",
         11,
         2
        ],
        [
         "PORNOGRAPHY/OBSCENE MAT",
         12,
         2
        ],
        [
         "PORNOGRAPHY/OBSCENE MAT",
         14,
         1
        ],
        [
         "PORNOGRAPHY/OBSCENE MAT",
         16,
         2
        ],
        [
         "PORNOGRAPHY/OBSCENE MAT",
         18,
         1
        ],
        [
         "PORNOGRAPHY/OBSCENE MAT",
         20,
         1
        ],
        [
         "PORNOGRAPHY/OBSCENE MAT",
         21,
         1
        ],
        [
         "PORNOGRAPHY/OBSCENE MAT",
         22,
         2
        ],
        [
         "PROSTITUTION",
         0,
         1107
        ],
        [
         "PROSTITUTION",
         1,
         819
        ],
        [
         "PROSTITUTION",
         2,
         630
        ],
        [
         "PROSTITUTION",
         3,
         422
        ],
        [
         "PROSTITUTION",
         4,
         328
        ],
        [
         "PROSTITUTION",
         5,
         429
        ],
        [
         "PROSTITUTION",
         6,
         414
        ],
        [
         "PROSTITUTION",
         7,
         210
        ],
        [
         "PROSTITUTION",
         8,
         117
        ],
        [
         "PROSTITUTION",
         9,
         132
        ],
        [
         "PROSTITUTION",
         10,
         143
        ],
        [
         "PROSTITUTION",
         11,
         147
        ],
        [
         "PROSTITUTION",
         12,
         309
        ],
        [
         "PROSTITUTION",
         13,
         221
        ],
        [
         "PROSTITUTION",
         14,
         195
        ],
        [
         "PROSTITUTION",
         15,
         136
        ],
        [
         "PROSTITUTION",
         16,
         173
        ],
        [
         "PROSTITUTION",
         17,
         367
        ],
        [
         "PROSTITUTION",
         18,
         726
        ],
        [
         "PROSTITUTION",
         19,
         918
        ],
        [
         "PROSTITUTION",
         20,
         802
        ],
        [
         "PROSTITUTION",
         21,
         892
        ],
        [
         "PROSTITUTION",
         22,
         1109
        ],
        [
         "PROSTITUTION",
         23,
         1196
        ],
        [
         "RECOVERED VEHICLE",
         0,
         138
        ],
        [
         "RECOVERED VEHICLE",
         1,
         103
        ],
        [
         "RECOVERED VEHICLE",
         2,
         77
        ],
        [
         "RECOVERED VEHICLE",
         3,
         84
        ],
        [
         "RECOVERED VEHICLE",
         4,
         59
        ],
        [
         "RECOVERED VEHICLE",
         5,
         43
        ],
        [
         "RECOVERED VEHICLE",
         6,
         35
        ],
        [
         "RECOVERED VEHICLE",
         7,
         138
        ],
        [
         "RECOVERED VEHICLE",
         8,
         131
        ],
        [
         "RECOVERED VEHICLE",
         9,
         155
        ],
        [
         "RECOVERED VEHICLE",
         10,
         151
        ],
        [
         "RECOVERED VEHICLE",
         11,
         160
        ],
        [
         "RECOVERED VEHICLE",
         12,
         157
        ],
        [
         "RECOVERED VEHICLE",
         13,
         126
        ],
        [
         "RECOVERED VEHICLE",
         14,
         94
        ],
        [
         "RECOVERED VEHICLE",
         15,
         113
        ],
        [
         "RECOVERED VEHICLE",
         16,
         189
        ],
        [
         "RECOVERED VEHICLE",
         17,
         124
        ],
        [
         "RECOVERED VEHICLE",
         18,
         95
        ],
        [
         "RECOVERED VEHICLE",
         19,
         95
        ],
        [
         "RECOVERED VEHICLE",
         20,
         93
        ],
        [
         "RECOVERED VEHICLE",
         21,
         88
        ],
        [
         "RECOVERED VEHICLE",
         22,
         88
        ],
        [
         "RECOVERED VEHICLE",
         23,
         119
        ],
        [
         "ROBBERY",
         0,
         1400
        ],
        [
         "ROBBERY",
         1,
         1534
        ],
        [
         "ROBBERY",
         2,
         1749
        ],
        [
         "ROBBERY",
         3,
         988
        ],
        [
         "ROBBERY",
         4,
         643
        ],
        [
         "ROBBERY",
         5,
         486
        ],
        [
         "ROBBERY",
         6,
         456
        ],
        [
         "ROBBERY",
         7,
         370
        ],
        [
         "ROBBERY",
         8,
         478
        ],
        [
         "ROBBERY",
         9,
         524
        ],
        [
         "ROBBERY",
         10,
         609
        ],
        [
         "ROBBERY",
         11,
         680
        ],
        [
         "ROBBERY",
         12,
         802
        ],
        [
         "ROBBERY",
         13,
         863
        ],
        [
         "ROBBERY",
         14,
         919
        ],
        [
         "ROBBERY",
         15,
         1024
        ],
        [
         "ROBBERY",
         16,
         1112
        ],
        [
         "ROBBERY",
         17,
         1123
        ],
        [
         "ROBBERY",
         18,
         1195
        ],
        [
         "ROBBERY",
         19,
         1218
        ],
        [
         "ROBBERY",
         20,
         1437
        ],
        [
         "ROBBERY",
         21,
         1629
        ],
        [
         "ROBBERY",
         22,
         1662
        ],
        [
         "ROBBERY",
         23,
         1576
        ],
        [
         "SECONDARY CODES",
         0,
         519
        ],
        [
         "SECONDARY CODES",
         1,
         318
        ],
        [
         "SECONDARY CODES",
         2,
         293
        ],
        [
         "SECONDARY CODES",
         3,
         197
        ],
        [
         "SECONDARY CODES",
         4,
         127
        ],
        [
         "SECONDARY CODES",
         5,
         109
        ],
        [
         "SECONDARY CODES",
         6,
         115
        ],
        [
         "SECONDARY CODES",
         7,
         179
        ],
        [
         "SECONDARY CODES",
         8,
         284
        ],
        [
         "SECONDARY CODES",
         9,
         298
        ],
        [
         "SECONDARY CODES",
         10,
         291
        ],
        [
         "SECONDARY CODES",
         11,
         338
        ],
        [
         "SECONDARY CODES",
         12,
         456
        ],
        [
         "SECONDARY CODES",
         13,
         354
        ],
        [
         "SECONDARY CODES",
         14,
         355
        ],
        [
         "SECONDARY CODES",
         15,
         415
        ],
        [
         "SECONDARY CODES",
         16,
         427
        ],
        [
         "SECONDARY CODES",
         17,
         411
        ],
        [
         "SECONDARY CODES",
         18,
         447
        ],
        [
         "SECONDARY CODES",
         19,
         428
        ],
        [
         "SECONDARY CODES",
         20,
         440
        ],
        [
         "SECONDARY CODES",
         21,
         467
        ],
        [
         "SECONDARY CODES",
         22,
         454
        ],
        [
         "SECONDARY CODES",
         23,
         423
        ],
        [
         "SEX OFFENSES, FORCIBLE",
         0,
         450
        ],
        [
         "SEX OFFENSES, FORCIBLE",
         1,
         252
        ],
        [
         "SEX OFFENSES, FORCIBLE",
         2,
         261
        ],
        [
         "SEX OFFENSES, FORCIBLE",
         3,
         188
        ],
        [
         "SEX OFFENSES, FORCIBLE",
         4,
         101
        ],
        [
         "SEX OFFENSES, FORCIBLE",
         5,
         62
        ],
        [
         "SEX OFFENSES, FORCIBLE",
         6,
         69
        ],
        [
         "SEX OFFENSES, FORCIBLE",
         7,
         76
        ],
        [
         "SEX OFFENSES, FORCIBLE",
         8,
         198
        ],
        [
         "SEX OFFENSES, FORCIBLE",
         9,
         157
        ],
        [
         "SEX OFFENSES, FORCIBLE",
         10,
         112
        ],
        [
         "SEX OFFENSES, FORCIBLE",
         11,
         107
        ],
        [
         "SEX OFFENSES, FORCIBLE",
         12,
         183
        ],
        [
         "SEX OFFENSES, FORCIBLE",
         13,
         124
        ],
        [
         "SEX OFFENSES, FORCIBLE",
         14,
         150
        ],
        [
         "SEX OFFENSES, FORCIBLE",
         15,
         168
        ],
        [
         "SEX OFFENSES, FORCIBLE",
         16,
         166
        ],
        [
         "SEX OFFENSES, FORCIBLE",
         17,
         168
        ],
        [
         "SEX OFFENSES, FORCIBLE",
         18,
         138
        ],
        [
         "SEX OFFENSES, FORCIBLE",
         19,
         178
        ],
        [
         "SEX OFFENSES, FORCIBLE",
         20,
         216
        ],
        [
         "SEX OFFENSES, FORCIBLE",
         21,
         230
        ],
        [
         "SEX OFFENSES, FORCIBLE",
         22,
         209
        ],
        [
         "SEX OFFENSES, FORCIBLE",
         23,
         269
        ],
        [
         "SEX OFFENSES, NON FORCIBLE",
         0,
         4
        ],
        [
         "SEX OFFENSES, NON FORCIBLE",
         6,
         1
        ],
        [
         "SEX OFFENSES, NON FORCIBLE",
         8,
         1
        ],
        [
         "SEX OFFENSES, NON FORCIBLE",
         9,
         2
        ],
        [
         "SEX OFFENSES, NON FORCIBLE",
         12,
         2
        ],
        [
         "SEX OFFENSES, NON FORCIBLE",
         13,
         1
        ],
        [
         "SEX OFFENSES, NON FORCIBLE",
         17,
         1
        ],
        [
         "SEX OFFENSES, NON FORCIBLE",
         18,
         1
        ],
        [
         "SEX OFFENSES, NON FORCIBLE",
         19,
         1
        ],
        [
         "SEX OFFENSES, NON FORCIBLE",
         20,
         1
        ],
        [
         "SEX OFFENSES, NON FORCIBLE",
         23,
         1
        ],
        [
         "STOLEN PROPERTY",
         0,
         297
        ],
        [
         "STOLEN PROPERTY",
         1,
         219
        ],
        [
         "STOLEN PROPERTY",
         2,
         165
        ],
        [
         "STOLEN PROPERTY",
         3,
         143
        ],
        [
         "STOLEN PROPERTY",
         4,
         115
        ],
        [
         "STOLEN PROPERTY",
         5,
         94
        ],
        [
         "STOLEN PROPERTY",
         6,
         96
        ],
        [
         "STOLEN PROPERTY",
         7,
         146
        ],
        [
         "STOLEN PROPERTY",
         8,
         180
        ],
        [
         "STOLEN PROPERTY",
         9,
         197
        ],
        [
         "STOLEN PROPERTY",
         10,
         213
        ],
        [
         "STOLEN PROPERTY",
         11,
         254
        ],
        [
         "STOLEN PROPERTY",
         12,
         346
        ],
        [
         "STOLEN PROPERTY",
         13,
         303
        ],
        [
         "STOLEN PROPERTY",
         14,
         322
        ],
        [
         "STOLEN PROPERTY",
         15,
         357
        ],
        [
         "STOLEN PROPERTY",
         16,
         364
        ],
        [
         "STOLEN PROPERTY",
         17,
         374
        ],
        [
         "STOLEN PROPERTY",
         18,
         321
        ],
        [
         "STOLEN PROPERTY",
         19,
         296
        ],
        [
         "STOLEN PROPERTY",
         20,
         288
        ],
        [
         "STOLEN PROPERTY",
         21,
         275
        ],
        [
         "STOLEN PROPERTY",
         22,
         271
        ],
        [
         "STOLEN PROPERTY",
         23,
         267
        ],
        [
         "SUICIDE",
         0,
         12
        ],
        [
         "SUICIDE",
         1,
         13
        ],
        [
         "SUICIDE",
         2,
         13
        ],
        [
         "SUICIDE",
         3,
         9
        ],
        [
         "SUICIDE",
         4,
         4
        ],
        [
         "SUICIDE",
         5,
         9
        ],
        [
         "SUICIDE",
         6,
         13
        ],
        [
         "SUICIDE",
         7,
         13
        ],
        [
         "SUICIDE",
         8,
         24
        ],
        [
         "SUICIDE",
         9,
         21
        ],
        [
         "SUICIDE",
         10,
         26
        ],
        [
         "SUICIDE",
         11,
         36
        ],
        [
         "SUICIDE",
         12,
         33
        ],
        [
         "SUICIDE",
         13,
         30
        ],
        [
         "SUICIDE",
         14,
         40
        ],
        [
         "SUICIDE",
         15,
         37
        ],
        [
         "SUICIDE",
         16,
         29
        ],
        [
         "SUICIDE",
         17,
         35
        ],
        [
         "SUICIDE",
         18,
         23
        ],
        [
         "SUICIDE",
         19,
         24
        ],
        [
         "SUICIDE",
         20,
         25
        ],
        [
         "SUICIDE",
         21,
         22
        ],
        [
         "SUICIDE",
         22,
         15
        ],
        [
         "SUICIDE",
         23,
         13
        ],
        [
         "SUSPICIOUS OCC",
         0,
         2148
        ],
        [
         "SUSPICIOUS OCC",
         1,
         996
        ],
        [
         "SUSPICIOUS OCC",
         2,
         871
        ],
        [
         "SUSPICIOUS OCC",
         3,
         626
        ],
        [
         "SUSPICIOUS OCC",
         4,
         413
        ],
        [
         "SUSPICIOUS OCC",
         5,
         297
        ],
        [
         "SUSPICIOUS OCC",
         6,
         532
        ],
        [
         "SUSPICIOUS OCC",
         7,
         794
        ],
        [
         "SUSPICIOUS OCC",
         8,
         1325
        ],
        [
         "SUSPICIOUS OCC",
         9,
         1462
        ],
        [
         "SUSPICIOUS OCC",
         10,
         1527
        ],
        [
         "SUSPICIOUS OCC",
         11,
         1545
        ],
        [
         "SUSPICIOUS OCC",
         12,
         2175
        ],
        [
         "SUSPICIOUS OCC",
         13,
         1628
        ],
        [
         "SUSPICIOUS OCC",
         14,
         1635
        ],
        [
         "SUSPICIOUS OCC",
         15,
         1737
        ],
        [
         "SUSPICIOUS OCC",
         16,
         1690
        ],
        [
         "SUSPICIOUS OCC",
         17,
         1607
        ],
        [
         "SUSPICIOUS OCC",
         18,
         1628
        ],
        [
         "SUSPICIOUS OCC",
         19,
         1480
        ],
        [
         "SUSPICIOUS OCC",
         20,
         1322
        ],
        [
         "SUSPICIOUS OCC",
         21,
         1368
        ],
        [
         "SUSPICIOUS OCC",
         22,
         1318
        ],
        [
         "SUSPICIOUS OCC",
         23,
         1202
        ],
        [
         "TREA",
         5,
         1
        ],
        [
         "TREA",
         6,
         1
        ],
        [
         "TREA",
         12,
         1
        ],
        [
         "TREA",
         20,
         1
        ],
        [
         "TRESPASS",
         0,
         260
        ],
        [
         "TRESPASS",
         1,
         180
        ],
        [
         "TRESPASS",
         2,
         241
        ],
        [
         "TRESPASS",
         3,
         174
        ],
        [
         "TRESPASS",
         4,
         138
        ],
        [
         "TRESPASS",
         5,
         213
        ],
        [
         "TRESPASS",
         6,
         450
        ],
        [
         "TRESPASS",
         7,
         623
        ],
        [
         "TRESPASS",
         8,
         582
        ],
        [
         "TRESPASS",
         9,
         519
        ],
        [
         "TRESPASS",
         10,
         497
        ],
        [
         "TRESPASS",
         11,
         446
        ],
        [
         "TRESPASS",
         12,
         463
        ],
        [
         "TRESPASS",
         13,
         402
        ],
        [
         "TRESPASS",
         14,
         359
        ],
        [
         "TRESPASS",
         15,
         441
        ],
        [
         "TRESPASS",
         16,
         434
        ],
        [
         "TRESPASS",
         17,
         431
        ],
        [
         "TRESPASS",
         18,
         436
        ],
        [
         "TRESPASS",
         19,
         406
        ],
        [
         "TRESPASS",
         20,
         382
        ],
        [
         "TRESPASS",
         21,
         384
        ],
        [
         "TRESPASS",
         22,
         299
        ],
        [
         "TRESPASS",
         23,
         246
        ],
        [
         "VANDALISM",
         0,
         2654
        ],
        [
         "VANDALISM",
         1,
         1916
        ],
        [
         "VANDALISM",
         2,
         1780
        ],
        [
         "VANDALISM",
         3,
         1223
        ],
        [
         "VANDALISM",
         4,
         798
        ],
        [
         "VANDALISM",
         5,
         697
        ],
        [
         "VANDALISM",
         6,
         782
        ],
        [
         "VANDALISM",
         7,
         932
        ],
        [
         "VANDALISM",
         8,
         1347
        ],
        [
         "VANDALISM",
         9,
         1375
        ],
        [
         "VANDALISM",
         10,
         1385
        ],
        [
         "VANDALISM",
         11,
         1290
        ],
        [
         "VANDALISM",
         12,
         1683
        ],
        [
         "VANDALISM",
         13,
         1343
        ],
        [
         "VANDALISM",
         14,
         1534
        ],
        [
         "VANDALISM",
         15,
         1833
        ],
        [
         "VANDALISM",
         16,
         1988
        ],
        [
         "VANDALISM",
         17,
         2696
        ],
        [
         "VANDALISM",
         18,
         3200
        ],
        [
         "VANDALISM",
         19,
         3053
        ],
        [
         "VANDALISM",
         20,
         2956
        ],
        [
         "VANDALISM",
         21,
         3149
        ],
        [
         "VANDALISM",
         22,
         3124
        ],
        [
         "VANDALISM",
         23,
         2853
        ],
        [
         "VEHICLE THEFT",
         0,
         1568
        ],
        [
         "VEHICLE THEFT",
         1,
         1129
        ],
        [
         "VEHICLE THEFT",
         2,
         889
        ],
        [
         "VEHICLE THEFT",
         3,
         552
        ],
        [
         "VEHICLE THEFT",
         4,
         440
        ],
        [
         "VEHICLE THEFT",
         5,
         392
        ],
        [
         "VEHICLE THEFT",
         6,
         635
        ],
        [
         "VEHICLE THEFT",
         7,
         1049
        ],
        [
         "VEHICLE THEFT",
         8,
         1548
        ],
        [
         "VEHICLE THEFT",
         9,
         1580
        ],
        [
         "VEHICLE THEFT",
         10,
         1452
        ],
        [
         "VEHICLE THEFT",
         11,
         1321
        ],
        [
         "VEHICLE THEFT",
         12,
         1938
        ],
        [
         "VEHICLE THEFT",
         13,
         1453
        ],
        [
         "VEHICLE THEFT",
         14,
         1687
        ],
        [
         "VEHICLE THEFT",
         15,
         1917
        ],
        [
         "VEHICLE THEFT",
         16,
         2292
        ],
        [
         "VEHICLE THEFT",
         17,
         2942
        ],
        [
         "VEHICLE THEFT",
         18,
         3485
        ],
        [
         "VEHICLE THEFT",
         19,
         3079
        ],
        [
         "VEHICLE THEFT",
         20,
         3139
        ],
        [
         "VEHICLE THEFT",
         21,
         2997
        ],
        [
         "VEHICLE THEFT",
         22,
         3110
        ],
        [
         "VEHICLE THEFT",
         23,
         2888
        ],
        [
         "WARRANTS",
         0,
         1933
        ],
        [
         "WARRANTS",
         1,
         1413
        ],
        [
         "WARRANTS",
         2,
         1212
        ],
        [
         "WARRANTS",
         3,
         950
        ],
        [
         "WARRANTS",
         4,
         674
        ],
        [
         "WARRANTS",
         5,
         459
        ],
        [
         "WARRANTS",
         6,
         792
        ],
        [
         "WARRANTS",
         7,
         1613
        ],
        [
         "WARRANTS",
         8,
         2000
        ],
        [
         "WARRANTS",
         9,
         2297
        ],
        [
         "WARRANTS",
         10,
         2466
        ],
        [
         "WARRANTS",
         11,
         2591
        ],
        [
         "WARRANTS",
         12,
         2643
        ],
        [
         "WARRANTS",
         13,
         2870
        ],
        [
         "WARRANTS",
         14,
         2789
        ],
        [
         "WARRANTS",
         15,
         2786
        ],
        [
         "WARRANTS",
         16,
         3010
        ],
        [
         "WARRANTS",
         17,
         3018
        ],
        [
         "WARRANTS",
         18,
         2722
        ],
        [
         "WARRANTS",
         19,
         2381
        ],
        [
         "WARRANTS",
         20,
         1913
        ],
        [
         "WARRANTS",
         21,
         1868
        ],
        [
         "WARRANTS",
         22,
         2186
        ],
        [
         "WARRANTS",
         23,
         2042
        ],
        [
         "WEAPON LAWS",
         0,
         466
        ],
        [
         "WEAPON LAWS",
         1,
         354
        ],
        [
         "WEAPON LAWS",
         2,
         323
        ],
        [
         "WEAPON LAWS",
         3,
         199
        ],
        [
         "WEAPON LAWS",
         4,
         142
        ],
        [
         "WEAPON LAWS",
         5,
         74
        ],
        [
         "WEAPON LAWS",
         6,
         98
        ],
        [
         "WEAPON LAWS",
         7,
         197
        ],
        [
         "WEAPON LAWS",
         8,
         236
        ],
        [
         "WEAPON LAWS",
         9,
         247
        ],
        [
         "WEAPON LAWS",
         10,
         272
        ],
        [
         "WEAPON LAWS",
         11,
         335
        ],
        [
         "WEAPON LAWS",
         12,
         372
        ],
        [
         "WEAPON LAWS",
         13,
         348
        ],
        [
         "WEAPON LAWS",
         14,
         374
        ],
        [
         "WEAPON LAWS",
         15,
         416
        ],
        [
         "WEAPON LAWS",
         16,
         458
        ],
        [
         "WEAPON LAWS",
         17,
         453
        ],
        [
         "WEAPON LAWS",
         18,
         507
        ],
        [
         "WEAPON LAWS",
         19,
         462
        ],
        [
         "WEAPON LAWS",
         20,
         398
        ],
        [
         "WEAPON LAWS",
         21,
         460
        ],
        [
         "WEAPON LAWS",
         22,
         492
        ],
        [
         "WEAPON LAWS",
         23,
         505
        ]
       ],
       "datasetInfos": [],
       "dbfsResultPath": null,
       "isJsonSchema": true,
       "metadata": {},
       "overflow": false,
       "plotOptions": {
        "customPlotOptions": {
         "plotlyBar": [
          {
           "key": "grouped",
           "value": false
          },
          {
           "key": "stacked",
           "value": true
          },
          {
           "key": "100_stacked",
           "value": false
          }
         ]
        },
        "displayType": "plotlyBar",
        "pivotAggregation": "sum",
        "pivotColumns": [
         "Category"
        ],
        "xColumns": [
         "Hour"
        ],
        "yColumns": [
         "counts"
        ]
       },
       "removedWidgets": [],
       "schema": [
        {
         "metadata": "{}",
         "name": "Category",
         "type": "\"string\""
        },
        {
         "metadata": "{}",
         "name": "Hour",
         "type": "\"integer\""
        },
        {
         "metadata": "{}",
         "name": "counts",
         "type": "\"long\""
        }
       ],
       "type": "table"
      }
     },
     "output_type": "display_data"
    }
   ],
   "source": [
    "#SQL Way\n",
    "category_time_top3=spark.sql(\"\"\"\n",
    "select Category,Hour,count(*) as counts\n",
    "from sf_crime\n",
    "where PdDistrict in ('SOUTHERN', 'MISSION', 'NORTHERN')\n",
    "group by 1,2\n",
    "order by 1,2\"\"\")\n",
    "display(category_time_top3)"
   ]
  },
  {
   "cell_type": "markdown",
   "metadata": {
    "application/vnd.databricks.v1+cell": {
     "cellMetadata": {},
     "inputWidgets": {},
     "nuid": "5824c17d-809c-49fb-9e97-879fd734a786",
     "showTitle": true,
     "title": "Step 3 Give advices to distribute the police based on analysis results."
    }
   },
   "source": [
    "Insights\n",
    "1. The top three dangerous districts in SF are 'SOUTHERN','MISSION','NORTHERN'\n",
    "2. The number of crime reaches the lowest point around 5 and increases to the submit at 18.\n",
    "3. The suggestion is to assign more resource and polices for time slots between 17-19"
   ]
  },
  {
   "cell_type": "markdown",
   "metadata": {
    "application/vnd.databricks.v1+cell": {
     "cellMetadata": {},
     "inputWidgets": {},
     "nuid": "fd37ccd7-47c9-4d2c-a573-5787c7efd711",
     "showTitle": false,
     "title": ""
    }
   },
   "source": [
    "### Q7 For different category of crime, find the percentage of resolution. Based on the output, give your hints to adjust the policy."
   ]
  },
  {
   "cell_type": "code",
   "execution_count": 0,
   "metadata": {
    "application/vnd.databricks.v1+cell": {
     "cellMetadata": {},
     "inputWidgets": {},
     "nuid": "30ba1bee-b9f6-4efd-8af1-6715698efb26",
     "showTitle": true,
     "title": "7.1 Spark Dataframe based solution"
    }
   },
   "outputs": [
    {
     "data": {
      "text/html": [
       "<style scoped>\n",
       "  .table-result-container {\n",
       "    max-height: 300px;\n",
       "    overflow: auto;\n",
       "  }\n",
       "  table, th, td {\n",
       "    border: 1px solid black;\n",
       "    border-collapse: collapse;\n",
       "  }\n",
       "  th, td {\n",
       "    padding: 5px;\n",
       "  }\n",
       "  th {\n",
       "    text-align: left;\n",
       "  }\n",
       "</style><div class='table-result-container'><table class='table-result'><thead style='background-color: white'><tr><th>category</th><th>resolution</th><th>count</th></tr></thead><tbody><tr><td>OTHER OFFENSES</td><td>ARREST, BOOKED</td><td>115427</td></tr><tr><td>DRUG/NARCOTIC</td><td>ARREST, BOOKED</td><td>97926</td></tr><tr><td>OTHER OFFENSES</td><td>ARREST, CITED</td><td>94817</td></tr><tr><td>WARRANTS</td><td>ARREST, BOOKED</td><td>93092</td></tr><tr><td>ASSAULT</td><td>ARREST, BOOKED</td><td>49246</td></tr><tr><td>NON-CRIMINAL</td><td>PSYCHOPATHIC CASE</td><td>27027</td></tr><tr><td>LARCENY/THEFT</td><td>ARREST, BOOKED</td><td>25136</td></tr><tr><td>MISSING PERSON</td><td>LOCATED</td><td>19615</td></tr><tr><td>WEAPON LAWS</td><td>ARREST, BOOKED</td><td>13334</td></tr><tr><td>BURGLARY</td><td>ARREST, BOOKED</td><td>12765</td></tr><tr><td>LARCENY/THEFT</td><td>ARREST, CITED</td><td>10463</td></tr><tr><td>NON-CRIMINAL</td><td>ARREST, BOOKED</td><td>9918</td></tr><tr><td>STOLEN PROPERTY</td><td>ARREST, BOOKED</td><td>9693</td></tr><tr><td>PROSTITUTION</td><td>ARREST, CITED</td><td>9667</td></tr><tr><td>ROBBERY</td><td>ARREST, BOOKED</td><td>9598</td></tr><tr><td>DRUG/NARCOTIC</td><td>ARREST, CITED</td><td>9046</td></tr><tr><td>VANDALISM</td><td>ARREST, BOOKED</td><td>8734</td></tr><tr><td>SECONDARY CODES</td><td>ARREST, BOOKED</td><td>7811</td></tr><tr><td>TRESPASS</td><td>ARREST, BOOKED</td><td>7598</td></tr><tr><td>DRUNKENNESS</td><td>ARREST, BOOKED</td><td>7471</td></tr><tr><td>NON-CRIMINAL</td><td>UNFOUNDED</td><td>7398</td></tr><tr><td>ASSAULT</td><td>ARREST, CITED</td><td>7027</td></tr><tr><td>PROSTITUTION</td><td>ARREST, BOOKED</td><td>5780</td></tr><tr><td>VEHICLE THEFT</td><td>ARREST, BOOKED</td><td>5064</td></tr><tr><td>TRESPASS</td><td>ARREST, CITED</td><td>5053</td></tr><tr><td>DRIVING UNDER THE INFLUENCE</td><td>ARREST, BOOKED</td><td>4941</td></tr><tr><td>FRAUD</td><td>ARREST, BOOKED</td><td>4940</td></tr><tr><td>VEHICLE THEFT</td><td>UNFOUNDED</td><td>4789</td></tr><tr><td>FORGERY/COUNTERFEITING</td><td>ARREST, BOOKED</td><td>4339</td></tr><tr><td>DISORDERLY CONDUCT</td><td>ARREST, BOOKED</td><td>3702</td></tr><tr><td>NON-CRIMINAL</td><td>ARREST, CITED</td><td>3220</td></tr><tr><td>VANDALISM</td><td>ARREST, CITED</td><td>2967</td></tr><tr><td>SUSPICIOUS OCC</td><td>ARREST, BOOKED</td><td>2765</td></tr><tr><td>DISORDERLY CONDUCT</td><td>ARREST, CITED</td><td>2627</td></tr><tr><td>SUSPICIOUS OCC</td><td>UNFOUNDED</td><td>2507</td></tr><tr><td>KIDNAPPING</td><td>ARREST, BOOKED</td><td>2165</td></tr><tr><td>ASSAULT</td><td>DISTRICT ATTORNEY REFUSES TO PROSECUTE</td><td>2051</td></tr><tr><td>FRAUD</td><td>NOT PROSECUTED</td><td>1940</td></tr><tr><td>FORGERY/COUNTERFEITING</td><td>PROSECUTED BY OUTSIDE AGENCY</td><td>1866</td></tr><tr><td>LIQUOR LAWS</td><td>ARREST, BOOKED</td><td>1839</td></tr><tr><td>ASSAULT</td><td>COMPLAINANT REFUSES TO PROSECUTE</td><td>1797</td></tr><tr><td>OTHER OFFENSES</td><td>UNFOUNDED</td><td>1715</td></tr><tr><td>SEX OFFENSES, FORCIBLE</td><td>ARREST, BOOKED</td><td>1648</td></tr><tr><td>LARCENY/THEFT</td><td>NOT PROSECUTED</td><td>1600</td></tr><tr><td>LOITERING</td><td>ARREST, CITED</td><td>1432</td></tr><tr><td>NON-CRIMINAL</td><td>COMPLAINANT REFUSES TO PROSECUTE</td><td>1432</td></tr><tr><td>FORGERY/COUNTERFEITING</td><td>NOT PROSECUTED</td><td>1421</td></tr><tr><td>LARCENY/THEFT</td><td>UNFOUNDED</td><td>1221</td></tr><tr><td>WEAPON LAWS</td><td>ARREST, CITED</td><td>1157</td></tr><tr><td>MISSING PERSON</td><td>ARREST, BOOKED</td><td>1125</td></tr><tr><td>ASSAULT</td><td>UNFOUNDED</td><td>1000</td></tr><tr><td>NON-CRIMINAL</td><td>EXCEPTIONAL CLEARANCE</td><td>945</td></tr><tr><td>FRAUD</td><td>ARREST, CITED</td><td>921</td></tr><tr><td>SUSPICIOUS OCC</td><td>ARREST, CITED</td><td>889</td></tr><tr><td>WARRANTS</td><td>ARREST, CITED</td><td>885</td></tr><tr><td>FRAUD</td><td>PROSECUTED BY OUTSIDE AGENCY</td><td>881</td></tr><tr><td>NON-CRIMINAL</td><td>LOCATED</td><td>866</td></tr><tr><td>MISSING PERSON</td><td>UNFOUNDED</td><td>827</td></tr><tr><td>NON-CRIMINAL</td><td>NOT PROSECUTED</td><td>796</td></tr><tr><td>OTHER OFFENSES</td><td>PROSECUTED BY OUTSIDE AGENCY</td><td>718</td></tr><tr><td>LOITERING</td><td>ARREST, BOOKED</td><td>658</td></tr><tr><td>LIQUOR LAWS</td><td>ARREST, CITED</td><td>652</td></tr><tr><td>OTHER OFFENSES</td><td>DISTRICT ATTORNEY REFUSES TO PROSECUTE</td><td>635</td></tr><tr><td>ASSAULT</td><td>EXCEPTIONAL CLEARANCE</td><td>632</td></tr><tr><td>ARSON</td><td>ARREST, BOOKED</td><td>630</td></tr><tr><td>SECONDARY CODES</td><td>COMPLAINANT REFUSES TO PROSECUTE</td><td>621</td></tr><tr><td>SUSPICIOUS OCC</td><td>COMPLAINANT REFUSES TO PROSECUTE</td><td>611</td></tr><tr><td>OTHER OFFENSES</td><td>COMPLAINANT REFUSES TO PROSECUTE</td><td>604</td></tr><tr><td>SEX OFFENSES, FORCIBLE</td><td>DISTRICT ATTORNEY REFUSES TO PROSECUTE</td><td>592</td></tr><tr><td>RECOVERED VEHICLE</td><td>ARREST, BOOKED</td><td>564</td></tr><tr><td>BURGLARY</td><td>UNFOUNDED</td><td>545</td></tr><tr><td>ROBBERY</td><td>COMPLAINANT REFUSES TO PROSECUTE</td><td>536</td></tr><tr><td>SECONDARY CODES</td><td>DISTRICT ATTORNEY REFUSES TO PROSECUTE</td><td>528</td></tr><tr><td>ROBBERY</td><td>DISTRICT ATTORNEY REFUSES TO PROSECUTE</td><td>500</td></tr><tr><td>NON-CRIMINAL</td><td>PROSECUTED BY OUTSIDE AGENCY</td><td>476</td></tr><tr><td>LARCENY/THEFT</td><td>COMPLAINANT REFUSES TO PROSECUTE</td><td>471</td></tr><tr><td>NON-CRIMINAL</td><td>DISTRICT ATTORNEY REFUSES TO PROSECUTE</td><td>470</td></tr><tr><td>LARCENY/THEFT</td><td>DISTRICT ATTORNEY REFUSES TO PROSECUTE</td><td>467</td></tr><tr><td>SUSPICIOUS OCC</td><td>NOT PROSECUTED</td><td>456</td></tr><tr><td>EMBEZZLEMENT</td><td>ARREST, BOOKED</td><td>453</td></tr><tr><td>LARCENY/THEFT</td><td>EXCEPTIONAL CLEARANCE</td><td>442</td></tr><tr><td>DRUNKENNESS</td><td>ARREST, CITED</td><td>441</td></tr><tr><td>VANDALISM</td><td>UNFOUNDED</td><td>434</td></tr><tr><td>OTHER OFFENSES</td><td>NOT PROSECUTED</td><td>433</td></tr><tr><td>MISSING PERSON</td><td>PSYCHOPATHIC CASE</td><td>426</td></tr><tr><td>BRIBERY</td><td>ARREST, BOOKED</td><td>418</td></tr><tr><td>BURGLARY</td><td>DISTRICT ATTORNEY REFUSES TO PROSECUTE</td><td>413</td></tr><tr><td>ROBBERY</td><td>UNFOUNDED</td><td>408</td></tr><tr><td>ASSAULT</td><td>PSYCHOPATHIC CASE</td><td>403</td></tr><tr><td>FORGERY/COUNTERFEITING</td><td>UNFOUNDED</td><td>393</td></tr><tr><td>SEX OFFENSES, FORCIBLE</td><td>COMPLAINANT REFUSES TO PROSECUTE</td><td>392</td></tr><tr><td>SUSPICIOUS OCC</td><td>DISTRICT ATTORNEY REFUSES TO PROSECUTE</td><td>389</td></tr><tr><td>DRIVING UNDER THE INFLUENCE</td><td>ARREST, CITED</td><td>380</td></tr><tr><td>OTHER OFFENSES</td><td>EXCEPTIONAL CLEARANCE</td><td>361</td></tr><tr><td>BURGLARY</td><td>COMPLAINANT REFUSES TO PROSECUTE</td><td>298</td></tr><tr><td>MISSING PERSON</td><td>ARREST, CITED</td><td>296</td></tr><tr><td>FRAUD</td><td>UNFOUNDED</td><td>285</td></tr><tr><td>MISSING PERSON</td><td>EXCEPTIONAL CLEARANCE</td><td>271</td></tr><tr><td>VANDALISM</td><td>COMPLAINANT REFUSES TO PROSECUTE</td><td>264</td></tr><tr><td>SUSPICIOUS OCC</td><td>EXCEPTIONAL CLEARANCE</td><td>262</td></tr><tr><td>SUSPICIOUS OCC</td><td>PROSECUTED BY OUTSIDE AGENCY</td><td>256</td></tr><tr><td>FORGERY/COUNTERFEITING</td><td>ARREST, CITED</td><td>247</td></tr><tr><td>SUICIDE</td><td>PSYCHOPATHIC CASE</td><td>235</td></tr><tr><td>SUSPICIOUS OCC</td><td>LOCATED</td><td>235</td></tr><tr><td>DRUG/NARCOTIC</td><td>UNFOUNDED</td><td>219</td></tr><tr><td>SECONDARY CODES</td><td>UNFOUNDED</td><td>217</td></tr><tr><td>OTHER OFFENSES</td><td>PSYCHOPATHIC CASE</td><td>212</td></tr><tr><td>SUSPICIOUS OCC</td><td>PSYCHOPATHIC CASE</td><td>202</td></tr><tr><td>SEX OFFENSES, FORCIBLE</td><td>ARREST, CITED</td><td>200</td></tr><tr><td>VANDALISM</td><td>PSYCHOPATHIC CASE</td><td>196</td></tr><tr><td>VANDALISM</td><td>DISTRICT ATTORNEY REFUSES TO PROSECUTE</td><td>191</td></tr><tr><td>SECONDARY CODES</td><td>ARREST, CITED</td><td>188</td></tr><tr><td>VEHICLE THEFT</td><td>ARREST, CITED</td><td>185</td></tr><tr><td>SEX OFFENSES, FORCIBLE</td><td>UNFOUNDED</td><td>173</td></tr><tr><td>STOLEN PROPERTY</td><td>ARREST, CITED</td><td>161</td></tr><tr><td>LARCENY/THEFT</td><td>PROSECUTED BY OUTSIDE AGENCY</td><td>156</td></tr><tr><td>FORGERY/COUNTERFEITING</td><td>DISTRICT ATTORNEY REFUSES TO PROSECUTE</td><td>156</td></tr><tr><td>WEAPON LAWS</td><td>UNFOUNDED</td><td>156</td></tr><tr><td>BURGLARY</td><td>ARREST, CITED</td><td>146</td></tr><tr><td>DRUG/NARCOTIC</td><td>NOT PROSECUTED</td><td>139</td></tr><tr><td>ASSAULT</td><td>NOT PROSECUTED</td><td>136</td></tr><tr><td>BURGLARY</td><td>EXCEPTIONAL CLEARANCE</td><td>134</td></tr><tr><td>WARRANTS</td><td>UNFOUNDED</td><td>132</td></tr><tr><td>PROSTITUTION</td><td>EXCEPTIONAL CLEARANCE</td><td>131</td></tr><tr><td>FRAUD</td><td>DISTRICT ATTORNEY REFUSES TO PROSECUTE</td><td>130</td></tr><tr><td>KIDNAPPING</td><td>DISTRICT ATTORNEY REFUSES TO PROSECUTE</td><td>129</td></tr><tr><td>FRAUD</td><td>EXCEPTIONAL CLEARANCE</td><td>129</td></tr><tr><td>OTHER OFFENSES</td><td>LOCATED</td><td>119</td></tr><tr><td>GAMBLING</td><td>ARREST, BOOKED</td><td>118</td></tr><tr><td>ROBBERY</td><td>NOT PROSECUTED</td><td>109</td></tr><tr><td>EXTORTION</td><td>ARREST, BOOKED</td><td>107</td></tr><tr><td>SEX OFFENSES, FORCIBLE</td><td>EXCEPTIONAL CLEARANCE</td><td>104</td></tr><tr><td>ASSAULT</td><td>PROSECUTED BY OUTSIDE AGENCY</td><td>102</td></tr><tr><td>KIDNAPPING</td><td>COMPLAINANT REFUSES TO PROSECUTE</td><td>99</td></tr><tr><td>EMBEZZLEMENT</td><td>DISTRICT ATTORNEY REFUSES TO PROSECUTE</td><td>98</td></tr><tr><td>WEAPON LAWS</td><td>DISTRICT ATTORNEY REFUSES TO PROSECUTE</td><td>94</td></tr><tr><td>ASSAULT</td><td>LOCATED</td><td>93</td></tr><tr><td>ROBBERY</td><td>ARREST, CITED</td><td>90</td></tr><tr><td>VANDALISM</td><td>EXCEPTIONAL CLEARANCE</td><td>83</td></tr><tr><td>GAMBLING</td><td>ARREST, CITED</td><td>83</td></tr><tr><td>ROBBERY</td><td>EXCEPTIONAL CLEARANCE</td><td>82</td></tr><tr><td>FORGERY/COUNTERFEITING</td><td>EXCEPTIONAL CLEARANCE</td><td>76</td></tr><tr><td>VEHICLE THEFT</td><td>DISTRICT ATTORNEY REFUSES TO PROSECUTE</td><td>70</td></tr><tr><td>TRESPASS</td><td>UNFOUNDED</td><td>68</td></tr><tr><td>WEAPON LAWS</td><td>NOT PROSECUTED</td><td>66</td></tr><tr><td>EMBEZZLEMENT</td><td>ARREST, CITED</td><td>60</td></tr><tr><td>DISORDERLY CONDUCT</td><td>UNFOUNDED</td><td>60</td></tr><tr><td>STOLEN PROPERTY</td><td>NOT PROSECUTED</td><td>59</td></tr><tr><td>TRESPASS</td><td>COMPLAINANT REFUSES TO PROSECUTE</td><td>56</td></tr><tr><td>SECONDARY CODES</td><td>NOT PROSECUTED</td><td>56</td></tr><tr><td>BURGLARY</td><td>NOT PROSECUTED</td><td>55</td></tr><tr><td>VEHICLE THEFT</td><td>COMPLAINANT REFUSES TO PROSECUTE</td><td>53</td></tr><tr><td>TRESPASS</td><td>PSYCHOPATHIC CASE</td><td>52</td></tr><tr><td>DRUG/NARCOTIC</td><td>PSYCHOPATHIC CASE</td><td>51</td></tr><tr><td>BAD CHECKS</td><td>ARREST, BOOKED</td><td>49</td></tr><tr><td>DRUG/NARCOTIC</td><td>COMPLAINANT REFUSES TO PROSECUTE</td><td>49</td></tr><tr><td>BAD CHECKS</td><td>PROSECUTED BY OUTSIDE AGENCY</td><td>48</td></tr><tr><td>EMBEZZLEMENT</td><td>COMPLAINANT REFUSES TO PROSECUTE</td><td>48</td></tr><tr><td>ROBBERY</td><td>PROSECUTED BY OUTSIDE AGENCY</td><td>47</td></tr><tr><td>LARCENY/THEFT</td><td>PSYCHOPATHIC CASE</td><td>47</td></tr><tr><td>EMBEZZLEMENT</td><td>UNFOUNDED</td><td>46</td></tr><tr><td>SECONDARY CODES</td><td>EXCEPTIONAL CLEARANCE</td><td>46</td></tr><tr><td>FRAUD</td><td>COMPLAINANT REFUSES TO PROSECUTE</td><td>46</td></tr><tr><td>EMBEZZLEMENT</td><td>PROSECUTED BY OUTSIDE AGENCY</td><td>45</td></tr><tr><td>WEAPON LAWS</td><td>COMPLAINANT REFUSES TO PROSECUTE</td><td>45</td></tr><tr><td>BAD CHECKS</td><td>NOT PROSECUTED</td><td>45</td></tr><tr><td>LARCENY/THEFT</td><td>LOCATED</td><td>44</td></tr><tr><td>EMBEZZLEMENT</td><td>NOT PROSECUTED</td><td>44</td></tr><tr><td>WARRANTS</td><td>PROSECUTED BY OUTSIDE AGENCY</td><td>43</td></tr><tr><td>FORGERY/COUNTERFEITING</td><td>COMPLAINANT REFUSES TO PROSECUTE</td><td>42</td></tr><tr><td>WEAPON LAWS</td><td>EXCEPTIONAL CLEARANCE</td><td>39</td></tr><tr><td>EMBEZZLEMENT</td><td>EXCEPTIONAL CLEARANCE</td><td>38</td></tr><tr><td>DRUG/NARCOTIC</td><td>EXCEPTIONAL CLEARANCE</td><td>37</td></tr><tr><td>DRUNKENNESS</td><td>PSYCHOPATHIC CASE</td><td>37</td></tr><tr><td>WARRANTS</td><td>DISTRICT ATTORNEY REFUSES TO PROSECUTE</td><td>36</td></tr><tr><td>WARRANTS</td><td>PSYCHOPATHIC CASE</td><td>36</td></tr><tr><td>VEHICLE THEFT</td><td>EXCEPTIONAL CLEARANCE</td><td>35</td></tr><tr><td>DRUG/NARCOTIC</td><td>PROSECUTED BY OUTSIDE AGENCY</td><td>35</td></tr><tr><td>KIDNAPPING</td><td>UNFOUNDED</td><td>35</td></tr><tr><td>SUICIDE</td><td>ARREST, BOOKED</td><td>34</td></tr><tr><td>VANDALISM</td><td>NOT PROSECUTED</td><td>34</td></tr><tr><td>WARRANTS</td><td>LOCATED</td><td>34</td></tr><tr><td>MISSING PERSON</td><td>PROSECUTED BY OUTSIDE AGENCY</td><td>32</td></tr><tr><td>BURGLARY</td><td>PROSECUTED BY OUTSIDE AGENCY</td><td>32</td></tr><tr><td>SECONDARY CODES</td><td>PROSECUTED BY OUTSIDE AGENCY</td><td>31</td></tr><tr><td>SECONDARY CODES</td><td>PSYCHOPATHIC CASE</td><td>30</td></tr><tr><td>WARRANTS</td><td>EXCEPTIONAL CLEARANCE</td><td>30</td></tr><tr><td>STOLEN PROPERTY</td><td>PROSECUTED BY OUTSIDE AGENCY</td><td>30</td></tr><tr><td>DRUNKENNESS</td><td>UNFOUNDED</td><td>28</td></tr><tr><td>DISORDERLY CONDUCT</td><td>COMPLAINANT REFUSES TO PROSECUTE</td><td>28</td></tr><tr><td>STOLEN PROPERTY</td><td>DISTRICT ATTORNEY REFUSES TO PROSECUTE</td><td>27</td></tr><tr><td>PROSTITUTION</td><td>UNFOUNDED</td><td>25</td></tr><tr><td>VANDALISM</td><td>LOCATED</td><td>25</td></tr><tr><td>ARSON</td><td>UNFOUNDED</td><td>25</td></tr><tr><td>TRESPASS</td><td>NOT PROSECUTED</td><td>24</td></tr><tr><td>DRUG/NARCOTIC</td><td>DISTRICT ATTORNEY REFUSES TO PROSECUTE</td><td>24</td></tr><tr><td>DRUG/NARCOTIC</td><td>LOCATED</td><td>24</td></tr><tr><td>DRUNKENNESS</td><td>NOT PROSECUTED</td><td>23</td></tr><tr><td>SEX OFFENSES, FORCIBLE</td><td>PROSECUTED BY OUTSIDE AGENCY</td><td>23</td></tr><tr><td>TRESPASS</td><td>EXCEPTIONAL CLEARANCE</td><td>22</td></tr><tr><td>WARRANTS</td><td>COMPLAINANT REFUSES TO PROSECUTE</td><td>21</td></tr><tr><td>WEAPON LAWS</td><td>PSYCHOPATHIC CASE</td><td>20</td></tr><tr><td>VEHICLE THEFT</td><td>LOCATED</td><td>20</td></tr><tr><td>LIQUOR LAWS</td><td>PROSECUTED BY OUTSIDE AGENCY</td><td>20</td></tr><tr><td>PROSTITUTION</td><td>DISTRICT ATTORNEY REFUSES TO PROSECUTE</td><td>20</td></tr><tr><td>VEHICLE THEFT</td><td>NOT PROSECUTED</td><td>19</td></tr><tr><td>MISSING PERSON</td><td>NOT PROSECUTED</td><td>19</td></tr><tr><td>SUICIDE</td><td>LOCATED</td><td>19</td></tr><tr><td>TRESPASS</td><td>DISTRICT ATTORNEY REFUSES TO PROSECUTE</td><td>18</td></tr><tr><td>WARRANTS</td><td>NOT PROSECUTED</td><td>18</td></tr><tr><td>DISORDERLY CONDUCT</td><td>PSYCHOPATHIC CASE</td><td>18</td></tr><tr><td>OTHER OFFENSES</td><td>PROSECUTED FOR LESSER OFFENSE</td><td>18</td></tr><tr><td>SEX OFFENSES, FORCIBLE</td><td>NOT PROSECUTED</td><td>18</td></tr><tr><td>ARSON</td><td>ARREST, CITED</td><td>17</td></tr><tr><td>ARSON</td><td>PSYCHOPATHIC CASE</td><td>17</td></tr><tr><td>STOLEN PROPERTY</td><td>UNFOUNDED</td><td>17</td></tr><tr><td>KIDNAPPING</td><td>ARREST, CITED</td><td>17</td></tr><tr><td>BURGLARY</td><td>LOCATED</td><td>15</td></tr><tr><td>KIDNAPPING</td><td>PROSECUTED BY OUTSIDE AGENCY</td><td>15</td></tr><tr><td>BRIBERY</td><td>DISTRICT ATTORNEY REFUSES TO PROSECUTE</td><td>15</td></tr><tr><td>WEAPON LAWS</td><td>PROSECUTED BY OUTSIDE AGENCY</td><td>15</td></tr><tr><td>DRUG/NARCOTIC</td><td>PROSECUTED FOR LESSER OFFENSE</td><td>15</td></tr><tr><td>PORNOGRAPHY/OBSCENE MAT</td><td>ARREST, BOOKED</td><td>15</td></tr><tr><td>STOLEN PROPERTY</td><td>EXCEPTIONAL CLEARANCE</td><td>15</td></tr><tr><td>MISSING PERSON</td><td>DISTRICT ATTORNEY REFUSES TO PROSECUTE</td><td>15</td></tr><tr><td>KIDNAPPING</td><td>EXCEPTIONAL CLEARANCE</td><td>14</td></tr><tr><td>BAD CHECKS</td><td>DISTRICT ATTORNEY REFUSES TO PROSECUTE</td><td>14</td></tr><tr><td>BAD CHECKS</td><td>UNFOUNDED</td><td>12</td></tr><tr><td>GAMBLING</td><td>NOT PROSECUTED</td><td>12</td></tr><tr><td>ASSAULT</td><td>PROSECUTED FOR LESSER OFFENSE</td><td>12</td></tr><tr><td>GAMBLING</td><td>PROSECUTED BY OUTSIDE AGENCY</td><td>12</td></tr><tr><td>EXTORTION</td><td>DISTRICT ATTORNEY REFUSES TO PROSECUTE</td><td>12</td></tr><tr><td>SEX OFFENSES, FORCIBLE</td><td>LOCATED</td><td>12</td></tr><tr><td>DRUNKENNESS</td><td>COMPLAINANT REFUSES TO PROSECUTE</td><td>12</td></tr><tr><td>VANDALISM</td><td>PROSECUTED BY OUTSIDE AGENCY</td><td>12</td></tr><tr><td>MISSING PERSON</td><td>COMPLAINANT REFUSES TO PROSECUTE</td><td>12</td></tr><tr><td>WARRANTS</td><td>PROSECUTED FOR LESSER OFFENSE</td><td>12</td></tr><tr><td>SECONDARY CODES</td><td>LOCATED</td><td>11</td></tr><tr><td>PROSTITUTION</td><td>COMPLAINANT REFUSES TO PROSECUTE</td><td>11</td></tr><tr><td>BRIBERY</td><td>COMPLAINANT REFUSES TO PROSECUTE</td><td>11</td></tr><tr><td>VEHICLE THEFT</td><td>PROSECUTED BY OUTSIDE AGENCY</td><td>11</td></tr><tr><td>DISORDERLY CONDUCT</td><td>NOT PROSECUTED</td><td>11</td></tr><tr><td>TRESPASS</td><td>LOCATED</td><td>10</td></tr><tr><td>SEX OFFENSES, FORCIBLE</td><td>PSYCHOPATHIC CASE</td><td>10</td></tr><tr><td>FRAUD</td><td>PSYCHOPATHIC CASE</td><td>10</td></tr><tr><td>DISORDERLY CONDUCT</td><td>EXCEPTIONAL CLEARANCE</td><td>10</td></tr><tr><td>EXTORTION</td><td>COMPLAINANT REFUSES TO PROSECUTE</td><td>10</td></tr><tr><td>SUICIDE</td><td>UNFOUNDED</td><td>9</td></tr><tr><td>BURGLARY</td><td>PSYCHOPATHIC CASE</td><td>9</td></tr><tr><td>SUICIDE</td><td>EXCEPTIONAL CLEARANCE</td><td>9</td></tr><tr><td>DISORDERLY CONDUCT</td><td>DISTRICT ATTORNEY REFUSES TO PROSECUTE</td><td>9</td></tr><tr><td>EXTORTION</td><td>UNFOUNDED</td><td>8</td></tr><tr><td>DRUNKENNESS</td><td>LOCATED</td><td>8</td></tr><tr><td>ROBBERY</td><td>LOCATED</td><td>8</td></tr><tr><td>WEAPON LAWS</td><td>LOCATED</td><td>7</td></tr><tr><td>PROSTITUTION</td><td>PROSECUTED BY OUTSIDE AGENCY</td><td>7</td></tr><tr><td>PROSTITUTION</td><td>LOCATED</td><td>7</td></tr><tr><td>FRAUD</td><td>LOCATED</td><td>7</td></tr><tr><td>DRUNKENNESS</td><td>EXCEPTIONAL CLEARANCE</td><td>7</td></tr><tr><td>SEX OFFENSES, NON FORCIBLE</td><td>DISTRICT ATTORNEY REFUSES TO PROSECUTE</td><td>7</td></tr><tr><td>PORNOGRAPHY/OBSCENE MAT</td><td>ARREST, CITED</td><td>6</td></tr><tr><td>RECOVERED VEHICLE</td><td>ARREST, CITED</td><td>6</td></tr><tr><td>DRUNKENNESS</td><td>DISTRICT ATTORNEY REFUSES TO PROSECUTE</td><td>6</td></tr><tr><td>EXTORTION</td><td>ARREST, CITED</td><td>6</td></tr><tr><td>ROBBERY</td><td>PSYCHOPATHIC CASE</td><td>6</td></tr><tr><td>DISORDERLY CONDUCT</td><td>LOCATED</td><td>6</td></tr><tr><td>KIDNAPPING</td><td>NOT PROSECUTED</td><td>6</td></tr><tr><td>DRIVING UNDER THE INFLUENCE</td><td>UNFOUNDED</td><td>6</td></tr><tr><td>BAD CHECKS</td><td>EXCEPTIONAL CLEARANCE</td><td>6</td></tr><tr><td>TREA</td><td>ARREST, BOOKED</td><td>6</td></tr><tr><td>LIQUOR LAWS</td><td>NOT PROSECUTED</td><td>5</td></tr><tr><td>BRIBERY</td><td>ARREST, CITED</td><td>5</td></tr><tr><td>KIDNAPPING</td><td>LOCATED</td><td>5</td></tr><tr><td>BAD CHECKS</td><td>COMPLAINANT REFUSES TO PROSECUTE</td><td>5</td></tr><tr><td>TRESPASS</td><td>PROSECUTED BY OUTSIDE AGENCY</td><td>5</td></tr><tr><td>NON-CRIMINAL</td><td>PROSECUTED FOR LESSER OFFENSE</td><td>5</td></tr><tr><td>BRIBERY</td><td>UNFOUNDED</td><td>5</td></tr><tr><td>EXTORTION</td><td>EXCEPTIONAL CLEARANCE</td><td>4</td></tr><tr><td>LOITERING</td><td>NOT PROSECUTED</td><td>4</td></tr><tr><td>STOLEN PROPERTY</td><td>COMPLAINANT REFUSES TO PROSECUTE</td><td>4</td></tr><tr><td>SEX OFFENSES, NON FORCIBLE</td><td>UNFOUNDED</td><td>4</td></tr><tr><td>LIQUOR LAWS</td><td>LOCATED</td><td>4</td></tr><tr><td>FORGERY/COUNTERFEITING</td><td>PSYCHOPATHIC CASE</td><td>3</td></tr><tr><td>SECONDARY CODES</td><td>PROSECUTED FOR LESSER OFFENSE</td><td>3</td></tr><tr><td>ARSON</td><td>COMPLAINANT REFUSES TO PROSECUTE</td><td>3</td></tr><tr><td>ARSON</td><td>PROSECUTED BY OUTSIDE AGENCY</td><td>3</td></tr><tr><td>RECOVERED VEHICLE</td><td>UNFOUNDED</td><td>3</td></tr><tr><td>EMBEZZLEMENT</td><td>LOCATED</td><td>3</td></tr><tr><td>LIQUOR LAWS</td><td>PSYCHOPATHIC CASE</td><td>3</td></tr><tr><td>ARSON</td><td>NOT PROSECUTED</td><td>3</td></tr><tr><td>KIDNAPPING</td><td>PSYCHOPATHIC CASE</td><td>3</td></tr><tr><td>EXTORTION</td><td>PROSECUTED BY OUTSIDE AGENCY</td><td>3</td></tr><tr><td>STOLEN PROPERTY</td><td>LOCATED</td><td>3</td></tr><tr><td>BRIBERY</td><td>EXCEPTIONAL CLEARANCE</td><td>3</td></tr><tr><td>DRIVING UNDER THE INFLUENCE</td><td>EXCEPTIONAL CLEARANCE</td><td>3</td></tr><tr><td>LOITERING</td><td>UNFOUNDED</td><td>3</td></tr><tr><td>LIQUOR LAWS</td><td>UNFOUNDED</td><td>3</td></tr><tr><td>LOITERING</td><td>LOCATED</td><td>2</td></tr><tr><td>DISORDERLY CONDUCT</td><td>PROSECUTED BY OUTSIDE AGENCY</td><td>2</td></tr><tr><td>PORNOGRAPHY/OBSCENE MAT</td><td>DISTRICT ATTORNEY REFUSES TO PROSECUTE</td><td>2</td></tr><tr><td>FRAUD</td><td>PROSECUTED FOR LESSER OFFENSE</td><td>2</td></tr><tr><td>TREA</td><td>ARREST, CITED</td><td>2</td></tr><tr><td>BURGLARY</td><td>PROSECUTED FOR LESSER OFFENSE</td><td>2</td></tr><tr><td>EMBEZZLEMENT</td><td>PSYCHOPATHIC CASE</td><td>2</td></tr><tr><td>SEX OFFENSES, NON FORCIBLE</td><td>COMPLAINANT REFUSES TO PROSECUTE</td><td>2</td></tr><tr><td>GAMBLING</td><td>UNFOUNDED</td><td>2</td></tr><tr><td>SUICIDE</td><td>ARREST, CITED</td><td>2</td></tr><tr><td>LOITERING</td><td>DISTRICT ATTORNEY REFUSES TO PROSECUTE</td><td>2</td></tr><tr><td>EXTORTION</td><td>NOT PROSECUTED</td><td>2</td></tr><tr><td>FORGERY/COUNTERFEITING</td><td>PROSECUTED FOR LESSER OFFENSE</td><td>2</td></tr><tr><td>DRIVING UNDER THE INFLUENCE</td><td>LOCATED</td><td>2</td></tr><tr><td>PROSTITUTION</td><td>PSYCHOPATHIC CASE</td><td>2</td></tr><tr><td>ARSON</td><td>EXCEPTIONAL CLEARANCE</td><td>2</td></tr><tr><td>SEX OFFENSES, NON FORCIBLE</td><td>ARREST, BOOKED</td><td>2</td></tr><tr><td>DRIVING UNDER THE INFLUENCE</td><td>PROSECUTED FOR LESSER OFFENSE</td><td>1</td></tr><tr><td>LIQUOR LAWS</td><td>EXCEPTIONAL CLEARANCE</td><td>1</td></tr><tr><td>DRIVING UNDER THE INFLUENCE</td><td>PROSECUTED BY OUTSIDE AGENCY</td><td>1</td></tr><tr><td>WEAPON LAWS</td><td>PROSECUTED FOR LESSER OFFENSE</td><td>1</td></tr><tr><td>STOLEN PROPERTY</td><td>PSYCHOPATHIC CASE</td><td>1</td></tr><tr><td>ARSON</td><td>PROSECUTED FOR LESSER OFFENSE</td><td>1</td></tr><tr><td>SUSPICIOUS OCC</td><td>PROSECUTED FOR LESSER OFFENSE</td><td>1</td></tr><tr><td>DRIVING UNDER THE INFLUENCE</td><td>PSYCHOPATHIC CASE</td><td>1</td></tr><tr><td>PORNOGRAPHY/OBSCENE MAT</td><td>UNFOUNDED</td><td>1</td></tr><tr><td>KIDNAPPING</td><td>PROSECUTED FOR LESSER OFFENSE</td><td>1</td></tr><tr><td>LOITERING</td><td>EXCEPTIONAL CLEARANCE</td><td>1</td></tr><tr><td>TRESPASS</td><td>PROSECUTED FOR LESSER OFFENSE</td><td>1</td></tr><tr><td>DISORDERLY CONDUCT</td><td>PROSECUTED FOR LESSER OFFENSE</td><td>1</td></tr><tr><td>ROBBERY</td><td>PROSECUTED FOR LESSER OFFENSE</td><td>1</td></tr><tr><td>STOLEN PROPERTY</td><td>PROSECUTED FOR LESSER OFFENSE</td><td>1</td></tr><tr><td>SEX OFFENSES, NON FORCIBLE</td><td>ARREST, CITED</td><td>1</td></tr><tr><td>VEHICLE THEFT</td><td>PROSECUTED FOR LESSER OFFENSE</td><td>1</td></tr><tr><td>VEHICLE THEFT</td><td>PSYCHOPATHIC CASE</td><td>1</td></tr><tr><td>GAMBLING</td><td>EXCEPTIONAL CLEARANCE</td><td>1</td></tr><tr><td>BRIBERY</td><td>NOT PROSECUTED</td><td>1</td></tr><tr><td>RECOVERED VEHICLE</td><td>NOT PROSECUTED</td><td>1</td></tr><tr><td>PROSTITUTION</td><td>NOT PROSECUTED</td><td>1</td></tr><tr><td>DRUNKENNESS</td><td>PROSECUTED BY OUTSIDE AGENCY</td><td>1</td></tr><tr><td>BAD CHECKS</td><td>ARREST, CITED</td><td>1</td></tr><tr><td>GAMBLING</td><td>DISTRICT ATTORNEY REFUSES TO PROSECUTE</td><td>1</td></tr><tr><td>LARCENY/THEFT</td><td>PROSECUTED FOR LESSER OFFENSE</td><td>1</td></tr><tr><td>DRUNKENNESS</td><td>PROSECUTED FOR LESSER OFFENSE</td><td>1</td></tr><tr><td>RECOVERED VEHICLE</td><td>EXCEPTIONAL CLEARANCE</td><td>1</td></tr><tr><td>SUICIDE</td><td>DISTRICT ATTORNEY REFUSES TO PROSECUTE</td><td>1</td></tr><tr><td>FORGERY/COUNTERFEITING</td><td>LOCATED</td><td>1</td></tr><tr><td>LOITERING</td><td>PROSECUTED BY OUTSIDE AGENCY</td><td>1</td></tr></tbody></table></div>"
      ]
     },
     "metadata": {
      "application/vnd.databricks.v1+output": {
       "addedWidgets": {},
       "aggData": [],
       "aggError": "",
       "aggOverflow": false,
       "aggSchema": [],
       "aggSeriesLimitReached": false,
       "aggType": "",
       "arguments": {},
       "columnCustomDisplayInfos": {},
       "data": [
        [
         "OTHER OFFENSES",
         "ARREST, BOOKED",
         115427
        ],
        [
         "DRUG/NARCOTIC",
         "ARREST, BOOKED",
         97926
        ],
        [
         "OTHER OFFENSES",
         "ARREST, CITED",
         94817
        ],
        [
         "WARRANTS",
         "ARREST, BOOKED",
         93092
        ],
        [
         "ASSAULT",
         "ARREST, BOOKED",
         49246
        ],
        [
         "NON-CRIMINAL",
         "PSYCHOPATHIC CASE",
         27027
        ],
        [
         "LARCENY/THEFT",
         "ARREST, BOOKED",
         25136
        ],
        [
         "MISSING PERSON",
         "LOCATED",
         19615
        ],
        [
         "WEAPON LAWS",
         "ARREST, BOOKED",
         13334
        ],
        [
         "BURGLARY",
         "ARREST, BOOKED",
         12765
        ],
        [
         "LARCENY/THEFT",
         "ARREST, CITED",
         10463
        ],
        [
         "NON-CRIMINAL",
         "ARREST, BOOKED",
         9918
        ],
        [
         "STOLEN PROPERTY",
         "ARREST, BOOKED",
         9693
        ],
        [
         "PROSTITUTION",
         "ARREST, CITED",
         9667
        ],
        [
         "ROBBERY",
         "ARREST, BOOKED",
         9598
        ],
        [
         "DRUG/NARCOTIC",
         "ARREST, CITED",
         9046
        ],
        [
         "VANDALISM",
         "ARREST, BOOKED",
         8734
        ],
        [
         "SECONDARY CODES",
         "ARREST, BOOKED",
         7811
        ],
        [
         "TRESPASS",
         "ARREST, BOOKED",
         7598
        ],
        [
         "DRUNKENNESS",
         "ARREST, BOOKED",
         7471
        ],
        [
         "NON-CRIMINAL",
         "UNFOUNDED",
         7398
        ],
        [
         "ASSAULT",
         "ARREST, CITED",
         7027
        ],
        [
         "PROSTITUTION",
         "ARREST, BOOKED",
         5780
        ],
        [
         "VEHICLE THEFT",
         "ARREST, BOOKED",
         5064
        ],
        [
         "TRESPASS",
         "ARREST, CITED",
         5053
        ],
        [
         "DRIVING UNDER THE INFLUENCE",
         "ARREST, BOOKED",
         4941
        ],
        [
         "FRAUD",
         "ARREST, BOOKED",
         4940
        ],
        [
         "VEHICLE THEFT",
         "UNFOUNDED",
         4789
        ],
        [
         "FORGERY/COUNTERFEITING",
         "ARREST, BOOKED",
         4339
        ],
        [
         "DISORDERLY CONDUCT",
         "ARREST, BOOKED",
         3702
        ],
        [
         "NON-CRIMINAL",
         "ARREST, CITED",
         3220
        ],
        [
         "VANDALISM",
         "ARREST, CITED",
         2967
        ],
        [
         "SUSPICIOUS OCC",
         "ARREST, BOOKED",
         2765
        ],
        [
         "DISORDERLY CONDUCT",
         "ARREST, CITED",
         2627
        ],
        [
         "SUSPICIOUS OCC",
         "UNFOUNDED",
         2507
        ],
        [
         "KIDNAPPING",
         "ARREST, BOOKED",
         2165
        ],
        [
         "ASSAULT",
         "DISTRICT ATTORNEY REFUSES TO PROSECUTE",
         2051
        ],
        [
         "FRAUD",
         "NOT PROSECUTED",
         1940
        ],
        [
         "FORGERY/COUNTERFEITING",
         "PROSECUTED BY OUTSIDE AGENCY",
         1866
        ],
        [
         "LIQUOR LAWS",
         "ARREST, BOOKED",
         1839
        ],
        [
         "ASSAULT",
         "COMPLAINANT REFUSES TO PROSECUTE",
         1797
        ],
        [
         "OTHER OFFENSES",
         "UNFOUNDED",
         1715
        ],
        [
         "SEX OFFENSES, FORCIBLE",
         "ARREST, BOOKED",
         1648
        ],
        [
         "LARCENY/THEFT",
         "NOT PROSECUTED",
         1600
        ],
        [
         "LOITERING",
         "ARREST, CITED",
         1432
        ],
        [
         "NON-CRIMINAL",
         "COMPLAINANT REFUSES TO PROSECUTE",
         1432
        ],
        [
         "FORGERY/COUNTERFEITING",
         "NOT PROSECUTED",
         1421
        ],
        [
         "LARCENY/THEFT",
         "UNFOUNDED",
         1221
        ],
        [
         "WEAPON LAWS",
         "ARREST, CITED",
         1157
        ],
        [
         "MISSING PERSON",
         "ARREST, BOOKED",
         1125
        ],
        [
         "ASSAULT",
         "UNFOUNDED",
         1000
        ],
        [
         "NON-CRIMINAL",
         "EXCEPTIONAL CLEARANCE",
         945
        ],
        [
         "FRAUD",
         "ARREST, CITED",
         921
        ],
        [
         "SUSPICIOUS OCC",
         "ARREST, CITED",
         889
        ],
        [
         "WARRANTS",
         "ARREST, CITED",
         885
        ],
        [
         "FRAUD",
         "PROSECUTED BY OUTSIDE AGENCY",
         881
        ],
        [
         "NON-CRIMINAL",
         "LOCATED",
         866
        ],
        [
         "MISSING PERSON",
         "UNFOUNDED",
         827
        ],
        [
         "NON-CRIMINAL",
         "NOT PROSECUTED",
         796
        ],
        [
         "OTHER OFFENSES",
         "PROSECUTED BY OUTSIDE AGENCY",
         718
        ],
        [
         "LOITERING",
         "ARREST, BOOKED",
         658
        ],
        [
         "LIQUOR LAWS",
         "ARREST, CITED",
         652
        ],
        [
         "OTHER OFFENSES",
         "DISTRICT ATTORNEY REFUSES TO PROSECUTE",
         635
        ],
        [
         "ASSAULT",
         "EXCEPTIONAL CLEARANCE",
         632
        ],
        [
         "ARSON",
         "ARREST, BOOKED",
         630
        ],
        [
         "SECONDARY CODES",
         "COMPLAINANT REFUSES TO PROSECUTE",
         621
        ],
        [
         "SUSPICIOUS OCC",
         "COMPLAINANT REFUSES TO PROSECUTE",
         611
        ],
        [
         "OTHER OFFENSES",
         "COMPLAINANT REFUSES TO PROSECUTE",
         604
        ],
        [
         "SEX OFFENSES, FORCIBLE",
         "DISTRICT ATTORNEY REFUSES TO PROSECUTE",
         592
        ],
        [
         "RECOVERED VEHICLE",
         "ARREST, BOOKED",
         564
        ],
        [
         "BURGLARY",
         "UNFOUNDED",
         545
        ],
        [
         "ROBBERY",
         "COMPLAINANT REFUSES TO PROSECUTE",
         536
        ],
        [
         "SECONDARY CODES",
         "DISTRICT ATTORNEY REFUSES TO PROSECUTE",
         528
        ],
        [
         "ROBBERY",
         "DISTRICT ATTORNEY REFUSES TO PROSECUTE",
         500
        ],
        [
         "NON-CRIMINAL",
         "PROSECUTED BY OUTSIDE AGENCY",
         476
        ],
        [
         "LARCENY/THEFT",
         "COMPLAINANT REFUSES TO PROSECUTE",
         471
        ],
        [
         "NON-CRIMINAL",
         "DISTRICT ATTORNEY REFUSES TO PROSECUTE",
         470
        ],
        [
         "LARCENY/THEFT",
         "DISTRICT ATTORNEY REFUSES TO PROSECUTE",
         467
        ],
        [
         "SUSPICIOUS OCC",
         "NOT PROSECUTED",
         456
        ],
        [
         "EMBEZZLEMENT",
         "ARREST, BOOKED",
         453
        ],
        [
         "LARCENY/THEFT",
         "EXCEPTIONAL CLEARANCE",
         442
        ],
        [
         "DRUNKENNESS",
         "ARREST, CITED",
         441
        ],
        [
         "VANDALISM",
         "UNFOUNDED",
         434
        ],
        [
         "OTHER OFFENSES",
         "NOT PROSECUTED",
         433
        ],
        [
         "MISSING PERSON",
         "PSYCHOPATHIC CASE",
         426
        ],
        [
         "BRIBERY",
         "ARREST, BOOKED",
         418
        ],
        [
         "BURGLARY",
         "DISTRICT ATTORNEY REFUSES TO PROSECUTE",
         413
        ],
        [
         "ROBBERY",
         "UNFOUNDED",
         408
        ],
        [
         "ASSAULT",
         "PSYCHOPATHIC CASE",
         403
        ],
        [
         "FORGERY/COUNTERFEITING",
         "UNFOUNDED",
         393
        ],
        [
         "SEX OFFENSES, FORCIBLE",
         "COMPLAINANT REFUSES TO PROSECUTE",
         392
        ],
        [
         "SUSPICIOUS OCC",
         "DISTRICT ATTORNEY REFUSES TO PROSECUTE",
         389
        ],
        [
         "DRIVING UNDER THE INFLUENCE",
         "ARREST, CITED",
         380
        ],
        [
         "OTHER OFFENSES",
         "EXCEPTIONAL CLEARANCE",
         361
        ],
        [
         "BURGLARY",
         "COMPLAINANT REFUSES TO PROSECUTE",
         298
        ],
        [
         "MISSING PERSON",
         "ARREST, CITED",
         296
        ],
        [
         "FRAUD",
         "UNFOUNDED",
         285
        ],
        [
         "MISSING PERSON",
         "EXCEPTIONAL CLEARANCE",
         271
        ],
        [
         "VANDALISM",
         "COMPLAINANT REFUSES TO PROSECUTE",
         264
        ],
        [
         "SUSPICIOUS OCC",
         "EXCEPTIONAL CLEARANCE",
         262
        ],
        [
         "SUSPICIOUS OCC",
         "PROSECUTED BY OUTSIDE AGENCY",
         256
        ],
        [
         "FORGERY/COUNTERFEITING",
         "ARREST, CITED",
         247
        ],
        [
         "SUICIDE",
         "PSYCHOPATHIC CASE",
         235
        ],
        [
         "SUSPICIOUS OCC",
         "LOCATED",
         235
        ],
        [
         "DRUG/NARCOTIC",
         "UNFOUNDED",
         219
        ],
        [
         "SECONDARY CODES",
         "UNFOUNDED",
         217
        ],
        [
         "OTHER OFFENSES",
         "PSYCHOPATHIC CASE",
         212
        ],
        [
         "SUSPICIOUS OCC",
         "PSYCHOPATHIC CASE",
         202
        ],
        [
         "SEX OFFENSES, FORCIBLE",
         "ARREST, CITED",
         200
        ],
        [
         "VANDALISM",
         "PSYCHOPATHIC CASE",
         196
        ],
        [
         "VANDALISM",
         "DISTRICT ATTORNEY REFUSES TO PROSECUTE",
         191
        ],
        [
         "SECONDARY CODES",
         "ARREST, CITED",
         188
        ],
        [
         "VEHICLE THEFT",
         "ARREST, CITED",
         185
        ],
        [
         "SEX OFFENSES, FORCIBLE",
         "UNFOUNDED",
         173
        ],
        [
         "STOLEN PROPERTY",
         "ARREST, CITED",
         161
        ],
        [
         "LARCENY/THEFT",
         "PROSECUTED BY OUTSIDE AGENCY",
         156
        ],
        [
         "FORGERY/COUNTERFEITING",
         "DISTRICT ATTORNEY REFUSES TO PROSECUTE",
         156
        ],
        [
         "WEAPON LAWS",
         "UNFOUNDED",
         156
        ],
        [
         "BURGLARY",
         "ARREST, CITED",
         146
        ],
        [
         "DRUG/NARCOTIC",
         "NOT PROSECUTED",
         139
        ],
        [
         "ASSAULT",
         "NOT PROSECUTED",
         136
        ],
        [
         "BURGLARY",
         "EXCEPTIONAL CLEARANCE",
         134
        ],
        [
         "WARRANTS",
         "UNFOUNDED",
         132
        ],
        [
         "PROSTITUTION",
         "EXCEPTIONAL CLEARANCE",
         131
        ],
        [
         "FRAUD",
         "DISTRICT ATTORNEY REFUSES TO PROSECUTE",
         130
        ],
        [
         "KIDNAPPING",
         "DISTRICT ATTORNEY REFUSES TO PROSECUTE",
         129
        ],
        [
         "FRAUD",
         "EXCEPTIONAL CLEARANCE",
         129
        ],
        [
         "OTHER OFFENSES",
         "LOCATED",
         119
        ],
        [
         "GAMBLING",
         "ARREST, BOOKED",
         118
        ],
        [
         "ROBBERY",
         "NOT PROSECUTED",
         109
        ],
        [
         "EXTORTION",
         "ARREST, BOOKED",
         107
        ],
        [
         "SEX OFFENSES, FORCIBLE",
         "EXCEPTIONAL CLEARANCE",
         104
        ],
        [
         "ASSAULT",
         "PROSECUTED BY OUTSIDE AGENCY",
         102
        ],
        [
         "KIDNAPPING",
         "COMPLAINANT REFUSES TO PROSECUTE",
         99
        ],
        [
         "EMBEZZLEMENT",
         "DISTRICT ATTORNEY REFUSES TO PROSECUTE",
         98
        ],
        [
         "WEAPON LAWS",
         "DISTRICT ATTORNEY REFUSES TO PROSECUTE",
         94
        ],
        [
         "ASSAULT",
         "LOCATED",
         93
        ],
        [
         "ROBBERY",
         "ARREST, CITED",
         90
        ],
        [
         "VANDALISM",
         "EXCEPTIONAL CLEARANCE",
         83
        ],
        [
         "GAMBLING",
         "ARREST, CITED",
         83
        ],
        [
         "ROBBERY",
         "EXCEPTIONAL CLEARANCE",
         82
        ],
        [
         "FORGERY/COUNTERFEITING",
         "EXCEPTIONAL CLEARANCE",
         76
        ],
        [
         "VEHICLE THEFT",
         "DISTRICT ATTORNEY REFUSES TO PROSECUTE",
         70
        ],
        [
         "TRESPASS",
         "UNFOUNDED",
         68
        ],
        [
         "WEAPON LAWS",
         "NOT PROSECUTED",
         66
        ],
        [
         "EMBEZZLEMENT",
         "ARREST, CITED",
         60
        ],
        [
         "DISORDERLY CONDUCT",
         "UNFOUNDED",
         60
        ],
        [
         "STOLEN PROPERTY",
         "NOT PROSECUTED",
         59
        ],
        [
         "TRESPASS",
         "COMPLAINANT REFUSES TO PROSECUTE",
         56
        ],
        [
         "SECONDARY CODES",
         "NOT PROSECUTED",
         56
        ],
        [
         "BURGLARY",
         "NOT PROSECUTED",
         55
        ],
        [
         "VEHICLE THEFT",
         "COMPLAINANT REFUSES TO PROSECUTE",
         53
        ],
        [
         "TRESPASS",
         "PSYCHOPATHIC CASE",
         52
        ],
        [
         "DRUG/NARCOTIC",
         "PSYCHOPATHIC CASE",
         51
        ],
        [
         "BAD CHECKS",
         "ARREST, BOOKED",
         49
        ],
        [
         "DRUG/NARCOTIC",
         "COMPLAINANT REFUSES TO PROSECUTE",
         49
        ],
        [
         "BAD CHECKS",
         "PROSECUTED BY OUTSIDE AGENCY",
         48
        ],
        [
         "EMBEZZLEMENT",
         "COMPLAINANT REFUSES TO PROSECUTE",
         48
        ],
        [
         "ROBBERY",
         "PROSECUTED BY OUTSIDE AGENCY",
         47
        ],
        [
         "LARCENY/THEFT",
         "PSYCHOPATHIC CASE",
         47
        ],
        [
         "EMBEZZLEMENT",
         "UNFOUNDED",
         46
        ],
        [
         "SECONDARY CODES",
         "EXCEPTIONAL CLEARANCE",
         46
        ],
        [
         "FRAUD",
         "COMPLAINANT REFUSES TO PROSECUTE",
         46
        ],
        [
         "EMBEZZLEMENT",
         "PROSECUTED BY OUTSIDE AGENCY",
         45
        ],
        [
         "WEAPON LAWS",
         "COMPLAINANT REFUSES TO PROSECUTE",
         45
        ],
        [
         "BAD CHECKS",
         "NOT PROSECUTED",
         45
        ],
        [
         "LARCENY/THEFT",
         "LOCATED",
         44
        ],
        [
         "EMBEZZLEMENT",
         "NOT PROSECUTED",
         44
        ],
        [
         "WARRANTS",
         "PROSECUTED BY OUTSIDE AGENCY",
         43
        ],
        [
         "FORGERY/COUNTERFEITING",
         "COMPLAINANT REFUSES TO PROSECUTE",
         42
        ],
        [
         "WEAPON LAWS",
         "EXCEPTIONAL CLEARANCE",
         39
        ],
        [
         "EMBEZZLEMENT",
         "EXCEPTIONAL CLEARANCE",
         38
        ],
        [
         "DRUG/NARCOTIC",
         "EXCEPTIONAL CLEARANCE",
         37
        ],
        [
         "DRUNKENNESS",
         "PSYCHOPATHIC CASE",
         37
        ],
        [
         "WARRANTS",
         "DISTRICT ATTORNEY REFUSES TO PROSECUTE",
         36
        ],
        [
         "WARRANTS",
         "PSYCHOPATHIC CASE",
         36
        ],
        [
         "VEHICLE THEFT",
         "EXCEPTIONAL CLEARANCE",
         35
        ],
        [
         "DRUG/NARCOTIC",
         "PROSECUTED BY OUTSIDE AGENCY",
         35
        ],
        [
         "KIDNAPPING",
         "UNFOUNDED",
         35
        ],
        [
         "SUICIDE",
         "ARREST, BOOKED",
         34
        ],
        [
         "VANDALISM",
         "NOT PROSECUTED",
         34
        ],
        [
         "WARRANTS",
         "LOCATED",
         34
        ],
        [
         "MISSING PERSON",
         "PROSECUTED BY OUTSIDE AGENCY",
         32
        ],
        [
         "BURGLARY",
         "PROSECUTED BY OUTSIDE AGENCY",
         32
        ],
        [
         "SECONDARY CODES",
         "PROSECUTED BY OUTSIDE AGENCY",
         31
        ],
        [
         "SECONDARY CODES",
         "PSYCHOPATHIC CASE",
         30
        ],
        [
         "WARRANTS",
         "EXCEPTIONAL CLEARANCE",
         30
        ],
        [
         "STOLEN PROPERTY",
         "PROSECUTED BY OUTSIDE AGENCY",
         30
        ],
        [
         "DRUNKENNESS",
         "UNFOUNDED",
         28
        ],
        [
         "DISORDERLY CONDUCT",
         "COMPLAINANT REFUSES TO PROSECUTE",
         28
        ],
        [
         "STOLEN PROPERTY",
         "DISTRICT ATTORNEY REFUSES TO PROSECUTE",
         27
        ],
        [
         "PROSTITUTION",
         "UNFOUNDED",
         25
        ],
        [
         "VANDALISM",
         "LOCATED",
         25
        ],
        [
         "ARSON",
         "UNFOUNDED",
         25
        ],
        [
         "TRESPASS",
         "NOT PROSECUTED",
         24
        ],
        [
         "DRUG/NARCOTIC",
         "DISTRICT ATTORNEY REFUSES TO PROSECUTE",
         24
        ],
        [
         "DRUG/NARCOTIC",
         "LOCATED",
         24
        ],
        [
         "DRUNKENNESS",
         "NOT PROSECUTED",
         23
        ],
        [
         "SEX OFFENSES, FORCIBLE",
         "PROSECUTED BY OUTSIDE AGENCY",
         23
        ],
        [
         "TRESPASS",
         "EXCEPTIONAL CLEARANCE",
         22
        ],
        [
         "WARRANTS",
         "COMPLAINANT REFUSES TO PROSECUTE",
         21
        ],
        [
         "WEAPON LAWS",
         "PSYCHOPATHIC CASE",
         20
        ],
        [
         "VEHICLE THEFT",
         "LOCATED",
         20
        ],
        [
         "LIQUOR LAWS",
         "PROSECUTED BY OUTSIDE AGENCY",
         20
        ],
        [
         "PROSTITUTION",
         "DISTRICT ATTORNEY REFUSES TO PROSECUTE",
         20
        ],
        [
         "VEHICLE THEFT",
         "NOT PROSECUTED",
         19
        ],
        [
         "MISSING PERSON",
         "NOT PROSECUTED",
         19
        ],
        [
         "SUICIDE",
         "LOCATED",
         19
        ],
        [
         "TRESPASS",
         "DISTRICT ATTORNEY REFUSES TO PROSECUTE",
         18
        ],
        [
         "WARRANTS",
         "NOT PROSECUTED",
         18
        ],
        [
         "DISORDERLY CONDUCT",
         "PSYCHOPATHIC CASE",
         18
        ],
        [
         "OTHER OFFENSES",
         "PROSECUTED FOR LESSER OFFENSE",
         18
        ],
        [
         "SEX OFFENSES, FORCIBLE",
         "NOT PROSECUTED",
         18
        ],
        [
         "ARSON",
         "ARREST, CITED",
         17
        ],
        [
         "ARSON",
         "PSYCHOPATHIC CASE",
         17
        ],
        [
         "STOLEN PROPERTY",
         "UNFOUNDED",
         17
        ],
        [
         "KIDNAPPING",
         "ARREST, CITED",
         17
        ],
        [
         "BURGLARY",
         "LOCATED",
         15
        ],
        [
         "KIDNAPPING",
         "PROSECUTED BY OUTSIDE AGENCY",
         15
        ],
        [
         "BRIBERY",
         "DISTRICT ATTORNEY REFUSES TO PROSECUTE",
         15
        ],
        [
         "WEAPON LAWS",
         "PROSECUTED BY OUTSIDE AGENCY",
         15
        ],
        [
         "DRUG/NARCOTIC",
         "PROSECUTED FOR LESSER OFFENSE",
         15
        ],
        [
         "PORNOGRAPHY/OBSCENE MAT",
         "ARREST, BOOKED",
         15
        ],
        [
         "STOLEN PROPERTY",
         "EXCEPTIONAL CLEARANCE",
         15
        ],
        [
         "MISSING PERSON",
         "DISTRICT ATTORNEY REFUSES TO PROSECUTE",
         15
        ],
        [
         "KIDNAPPING",
         "EXCEPTIONAL CLEARANCE",
         14
        ],
        [
         "BAD CHECKS",
         "DISTRICT ATTORNEY REFUSES TO PROSECUTE",
         14
        ],
        [
         "BAD CHECKS",
         "UNFOUNDED",
         12
        ],
        [
         "GAMBLING",
         "NOT PROSECUTED",
         12
        ],
        [
         "ASSAULT",
         "PROSECUTED FOR LESSER OFFENSE",
         12
        ],
        [
         "GAMBLING",
         "PROSECUTED BY OUTSIDE AGENCY",
         12
        ],
        [
         "EXTORTION",
         "DISTRICT ATTORNEY REFUSES TO PROSECUTE",
         12
        ],
        [
         "SEX OFFENSES, FORCIBLE",
         "LOCATED",
         12
        ],
        [
         "DRUNKENNESS",
         "COMPLAINANT REFUSES TO PROSECUTE",
         12
        ],
        [
         "VANDALISM",
         "PROSECUTED BY OUTSIDE AGENCY",
         12
        ],
        [
         "MISSING PERSON",
         "COMPLAINANT REFUSES TO PROSECUTE",
         12
        ],
        [
         "WARRANTS",
         "PROSECUTED FOR LESSER OFFENSE",
         12
        ],
        [
         "SECONDARY CODES",
         "LOCATED",
         11
        ],
        [
         "PROSTITUTION",
         "COMPLAINANT REFUSES TO PROSECUTE",
         11
        ],
        [
         "BRIBERY",
         "COMPLAINANT REFUSES TO PROSECUTE",
         11
        ],
        [
         "VEHICLE THEFT",
         "PROSECUTED BY OUTSIDE AGENCY",
         11
        ],
        [
         "DISORDERLY CONDUCT",
         "NOT PROSECUTED",
         11
        ],
        [
         "TRESPASS",
         "LOCATED",
         10
        ],
        [
         "SEX OFFENSES, FORCIBLE",
         "PSYCHOPATHIC CASE",
         10
        ],
        [
         "FRAUD",
         "PSYCHOPATHIC CASE",
         10
        ],
        [
         "DISORDERLY CONDUCT",
         "EXCEPTIONAL CLEARANCE",
         10
        ],
        [
         "EXTORTION",
         "COMPLAINANT REFUSES TO PROSECUTE",
         10
        ],
        [
         "SUICIDE",
         "UNFOUNDED",
         9
        ],
        [
         "BURGLARY",
         "PSYCHOPATHIC CASE",
         9
        ],
        [
         "SUICIDE",
         "EXCEPTIONAL CLEARANCE",
         9
        ],
        [
         "DISORDERLY CONDUCT",
         "DISTRICT ATTORNEY REFUSES TO PROSECUTE",
         9
        ],
        [
         "EXTORTION",
         "UNFOUNDED",
         8
        ],
        [
         "DRUNKENNESS",
         "LOCATED",
         8
        ],
        [
         "ROBBERY",
         "LOCATED",
         8
        ],
        [
         "WEAPON LAWS",
         "LOCATED",
         7
        ],
        [
         "PROSTITUTION",
         "PROSECUTED BY OUTSIDE AGENCY",
         7
        ],
        [
         "PROSTITUTION",
         "LOCATED",
         7
        ],
        [
         "FRAUD",
         "LOCATED",
         7
        ],
        [
         "DRUNKENNESS",
         "EXCEPTIONAL CLEARANCE",
         7
        ],
        [
         "SEX OFFENSES, NON FORCIBLE",
         "DISTRICT ATTORNEY REFUSES TO PROSECUTE",
         7
        ],
        [
         "PORNOGRAPHY/OBSCENE MAT",
         "ARREST, CITED",
         6
        ],
        [
         "RECOVERED VEHICLE",
         "ARREST, CITED",
         6
        ],
        [
         "DRUNKENNESS",
         "DISTRICT ATTORNEY REFUSES TO PROSECUTE",
         6
        ],
        [
         "EXTORTION",
         "ARREST, CITED",
         6
        ],
        [
         "ROBBERY",
         "PSYCHOPATHIC CASE",
         6
        ],
        [
         "DISORDERLY CONDUCT",
         "LOCATED",
         6
        ],
        [
         "KIDNAPPING",
         "NOT PROSECUTED",
         6
        ],
        [
         "DRIVING UNDER THE INFLUENCE",
         "UNFOUNDED",
         6
        ],
        [
         "BAD CHECKS",
         "EXCEPTIONAL CLEARANCE",
         6
        ],
        [
         "TREA",
         "ARREST, BOOKED",
         6
        ],
        [
         "LIQUOR LAWS",
         "NOT PROSECUTED",
         5
        ],
        [
         "BRIBERY",
         "ARREST, CITED",
         5
        ],
        [
         "KIDNAPPING",
         "LOCATED",
         5
        ],
        [
         "BAD CHECKS",
         "COMPLAINANT REFUSES TO PROSECUTE",
         5
        ],
        [
         "TRESPASS",
         "PROSECUTED BY OUTSIDE AGENCY",
         5
        ],
        [
         "NON-CRIMINAL",
         "PROSECUTED FOR LESSER OFFENSE",
         5
        ],
        [
         "BRIBERY",
         "UNFOUNDED",
         5
        ],
        [
         "EXTORTION",
         "EXCEPTIONAL CLEARANCE",
         4
        ],
        [
         "LOITERING",
         "NOT PROSECUTED",
         4
        ],
        [
         "STOLEN PROPERTY",
         "COMPLAINANT REFUSES TO PROSECUTE",
         4
        ],
        [
         "SEX OFFENSES, NON FORCIBLE",
         "UNFOUNDED",
         4
        ],
        [
         "LIQUOR LAWS",
         "LOCATED",
         4
        ],
        [
         "FORGERY/COUNTERFEITING",
         "PSYCHOPATHIC CASE",
         3
        ],
        [
         "SECONDARY CODES",
         "PROSECUTED FOR LESSER OFFENSE",
         3
        ],
        [
         "ARSON",
         "COMPLAINANT REFUSES TO PROSECUTE",
         3
        ],
        [
         "ARSON",
         "PROSECUTED BY OUTSIDE AGENCY",
         3
        ],
        [
         "RECOVERED VEHICLE",
         "UNFOUNDED",
         3
        ],
        [
         "EMBEZZLEMENT",
         "LOCATED",
         3
        ],
        [
         "LIQUOR LAWS",
         "PSYCHOPATHIC CASE",
         3
        ],
        [
         "ARSON",
         "NOT PROSECUTED",
         3
        ],
        [
         "KIDNAPPING",
         "PSYCHOPATHIC CASE",
         3
        ],
        [
         "EXTORTION",
         "PROSECUTED BY OUTSIDE AGENCY",
         3
        ],
        [
         "STOLEN PROPERTY",
         "LOCATED",
         3
        ],
        [
         "BRIBERY",
         "EXCEPTIONAL CLEARANCE",
         3
        ],
        [
         "DRIVING UNDER THE INFLUENCE",
         "EXCEPTIONAL CLEARANCE",
         3
        ],
        [
         "LOITERING",
         "UNFOUNDED",
         3
        ],
        [
         "LIQUOR LAWS",
         "UNFOUNDED",
         3
        ],
        [
         "LOITERING",
         "LOCATED",
         2
        ],
        [
         "DISORDERLY CONDUCT",
         "PROSECUTED BY OUTSIDE AGENCY",
         2
        ],
        [
         "PORNOGRAPHY/OBSCENE MAT",
         "DISTRICT ATTORNEY REFUSES TO PROSECUTE",
         2
        ],
        [
         "FRAUD",
         "PROSECUTED FOR LESSER OFFENSE",
         2
        ],
        [
         "TREA",
         "ARREST, CITED",
         2
        ],
        [
         "BURGLARY",
         "PROSECUTED FOR LESSER OFFENSE",
         2
        ],
        [
         "EMBEZZLEMENT",
         "PSYCHOPATHIC CASE",
         2
        ],
        [
         "SEX OFFENSES, NON FORCIBLE",
         "COMPLAINANT REFUSES TO PROSECUTE",
         2
        ],
        [
         "GAMBLING",
         "UNFOUNDED",
         2
        ],
        [
         "SUICIDE",
         "ARREST, CITED",
         2
        ],
        [
         "LOITERING",
         "DISTRICT ATTORNEY REFUSES TO PROSECUTE",
         2
        ],
        [
         "EXTORTION",
         "NOT PROSECUTED",
         2
        ],
        [
         "FORGERY/COUNTERFEITING",
         "PROSECUTED FOR LESSER OFFENSE",
         2
        ],
        [
         "DRIVING UNDER THE INFLUENCE",
         "LOCATED",
         2
        ],
        [
         "PROSTITUTION",
         "PSYCHOPATHIC CASE",
         2
        ],
        [
         "ARSON",
         "EXCEPTIONAL CLEARANCE",
         2
        ],
        [
         "SEX OFFENSES, NON FORCIBLE",
         "ARREST, BOOKED",
         2
        ],
        [
         "DRIVING UNDER THE INFLUENCE",
         "PROSECUTED FOR LESSER OFFENSE",
         1
        ],
        [
         "LIQUOR LAWS",
         "EXCEPTIONAL CLEARANCE",
         1
        ],
        [
         "DRIVING UNDER THE INFLUENCE",
         "PROSECUTED BY OUTSIDE AGENCY",
         1
        ],
        [
         "WEAPON LAWS",
         "PROSECUTED FOR LESSER OFFENSE",
         1
        ],
        [
         "STOLEN PROPERTY",
         "PSYCHOPATHIC CASE",
         1
        ],
        [
         "ARSON",
         "PROSECUTED FOR LESSER OFFENSE",
         1
        ],
        [
         "SUSPICIOUS OCC",
         "PROSECUTED FOR LESSER OFFENSE",
         1
        ],
        [
         "DRIVING UNDER THE INFLUENCE",
         "PSYCHOPATHIC CASE",
         1
        ],
        [
         "PORNOGRAPHY/OBSCENE MAT",
         "UNFOUNDED",
         1
        ],
        [
         "KIDNAPPING",
         "PROSECUTED FOR LESSER OFFENSE",
         1
        ],
        [
         "LOITERING",
         "EXCEPTIONAL CLEARANCE",
         1
        ],
        [
         "TRESPASS",
         "PROSECUTED FOR LESSER OFFENSE",
         1
        ],
        [
         "DISORDERLY CONDUCT",
         "PROSECUTED FOR LESSER OFFENSE",
         1
        ],
        [
         "ROBBERY",
         "PROSECUTED FOR LESSER OFFENSE",
         1
        ],
        [
         "STOLEN PROPERTY",
         "PROSECUTED FOR LESSER OFFENSE",
         1
        ],
        [
         "SEX OFFENSES, NON FORCIBLE",
         "ARREST, CITED",
         1
        ],
        [
         "VEHICLE THEFT",
         "PROSECUTED FOR LESSER OFFENSE",
         1
        ],
        [
         "VEHICLE THEFT",
         "PSYCHOPATHIC CASE",
         1
        ],
        [
         "GAMBLING",
         "EXCEPTIONAL CLEARANCE",
         1
        ],
        [
         "BRIBERY",
         "NOT PROSECUTED",
         1
        ],
        [
         "RECOVERED VEHICLE",
         "NOT PROSECUTED",
         1
        ],
        [
         "PROSTITUTION",
         "NOT PROSECUTED",
         1
        ],
        [
         "DRUNKENNESS",
         "PROSECUTED BY OUTSIDE AGENCY",
         1
        ],
        [
         "BAD CHECKS",
         "ARREST, CITED",
         1
        ],
        [
         "GAMBLING",
         "DISTRICT ATTORNEY REFUSES TO PROSECUTE",
         1
        ],
        [
         "LARCENY/THEFT",
         "PROSECUTED FOR LESSER OFFENSE",
         1
        ],
        [
         "DRUNKENNESS",
         "PROSECUTED FOR LESSER OFFENSE",
         1
        ],
        [
         "RECOVERED VEHICLE",
         "EXCEPTIONAL CLEARANCE",
         1
        ],
        [
         "SUICIDE",
         "DISTRICT ATTORNEY REFUSES TO PROSECUTE",
         1
        ],
        [
         "FORGERY/COUNTERFEITING",
         "LOCATED",
         1
        ],
        [
         "LOITERING",
         "PROSECUTED BY OUTSIDE AGENCY",
         1
        ]
       ],
       "datasetInfos": [],
       "dbfsResultPath": null,
       "isJsonSchema": true,
       "metadata": {},
       "overflow": false,
       "plotOptions": {
        "customPlotOptions": {
         "barChart": [
          {
           "key": "grouped",
           "value": false
          },
          {
           "key": "stacked",
           "value": true
          },
          {
           "key": "100_stacked",
           "value": false
          }
         ],
         "pieChart": [
          {
           "key": "donut",
           "value": true
          }
         ],
         "plotlyBar": [
          {
           "key": "grouped",
           "value": false
          },
          {
           "key": "stacked",
           "value": false
          },
          {
           "key": "100_stacked",
           "value": true
          }
         ]
        },
        "displayType": "plotlyBar",
        "pivotAggregation": "sum",
        "pivotColumns": [
         "resolution"
        ],
        "xColumns": [
         "category"
        ],
        "yColumns": [
         "count"
        ]
       },
       "removedWidgets": [],
       "schema": [
        {
         "metadata": "{}",
         "name": "category",
         "type": "\"string\""
        },
        {
         "metadata": "{}",
         "name": "resolution",
         "type": "\"string\""
        },
        {
         "metadata": "{}",
         "name": "count",
         "type": "\"long\""
        }
       ],
       "type": "table"
      }
     },
     "output_type": "display_data"
    }
   ],
   "source": [
    "# DF Way\n",
    "category_resolution=df_opt1.filter(df_opt1['resolution']!='NONE').groupBy('category','resolution').count().orderBy('count',ascending=False)\n",
    "display(category_resolution)"
   ]
  },
  {
   "cell_type": "code",
   "execution_count": 0,
   "metadata": {
    "application/vnd.databricks.v1+cell": {
     "cellMetadata": {},
     "inputWidgets": {},
     "nuid": "4f8bf41e-06b4-4efd-9019-90977897c9a9",
     "showTitle": true,
     "title": "7.2 Spark SQL based solution"
    }
   },
   "outputs": [
    {
     "data": {
      "text/html": [
       "<style scoped>\n",
       "  .table-result-container {\n",
       "    max-height: 300px;\n",
       "    overflow: auto;\n",
       "  }\n",
       "  table, th, td {\n",
       "    border: 1px solid black;\n",
       "    border-collapse: collapse;\n",
       "  }\n",
       "  th, td {\n",
       "    padding: 5px;\n",
       "  }\n",
       "  th {\n",
       "    text-align: left;\n",
       "  }\n",
       "</style><div class='table-result-container'><table class='table-result'><thead style='background-color: white'><tr><th>category</th><th>resolution</th><th>counts</th></tr></thead><tbody><tr><td>OTHER OFFENSES</td><td>ARREST, BOOKED</td><td>115427</td></tr><tr><td>DRUG/NARCOTIC</td><td>ARREST, BOOKED</td><td>97926</td></tr><tr><td>OTHER OFFENSES</td><td>ARREST, CITED</td><td>94817</td></tr><tr><td>WARRANTS</td><td>ARREST, BOOKED</td><td>93092</td></tr><tr><td>ASSAULT</td><td>ARREST, BOOKED</td><td>49246</td></tr><tr><td>NON-CRIMINAL</td><td>PSYCHOPATHIC CASE</td><td>27027</td></tr><tr><td>LARCENY/THEFT</td><td>ARREST, BOOKED</td><td>25136</td></tr><tr><td>MISSING PERSON</td><td>LOCATED</td><td>19615</td></tr><tr><td>WEAPON LAWS</td><td>ARREST, BOOKED</td><td>13334</td></tr><tr><td>BURGLARY</td><td>ARREST, BOOKED</td><td>12765</td></tr><tr><td>LARCENY/THEFT</td><td>ARREST, CITED</td><td>10463</td></tr><tr><td>NON-CRIMINAL</td><td>ARREST, BOOKED</td><td>9918</td></tr><tr><td>STOLEN PROPERTY</td><td>ARREST, BOOKED</td><td>9693</td></tr><tr><td>PROSTITUTION</td><td>ARREST, CITED</td><td>9667</td></tr><tr><td>ROBBERY</td><td>ARREST, BOOKED</td><td>9598</td></tr><tr><td>DRUG/NARCOTIC</td><td>ARREST, CITED</td><td>9046</td></tr><tr><td>VANDALISM</td><td>ARREST, BOOKED</td><td>8734</td></tr><tr><td>SECONDARY CODES</td><td>ARREST, BOOKED</td><td>7811</td></tr><tr><td>TRESPASS</td><td>ARREST, BOOKED</td><td>7598</td></tr><tr><td>DRUNKENNESS</td><td>ARREST, BOOKED</td><td>7471</td></tr><tr><td>NON-CRIMINAL</td><td>UNFOUNDED</td><td>7398</td></tr><tr><td>ASSAULT</td><td>ARREST, CITED</td><td>7027</td></tr><tr><td>PROSTITUTION</td><td>ARREST, BOOKED</td><td>5780</td></tr><tr><td>VEHICLE THEFT</td><td>ARREST, BOOKED</td><td>5064</td></tr><tr><td>TRESPASS</td><td>ARREST, CITED</td><td>5053</td></tr><tr><td>DRIVING UNDER THE INFLUENCE</td><td>ARREST, BOOKED</td><td>4941</td></tr><tr><td>FRAUD</td><td>ARREST, BOOKED</td><td>4940</td></tr><tr><td>VEHICLE THEFT</td><td>UNFOUNDED</td><td>4789</td></tr><tr><td>FORGERY/COUNTERFEITING</td><td>ARREST, BOOKED</td><td>4339</td></tr><tr><td>DISORDERLY CONDUCT</td><td>ARREST, BOOKED</td><td>3702</td></tr><tr><td>NON-CRIMINAL</td><td>ARREST, CITED</td><td>3220</td></tr><tr><td>VANDALISM</td><td>ARREST, CITED</td><td>2967</td></tr><tr><td>SUSPICIOUS OCC</td><td>ARREST, BOOKED</td><td>2765</td></tr><tr><td>DISORDERLY CONDUCT</td><td>ARREST, CITED</td><td>2627</td></tr><tr><td>SUSPICIOUS OCC</td><td>UNFOUNDED</td><td>2507</td></tr><tr><td>KIDNAPPING</td><td>ARREST, BOOKED</td><td>2165</td></tr><tr><td>ASSAULT</td><td>DISTRICT ATTORNEY REFUSES TO PROSECUTE</td><td>2051</td></tr><tr><td>FRAUD</td><td>NOT PROSECUTED</td><td>1940</td></tr><tr><td>FORGERY/COUNTERFEITING</td><td>PROSECUTED BY OUTSIDE AGENCY</td><td>1866</td></tr><tr><td>LIQUOR LAWS</td><td>ARREST, BOOKED</td><td>1839</td></tr><tr><td>ASSAULT</td><td>COMPLAINANT REFUSES TO PROSECUTE</td><td>1797</td></tr><tr><td>OTHER OFFENSES</td><td>UNFOUNDED</td><td>1715</td></tr><tr><td>SEX OFFENSES, FORCIBLE</td><td>ARREST, BOOKED</td><td>1648</td></tr><tr><td>LARCENY/THEFT</td><td>NOT PROSECUTED</td><td>1600</td></tr><tr><td>LOITERING</td><td>ARREST, CITED</td><td>1432</td></tr><tr><td>NON-CRIMINAL</td><td>COMPLAINANT REFUSES TO PROSECUTE</td><td>1432</td></tr><tr><td>FORGERY/COUNTERFEITING</td><td>NOT PROSECUTED</td><td>1421</td></tr><tr><td>LARCENY/THEFT</td><td>UNFOUNDED</td><td>1221</td></tr><tr><td>WEAPON LAWS</td><td>ARREST, CITED</td><td>1157</td></tr><tr><td>MISSING PERSON</td><td>ARREST, BOOKED</td><td>1125</td></tr><tr><td>ASSAULT</td><td>UNFOUNDED</td><td>1000</td></tr><tr><td>NON-CRIMINAL</td><td>EXCEPTIONAL CLEARANCE</td><td>945</td></tr><tr><td>FRAUD</td><td>ARREST, CITED</td><td>921</td></tr><tr><td>SUSPICIOUS OCC</td><td>ARREST, CITED</td><td>889</td></tr><tr><td>WARRANTS</td><td>ARREST, CITED</td><td>885</td></tr><tr><td>FRAUD</td><td>PROSECUTED BY OUTSIDE AGENCY</td><td>881</td></tr><tr><td>NON-CRIMINAL</td><td>LOCATED</td><td>866</td></tr><tr><td>MISSING PERSON</td><td>UNFOUNDED</td><td>827</td></tr><tr><td>NON-CRIMINAL</td><td>NOT PROSECUTED</td><td>796</td></tr><tr><td>OTHER OFFENSES</td><td>PROSECUTED BY OUTSIDE AGENCY</td><td>718</td></tr><tr><td>LOITERING</td><td>ARREST, BOOKED</td><td>658</td></tr><tr><td>LIQUOR LAWS</td><td>ARREST, CITED</td><td>652</td></tr><tr><td>OTHER OFFENSES</td><td>DISTRICT ATTORNEY REFUSES TO PROSECUTE</td><td>635</td></tr><tr><td>ASSAULT</td><td>EXCEPTIONAL CLEARANCE</td><td>632</td></tr><tr><td>ARSON</td><td>ARREST, BOOKED</td><td>630</td></tr><tr><td>SECONDARY CODES</td><td>COMPLAINANT REFUSES TO PROSECUTE</td><td>621</td></tr><tr><td>SUSPICIOUS OCC</td><td>COMPLAINANT REFUSES TO PROSECUTE</td><td>611</td></tr><tr><td>OTHER OFFENSES</td><td>COMPLAINANT REFUSES TO PROSECUTE</td><td>604</td></tr><tr><td>SEX OFFENSES, FORCIBLE</td><td>DISTRICT ATTORNEY REFUSES TO PROSECUTE</td><td>592</td></tr><tr><td>RECOVERED VEHICLE</td><td>ARREST, BOOKED</td><td>564</td></tr><tr><td>BURGLARY</td><td>UNFOUNDED</td><td>545</td></tr><tr><td>ROBBERY</td><td>COMPLAINANT REFUSES TO PROSECUTE</td><td>536</td></tr><tr><td>SECONDARY CODES</td><td>DISTRICT ATTORNEY REFUSES TO PROSECUTE</td><td>528</td></tr><tr><td>ROBBERY</td><td>DISTRICT ATTORNEY REFUSES TO PROSECUTE</td><td>500</td></tr><tr><td>NON-CRIMINAL</td><td>PROSECUTED BY OUTSIDE AGENCY</td><td>476</td></tr><tr><td>LARCENY/THEFT</td><td>COMPLAINANT REFUSES TO PROSECUTE</td><td>471</td></tr><tr><td>NON-CRIMINAL</td><td>DISTRICT ATTORNEY REFUSES TO PROSECUTE</td><td>470</td></tr><tr><td>LARCENY/THEFT</td><td>DISTRICT ATTORNEY REFUSES TO PROSECUTE</td><td>467</td></tr><tr><td>SUSPICIOUS OCC</td><td>NOT PROSECUTED</td><td>456</td></tr><tr><td>EMBEZZLEMENT</td><td>ARREST, BOOKED</td><td>453</td></tr><tr><td>LARCENY/THEFT</td><td>EXCEPTIONAL CLEARANCE</td><td>442</td></tr><tr><td>DRUNKENNESS</td><td>ARREST, CITED</td><td>441</td></tr><tr><td>VANDALISM</td><td>UNFOUNDED</td><td>434</td></tr><tr><td>OTHER OFFENSES</td><td>NOT PROSECUTED</td><td>433</td></tr><tr><td>MISSING PERSON</td><td>PSYCHOPATHIC CASE</td><td>426</td></tr><tr><td>BRIBERY</td><td>ARREST, BOOKED</td><td>418</td></tr><tr><td>BURGLARY</td><td>DISTRICT ATTORNEY REFUSES TO PROSECUTE</td><td>413</td></tr><tr><td>ROBBERY</td><td>UNFOUNDED</td><td>408</td></tr><tr><td>ASSAULT</td><td>PSYCHOPATHIC CASE</td><td>403</td></tr><tr><td>FORGERY/COUNTERFEITING</td><td>UNFOUNDED</td><td>393</td></tr><tr><td>SEX OFFENSES, FORCIBLE</td><td>COMPLAINANT REFUSES TO PROSECUTE</td><td>392</td></tr><tr><td>SUSPICIOUS OCC</td><td>DISTRICT ATTORNEY REFUSES TO PROSECUTE</td><td>389</td></tr><tr><td>DRIVING UNDER THE INFLUENCE</td><td>ARREST, CITED</td><td>380</td></tr><tr><td>OTHER OFFENSES</td><td>EXCEPTIONAL CLEARANCE</td><td>361</td></tr><tr><td>BURGLARY</td><td>COMPLAINANT REFUSES TO PROSECUTE</td><td>298</td></tr><tr><td>MISSING PERSON</td><td>ARREST, CITED</td><td>296</td></tr><tr><td>FRAUD</td><td>UNFOUNDED</td><td>285</td></tr><tr><td>MISSING PERSON</td><td>EXCEPTIONAL CLEARANCE</td><td>271</td></tr><tr><td>VANDALISM</td><td>COMPLAINANT REFUSES TO PROSECUTE</td><td>264</td></tr><tr><td>SUSPICIOUS OCC</td><td>EXCEPTIONAL CLEARANCE</td><td>262</td></tr><tr><td>SUSPICIOUS OCC</td><td>PROSECUTED BY OUTSIDE AGENCY</td><td>256</td></tr><tr><td>FORGERY/COUNTERFEITING</td><td>ARREST, CITED</td><td>247</td></tr><tr><td>SUICIDE</td><td>PSYCHOPATHIC CASE</td><td>235</td></tr><tr><td>SUSPICIOUS OCC</td><td>LOCATED</td><td>235</td></tr><tr><td>DRUG/NARCOTIC</td><td>UNFOUNDED</td><td>219</td></tr><tr><td>SECONDARY CODES</td><td>UNFOUNDED</td><td>217</td></tr><tr><td>OTHER OFFENSES</td><td>PSYCHOPATHIC CASE</td><td>212</td></tr><tr><td>SUSPICIOUS OCC</td><td>PSYCHOPATHIC CASE</td><td>202</td></tr><tr><td>SEX OFFENSES, FORCIBLE</td><td>ARREST, CITED</td><td>200</td></tr><tr><td>VANDALISM</td><td>PSYCHOPATHIC CASE</td><td>196</td></tr><tr><td>VANDALISM</td><td>DISTRICT ATTORNEY REFUSES TO PROSECUTE</td><td>191</td></tr><tr><td>SECONDARY CODES</td><td>ARREST, CITED</td><td>188</td></tr><tr><td>VEHICLE THEFT</td><td>ARREST, CITED</td><td>185</td></tr><tr><td>SEX OFFENSES, FORCIBLE</td><td>UNFOUNDED</td><td>173</td></tr><tr><td>STOLEN PROPERTY</td><td>ARREST, CITED</td><td>161</td></tr><tr><td>LARCENY/THEFT</td><td>PROSECUTED BY OUTSIDE AGENCY</td><td>156</td></tr><tr><td>FORGERY/COUNTERFEITING</td><td>DISTRICT ATTORNEY REFUSES TO PROSECUTE</td><td>156</td></tr><tr><td>WEAPON LAWS</td><td>UNFOUNDED</td><td>156</td></tr><tr><td>BURGLARY</td><td>ARREST, CITED</td><td>146</td></tr><tr><td>DRUG/NARCOTIC</td><td>NOT PROSECUTED</td><td>139</td></tr><tr><td>ASSAULT</td><td>NOT PROSECUTED</td><td>136</td></tr><tr><td>BURGLARY</td><td>EXCEPTIONAL CLEARANCE</td><td>134</td></tr><tr><td>WARRANTS</td><td>UNFOUNDED</td><td>132</td></tr><tr><td>PROSTITUTION</td><td>EXCEPTIONAL CLEARANCE</td><td>131</td></tr><tr><td>FRAUD</td><td>DISTRICT ATTORNEY REFUSES TO PROSECUTE</td><td>130</td></tr><tr><td>KIDNAPPING</td><td>DISTRICT ATTORNEY REFUSES TO PROSECUTE</td><td>129</td></tr><tr><td>FRAUD</td><td>EXCEPTIONAL CLEARANCE</td><td>129</td></tr><tr><td>OTHER OFFENSES</td><td>LOCATED</td><td>119</td></tr><tr><td>GAMBLING</td><td>ARREST, BOOKED</td><td>118</td></tr><tr><td>ROBBERY</td><td>NOT PROSECUTED</td><td>109</td></tr><tr><td>EXTORTION</td><td>ARREST, BOOKED</td><td>107</td></tr><tr><td>SEX OFFENSES, FORCIBLE</td><td>EXCEPTIONAL CLEARANCE</td><td>104</td></tr><tr><td>ASSAULT</td><td>PROSECUTED BY OUTSIDE AGENCY</td><td>102</td></tr><tr><td>KIDNAPPING</td><td>COMPLAINANT REFUSES TO PROSECUTE</td><td>99</td></tr><tr><td>EMBEZZLEMENT</td><td>DISTRICT ATTORNEY REFUSES TO PROSECUTE</td><td>98</td></tr><tr><td>WEAPON LAWS</td><td>DISTRICT ATTORNEY REFUSES TO PROSECUTE</td><td>94</td></tr><tr><td>ASSAULT</td><td>LOCATED</td><td>93</td></tr><tr><td>ROBBERY</td><td>ARREST, CITED</td><td>90</td></tr><tr><td>VANDALISM</td><td>EXCEPTIONAL CLEARANCE</td><td>83</td></tr><tr><td>GAMBLING</td><td>ARREST, CITED</td><td>83</td></tr><tr><td>ROBBERY</td><td>EXCEPTIONAL CLEARANCE</td><td>82</td></tr><tr><td>FORGERY/COUNTERFEITING</td><td>EXCEPTIONAL CLEARANCE</td><td>76</td></tr><tr><td>VEHICLE THEFT</td><td>DISTRICT ATTORNEY REFUSES TO PROSECUTE</td><td>70</td></tr><tr><td>TRESPASS</td><td>UNFOUNDED</td><td>68</td></tr><tr><td>WEAPON LAWS</td><td>NOT PROSECUTED</td><td>66</td></tr><tr><td>EMBEZZLEMENT</td><td>ARREST, CITED</td><td>60</td></tr><tr><td>DISORDERLY CONDUCT</td><td>UNFOUNDED</td><td>60</td></tr><tr><td>STOLEN PROPERTY</td><td>NOT PROSECUTED</td><td>59</td></tr><tr><td>TRESPASS</td><td>COMPLAINANT REFUSES TO PROSECUTE</td><td>56</td></tr><tr><td>SECONDARY CODES</td><td>NOT PROSECUTED</td><td>56</td></tr><tr><td>BURGLARY</td><td>NOT PROSECUTED</td><td>55</td></tr><tr><td>VEHICLE THEFT</td><td>COMPLAINANT REFUSES TO PROSECUTE</td><td>53</td></tr><tr><td>TRESPASS</td><td>PSYCHOPATHIC CASE</td><td>52</td></tr><tr><td>DRUG/NARCOTIC</td><td>PSYCHOPATHIC CASE</td><td>51</td></tr><tr><td>BAD CHECKS</td><td>ARREST, BOOKED</td><td>49</td></tr><tr><td>DRUG/NARCOTIC</td><td>COMPLAINANT REFUSES TO PROSECUTE</td><td>49</td></tr><tr><td>BAD CHECKS</td><td>PROSECUTED BY OUTSIDE AGENCY</td><td>48</td></tr><tr><td>EMBEZZLEMENT</td><td>COMPLAINANT REFUSES TO PROSECUTE</td><td>48</td></tr><tr><td>ROBBERY</td><td>PROSECUTED BY OUTSIDE AGENCY</td><td>47</td></tr><tr><td>LARCENY/THEFT</td><td>PSYCHOPATHIC CASE</td><td>47</td></tr><tr><td>EMBEZZLEMENT</td><td>UNFOUNDED</td><td>46</td></tr><tr><td>SECONDARY CODES</td><td>EXCEPTIONAL CLEARANCE</td><td>46</td></tr><tr><td>FRAUD</td><td>COMPLAINANT REFUSES TO PROSECUTE</td><td>46</td></tr><tr><td>EMBEZZLEMENT</td><td>PROSECUTED BY OUTSIDE AGENCY</td><td>45</td></tr><tr><td>WEAPON LAWS</td><td>COMPLAINANT REFUSES TO PROSECUTE</td><td>45</td></tr><tr><td>BAD CHECKS</td><td>NOT PROSECUTED</td><td>45</td></tr><tr><td>LARCENY/THEFT</td><td>LOCATED</td><td>44</td></tr><tr><td>EMBEZZLEMENT</td><td>NOT PROSECUTED</td><td>44</td></tr><tr><td>WARRANTS</td><td>PROSECUTED BY OUTSIDE AGENCY</td><td>43</td></tr><tr><td>FORGERY/COUNTERFEITING</td><td>COMPLAINANT REFUSES TO PROSECUTE</td><td>42</td></tr><tr><td>WEAPON LAWS</td><td>EXCEPTIONAL CLEARANCE</td><td>39</td></tr><tr><td>EMBEZZLEMENT</td><td>EXCEPTIONAL CLEARANCE</td><td>38</td></tr><tr><td>DRUG/NARCOTIC</td><td>EXCEPTIONAL CLEARANCE</td><td>37</td></tr><tr><td>DRUNKENNESS</td><td>PSYCHOPATHIC CASE</td><td>37</td></tr><tr><td>WARRANTS</td><td>DISTRICT ATTORNEY REFUSES TO PROSECUTE</td><td>36</td></tr><tr><td>WARRANTS</td><td>PSYCHOPATHIC CASE</td><td>36</td></tr><tr><td>VEHICLE THEFT</td><td>EXCEPTIONAL CLEARANCE</td><td>35</td></tr><tr><td>DRUG/NARCOTIC</td><td>PROSECUTED BY OUTSIDE AGENCY</td><td>35</td></tr><tr><td>KIDNAPPING</td><td>UNFOUNDED</td><td>35</td></tr><tr><td>SUICIDE</td><td>ARREST, BOOKED</td><td>34</td></tr><tr><td>VANDALISM</td><td>NOT PROSECUTED</td><td>34</td></tr><tr><td>WARRANTS</td><td>LOCATED</td><td>34</td></tr><tr><td>MISSING PERSON</td><td>PROSECUTED BY OUTSIDE AGENCY</td><td>32</td></tr><tr><td>BURGLARY</td><td>PROSECUTED BY OUTSIDE AGENCY</td><td>32</td></tr><tr><td>SECONDARY CODES</td><td>PROSECUTED BY OUTSIDE AGENCY</td><td>31</td></tr><tr><td>SECONDARY CODES</td><td>PSYCHOPATHIC CASE</td><td>30</td></tr><tr><td>WARRANTS</td><td>EXCEPTIONAL CLEARANCE</td><td>30</td></tr><tr><td>STOLEN PROPERTY</td><td>PROSECUTED BY OUTSIDE AGENCY</td><td>30</td></tr><tr><td>DRUNKENNESS</td><td>UNFOUNDED</td><td>28</td></tr><tr><td>DISORDERLY CONDUCT</td><td>COMPLAINANT REFUSES TO PROSECUTE</td><td>28</td></tr><tr><td>STOLEN PROPERTY</td><td>DISTRICT ATTORNEY REFUSES TO PROSECUTE</td><td>27</td></tr><tr><td>PROSTITUTION</td><td>UNFOUNDED</td><td>25</td></tr><tr><td>VANDALISM</td><td>LOCATED</td><td>25</td></tr><tr><td>ARSON</td><td>UNFOUNDED</td><td>25</td></tr><tr><td>TRESPASS</td><td>NOT PROSECUTED</td><td>24</td></tr><tr><td>DRUG/NARCOTIC</td><td>DISTRICT ATTORNEY REFUSES TO PROSECUTE</td><td>24</td></tr><tr><td>DRUG/NARCOTIC</td><td>LOCATED</td><td>24</td></tr><tr><td>DRUNKENNESS</td><td>NOT PROSECUTED</td><td>23</td></tr><tr><td>SEX OFFENSES, FORCIBLE</td><td>PROSECUTED BY OUTSIDE AGENCY</td><td>23</td></tr><tr><td>TRESPASS</td><td>EXCEPTIONAL CLEARANCE</td><td>22</td></tr><tr><td>WARRANTS</td><td>COMPLAINANT REFUSES TO PROSECUTE</td><td>21</td></tr><tr><td>WEAPON LAWS</td><td>PSYCHOPATHIC CASE</td><td>20</td></tr><tr><td>VEHICLE THEFT</td><td>LOCATED</td><td>20</td></tr><tr><td>LIQUOR LAWS</td><td>PROSECUTED BY OUTSIDE AGENCY</td><td>20</td></tr><tr><td>PROSTITUTION</td><td>DISTRICT ATTORNEY REFUSES TO PROSECUTE</td><td>20</td></tr><tr><td>VEHICLE THEFT</td><td>NOT PROSECUTED</td><td>19</td></tr><tr><td>MISSING PERSON</td><td>NOT PROSECUTED</td><td>19</td></tr><tr><td>SUICIDE</td><td>LOCATED</td><td>19</td></tr><tr><td>TRESPASS</td><td>DISTRICT ATTORNEY REFUSES TO PROSECUTE</td><td>18</td></tr><tr><td>WARRANTS</td><td>NOT PROSECUTED</td><td>18</td></tr><tr><td>DISORDERLY CONDUCT</td><td>PSYCHOPATHIC CASE</td><td>18</td></tr><tr><td>OTHER OFFENSES</td><td>PROSECUTED FOR LESSER OFFENSE</td><td>18</td></tr><tr><td>SEX OFFENSES, FORCIBLE</td><td>NOT PROSECUTED</td><td>18</td></tr><tr><td>ARSON</td><td>ARREST, CITED</td><td>17</td></tr><tr><td>ARSON</td><td>PSYCHOPATHIC CASE</td><td>17</td></tr><tr><td>STOLEN PROPERTY</td><td>UNFOUNDED</td><td>17</td></tr><tr><td>KIDNAPPING</td><td>ARREST, CITED</td><td>17</td></tr><tr><td>BURGLARY</td><td>LOCATED</td><td>15</td></tr><tr><td>KIDNAPPING</td><td>PROSECUTED BY OUTSIDE AGENCY</td><td>15</td></tr><tr><td>BRIBERY</td><td>DISTRICT ATTORNEY REFUSES TO PROSECUTE</td><td>15</td></tr><tr><td>WEAPON LAWS</td><td>PROSECUTED BY OUTSIDE AGENCY</td><td>15</td></tr><tr><td>DRUG/NARCOTIC</td><td>PROSECUTED FOR LESSER OFFENSE</td><td>15</td></tr><tr><td>PORNOGRAPHY/OBSCENE MAT</td><td>ARREST, BOOKED</td><td>15</td></tr><tr><td>STOLEN PROPERTY</td><td>EXCEPTIONAL CLEARANCE</td><td>15</td></tr><tr><td>MISSING PERSON</td><td>DISTRICT ATTORNEY REFUSES TO PROSECUTE</td><td>15</td></tr><tr><td>KIDNAPPING</td><td>EXCEPTIONAL CLEARANCE</td><td>14</td></tr><tr><td>BAD CHECKS</td><td>DISTRICT ATTORNEY REFUSES TO PROSECUTE</td><td>14</td></tr><tr><td>BAD CHECKS</td><td>UNFOUNDED</td><td>12</td></tr><tr><td>GAMBLING</td><td>NOT PROSECUTED</td><td>12</td></tr><tr><td>ASSAULT</td><td>PROSECUTED FOR LESSER OFFENSE</td><td>12</td></tr><tr><td>GAMBLING</td><td>PROSECUTED BY OUTSIDE AGENCY</td><td>12</td></tr><tr><td>EXTORTION</td><td>DISTRICT ATTORNEY REFUSES TO PROSECUTE</td><td>12</td></tr><tr><td>SEX OFFENSES, FORCIBLE</td><td>LOCATED</td><td>12</td></tr><tr><td>DRUNKENNESS</td><td>COMPLAINANT REFUSES TO PROSECUTE</td><td>12</td></tr><tr><td>VANDALISM</td><td>PROSECUTED BY OUTSIDE AGENCY</td><td>12</td></tr><tr><td>MISSING PERSON</td><td>COMPLAINANT REFUSES TO PROSECUTE</td><td>12</td></tr><tr><td>WARRANTS</td><td>PROSECUTED FOR LESSER OFFENSE</td><td>12</td></tr><tr><td>SECONDARY CODES</td><td>LOCATED</td><td>11</td></tr><tr><td>PROSTITUTION</td><td>COMPLAINANT REFUSES TO PROSECUTE</td><td>11</td></tr><tr><td>BRIBERY</td><td>COMPLAINANT REFUSES TO PROSECUTE</td><td>11</td></tr><tr><td>VEHICLE THEFT</td><td>PROSECUTED BY OUTSIDE AGENCY</td><td>11</td></tr><tr><td>DISORDERLY CONDUCT</td><td>NOT PROSECUTED</td><td>11</td></tr><tr><td>TRESPASS</td><td>LOCATED</td><td>10</td></tr><tr><td>SEX OFFENSES, FORCIBLE</td><td>PSYCHOPATHIC CASE</td><td>10</td></tr><tr><td>FRAUD</td><td>PSYCHOPATHIC CASE</td><td>10</td></tr><tr><td>DISORDERLY CONDUCT</td><td>EXCEPTIONAL CLEARANCE</td><td>10</td></tr><tr><td>EXTORTION</td><td>COMPLAINANT REFUSES TO PROSECUTE</td><td>10</td></tr><tr><td>SUICIDE</td><td>UNFOUNDED</td><td>9</td></tr><tr><td>BURGLARY</td><td>PSYCHOPATHIC CASE</td><td>9</td></tr><tr><td>SUICIDE</td><td>EXCEPTIONAL CLEARANCE</td><td>9</td></tr><tr><td>DISORDERLY CONDUCT</td><td>DISTRICT ATTORNEY REFUSES TO PROSECUTE</td><td>9</td></tr><tr><td>EXTORTION</td><td>UNFOUNDED</td><td>8</td></tr><tr><td>DRUNKENNESS</td><td>LOCATED</td><td>8</td></tr><tr><td>ROBBERY</td><td>LOCATED</td><td>8</td></tr><tr><td>WEAPON LAWS</td><td>LOCATED</td><td>7</td></tr><tr><td>PROSTITUTION</td><td>PROSECUTED BY OUTSIDE AGENCY</td><td>7</td></tr><tr><td>PROSTITUTION</td><td>LOCATED</td><td>7</td></tr><tr><td>FRAUD</td><td>LOCATED</td><td>7</td></tr><tr><td>DRUNKENNESS</td><td>EXCEPTIONAL CLEARANCE</td><td>7</td></tr><tr><td>SEX OFFENSES, NON FORCIBLE</td><td>DISTRICT ATTORNEY REFUSES TO PROSECUTE</td><td>7</td></tr><tr><td>PORNOGRAPHY/OBSCENE MAT</td><td>ARREST, CITED</td><td>6</td></tr><tr><td>RECOVERED VEHICLE</td><td>ARREST, CITED</td><td>6</td></tr><tr><td>DRUNKENNESS</td><td>DISTRICT ATTORNEY REFUSES TO PROSECUTE</td><td>6</td></tr><tr><td>EXTORTION</td><td>ARREST, CITED</td><td>6</td></tr><tr><td>ROBBERY</td><td>PSYCHOPATHIC CASE</td><td>6</td></tr><tr><td>DISORDERLY CONDUCT</td><td>LOCATED</td><td>6</td></tr><tr><td>KIDNAPPING</td><td>NOT PROSECUTED</td><td>6</td></tr><tr><td>DRIVING UNDER THE INFLUENCE</td><td>UNFOUNDED</td><td>6</td></tr><tr><td>BAD CHECKS</td><td>EXCEPTIONAL CLEARANCE</td><td>6</td></tr><tr><td>TREA</td><td>ARREST, BOOKED</td><td>6</td></tr><tr><td>LIQUOR LAWS</td><td>NOT PROSECUTED</td><td>5</td></tr><tr><td>BRIBERY</td><td>ARREST, CITED</td><td>5</td></tr><tr><td>KIDNAPPING</td><td>LOCATED</td><td>5</td></tr><tr><td>BAD CHECKS</td><td>COMPLAINANT REFUSES TO PROSECUTE</td><td>5</td></tr><tr><td>TRESPASS</td><td>PROSECUTED BY OUTSIDE AGENCY</td><td>5</td></tr><tr><td>NON-CRIMINAL</td><td>PROSECUTED FOR LESSER OFFENSE</td><td>5</td></tr><tr><td>BRIBERY</td><td>UNFOUNDED</td><td>5</td></tr><tr><td>EXTORTION</td><td>EXCEPTIONAL CLEARANCE</td><td>4</td></tr><tr><td>LOITERING</td><td>NOT PROSECUTED</td><td>4</td></tr><tr><td>STOLEN PROPERTY</td><td>COMPLAINANT REFUSES TO PROSECUTE</td><td>4</td></tr><tr><td>SEX OFFENSES, NON FORCIBLE</td><td>UNFOUNDED</td><td>4</td></tr><tr><td>LIQUOR LAWS</td><td>LOCATED</td><td>4</td></tr><tr><td>FORGERY/COUNTERFEITING</td><td>PSYCHOPATHIC CASE</td><td>3</td></tr><tr><td>SECONDARY CODES</td><td>PROSECUTED FOR LESSER OFFENSE</td><td>3</td></tr><tr><td>ARSON</td><td>COMPLAINANT REFUSES TO PROSECUTE</td><td>3</td></tr><tr><td>ARSON</td><td>PROSECUTED BY OUTSIDE AGENCY</td><td>3</td></tr><tr><td>RECOVERED VEHICLE</td><td>UNFOUNDED</td><td>3</td></tr><tr><td>EMBEZZLEMENT</td><td>LOCATED</td><td>3</td></tr><tr><td>LIQUOR LAWS</td><td>PSYCHOPATHIC CASE</td><td>3</td></tr><tr><td>ARSON</td><td>NOT PROSECUTED</td><td>3</td></tr><tr><td>KIDNAPPING</td><td>PSYCHOPATHIC CASE</td><td>3</td></tr><tr><td>EXTORTION</td><td>PROSECUTED BY OUTSIDE AGENCY</td><td>3</td></tr><tr><td>STOLEN PROPERTY</td><td>LOCATED</td><td>3</td></tr><tr><td>BRIBERY</td><td>EXCEPTIONAL CLEARANCE</td><td>3</td></tr><tr><td>DRIVING UNDER THE INFLUENCE</td><td>EXCEPTIONAL CLEARANCE</td><td>3</td></tr><tr><td>LOITERING</td><td>UNFOUNDED</td><td>3</td></tr><tr><td>LIQUOR LAWS</td><td>UNFOUNDED</td><td>3</td></tr><tr><td>LOITERING</td><td>LOCATED</td><td>2</td></tr><tr><td>DISORDERLY CONDUCT</td><td>PROSECUTED BY OUTSIDE AGENCY</td><td>2</td></tr><tr><td>PORNOGRAPHY/OBSCENE MAT</td><td>DISTRICT ATTORNEY REFUSES TO PROSECUTE</td><td>2</td></tr><tr><td>FRAUD</td><td>PROSECUTED FOR LESSER OFFENSE</td><td>2</td></tr><tr><td>TREA</td><td>ARREST, CITED</td><td>2</td></tr><tr><td>BURGLARY</td><td>PROSECUTED FOR LESSER OFFENSE</td><td>2</td></tr><tr><td>EMBEZZLEMENT</td><td>PSYCHOPATHIC CASE</td><td>2</td></tr><tr><td>SEX OFFENSES, NON FORCIBLE</td><td>COMPLAINANT REFUSES TO PROSECUTE</td><td>2</td></tr><tr><td>GAMBLING</td><td>UNFOUNDED</td><td>2</td></tr><tr><td>SUICIDE</td><td>ARREST, CITED</td><td>2</td></tr><tr><td>LOITERING</td><td>DISTRICT ATTORNEY REFUSES TO PROSECUTE</td><td>2</td></tr><tr><td>EXTORTION</td><td>NOT PROSECUTED</td><td>2</td></tr><tr><td>FORGERY/COUNTERFEITING</td><td>PROSECUTED FOR LESSER OFFENSE</td><td>2</td></tr><tr><td>DRIVING UNDER THE INFLUENCE</td><td>LOCATED</td><td>2</td></tr><tr><td>PROSTITUTION</td><td>PSYCHOPATHIC CASE</td><td>2</td></tr><tr><td>ARSON</td><td>EXCEPTIONAL CLEARANCE</td><td>2</td></tr><tr><td>SEX OFFENSES, NON FORCIBLE</td><td>ARREST, BOOKED</td><td>2</td></tr><tr><td>DRIVING UNDER THE INFLUENCE</td><td>PROSECUTED FOR LESSER OFFENSE</td><td>1</td></tr><tr><td>LIQUOR LAWS</td><td>EXCEPTIONAL CLEARANCE</td><td>1</td></tr><tr><td>DRIVING UNDER THE INFLUENCE</td><td>PROSECUTED BY OUTSIDE AGENCY</td><td>1</td></tr><tr><td>WEAPON LAWS</td><td>PROSECUTED FOR LESSER OFFENSE</td><td>1</td></tr><tr><td>STOLEN PROPERTY</td><td>PSYCHOPATHIC CASE</td><td>1</td></tr><tr><td>ARSON</td><td>PROSECUTED FOR LESSER OFFENSE</td><td>1</td></tr><tr><td>SUSPICIOUS OCC</td><td>PROSECUTED FOR LESSER OFFENSE</td><td>1</td></tr><tr><td>DRIVING UNDER THE INFLUENCE</td><td>PSYCHOPATHIC CASE</td><td>1</td></tr><tr><td>PORNOGRAPHY/OBSCENE MAT</td><td>UNFOUNDED</td><td>1</td></tr><tr><td>KIDNAPPING</td><td>PROSECUTED FOR LESSER OFFENSE</td><td>1</td></tr><tr><td>LOITERING</td><td>EXCEPTIONAL CLEARANCE</td><td>1</td></tr><tr><td>TRESPASS</td><td>PROSECUTED FOR LESSER OFFENSE</td><td>1</td></tr><tr><td>DISORDERLY CONDUCT</td><td>PROSECUTED FOR LESSER OFFENSE</td><td>1</td></tr><tr><td>ROBBERY</td><td>PROSECUTED FOR LESSER OFFENSE</td><td>1</td></tr><tr><td>STOLEN PROPERTY</td><td>PROSECUTED FOR LESSER OFFENSE</td><td>1</td></tr><tr><td>SEX OFFENSES, NON FORCIBLE</td><td>ARREST, CITED</td><td>1</td></tr><tr><td>VEHICLE THEFT</td><td>PROSECUTED FOR LESSER OFFENSE</td><td>1</td></tr><tr><td>VEHICLE THEFT</td><td>PSYCHOPATHIC CASE</td><td>1</td></tr><tr><td>GAMBLING</td><td>EXCEPTIONAL CLEARANCE</td><td>1</td></tr><tr><td>BRIBERY</td><td>NOT PROSECUTED</td><td>1</td></tr><tr><td>RECOVERED VEHICLE</td><td>NOT PROSECUTED</td><td>1</td></tr><tr><td>PROSTITUTION</td><td>NOT PROSECUTED</td><td>1</td></tr><tr><td>DRUNKENNESS</td><td>PROSECUTED BY OUTSIDE AGENCY</td><td>1</td></tr><tr><td>BAD CHECKS</td><td>ARREST, CITED</td><td>1</td></tr><tr><td>GAMBLING</td><td>DISTRICT ATTORNEY REFUSES TO PROSECUTE</td><td>1</td></tr><tr><td>LARCENY/THEFT</td><td>PROSECUTED FOR LESSER OFFENSE</td><td>1</td></tr><tr><td>DRUNKENNESS</td><td>PROSECUTED FOR LESSER OFFENSE</td><td>1</td></tr><tr><td>RECOVERED VEHICLE</td><td>EXCEPTIONAL CLEARANCE</td><td>1</td></tr><tr><td>SUICIDE</td><td>DISTRICT ATTORNEY REFUSES TO PROSECUTE</td><td>1</td></tr><tr><td>FORGERY/COUNTERFEITING</td><td>LOCATED</td><td>1</td></tr><tr><td>LOITERING</td><td>PROSECUTED BY OUTSIDE AGENCY</td><td>1</td></tr></tbody></table></div>"
      ]
     },
     "metadata": {
      "application/vnd.databricks.v1+output": {
       "addedWidgets": {},
       "aggData": [],
       "aggError": "",
       "aggOverflow": false,
       "aggSchema": [],
       "aggSeriesLimitReached": false,
       "aggType": "",
       "arguments": {},
       "columnCustomDisplayInfos": {},
       "data": [
        [
         "OTHER OFFENSES",
         "ARREST, BOOKED",
         115427
        ],
        [
         "DRUG/NARCOTIC",
         "ARREST, BOOKED",
         97926
        ],
        [
         "OTHER OFFENSES",
         "ARREST, CITED",
         94817
        ],
        [
         "WARRANTS",
         "ARREST, BOOKED",
         93092
        ],
        [
         "ASSAULT",
         "ARREST, BOOKED",
         49246
        ],
        [
         "NON-CRIMINAL",
         "PSYCHOPATHIC CASE",
         27027
        ],
        [
         "LARCENY/THEFT",
         "ARREST, BOOKED",
         25136
        ],
        [
         "MISSING PERSON",
         "LOCATED",
         19615
        ],
        [
         "WEAPON LAWS",
         "ARREST, BOOKED",
         13334
        ],
        [
         "BURGLARY",
         "ARREST, BOOKED",
         12765
        ],
        [
         "LARCENY/THEFT",
         "ARREST, CITED",
         10463
        ],
        [
         "NON-CRIMINAL",
         "ARREST, BOOKED",
         9918
        ],
        [
         "STOLEN PROPERTY",
         "ARREST, BOOKED",
         9693
        ],
        [
         "PROSTITUTION",
         "ARREST, CITED",
         9667
        ],
        [
         "ROBBERY",
         "ARREST, BOOKED",
         9598
        ],
        [
         "DRUG/NARCOTIC",
         "ARREST, CITED",
         9046
        ],
        [
         "VANDALISM",
         "ARREST, BOOKED",
         8734
        ],
        [
         "SECONDARY CODES",
         "ARREST, BOOKED",
         7811
        ],
        [
         "TRESPASS",
         "ARREST, BOOKED",
         7598
        ],
        [
         "DRUNKENNESS",
         "ARREST, BOOKED",
         7471
        ],
        [
         "NON-CRIMINAL",
         "UNFOUNDED",
         7398
        ],
        [
         "ASSAULT",
         "ARREST, CITED",
         7027
        ],
        [
         "PROSTITUTION",
         "ARREST, BOOKED",
         5780
        ],
        [
         "VEHICLE THEFT",
         "ARREST, BOOKED",
         5064
        ],
        [
         "TRESPASS",
         "ARREST, CITED",
         5053
        ],
        [
         "DRIVING UNDER THE INFLUENCE",
         "ARREST, BOOKED",
         4941
        ],
        [
         "FRAUD",
         "ARREST, BOOKED",
         4940
        ],
        [
         "VEHICLE THEFT",
         "UNFOUNDED",
         4789
        ],
        [
         "FORGERY/COUNTERFEITING",
         "ARREST, BOOKED",
         4339
        ],
        [
         "DISORDERLY CONDUCT",
         "ARREST, BOOKED",
         3702
        ],
        [
         "NON-CRIMINAL",
         "ARREST, CITED",
         3220
        ],
        [
         "VANDALISM",
         "ARREST, CITED",
         2967
        ],
        [
         "SUSPICIOUS OCC",
         "ARREST, BOOKED",
         2765
        ],
        [
         "DISORDERLY CONDUCT",
         "ARREST, CITED",
         2627
        ],
        [
         "SUSPICIOUS OCC",
         "UNFOUNDED",
         2507
        ],
        [
         "KIDNAPPING",
         "ARREST, BOOKED",
         2165
        ],
        [
         "ASSAULT",
         "DISTRICT ATTORNEY REFUSES TO PROSECUTE",
         2051
        ],
        [
         "FRAUD",
         "NOT PROSECUTED",
         1940
        ],
        [
         "FORGERY/COUNTERFEITING",
         "PROSECUTED BY OUTSIDE AGENCY",
         1866
        ],
        [
         "LIQUOR LAWS",
         "ARREST, BOOKED",
         1839
        ],
        [
         "ASSAULT",
         "COMPLAINANT REFUSES TO PROSECUTE",
         1797
        ],
        [
         "OTHER OFFENSES",
         "UNFOUNDED",
         1715
        ],
        [
         "SEX OFFENSES, FORCIBLE",
         "ARREST, BOOKED",
         1648
        ],
        [
         "LARCENY/THEFT",
         "NOT PROSECUTED",
         1600
        ],
        [
         "LOITERING",
         "ARREST, CITED",
         1432
        ],
        [
         "NON-CRIMINAL",
         "COMPLAINANT REFUSES TO PROSECUTE",
         1432
        ],
        [
         "FORGERY/COUNTERFEITING",
         "NOT PROSECUTED",
         1421
        ],
        [
         "LARCENY/THEFT",
         "UNFOUNDED",
         1221
        ],
        [
         "WEAPON LAWS",
         "ARREST, CITED",
         1157
        ],
        [
         "MISSING PERSON",
         "ARREST, BOOKED",
         1125
        ],
        [
         "ASSAULT",
         "UNFOUNDED",
         1000
        ],
        [
         "NON-CRIMINAL",
         "EXCEPTIONAL CLEARANCE",
         945
        ],
        [
         "FRAUD",
         "ARREST, CITED",
         921
        ],
        [
         "SUSPICIOUS OCC",
         "ARREST, CITED",
         889
        ],
        [
         "WARRANTS",
         "ARREST, CITED",
         885
        ],
        [
         "FRAUD",
         "PROSECUTED BY OUTSIDE AGENCY",
         881
        ],
        [
         "NON-CRIMINAL",
         "LOCATED",
         866
        ],
        [
         "MISSING PERSON",
         "UNFOUNDED",
         827
        ],
        [
         "NON-CRIMINAL",
         "NOT PROSECUTED",
         796
        ],
        [
         "OTHER OFFENSES",
         "PROSECUTED BY OUTSIDE AGENCY",
         718
        ],
        [
         "LOITERING",
         "ARREST, BOOKED",
         658
        ],
        [
         "LIQUOR LAWS",
         "ARREST, CITED",
         652
        ],
        [
         "OTHER OFFENSES",
         "DISTRICT ATTORNEY REFUSES TO PROSECUTE",
         635
        ],
        [
         "ASSAULT",
         "EXCEPTIONAL CLEARANCE",
         632
        ],
        [
         "ARSON",
         "ARREST, BOOKED",
         630
        ],
        [
         "SECONDARY CODES",
         "COMPLAINANT REFUSES TO PROSECUTE",
         621
        ],
        [
         "SUSPICIOUS OCC",
         "COMPLAINANT REFUSES TO PROSECUTE",
         611
        ],
        [
         "OTHER OFFENSES",
         "COMPLAINANT REFUSES TO PROSECUTE",
         604
        ],
        [
         "SEX OFFENSES, FORCIBLE",
         "DISTRICT ATTORNEY REFUSES TO PROSECUTE",
         592
        ],
        [
         "RECOVERED VEHICLE",
         "ARREST, BOOKED",
         564
        ],
        [
         "BURGLARY",
         "UNFOUNDED",
         545
        ],
        [
         "ROBBERY",
         "COMPLAINANT REFUSES TO PROSECUTE",
         536
        ],
        [
         "SECONDARY CODES",
         "DISTRICT ATTORNEY REFUSES TO PROSECUTE",
         528
        ],
        [
         "ROBBERY",
         "DISTRICT ATTORNEY REFUSES TO PROSECUTE",
         500
        ],
        [
         "NON-CRIMINAL",
         "PROSECUTED BY OUTSIDE AGENCY",
         476
        ],
        [
         "LARCENY/THEFT",
         "COMPLAINANT REFUSES TO PROSECUTE",
         471
        ],
        [
         "NON-CRIMINAL",
         "DISTRICT ATTORNEY REFUSES TO PROSECUTE",
         470
        ],
        [
         "LARCENY/THEFT",
         "DISTRICT ATTORNEY REFUSES TO PROSECUTE",
         467
        ],
        [
         "SUSPICIOUS OCC",
         "NOT PROSECUTED",
         456
        ],
        [
         "EMBEZZLEMENT",
         "ARREST, BOOKED",
         453
        ],
        [
         "LARCENY/THEFT",
         "EXCEPTIONAL CLEARANCE",
         442
        ],
        [
         "DRUNKENNESS",
         "ARREST, CITED",
         441
        ],
        [
         "VANDALISM",
         "UNFOUNDED",
         434
        ],
        [
         "OTHER OFFENSES",
         "NOT PROSECUTED",
         433
        ],
        [
         "MISSING PERSON",
         "PSYCHOPATHIC CASE",
         426
        ],
        [
         "BRIBERY",
         "ARREST, BOOKED",
         418
        ],
        [
         "BURGLARY",
         "DISTRICT ATTORNEY REFUSES TO PROSECUTE",
         413
        ],
        [
         "ROBBERY",
         "UNFOUNDED",
         408
        ],
        [
         "ASSAULT",
         "PSYCHOPATHIC CASE",
         403
        ],
        [
         "FORGERY/COUNTERFEITING",
         "UNFOUNDED",
         393
        ],
        [
         "SEX OFFENSES, FORCIBLE",
         "COMPLAINANT REFUSES TO PROSECUTE",
         392
        ],
        [
         "SUSPICIOUS OCC",
         "DISTRICT ATTORNEY REFUSES TO PROSECUTE",
         389
        ],
        [
         "DRIVING UNDER THE INFLUENCE",
         "ARREST, CITED",
         380
        ],
        [
         "OTHER OFFENSES",
         "EXCEPTIONAL CLEARANCE",
         361
        ],
        [
         "BURGLARY",
         "COMPLAINANT REFUSES TO PROSECUTE",
         298
        ],
        [
         "MISSING PERSON",
         "ARREST, CITED",
         296
        ],
        [
         "FRAUD",
         "UNFOUNDED",
         285
        ],
        [
         "MISSING PERSON",
         "EXCEPTIONAL CLEARANCE",
         271
        ],
        [
         "VANDALISM",
         "COMPLAINANT REFUSES TO PROSECUTE",
         264
        ],
        [
         "SUSPICIOUS OCC",
         "EXCEPTIONAL CLEARANCE",
         262
        ],
        [
         "SUSPICIOUS OCC",
         "PROSECUTED BY OUTSIDE AGENCY",
         256
        ],
        [
         "FORGERY/COUNTERFEITING",
         "ARREST, CITED",
         247
        ],
        [
         "SUICIDE",
         "PSYCHOPATHIC CASE",
         235
        ],
        [
         "SUSPICIOUS OCC",
         "LOCATED",
         235
        ],
        [
         "DRUG/NARCOTIC",
         "UNFOUNDED",
         219
        ],
        [
         "SECONDARY CODES",
         "UNFOUNDED",
         217
        ],
        [
         "OTHER OFFENSES",
         "PSYCHOPATHIC CASE",
         212
        ],
        [
         "SUSPICIOUS OCC",
         "PSYCHOPATHIC CASE",
         202
        ],
        [
         "SEX OFFENSES, FORCIBLE",
         "ARREST, CITED",
         200
        ],
        [
         "VANDALISM",
         "PSYCHOPATHIC CASE",
         196
        ],
        [
         "VANDALISM",
         "DISTRICT ATTORNEY REFUSES TO PROSECUTE",
         191
        ],
        [
         "SECONDARY CODES",
         "ARREST, CITED",
         188
        ],
        [
         "VEHICLE THEFT",
         "ARREST, CITED",
         185
        ],
        [
         "SEX OFFENSES, FORCIBLE",
         "UNFOUNDED",
         173
        ],
        [
         "STOLEN PROPERTY",
         "ARREST, CITED",
         161
        ],
        [
         "LARCENY/THEFT",
         "PROSECUTED BY OUTSIDE AGENCY",
         156
        ],
        [
         "FORGERY/COUNTERFEITING",
         "DISTRICT ATTORNEY REFUSES TO PROSECUTE",
         156
        ],
        [
         "WEAPON LAWS",
         "UNFOUNDED",
         156
        ],
        [
         "BURGLARY",
         "ARREST, CITED",
         146
        ],
        [
         "DRUG/NARCOTIC",
         "NOT PROSECUTED",
         139
        ],
        [
         "ASSAULT",
         "NOT PROSECUTED",
         136
        ],
        [
         "BURGLARY",
         "EXCEPTIONAL CLEARANCE",
         134
        ],
        [
         "WARRANTS",
         "UNFOUNDED",
         132
        ],
        [
         "PROSTITUTION",
         "EXCEPTIONAL CLEARANCE",
         131
        ],
        [
         "FRAUD",
         "DISTRICT ATTORNEY REFUSES TO PROSECUTE",
         130
        ],
        [
         "KIDNAPPING",
         "DISTRICT ATTORNEY REFUSES TO PROSECUTE",
         129
        ],
        [
         "FRAUD",
         "EXCEPTIONAL CLEARANCE",
         129
        ],
        [
         "OTHER OFFENSES",
         "LOCATED",
         119
        ],
        [
         "GAMBLING",
         "ARREST, BOOKED",
         118
        ],
        [
         "ROBBERY",
         "NOT PROSECUTED",
         109
        ],
        [
         "EXTORTION",
         "ARREST, BOOKED",
         107
        ],
        [
         "SEX OFFENSES, FORCIBLE",
         "EXCEPTIONAL CLEARANCE",
         104
        ],
        [
         "ASSAULT",
         "PROSECUTED BY OUTSIDE AGENCY",
         102
        ],
        [
         "KIDNAPPING",
         "COMPLAINANT REFUSES TO PROSECUTE",
         99
        ],
        [
         "EMBEZZLEMENT",
         "DISTRICT ATTORNEY REFUSES TO PROSECUTE",
         98
        ],
        [
         "WEAPON LAWS",
         "DISTRICT ATTORNEY REFUSES TO PROSECUTE",
         94
        ],
        [
         "ASSAULT",
         "LOCATED",
         93
        ],
        [
         "ROBBERY",
         "ARREST, CITED",
         90
        ],
        [
         "VANDALISM",
         "EXCEPTIONAL CLEARANCE",
         83
        ],
        [
         "GAMBLING",
         "ARREST, CITED",
         83
        ],
        [
         "ROBBERY",
         "EXCEPTIONAL CLEARANCE",
         82
        ],
        [
         "FORGERY/COUNTERFEITING",
         "EXCEPTIONAL CLEARANCE",
         76
        ],
        [
         "VEHICLE THEFT",
         "DISTRICT ATTORNEY REFUSES TO PROSECUTE",
         70
        ],
        [
         "TRESPASS",
         "UNFOUNDED",
         68
        ],
        [
         "WEAPON LAWS",
         "NOT PROSECUTED",
         66
        ],
        [
         "EMBEZZLEMENT",
         "ARREST, CITED",
         60
        ],
        [
         "DISORDERLY CONDUCT",
         "UNFOUNDED",
         60
        ],
        [
         "STOLEN PROPERTY",
         "NOT PROSECUTED",
         59
        ],
        [
         "TRESPASS",
         "COMPLAINANT REFUSES TO PROSECUTE",
         56
        ],
        [
         "SECONDARY CODES",
         "NOT PROSECUTED",
         56
        ],
        [
         "BURGLARY",
         "NOT PROSECUTED",
         55
        ],
        [
         "VEHICLE THEFT",
         "COMPLAINANT REFUSES TO PROSECUTE",
         53
        ],
        [
         "TRESPASS",
         "PSYCHOPATHIC CASE",
         52
        ],
        [
         "DRUG/NARCOTIC",
         "PSYCHOPATHIC CASE",
         51
        ],
        [
         "BAD CHECKS",
         "ARREST, BOOKED",
         49
        ],
        [
         "DRUG/NARCOTIC",
         "COMPLAINANT REFUSES TO PROSECUTE",
         49
        ],
        [
         "BAD CHECKS",
         "PROSECUTED BY OUTSIDE AGENCY",
         48
        ],
        [
         "EMBEZZLEMENT",
         "COMPLAINANT REFUSES TO PROSECUTE",
         48
        ],
        [
         "ROBBERY",
         "PROSECUTED BY OUTSIDE AGENCY",
         47
        ],
        [
         "LARCENY/THEFT",
         "PSYCHOPATHIC CASE",
         47
        ],
        [
         "EMBEZZLEMENT",
         "UNFOUNDED",
         46
        ],
        [
         "SECONDARY CODES",
         "EXCEPTIONAL CLEARANCE",
         46
        ],
        [
         "FRAUD",
         "COMPLAINANT REFUSES TO PROSECUTE",
         46
        ],
        [
         "EMBEZZLEMENT",
         "PROSECUTED BY OUTSIDE AGENCY",
         45
        ],
        [
         "WEAPON LAWS",
         "COMPLAINANT REFUSES TO PROSECUTE",
         45
        ],
        [
         "BAD CHECKS",
         "NOT PROSECUTED",
         45
        ],
        [
         "LARCENY/THEFT",
         "LOCATED",
         44
        ],
        [
         "EMBEZZLEMENT",
         "NOT PROSECUTED",
         44
        ],
        [
         "WARRANTS",
         "PROSECUTED BY OUTSIDE AGENCY",
         43
        ],
        [
         "FORGERY/COUNTERFEITING",
         "COMPLAINANT REFUSES TO PROSECUTE",
         42
        ],
        [
         "WEAPON LAWS",
         "EXCEPTIONAL CLEARANCE",
         39
        ],
        [
         "EMBEZZLEMENT",
         "EXCEPTIONAL CLEARANCE",
         38
        ],
        [
         "DRUG/NARCOTIC",
         "EXCEPTIONAL CLEARANCE",
         37
        ],
        [
         "DRUNKENNESS",
         "PSYCHOPATHIC CASE",
         37
        ],
        [
         "WARRANTS",
         "DISTRICT ATTORNEY REFUSES TO PROSECUTE",
         36
        ],
        [
         "WARRANTS",
         "PSYCHOPATHIC CASE",
         36
        ],
        [
         "VEHICLE THEFT",
         "EXCEPTIONAL CLEARANCE",
         35
        ],
        [
         "DRUG/NARCOTIC",
         "PROSECUTED BY OUTSIDE AGENCY",
         35
        ],
        [
         "KIDNAPPING",
         "UNFOUNDED",
         35
        ],
        [
         "SUICIDE",
         "ARREST, BOOKED",
         34
        ],
        [
         "VANDALISM",
         "NOT PROSECUTED",
         34
        ],
        [
         "WARRANTS",
         "LOCATED",
         34
        ],
        [
         "MISSING PERSON",
         "PROSECUTED BY OUTSIDE AGENCY",
         32
        ],
        [
         "BURGLARY",
         "PROSECUTED BY OUTSIDE AGENCY",
         32
        ],
        [
         "SECONDARY CODES",
         "PROSECUTED BY OUTSIDE AGENCY",
         31
        ],
        [
         "SECONDARY CODES",
         "PSYCHOPATHIC CASE",
         30
        ],
        [
         "WARRANTS",
         "EXCEPTIONAL CLEARANCE",
         30
        ],
        [
         "STOLEN PROPERTY",
         "PROSECUTED BY OUTSIDE AGENCY",
         30
        ],
        [
         "DRUNKENNESS",
         "UNFOUNDED",
         28
        ],
        [
         "DISORDERLY CONDUCT",
         "COMPLAINANT REFUSES TO PROSECUTE",
         28
        ],
        [
         "STOLEN PROPERTY",
         "DISTRICT ATTORNEY REFUSES TO PROSECUTE",
         27
        ],
        [
         "PROSTITUTION",
         "UNFOUNDED",
         25
        ],
        [
         "VANDALISM",
         "LOCATED",
         25
        ],
        [
         "ARSON",
         "UNFOUNDED",
         25
        ],
        [
         "TRESPASS",
         "NOT PROSECUTED",
         24
        ],
        [
         "DRUG/NARCOTIC",
         "DISTRICT ATTORNEY REFUSES TO PROSECUTE",
         24
        ],
        [
         "DRUG/NARCOTIC",
         "LOCATED",
         24
        ],
        [
         "DRUNKENNESS",
         "NOT PROSECUTED",
         23
        ],
        [
         "SEX OFFENSES, FORCIBLE",
         "PROSECUTED BY OUTSIDE AGENCY",
         23
        ],
        [
         "TRESPASS",
         "EXCEPTIONAL CLEARANCE",
         22
        ],
        [
         "WARRANTS",
         "COMPLAINANT REFUSES TO PROSECUTE",
         21
        ],
        [
         "WEAPON LAWS",
         "PSYCHOPATHIC CASE",
         20
        ],
        [
         "VEHICLE THEFT",
         "LOCATED",
         20
        ],
        [
         "LIQUOR LAWS",
         "PROSECUTED BY OUTSIDE AGENCY",
         20
        ],
        [
         "PROSTITUTION",
         "DISTRICT ATTORNEY REFUSES TO PROSECUTE",
         20
        ],
        [
         "VEHICLE THEFT",
         "NOT PROSECUTED",
         19
        ],
        [
         "MISSING PERSON",
         "NOT PROSECUTED",
         19
        ],
        [
         "SUICIDE",
         "LOCATED",
         19
        ],
        [
         "TRESPASS",
         "DISTRICT ATTORNEY REFUSES TO PROSECUTE",
         18
        ],
        [
         "WARRANTS",
         "NOT PROSECUTED",
         18
        ],
        [
         "DISORDERLY CONDUCT",
         "PSYCHOPATHIC CASE",
         18
        ],
        [
         "OTHER OFFENSES",
         "PROSECUTED FOR LESSER OFFENSE",
         18
        ],
        [
         "SEX OFFENSES, FORCIBLE",
         "NOT PROSECUTED",
         18
        ],
        [
         "ARSON",
         "ARREST, CITED",
         17
        ],
        [
         "ARSON",
         "PSYCHOPATHIC CASE",
         17
        ],
        [
         "STOLEN PROPERTY",
         "UNFOUNDED",
         17
        ],
        [
         "KIDNAPPING",
         "ARREST, CITED",
         17
        ],
        [
         "BURGLARY",
         "LOCATED",
         15
        ],
        [
         "KIDNAPPING",
         "PROSECUTED BY OUTSIDE AGENCY",
         15
        ],
        [
         "BRIBERY",
         "DISTRICT ATTORNEY REFUSES TO PROSECUTE",
         15
        ],
        [
         "WEAPON LAWS",
         "PROSECUTED BY OUTSIDE AGENCY",
         15
        ],
        [
         "DRUG/NARCOTIC",
         "PROSECUTED FOR LESSER OFFENSE",
         15
        ],
        [
         "PORNOGRAPHY/OBSCENE MAT",
         "ARREST, BOOKED",
         15
        ],
        [
         "STOLEN PROPERTY",
         "EXCEPTIONAL CLEARANCE",
         15
        ],
        [
         "MISSING PERSON",
         "DISTRICT ATTORNEY REFUSES TO PROSECUTE",
         15
        ],
        [
         "KIDNAPPING",
         "EXCEPTIONAL CLEARANCE",
         14
        ],
        [
         "BAD CHECKS",
         "DISTRICT ATTORNEY REFUSES TO PROSECUTE",
         14
        ],
        [
         "BAD CHECKS",
         "UNFOUNDED",
         12
        ],
        [
         "GAMBLING",
         "NOT PROSECUTED",
         12
        ],
        [
         "ASSAULT",
         "PROSECUTED FOR LESSER OFFENSE",
         12
        ],
        [
         "GAMBLING",
         "PROSECUTED BY OUTSIDE AGENCY",
         12
        ],
        [
         "EXTORTION",
         "DISTRICT ATTORNEY REFUSES TO PROSECUTE",
         12
        ],
        [
         "SEX OFFENSES, FORCIBLE",
         "LOCATED",
         12
        ],
        [
         "DRUNKENNESS",
         "COMPLAINANT REFUSES TO PROSECUTE",
         12
        ],
        [
         "VANDALISM",
         "PROSECUTED BY OUTSIDE AGENCY",
         12
        ],
        [
         "MISSING PERSON",
         "COMPLAINANT REFUSES TO PROSECUTE",
         12
        ],
        [
         "WARRANTS",
         "PROSECUTED FOR LESSER OFFENSE",
         12
        ],
        [
         "SECONDARY CODES",
         "LOCATED",
         11
        ],
        [
         "PROSTITUTION",
         "COMPLAINANT REFUSES TO PROSECUTE",
         11
        ],
        [
         "BRIBERY",
         "COMPLAINANT REFUSES TO PROSECUTE",
         11
        ],
        [
         "VEHICLE THEFT",
         "PROSECUTED BY OUTSIDE AGENCY",
         11
        ],
        [
         "DISORDERLY CONDUCT",
         "NOT PROSECUTED",
         11
        ],
        [
         "TRESPASS",
         "LOCATED",
         10
        ],
        [
         "SEX OFFENSES, FORCIBLE",
         "PSYCHOPATHIC CASE",
         10
        ],
        [
         "FRAUD",
         "PSYCHOPATHIC CASE",
         10
        ],
        [
         "DISORDERLY CONDUCT",
         "EXCEPTIONAL CLEARANCE",
         10
        ],
        [
         "EXTORTION",
         "COMPLAINANT REFUSES TO PROSECUTE",
         10
        ],
        [
         "SUICIDE",
         "UNFOUNDED",
         9
        ],
        [
         "BURGLARY",
         "PSYCHOPATHIC CASE",
         9
        ],
        [
         "SUICIDE",
         "EXCEPTIONAL CLEARANCE",
         9
        ],
        [
         "DISORDERLY CONDUCT",
         "DISTRICT ATTORNEY REFUSES TO PROSECUTE",
         9
        ],
        [
         "EXTORTION",
         "UNFOUNDED",
         8
        ],
        [
         "DRUNKENNESS",
         "LOCATED",
         8
        ],
        [
         "ROBBERY",
         "LOCATED",
         8
        ],
        [
         "WEAPON LAWS",
         "LOCATED",
         7
        ],
        [
         "PROSTITUTION",
         "PROSECUTED BY OUTSIDE AGENCY",
         7
        ],
        [
         "PROSTITUTION",
         "LOCATED",
         7
        ],
        [
         "FRAUD",
         "LOCATED",
         7
        ],
        [
         "DRUNKENNESS",
         "EXCEPTIONAL CLEARANCE",
         7
        ],
        [
         "SEX OFFENSES, NON FORCIBLE",
         "DISTRICT ATTORNEY REFUSES TO PROSECUTE",
         7
        ],
        [
         "PORNOGRAPHY/OBSCENE MAT",
         "ARREST, CITED",
         6
        ],
        [
         "RECOVERED VEHICLE",
         "ARREST, CITED",
         6
        ],
        [
         "DRUNKENNESS",
         "DISTRICT ATTORNEY REFUSES TO PROSECUTE",
         6
        ],
        [
         "EXTORTION",
         "ARREST, CITED",
         6
        ],
        [
         "ROBBERY",
         "PSYCHOPATHIC CASE",
         6
        ],
        [
         "DISORDERLY CONDUCT",
         "LOCATED",
         6
        ],
        [
         "KIDNAPPING",
         "NOT PROSECUTED",
         6
        ],
        [
         "DRIVING UNDER THE INFLUENCE",
         "UNFOUNDED",
         6
        ],
        [
         "BAD CHECKS",
         "EXCEPTIONAL CLEARANCE",
         6
        ],
        [
         "TREA",
         "ARREST, BOOKED",
         6
        ],
        [
         "LIQUOR LAWS",
         "NOT PROSECUTED",
         5
        ],
        [
         "BRIBERY",
         "ARREST, CITED",
         5
        ],
        [
         "KIDNAPPING",
         "LOCATED",
         5
        ],
        [
         "BAD CHECKS",
         "COMPLAINANT REFUSES TO PROSECUTE",
         5
        ],
        [
         "TRESPASS",
         "PROSECUTED BY OUTSIDE AGENCY",
         5
        ],
        [
         "NON-CRIMINAL",
         "PROSECUTED FOR LESSER OFFENSE",
         5
        ],
        [
         "BRIBERY",
         "UNFOUNDED",
         5
        ],
        [
         "EXTORTION",
         "EXCEPTIONAL CLEARANCE",
         4
        ],
        [
         "LOITERING",
         "NOT PROSECUTED",
         4
        ],
        [
         "STOLEN PROPERTY",
         "COMPLAINANT REFUSES TO PROSECUTE",
         4
        ],
        [
         "SEX OFFENSES, NON FORCIBLE",
         "UNFOUNDED",
         4
        ],
        [
         "LIQUOR LAWS",
         "LOCATED",
         4
        ],
        [
         "FORGERY/COUNTERFEITING",
         "PSYCHOPATHIC CASE",
         3
        ],
        [
         "SECONDARY CODES",
         "PROSECUTED FOR LESSER OFFENSE",
         3
        ],
        [
         "ARSON",
         "COMPLAINANT REFUSES TO PROSECUTE",
         3
        ],
        [
         "ARSON",
         "PROSECUTED BY OUTSIDE AGENCY",
         3
        ],
        [
         "RECOVERED VEHICLE",
         "UNFOUNDED",
         3
        ],
        [
         "EMBEZZLEMENT",
         "LOCATED",
         3
        ],
        [
         "LIQUOR LAWS",
         "PSYCHOPATHIC CASE",
         3
        ],
        [
         "ARSON",
         "NOT PROSECUTED",
         3
        ],
        [
         "KIDNAPPING",
         "PSYCHOPATHIC CASE",
         3
        ],
        [
         "EXTORTION",
         "PROSECUTED BY OUTSIDE AGENCY",
         3
        ],
        [
         "STOLEN PROPERTY",
         "LOCATED",
         3
        ],
        [
         "BRIBERY",
         "EXCEPTIONAL CLEARANCE",
         3
        ],
        [
         "DRIVING UNDER THE INFLUENCE",
         "EXCEPTIONAL CLEARANCE",
         3
        ],
        [
         "LOITERING",
         "UNFOUNDED",
         3
        ],
        [
         "LIQUOR LAWS",
         "UNFOUNDED",
         3
        ],
        [
         "LOITERING",
         "LOCATED",
         2
        ],
        [
         "DISORDERLY CONDUCT",
         "PROSECUTED BY OUTSIDE AGENCY",
         2
        ],
        [
         "PORNOGRAPHY/OBSCENE MAT",
         "DISTRICT ATTORNEY REFUSES TO PROSECUTE",
         2
        ],
        [
         "FRAUD",
         "PROSECUTED FOR LESSER OFFENSE",
         2
        ],
        [
         "TREA",
         "ARREST, CITED",
         2
        ],
        [
         "BURGLARY",
         "PROSECUTED FOR LESSER OFFENSE",
         2
        ],
        [
         "EMBEZZLEMENT",
         "PSYCHOPATHIC CASE",
         2
        ],
        [
         "SEX OFFENSES, NON FORCIBLE",
         "COMPLAINANT REFUSES TO PROSECUTE",
         2
        ],
        [
         "GAMBLING",
         "UNFOUNDED",
         2
        ],
        [
         "SUICIDE",
         "ARREST, CITED",
         2
        ],
        [
         "LOITERING",
         "DISTRICT ATTORNEY REFUSES TO PROSECUTE",
         2
        ],
        [
         "EXTORTION",
         "NOT PROSECUTED",
         2
        ],
        [
         "FORGERY/COUNTERFEITING",
         "PROSECUTED FOR LESSER OFFENSE",
         2
        ],
        [
         "DRIVING UNDER THE INFLUENCE",
         "LOCATED",
         2
        ],
        [
         "PROSTITUTION",
         "PSYCHOPATHIC CASE",
         2
        ],
        [
         "ARSON",
         "EXCEPTIONAL CLEARANCE",
         2
        ],
        [
         "SEX OFFENSES, NON FORCIBLE",
         "ARREST, BOOKED",
         2
        ],
        [
         "DRIVING UNDER THE INFLUENCE",
         "PROSECUTED FOR LESSER OFFENSE",
         1
        ],
        [
         "LIQUOR LAWS",
         "EXCEPTIONAL CLEARANCE",
         1
        ],
        [
         "DRIVING UNDER THE INFLUENCE",
         "PROSECUTED BY OUTSIDE AGENCY",
         1
        ],
        [
         "WEAPON LAWS",
         "PROSECUTED FOR LESSER OFFENSE",
         1
        ],
        [
         "STOLEN PROPERTY",
         "PSYCHOPATHIC CASE",
         1
        ],
        [
         "ARSON",
         "PROSECUTED FOR LESSER OFFENSE",
         1
        ],
        [
         "SUSPICIOUS OCC",
         "PROSECUTED FOR LESSER OFFENSE",
         1
        ],
        [
         "DRIVING UNDER THE INFLUENCE",
         "PSYCHOPATHIC CASE",
         1
        ],
        [
         "PORNOGRAPHY/OBSCENE MAT",
         "UNFOUNDED",
         1
        ],
        [
         "KIDNAPPING",
         "PROSECUTED FOR LESSER OFFENSE",
         1
        ],
        [
         "LOITERING",
         "EXCEPTIONAL CLEARANCE",
         1
        ],
        [
         "TRESPASS",
         "PROSECUTED FOR LESSER OFFENSE",
         1
        ],
        [
         "DISORDERLY CONDUCT",
         "PROSECUTED FOR LESSER OFFENSE",
         1
        ],
        [
         "ROBBERY",
         "PROSECUTED FOR LESSER OFFENSE",
         1
        ],
        [
         "STOLEN PROPERTY",
         "PROSECUTED FOR LESSER OFFENSE",
         1
        ],
        [
         "SEX OFFENSES, NON FORCIBLE",
         "ARREST, CITED",
         1
        ],
        [
         "VEHICLE THEFT",
         "PROSECUTED FOR LESSER OFFENSE",
         1
        ],
        [
         "VEHICLE THEFT",
         "PSYCHOPATHIC CASE",
         1
        ],
        [
         "GAMBLING",
         "EXCEPTIONAL CLEARANCE",
         1
        ],
        [
         "BRIBERY",
         "NOT PROSECUTED",
         1
        ],
        [
         "RECOVERED VEHICLE",
         "NOT PROSECUTED",
         1
        ],
        [
         "PROSTITUTION",
         "NOT PROSECUTED",
         1
        ],
        [
         "DRUNKENNESS",
         "PROSECUTED BY OUTSIDE AGENCY",
         1
        ],
        [
         "BAD CHECKS",
         "ARREST, CITED",
         1
        ],
        [
         "GAMBLING",
         "DISTRICT ATTORNEY REFUSES TO PROSECUTE",
         1
        ],
        [
         "LARCENY/THEFT",
         "PROSECUTED FOR LESSER OFFENSE",
         1
        ],
        [
         "DRUNKENNESS",
         "PROSECUTED FOR LESSER OFFENSE",
         1
        ],
        [
         "RECOVERED VEHICLE",
         "EXCEPTIONAL CLEARANCE",
         1
        ],
        [
         "SUICIDE",
         "DISTRICT ATTORNEY REFUSES TO PROSECUTE",
         1
        ],
        [
         "FORGERY/COUNTERFEITING",
         "LOCATED",
         1
        ],
        [
         "LOITERING",
         "PROSECUTED BY OUTSIDE AGENCY",
         1
        ]
       ],
       "datasetInfos": [],
       "dbfsResultPath": null,
       "isJsonSchema": true,
       "metadata": {},
       "overflow": false,
       "plotOptions": {
        "customPlotOptions": {
         "plotlyBar": [
          {
           "key": "grouped",
           "value": false
          },
          {
           "key": "stacked",
           "value": false
          },
          {
           "key": "100_stacked",
           "value": true
          }
         ]
        },
        "displayType": "plotlyBar",
        "pivotAggregation": "sum",
        "pivotColumns": [
         "resolution"
        ],
        "xColumns": [
         "category"
        ],
        "yColumns": [
         "counts"
        ]
       },
       "removedWidgets": [],
       "schema": [
        {
         "metadata": "{}",
         "name": "category",
         "type": "\"string\""
        },
        {
         "metadata": "{}",
         "name": "resolution",
         "type": "\"string\""
        },
        {
         "metadata": "{}",
         "name": "counts",
         "type": "\"long\""
        }
       ],
       "type": "table"
      }
     },
     "output_type": "display_data"
    }
   ],
   "source": [
    "# SQL Way\n",
    "category_resolution=spark.sql(\"\"\"\n",
    "select category,resolution,count(*) as counts\n",
    "from sf_crime\n",
    "where resolution!='NONE'\n",
    "group by 1,2\n",
    "order by 3 desc\n",
    "\"\"\")\n",
    "display(category_resolution)"
   ]
  },
  {
   "cell_type": "markdown",
   "metadata": {
    "application/vnd.databricks.v1+cell": {
     "cellMetadata": {},
     "inputWidgets": {},
     "nuid": "60b09b54-2e1c-4e3e-8788-4ff17aa71c89",
     "showTitle": true,
     "title": "7.2 Insights"
    }
   },
   "source": [
    "The top 3 categories with the highest resolved rate are PROSTITUTION, WARRANTS, DRIVING UNDER THE INFLUENCE.\n",
    "The top 3 categories with the lowest resolved rate are RECOVERED VEHICLE, VEHICLE THEFT, LARCENY/THEFT.\n",
    "THe more police force should be assigned to RECOVERED VEHICLE, VEHICLE THEFT, LARCENY/THEFT."
   ]
  }
 ],
 "metadata": {
  "application/vnd.databricks.v1+notebook": {
   "dashboards": [
    {
     "elements": [
      {
       "dashboardResultIndex": 0,
       "elementNUID": "02eb4bb7-410e-4e34-9978-de58d2c99101",
       "elementType": "command",
       "guid": "dc2ce4c4-7833-4c0b-a0da-965aeefe54f3",
       "options": {
        "autoScaleImg": false,
        "scale": 0,
        "showTitle": true,
        "title": "1.1 Spark dataframe based solution",
        "titleAlign": "center"
       },
       "position": {
        "height": 11,
        "width": 20,
        "x": 0,
        "y": 0,
        "z": null
       },
       "resultIndex": null
      }
     ],
     "globalVars": {},
     "guid": "65d814a3-b009-4403-8f40-95efed00e015",
     "layoutOption": {
      "grid": true,
      "stack": true
     },
     "nuid": "de7f9a82-97cb-4996-8eb3-5697bb478fc9",
     "origId": 843699576898012,
     "title": "Untitled",
     "version": "DashboardViewV1",
     "width": 1024
    }
   ],
   "language": "python",
   "notebookMetadata": {
    "mostRecentlyExecutedCommandWithImplicitDF": {
     "commandId": 1786001856021967,
     "dataframes": [
      "_sqldf"
     ]
    },
    "pythonIndentUnit": 2
   },
   "notebookName": "Spark Manipulation: SF Crime Data Analysis and Modeling",
   "notebookOrigID": 1786001856021945,
   "widgets": {}
  },
  "kernelspec": {
   "display_name": "Python 3 (ipykernel)",
   "language": "python",
   "name": "python3"
  },
  "language_info": {
   "codemirror_mode": {
    "name": "ipython",
    "version": 3
   },
   "file_extension": ".py",
   "mimetype": "text/x-python",
   "name": "python",
   "nbconvert_exporter": "python",
   "pygments_lexer": "ipython3",
   "version": "3.9.12"
  }
 },
 "nbformat": 4,
 "nbformat_minor": 1
}
